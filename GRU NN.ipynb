{
 "cells": [
  {
   "cell_type": "markdown",
   "id": "9fe3a756",
   "metadata": {},
   "source": [
    "Time Series Analysis"
   ]
  },
  {
   "cell_type": "code",
   "execution_count": 1,
   "id": "2218f817",
   "metadata": {},
   "outputs": [],
   "source": [
    "# Importing the libraries\n",
    "import numpy as np\n",
    "import pandas as pd\n",
    "import matplotlib.pyplot as plt\n",
    "from sklearn.preprocessing import OneHotEncoder\n",
    "\n",
    "from sklearn.preprocessing import MinMaxScaler\n",
    "from sklearn.metrics import mean_squared_error\n",
    "\n",
    "from tensorflow.keras.models import Sequential\n",
    "from tensorflow.keras.layers import Dense, LSTM, Dropout, GRU, Bidirectional\n",
    "from tensorflow.keras.optimizers import SGD\n",
    "from tensorflow.random import set_seed\n",
    "\n",
    "set_seed(455)\n",
    "np.random.seed(455)\n"
   ]
  },
  {
   "cell_type": "code",
   "execution_count": 2,
   "id": "b6e85f0d",
   "metadata": {},
   "outputs": [
    {
     "name": "stdout",
     "output_type": "stream",
     "text": [
      "           Symbol Series  Prev Close    Open     High      Low     Last  \\\n",
      "Date                                                                      \n",
      "2015-01-01    TCS     EQ     2558.25  2567.0  2567.00  2541.00  2550.00   \n",
      "2015-01-02    TCS     EQ     2545.55  2551.0  2590.95  2550.60  2588.40   \n",
      "2015-01-05    TCS     EQ     2579.45  2581.0  2599.90  2524.65  2538.10   \n",
      "2015-01-06    TCS     EQ     2540.25  2529.1  2529.10  2440.00  2450.05   \n",
      "2015-01-07    TCS     EQ     2446.60  2470.0  2479.15  2407.45  2426.90   \n",
      "\n",
      "              Close     VWAP   Volume      Turnover  Trades  \\\n",
      "Date                                                          \n",
      "2015-01-01  2545.55  2548.51   183415  4.674345e+13    8002   \n",
      "2015-01-02  2579.45  2568.19   462870  1.188740e+14   27585   \n",
      "2015-01-05  2540.25  2563.94   877121  2.248886e+14   43234   \n",
      "2015-01-06  2446.60  2466.90  1211892  2.989615e+14   84503   \n",
      "2015-01-07  2417.70  2433.96  1318166  3.208362e+14  101741   \n",
      "\n",
      "            Deliverable Volume  %Deliverble  \n",
      "Date                                         \n",
      "2015-01-01               52870       0.2883  \n",
      "2015-01-02              309350       0.6683  \n",
      "2015-01-05              456728       0.5207  \n",
      "2015-01-06              714306       0.5894  \n",
      "2015-01-07              886368       0.6724  \n"
     ]
    }
   ],
   "source": [
    "# Specify the path to the CSV file\n",
    "#csv_file = \"data/Mastercard_stock_history.csv\"\n",
    "\n",
    "\n",
    "# Read the CSV file into a DataFrame, specifying the index and parsing dates\n",
    "dataset = pd.read_csv(\"Desktop/tcs_stock.csv\", index_col=\"Date\", parse_dates=[\"Date\"])\n",
    "\n",
    "# Print the first few rows of the dataset\n",
    "print(dataset.head())"
   ]
  },
  {
   "cell_type": "code",
   "execution_count": 3,
   "id": "585b29f3",
   "metadata": {},
   "outputs": [
    {
     "name": "stdout",
     "output_type": "stream",
     "text": [
      "        Prev Close         Open         High          Low         Last  \\\n",
      "count   248.000000   248.000000   248.000000   248.000000   248.000000   \n",
      "mean   2538.207460  2542.172782  2563.580444  2514.408468  2538.039718   \n",
      "std      86.829359    87.605699    90.598368    82.952778    86.849305   \n",
      "min    2319.800000  2319.400000  2343.900000  2315.250000  2321.000000   \n",
      "25%    2495.312500  2499.500000  2518.900000  2472.100000  2497.500000   \n",
      "50%    2543.050000  2548.500000  2566.000000  2520.000000  2540.150000   \n",
      "75%    2592.000000  2594.250000  2615.750000  2567.300000  2593.425000   \n",
      "max    2776.000000  2788.000000  2812.100000  2721.900000  2785.100000   \n",
      "\n",
      "             Close         VWAP        Volume      Turnover         Trades  \\\n",
      "count   248.000000   248.000000  2.480000e+02  2.480000e+02     248.000000   \n",
      "mean   2537.717944  2538.432137  1.172296e+06  2.977489e+14   66873.608871   \n",
      "std      87.057814    86.813053  6.220635e+05  1.576443e+14   28882.906787   \n",
      "min    2319.800000  2322.270000  6.758200e+04  1.667550e+13    5197.000000   \n",
      "25%    2495.150000  2496.665000  7.821352e+05  1.950716e+14   45476.250000   \n",
      "50%    2541.475000  2540.445000  1.031024e+06  2.631783e+14   61449.500000   \n",
      "75%    2592.000000  2592.607500  1.393266e+06  3.550390e+14   82066.750000   \n",
      "max    2776.000000  2763.040000  4.834371e+06  1.206435e+15  211247.000000   \n",
      "\n",
      "       Deliverable Volume  %Deliverble  \n",
      "count        2.480000e+02   248.000000  \n",
      "mean         7.960575e+05     0.670336  \n",
      "std          4.309911e+05     0.090968  \n",
      "min          3.400300e+04     0.288300  \n",
      "25%          4.871065e+05     0.610850  \n",
      "50%          7.009530e+05     0.685600  \n",
      "75%          9.946628e+05     0.726050  \n",
      "max          2.989132e+06     0.890100  \n"
     ]
    }
   ],
   "source": [
    "print(dataset.describe())"
   ]
  },
  {
   "cell_type": "code",
   "execution_count": 4,
   "id": "f88323af",
   "metadata": {},
   "outputs": [
    {
     "data": {
      "text/plain": [
       "Symbol                0\n",
       "Series                0\n",
       "Prev Close            0\n",
       "Open                  0\n",
       "High                  0\n",
       "Low                   0\n",
       "Last                  0\n",
       "Close                 0\n",
       "VWAP                  0\n",
       "Volume                0\n",
       "Turnover              0\n",
       "Trades                0\n",
       "Deliverable Volume    0\n",
       "%Deliverble           0\n",
       "dtype: int64"
      ]
     },
     "execution_count": 4,
     "metadata": {},
     "output_type": "execute_result"
    }
   ],
   "source": [
    "dataset.isna().sum()"
   ]
  },
  {
   "cell_type": "code",
   "execution_count": 5,
   "id": "cb89b2d7",
   "metadata": {},
   "outputs": [
    {
     "name": "stdout",
     "output_type": "stream",
     "text": [
      "Modified Dataset:\n",
      "           Symbol Series  Prev Close    Open     High      Low     Last  \\\n",
      "Date                                                                      \n",
      "2015-01-01    TCS     EQ     2558.25  2567.0  2567.00  2541.00  2550.00   \n",
      "2015-01-02    TCS     EQ     2545.55  2551.0  2590.95  2550.60  2588.40   \n",
      "2015-01-05    TCS     EQ     2579.45  2581.0  2599.90  2524.65  2538.10   \n",
      "2015-01-06    TCS     EQ     2540.25  2529.1  2529.10  2440.00  2450.05   \n",
      "2015-01-07    TCS     EQ     2446.60  2470.0  2479.15  2407.45  2426.90   \n",
      "\n",
      "              Close     VWAP   Volume      Turnover  Trades  \\\n",
      "Date                                                          \n",
      "2015-01-01  2545.55  2548.51   183415  4.674345e+13    8002   \n",
      "2015-01-02  2579.45  2568.19   462870  1.188740e+14   27585   \n",
      "2015-01-05  2540.25  2563.94   877121  2.248886e+14   43234   \n",
      "2015-01-06  2446.60  2466.90  1211892  2.989615e+14   84503   \n",
      "2015-01-07  2417.70  2433.96  1318166  3.208362e+14  101741   \n",
      "\n",
      "            Deliverable Volume  %Deliverble  \n",
      "Date                                         \n",
      "2015-01-01               52870       0.2883  \n",
      "2015-01-02              309350       0.6683  \n",
      "2015-01-05              456728       0.5207  \n",
      "2015-01-06              714306       0.5894  \n",
      "2015-01-07              886368       0.6724  \n"
     ]
    }
   ],
   "source": [
    "# Calculate the threshold for missing values\n",
    "threshold = 0.2 * len(dataset)\n",
    "\n",
    "# Iterate over each column\n",
    "for column in dataset.columns:\n",
    "    # Check if the column has missing values\n",
    "    if dataset[column].isna().sum() > 0:\n",
    "        # If the column is numerical, fill missing values with column mean\n",
    "        if dataset[column].dtype in ['int64', 'float64']:\n",
    "            # If the number of missing values is less than the threshold, drop rows\n",
    "            if dataset[column].isna().sum() < threshold:\n",
    "                dataset = dataset.dropna(subset=[column])\n",
    "            # If the number of missing values is greater than or equal to the threshold, fill with column mean\n",
    "            else:\n",
    "                column_mean = dataset[column].mean()\n",
    "                dataset[column].fillna(column_mean, inplace=True)\n",
    "        # If the column is categorical, drop rows with missing values\n",
    "        elif dataset[column].dtype == 'object':\n",
    "            # If the number of missing values is less than the threshold, drop rows\n",
    "            if dataset[column].isna().sum() < threshold:\n",
    "                dataset = dataset.dropna(subset=[column])\n",
    "\n",
    "# Print modified dataset\n",
    "print(\"Modified Dataset:\")\n",
    "if dataset.empty:\n",
    "    print(\"No data available.\")\n",
    "else:\n",
    "    print(dataset.head())"
   ]
  },
  {
   "cell_type": "code",
   "execution_count": 6,
   "id": "fa5b182d",
   "metadata": {},
   "outputs": [],
   "source": [
    "# Check for any remaining missing values\n",
    "missing_values = dataset.isna().sum().sum()\n",
    "if missing_values > 0:\n",
    "    print(\"Warning: Dataset still contains missing values after cleaning.\")"
   ]
  },
  {
   "cell_type": "code",
   "execution_count": 7,
   "id": "bc7caeec",
   "metadata": {},
   "outputs": [],
   "source": [
    "target = 'High'"
   ]
  },
  {
   "cell_type": "code",
   "execution_count": 8,
   "id": "ffb7bbb1",
   "metadata": {},
   "outputs": [
    {
     "name": "stdout",
     "output_type": "stream",
     "text": [
      "Categorical columns found:\n",
      "Symbol\n",
      "Series\n",
      "Modified Dataset:\n",
      "            Prev Close    Open     High      Low     Last    Close     VWAP  \\\n",
      "Date                                                                          \n",
      "2015-01-01     2558.25  2567.0  2567.00  2541.00  2550.00  2545.55  2548.51   \n",
      "2015-01-02     2545.55  2551.0  2590.95  2550.60  2588.40  2579.45  2568.19   \n",
      "2015-01-05     2579.45  2581.0  2599.90  2524.65  2538.10  2540.25  2563.94   \n",
      "2015-01-06     2540.25  2529.1  2529.10  2440.00  2450.05  2446.60  2466.90   \n",
      "2015-01-07     2446.60  2470.0  2479.15  2407.45  2426.90  2417.70  2433.96   \n",
      "\n",
      "             Volume      Turnover  Trades  Deliverable Volume  %Deliverble  \n",
      "Date                                                                        \n",
      "2015-01-01   183415  4.674345e+13    8002               52870       0.2883  \n",
      "2015-01-02   462870  1.188740e+14   27585              309350       0.6683  \n",
      "2015-01-05   877121  2.248886e+14   43234              456728       0.5207  \n",
      "2015-01-06  1211892  2.989615e+14   84503              714306       0.5894  \n",
      "2015-01-07  1318166  3.208362e+14  101741              886368       0.6724  \n"
     ]
    }
   ],
   "source": [
    "# Check for categorical variables\n",
    "categorical_columns = set()\n",
    "\n",
    "# Add columns with less than 10 unique values\n",
    "for column in dataset.columns:\n",
    "    if column != target and dataset[column].nunique() < 10:\n",
    "        categorical_columns.add(column)\n",
    "\n",
    "# Append columns with object data type\n",
    "categorical_columns.update(col for col in dataset.select_dtypes(include=['object']).columns.tolist() if col != target and col != target)\n",
    "\n",
    "# Identify and add true/false columns\n",
    "true_false_columns = [col for col in dataset.columns if dataset[col].dtype == 'bool']\n",
    "categorical_columns.update(true_false_columns)\n",
    "\n",
    "if len(categorical_columns) > 0:\n",
    "    print(\"Categorical columns found:\")\n",
    "    for column in categorical_columns:\n",
    "        print(column)\n",
    "    \n",
    "    # Fit the encoder to the categorical columns\n",
    "    encoder = OneHotEncoder(drop='first', sparse_output=False)\n",
    "    encoded_columns = encoder.fit_transform(dataset[list(categorical_columns)])\n",
    "\n",
    "    # Get the feature names from the encoder\n",
    "    encoded_feature_names = encoder.get_feature_names_out(input_features=list(categorical_columns))\n",
    "\n",
    "    # Create a DataFrame with the encoded columns and feature names\n",
    "    encoded_df = pd.DataFrame(encoded_columns, columns=encoded_feature_names, index=dataset.index)\n",
    "\n",
    "    # Drop original categorical columns\n",
    "    dataset.drop(columns=categorical_columns, inplace=True)\n",
    "    \n",
    "    # Concatenate encoded columns with dataset\n",
    "    dataset = pd.concat([dataset, encoded_df], axis=1)\n",
    "    \n",
    "# Display the modified dataset\n",
    "print(\"Modified Dataset:\")\n",
    "if dataset.empty:\n",
    "    print(\"No data available.\")\n",
    "else:\n",
    "    print(dataset.head())"
   ]
  },
  {
   "cell_type": "markdown",
   "id": "ed9f4cef",
   "metadata": {},
   "source": [
    "Outlier Detection"
   ]
  },
  {
   "cell_type": "code",
   "execution_count": 9,
   "id": "197aa493",
   "metadata": {},
   "outputs": [
    {
     "name": "stdout",
     "output_type": "stream",
     "text": [
      "Indices of outliers: [  0  11  20  43  91 129 188 194 214 225 232 243 244]\n",
      "Details of outliers:\n",
      "            Prev Close    Open     High      Low     Last    Close     VWAP  \\\n",
      "Date                                                                          \n",
      "2015-01-01     2558.25  2567.0  2567.00  2541.00  2550.00  2545.55  2548.51   \n",
      "2015-01-16     2539.10  2543.7  2545.00  2484.30  2526.00  2532.15  2511.39   \n",
      "2015-01-30     2544.65  2560.7  2575.00  2470.00  2484.00  2482.05  2494.94   \n",
      "2015-03-04     2776.00  2788.0  2812.10  2715.65  2740.00  2746.00  2763.04   \n",
      "2015-05-18     2511.15  2514.1  2525.25  2497.10  2515.15  2520.40  2505.41   \n",
      "2015-07-09     2595.10  2595.0  2598.25  2506.65  2529.35  2522.50  2540.37   \n",
      "2015-10-05     2644.60  2652.7  2770.00  2652.70  2719.90  2711.65  2711.39   \n",
      "2015-10-13     2592.60  2602.8  2612.00  2567.60  2586.85  2598.55  2589.61   \n",
      "2015-11-11     2458.15  2475.0  2475.00  2450.00  2472.00  2468.80  2467.45   \n",
      "2015-11-30     2353.35  2365.0  2391.25  2350.15  2373.55  2364.70  2365.21   \n",
      "2015-12-09     2329.00  2337.9  2372.80  2320.00  2370.00  2367.65  2361.23   \n",
      "2015-12-24     2425.80  2421.0  2438.20  2404.00  2435.00  2434.25  2424.03   \n",
      "2015-12-28     2434.25  2428.0  2466.40  2420.20  2456.95  2462.70  2455.00   \n",
      "\n",
      "             Volume      Turnover  Trades  Deliverable Volume  %Deliverble  \n",
      "Date                                                                        \n",
      "2015-01-01   183415  4.674345e+13    8002               52870       0.2883  \n",
      "2015-01-16  2646915  6.647444e+14  127847             1372200       0.5184  \n",
      "2015-01-30  2908701  7.257025e+14  119200             2355497       0.8098  \n",
      "2015-03-04  1931497  5.336806e+14   71983             1405748       0.7278  \n",
      "2015-05-18  2253876  5.646891e+14   50845             2006146       0.8901  \n",
      "2015-07-09  1967061  4.997069e+14  142048             1156795       0.5881  \n",
      "2015-10-05  2403653  6.517248e+14  146358             1616394       0.6725  \n",
      "2015-10-13  3089856  8.001536e+14  129714             1303446       0.4218  \n",
      "2015-11-11    67582  1.667550e+13    5197               34003       0.5031  \n",
      "2015-11-30  2050024  4.848745e+14   85439             1102521       0.5378  \n",
      "2015-12-09  2641403  6.236954e+14   59592             1365071       0.5168  \n",
      "2015-12-24   421580  1.021924e+14   21932              188670       0.4475  \n",
      "2015-12-28  1852099  4.546896e+14   43390             1060100       0.5724  \n"
     ]
    }
   ],
   "source": [
    "from sklearn.cluster import KMeans\n",
    "from sklearn.preprocessing import StandardScaler\n",
    "\n",
    "# Perform KMeans clustering\n",
    "# Separate features (X) and target variable (y) if necessary\n",
    "X = dataset.drop(columns=[target])\n",
    "y = dataset[target]\n",
    "\n",
    "# Scale the features (X)\n",
    "scaler = StandardScaler()\n",
    "scaled_X = scaler.fit_transform(X)\n",
    "\n",
    "kmeans = KMeans()\n",
    "kmeans.fit(scaled_X)\n",
    "\n",
    "# Get cluster centers\n",
    "centers = kmeans.cluster_centers_\n",
    "\n",
    "# Calculate distances of each point to its respective cluster center\n",
    "distances = np.sqrt(np.sum((scaled_X - centers[kmeans.labels_])**2, axis=1))\n",
    "\n",
    "# Calculate mean and standard deviation of distances\n",
    "mean_distance = np.mean(distances)\n",
    "std_distance = np.std(distances)\n",
    "\n",
    "# Desired threshold as 2 standard deviations from the mean\n",
    "desired_threshold = mean_distance + 2 * std_distance\n",
    "\n",
    "# Use the threshold for outlier detection\n",
    "outliers_mask = distances > desired_threshold\n",
    "\n",
    "# Save outliers in a new dataset\n",
    "outliers_dataset = dataset[outliers_mask]\n",
    "\n",
    "# Print indices and details of outliers\n",
    "print(\"Indices of outliers:\", np.where(outliers_mask)[0])\n",
    "print(\"Details of outliers:\")\n",
    "print(outliers_dataset)\n",
    "\n",
    "# Remove outliers from the original dataset\n",
    "dataset = dataset[~outliers_mask]"
   ]
  },
  {
   "cell_type": "code",
   "execution_count": 10,
   "id": "5dca6088",
   "metadata": {},
   "outputs": [
    {
     "name": "stdout",
     "output_type": "stream",
     "text": [
      "tstart: 2015-01-02\n",
      "tend: 2015-09-04\n"
     ]
    }
   ],
   "source": [
    "# Extract the first date\n",
    "first_date = dataset.index[0]\n",
    "tstart = first_date.replace(year=first_date.year).strftime('%Y-%m-%d')\n",
    "\n",
    "# Calculate the 60th percentile of the data\n",
    "quantile_date = dataset.index[int(len(dataset) * 0.7)]\n",
    "tend = quantile_date.replace(year=quantile_date.year).strftime('%Y-%m-%d')\n",
    "\n",
    "print(\"tstart:\", tstart)\n",
    "print(\"tend:\", tend)\n"
   ]
  },
  {
   "cell_type": "code",
   "execution_count": 12,
   "id": "296304a9",
   "metadata": {},
   "outputs": [
    {
     "data": {
      "image/png": "[encoded data removed]",
      "text/plain": [
       "<Figure size 1600x400 with 1 Axes>"
      ]
     },
     "metadata": {},
     "output_type": "display_data"
    }
   ],
   "source": [
    "tstart_year = 2015\n",
    "tstart_month = 1\n",
    "tstart_day = 2\n",
    "\n",
    "tend_year = 2015\n",
    "tend_month = 9\n",
    "tend_day = 4\n",
    "\n",
    "def train_test_plot(dataset, tstart_year, tstart_month, tstart_day, tend_year, tend_month, tend_day):\n",
    "    tstart = f\"{tstart_year}-{tstart_month}-{tstart_day}\"\n",
    "    tend = f\"{tend_year}-{tend_month}-{tend_day}\"\n",
    "    \n",
    "    dataset.loc[tstart:tend, target].plot(figsize=(16, 4), legend=True)\n",
    "    dataset.loc[f\"{tend_year}-{tend_month}-{tend_day + 1}\":, target].plot(figsize=(16, 4), legend=True)\n",
    "    \n",
    "    plt.legend([f\"Train (Before {tend})\", f\"Test ({tend} and beyond)\"])\n",
    "    plt.title(\"Time Series Prediction\")\n",
    "    plt.show()\n",
    "\n",
    "train_test_plot(dataset, tstart_year, tstart_month, tstart_day, tend_year, tend_month, tend_day)"
   ]
  },
  {
   "cell_type": "code",
   "execution_count": 13,
   "id": "5bc62f88",
   "metadata": {},
   "outputs": [],
   "source": [
    "def train_test_split(dataset, tstart_year, tstart_month, tstart_day, tend_year, tend_month, tend_day):\n",
    "    tstart = f\"{tstart_year}-{tstart_month}-{tstart_day}\"\n",
    "    tend = f\"{tend_year}-{tend_month}-{tend_day}\"\n",
    "    \n",
    "    train = dataset.loc[tstart:tend, target].values\n",
    "    test = dataset.loc[f\"{tend_year}-{tend_month}-{tend_day + 1}\":, target].values\n",
    "    \n",
    "    return train, test\n",
    "\n",
    "training_set, test_set = train_test_split(dataset, tstart_year, tstart_month, tstart_day, tend_year, tend_month, tend_day)"
   ]
  },
  {
   "cell_type": "code",
   "execution_count": 14,
   "id": "e1c112d9",
   "metadata": {},
   "outputs": [],
   "source": [
    "sc = MinMaxScaler(feature_range=(0, 1))\n",
    "training_set = training_set.reshape(-1, 1)\n",
    "training_set_scaled = sc.fit_transform(training_set)"
   ]
  },
  {
   "cell_type": "code",
   "execution_count": 15,
   "id": "824f4176",
   "metadata": {},
   "outputs": [],
   "source": [
    "def split_sequence(sequence, n_steps):\n",
    "    X, y = list(), list()\n",
    "    for i in range(len(sequence)):\n",
    "        end_ix = i + n_steps\n",
    "        if end_ix > len(sequence) - 1:\n",
    "            break\n",
    "        seq_x, seq_y = sequence[i:end_ix], sequence[end_ix]\n",
    "        X.append(seq_x)\n",
    "        y.append(seq_y)\n",
    "    return np.array(X), np.array(y)\n",
    "\n",
    "\n",
    "n_steps = 60\n",
    "features = 1\n",
    "# split into samples\n",
    "X_train, y_train = split_sequence(training_set_scaled, n_steps)\n"
   ]
  },
  {
   "cell_type": "code",
   "execution_count": 16,
   "id": "34bdb706",
   "metadata": {},
   "outputs": [],
   "source": [
    "# Reshaping X_train for model\n",
    "X_train = X_train.reshape(X_train.shape[0],X_train.shape[1],features)"
   ]
  },
  {
   "cell_type": "markdown",
   "id": "aea4b850",
   "metadata": {},
   "source": [
    "GRU Model"
   ]
  },
  {
   "cell_type": "code",
   "execution_count": 17,
   "id": "ec2db8f7",
   "metadata": {},
   "outputs": [
    {
     "name": "stderr",
     "output_type": "stream",
     "text": [
      "/Users/jennawilson/anaconda3/lib/python3.11/site-packages/keras/src/layers/rnn/rnn.py:204: UserWarning: Do not pass an `input_shape`/`input_dim` argument to a layer. When using Sequential models, prefer using an `Input(shape)` object as the first layer in the model instead.\n",
      "  super().__init__(**kwargs)\n"
     ]
    },
    {
     "data": {
      "text/html": [
       "<pre style=\"white-space:pre;overflow-x:auto;line-height:normal;font-family:Menlo,'DejaVu Sans Mono',consolas,'Courier New',monospace\"><span style=\"font-weight: bold\">Model: \"sequential\"</span>\n",
       "</pre>\n"
      ],
      "text/plain": [
       "\u001b[1mModel: \"sequential\"\u001b[0m\n"
      ]
     },
     "metadata": {},
     "output_type": "display_data"
    },
    {
     "data": {
      "text/html": [
       "<pre style=\"white-space:pre;overflow-x:auto;line-height:normal;font-family:Menlo,'DejaVu Sans Mono',consolas,'Courier New',monospace\">┏━━━━━━━━━━━━━━━━━━━━━━━━━━━━━━━━━┳━━━━━━━━━━━━━━━━━━━━━━━━┳━━━━━━━━━━━━━━━┓\n",
       "┃<span style=\"font-weight: bold\"> Layer (type)                    </span>┃<span style=\"font-weight: bold\"> Output Shape           </span>┃<span style=\"font-weight: bold\">       Param # </span>┃\n",
       "┡━━━━━━━━━━━━━━━━━━━━━━━━━━━━━━━━━╇━━━━━━━━━━━━━━━━━━━━━━━━╇━━━━━━━━━━━━━━━┩\n",
       "│ gru (<span style=\"color: #0087ff; text-decoration-color: #0087ff\">GRU</span>)                       │ (<span style=\"color: #00d7ff; text-decoration-color: #00d7ff\">None</span>, <span style=\"color: #00af00; text-decoration-color: #00af00\">125</span>)            │        <span style=\"color: #00af00; text-decoration-color: #00af00\">48,000</span> │\n",
       "├─────────────────────────────────┼────────────────────────┼───────────────┤\n",
       "│ dense (<span style=\"color: #0087ff; text-decoration-color: #0087ff\">Dense</span>)                   │ (<span style=\"color: #00d7ff; text-decoration-color: #00d7ff\">None</span>, <span style=\"color: #00af00; text-decoration-color: #00af00\">1</span>)              │           <span style=\"color: #00af00; text-decoration-color: #00af00\">126</span> │\n",
       "├─────────────────────────────────┼────────────────────────┼───────────────┤\n",
       "│ dropout (<span style=\"color: #0087ff; text-decoration-color: #0087ff\">Dropout</span>)               │ (<span style=\"color: #00d7ff; text-decoration-color: #00d7ff\">None</span>, <span style=\"color: #00af00; text-decoration-color: #00af00\">1</span>)              │             <span style=\"color: #00af00; text-decoration-color: #00af00\">0</span> │\n",
       "└─────────────────────────────────┴────────────────────────┴───────────────┘\n",
       "</pre>\n"
      ],
      "text/plain": [
       "┏━━━━━━━━━━━━━━━━━━━━━━━━━━━━━━━━━┳━━━━━━━━━━━━━━━━━━━━━━━━┳━━━━━━━━━━━━━━━┓\n",
       "┃\u001b[1m \u001b[0m\u001b[1mLayer (type)                   \u001b[0m\u001b[1m \u001b[0m┃\u001b[1m \u001b[0m\u001b[1mOutput Shape          \u001b[0m\u001b[1m \u001b[0m┃\u001b[1m \u001b[0m\u001b[1m      Param #\u001b[0m\u001b[1m \u001b[0m┃\n",
       "┡━━━━━━━━━━━━━━━━━━━━━━━━━━━━━━━━━╇━━━━━━━━━━━━━━━━━━━━━━━━╇━━━━━━━━━━━━━━━┩\n",
       "│ gru (\u001b[38;5;33mGRU\u001b[0m)                       │ (\u001b[38;5;45mNone\u001b[0m, \u001b[38;5;34m125\u001b[0m)            │        \u001b[38;5;34m48,000\u001b[0m │\n",
       "├─────────────────────────────────┼────────────────────────┼───────────────┤\n",
       "│ dense (\u001b[38;5;33mDense\u001b[0m)                   │ (\u001b[38;5;45mNone\u001b[0m, \u001b[38;5;34m1\u001b[0m)              │           \u001b[38;5;34m126\u001b[0m │\n",
       "├─────────────────────────────────┼────────────────────────┼───────────────┤\n",
       "│ dropout (\u001b[38;5;33mDropout\u001b[0m)               │ (\u001b[38;5;45mNone\u001b[0m, \u001b[38;5;34m1\u001b[0m)              │             \u001b[38;5;34m0\u001b[0m │\n",
       "└─────────────────────────────────┴────────────────────────┴───────────────┘\n"
      ]
     },
     "metadata": {},
     "output_type": "display_data"
    },
    {
     "data": {
      "text/html": [
       "<pre style=\"white-space:pre;overflow-x:auto;line-height:normal;font-family:Menlo,'DejaVu Sans Mono',consolas,'Courier New',monospace\"><span style=\"font-weight: bold\"> Total params: </span><span style=\"color: #00af00; text-decoration-color: #00af00\">48,126</span> (187.99 KB)\n",
       "</pre>\n"
      ],
      "text/plain": [
       "\u001b[1m Total params: \u001b[0m\u001b[38;5;34m48,126\u001b[0m (187.99 KB)\n"
      ]
     },
     "metadata": {},
     "output_type": "display_data"
    },
    {
     "data": {
      "text/html": [
       "<pre style=\"white-space:pre;overflow-x:auto;line-height:normal;font-family:Menlo,'DejaVu Sans Mono',consolas,'Courier New',monospace\"><span style=\"font-weight: bold\"> Trainable params: </span><span style=\"color: #00af00; text-decoration-color: #00af00\">48,126</span> (187.99 KB)\n",
       "</pre>\n"
      ],
      "text/plain": [
       "\u001b[1m Trainable params: \u001b[0m\u001b[38;5;34m48,126\u001b[0m (187.99 KB)\n"
      ]
     },
     "metadata": {},
     "output_type": "display_data"
    },
    {
     "data": {
      "text/html": [
       "<pre style=\"white-space:pre;overflow-x:auto;line-height:normal;font-family:Menlo,'DejaVu Sans Mono',consolas,'Courier New',monospace\"><span style=\"font-weight: bold\"> Non-trainable params: </span><span style=\"color: #00af00; text-decoration-color: #00af00\">0</span> (0.00 B)\n",
       "</pre>\n"
      ],
      "text/plain": [
       "\u001b[1m Non-trainable params: \u001b[0m\u001b[38;5;34m0\u001b[0m (0.00 B)\n"
      ]
     },
     "metadata": {},
     "output_type": "display_data"
    }
   ],
   "source": [
    "from tensorflow.keras.layers import GRU, Dense\n",
    "from tensorflow.keras.models import Sequential\n",
    "\n",
    "# The GRU architecture\n",
    "model_gru = Sequential()\n",
    "model_gru.add(GRU(units=125, activation=\"tanh\", input_shape=(n_steps, features)))\n",
    "model_gru.add(Dense(units=1))\n",
    "model_gru.add(Dropout(0.05))\n",
    "\n",
    "# Compiling the model\n",
    "model_gru.compile(optimizer=\"RMSprop\", loss=\"mse\")\n",
    "\n",
    "model_gru.summary()"
   ]
  },
  {
   "cell_type": "code",
   "execution_count": 18,
   "id": "8eee84e3",
   "metadata": {},
   "outputs": [
    {
     "name": "stdout",
     "output_type": "stream",
     "text": [
      "Epoch 1/50\n",
      "\u001b[1m4/4\u001b[0m \u001b[32m━━━━━━━━━━━━━━━━━━━━\u001b[0m\u001b[37m\u001b[0m \u001b[1m0s\u001b[0m 15ms/step - loss: 0.1237 \n",
      "Epoch 2/50\n",
      "\u001b[1m4/4\u001b[0m \u001b[32m━━━━━━━━━━━━━━━━━━━━\u001b[0m\u001b[37m\u001b[0m \u001b[1m0s\u001b[0m 15ms/step - loss: 0.0382\n",
      "Epoch 3/50\n",
      "\u001b[1m4/4\u001b[0m \u001b[32m━━━━━━━━━━━━━━━━━━━━\u001b[0m\u001b[37m\u001b[0m \u001b[1m0s\u001b[0m 14ms/step - loss: 0.0314\n",
      "Epoch 4/50\n",
      "\u001b[1m4/4\u001b[0m \u001b[32m━━━━━━━━━━━━━━━━━━━━\u001b[0m\u001b[37m\u001b[0m \u001b[1m0s\u001b[0m 15ms/step - loss: 0.0425\n",
      "Epoch 5/50\n",
      "\u001b[1m4/4\u001b[0m \u001b[32m━━━━━━━━━━━━━━━━━━━━\u001b[0m\u001b[37m\u001b[0m \u001b[1m0s\u001b[0m 15ms/step - loss: 0.0278\n",
      "Epoch 6/50\n",
      "\u001b[1m4/4\u001b[0m \u001b[32m━━━━━━━━━━━━━━━━━━━━\u001b[0m\u001b[37m\u001b[0m \u001b[1m0s\u001b[0m 15ms/step - loss: 0.0282\n",
      "Epoch 7/50\n",
      "\u001b[1m4/4\u001b[0m \u001b[32m━━━━━━━━━━━━━━━━━━━━\u001b[0m\u001b[37m\u001b[0m \u001b[1m0s\u001b[0m 15ms/step - loss: 0.0194\n",
      "Epoch 8/50\n",
      "\u001b[1m4/4\u001b[0m \u001b[32m━━━━━━━━━━━━━━━━━━━━\u001b[0m\u001b[37m\u001b[0m \u001b[1m0s\u001b[0m 15ms/step - loss: 0.0231\n",
      "Epoch 9/50\n",
      "\u001b[1m4/4\u001b[0m \u001b[32m━━━━━━━━━━━━━━━━━━━━\u001b[0m\u001b[37m\u001b[0m \u001b[1m0s\u001b[0m 14ms/step - loss: 0.0225\n",
      "Epoch 10/50\n",
      "\u001b[1m4/4\u001b[0m \u001b[32m━━━━━━━━━━━━━━━━━━━━\u001b[0m\u001b[37m\u001b[0m \u001b[1m0s\u001b[0m 15ms/step - loss: 0.0225\n",
      "Epoch 11/50\n",
      "\u001b[1m4/4\u001b[0m \u001b[32m━━━━━━━━━━━━━━━━━━━━\u001b[0m\u001b[37m\u001b[0m \u001b[1m0s\u001b[0m 15ms/step - loss: 0.0315\n",
      "Epoch 12/50\n",
      "\u001b[1m4/4\u001b[0m \u001b[32m━━━━━━━━━━━━━━━━━━━━\u001b[0m\u001b[37m\u001b[0m \u001b[1m0s\u001b[0m 15ms/step - loss: 0.0243\n",
      "Epoch 13/50\n",
      "\u001b[1m4/4\u001b[0m \u001b[32m━━━━━━━━━━━━━━━━━━━━\u001b[0m\u001b[37m\u001b[0m \u001b[1m0s\u001b[0m 15ms/step - loss: 0.0252\n",
      "Epoch 14/50\n",
      "\u001b[1m4/4\u001b[0m \u001b[32m━━━━━━━━━━━━━━━━━━━━\u001b[0m\u001b[37m\u001b[0m \u001b[1m0s\u001b[0m 15ms/step - loss: 0.0136\n",
      "Epoch 15/50\n",
      "\u001b[1m4/4\u001b[0m \u001b[32m━━━━━━━━━━━━━━━━━━━━\u001b[0m\u001b[37m\u001b[0m \u001b[1m0s\u001b[0m 15ms/step - loss: 0.0211\n",
      "Epoch 16/50\n",
      "\u001b[1m4/4\u001b[0m \u001b[32m━━━━━━━━━━━━━━━━━━━━\u001b[0m\u001b[37m\u001b[0m \u001b[1m0s\u001b[0m 15ms/step - loss: 0.0164\n",
      "Epoch 17/50\n",
      "\u001b[1m4/4\u001b[0m \u001b[32m━━━━━━━━━━━━━━━━━━━━\u001b[0m\u001b[37m\u001b[0m \u001b[1m0s\u001b[0m 15ms/step - loss: 0.0291\n",
      "Epoch 18/50\n",
      "\u001b[1m4/4\u001b[0m \u001b[32m━━━━━━━━━━━━━━━━━━━━\u001b[0m\u001b[37m\u001b[0m \u001b[1m0s\u001b[0m 15ms/step - loss: 0.0200\n",
      "Epoch 19/50\n",
      "\u001b[1m4/4\u001b[0m \u001b[32m━━━━━━━━━━━━━━━━━━━━\u001b[0m\u001b[37m\u001b[0m \u001b[1m0s\u001b[0m 15ms/step - loss: 0.0186\n",
      "Epoch 20/50\n",
      "\u001b[1m4/4\u001b[0m \u001b[32m━━━━━━━━━━━━━━━━━━━━\u001b[0m\u001b[37m\u001b[0m \u001b[1m0s\u001b[0m 15ms/step - loss: 0.0118\n",
      "Epoch 21/50\n",
      "\u001b[1m4/4\u001b[0m \u001b[32m━━━━━━━━━━━━━━━━━━━━\u001b[0m\u001b[37m\u001b[0m \u001b[1m0s\u001b[0m 15ms/step - loss: 0.0142\n",
      "Epoch 22/50\n",
      "\u001b[1m4/4\u001b[0m \u001b[32m━━━━━━━━━━━━━━━━━━━━\u001b[0m\u001b[37m\u001b[0m \u001b[1m0s\u001b[0m 15ms/step - loss: 0.0193\n",
      "Epoch 23/50\n",
      "\u001b[1m4/4\u001b[0m \u001b[32m━━━━━━━━━━━━━━━━━━━━\u001b[0m\u001b[37m\u001b[0m \u001b[1m0s\u001b[0m 15ms/step - loss: 0.0127\n",
      "Epoch 24/50\n",
      "\u001b[1m4/4\u001b[0m \u001b[32m━━━━━━━━━━━━━━━━━━━━\u001b[0m\u001b[37m\u001b[0m \u001b[1m0s\u001b[0m 16ms/step - loss: 0.0210\n",
      "Epoch 25/50\n",
      "\u001b[1m4/4\u001b[0m \u001b[32m━━━━━━━━━━━━━━━━━━━━\u001b[0m\u001b[37m\u001b[0m \u001b[1m0s\u001b[0m 15ms/step - loss: 0.0235\n",
      "Epoch 26/50\n",
      "\u001b[1m4/4\u001b[0m \u001b[32m━━━━━━━━━━━━━━━━━━━━\u001b[0m\u001b[37m\u001b[0m \u001b[1m0s\u001b[0m 16ms/step - loss: 0.0153\n",
      "Epoch 27/50\n",
      "\u001b[1m4/4\u001b[0m \u001b[32m━━━━━━━━━━━━━━━━━━━━\u001b[0m\u001b[37m\u001b[0m \u001b[1m0s\u001b[0m 15ms/step - loss: 0.0250\n",
      "Epoch 28/50\n",
      "\u001b[1m4/4\u001b[0m \u001b[32m━━━━━━━━━━━━━━━━━━━━\u001b[0m\u001b[37m\u001b[0m \u001b[1m0s\u001b[0m 16ms/step - loss: 0.0100\n",
      "Epoch 29/50\n",
      "\u001b[1m4/4\u001b[0m \u001b[32m━━━━━━━━━━━━━━━━━━━━\u001b[0m\u001b[37m\u001b[0m \u001b[1m0s\u001b[0m 16ms/step - loss: 0.0138\n",
      "Epoch 30/50\n",
      "\u001b[1m4/4\u001b[0m \u001b[32m━━━━━━━━━━━━━━━━━━━━\u001b[0m\u001b[37m\u001b[0m \u001b[1m0s\u001b[0m 16ms/step - loss: 0.0224\n",
      "Epoch 31/50\n",
      "\u001b[1m4/4\u001b[0m \u001b[32m━━━━━━━━━━━━━━━━━━━━\u001b[0m\u001b[37m\u001b[0m \u001b[1m0s\u001b[0m 16ms/step - loss: 0.0157\n",
      "Epoch 32/50\n",
      "\u001b[1m4/4\u001b[0m \u001b[32m━━━━━━━━━━━━━━━━━━━━\u001b[0m\u001b[37m\u001b[0m \u001b[1m0s\u001b[0m 16ms/step - loss: 0.0198\n",
      "Epoch 33/50\n",
      "\u001b[1m4/4\u001b[0m \u001b[32m━━━━━━━━━━━━━━━━━━━━\u001b[0m\u001b[37m\u001b[0m \u001b[1m0s\u001b[0m 16ms/step - loss: 0.0179\n",
      "Epoch 34/50\n",
      "\u001b[1m4/4\u001b[0m \u001b[32m━━━━━━━━━━━━━━━━━━━━\u001b[0m\u001b[37m\u001b[0m \u001b[1m0s\u001b[0m 16ms/step - loss: 0.0185\n",
      "Epoch 35/50\n",
      "\u001b[1m4/4\u001b[0m \u001b[32m━━━━━━━━━━━━━━━━━━━━\u001b[0m\u001b[37m\u001b[0m \u001b[1m0s\u001b[0m 16ms/step - loss: 0.0113\n",
      "Epoch 36/50\n",
      "\u001b[1m4/4\u001b[0m \u001b[32m━━━━━━━━━━━━━━━━━━━━\u001b[0m\u001b[37m\u001b[0m \u001b[1m0s\u001b[0m 15ms/step - loss: 0.0278\n",
      "Epoch 37/50\n",
      "\u001b[1m4/4\u001b[0m \u001b[32m━━━━━━━━━━━━━━━━━━━━\u001b[0m\u001b[37m\u001b[0m \u001b[1m0s\u001b[0m 16ms/step - loss: 0.0076\n",
      "Epoch 38/50\n",
      "\u001b[1m4/4\u001b[0m \u001b[32m━━━━━━━━━━━━━━━━━━━━\u001b[0m\u001b[37m\u001b[0m \u001b[1m0s\u001b[0m 16ms/step - loss: 0.0106\n",
      "Epoch 39/50\n",
      "\u001b[1m4/4\u001b[0m \u001b[32m━━━━━━━━━━━━━━━━━━━━\u001b[0m\u001b[37m\u001b[0m \u001b[1m0s\u001b[0m 16ms/step - loss: 0.0172\n",
      "Epoch 40/50\n",
      "\u001b[1m4/4\u001b[0m \u001b[32m━━━━━━━━━━━━━━━━━━━━\u001b[0m\u001b[37m\u001b[0m \u001b[1m0s\u001b[0m 16ms/step - loss: 0.0143\n",
      "Epoch 41/50\n",
      "\u001b[1m4/4\u001b[0m \u001b[32m━━━━━━━━━━━━━━━━━━━━\u001b[0m\u001b[37m\u001b[0m \u001b[1m0s\u001b[0m 16ms/step - loss: 0.0144\n",
      "Epoch 42/50\n",
      "\u001b[1m4/4\u001b[0m \u001b[32m━━━━━━━━━━━━━━━━━━━━\u001b[0m\u001b[37m\u001b[0m \u001b[1m0s\u001b[0m 16ms/step - loss: 0.0081\n",
      "Epoch 43/50\n",
      "\u001b[1m4/4\u001b[0m \u001b[32m━━━━━━━━━━━━━━━━━━━━\u001b[0m\u001b[37m\u001b[0m \u001b[1m0s\u001b[0m 15ms/step - loss: 0.0147\n",
      "Epoch 44/50\n",
      "\u001b[1m4/4\u001b[0m \u001b[32m━━━━━━━━━━━━━━━━━━━━\u001b[0m\u001b[37m\u001b[0m \u001b[1m0s\u001b[0m 16ms/step - loss: 0.0137\n",
      "Epoch 45/50\n",
      "\u001b[1m4/4\u001b[0m \u001b[32m━━━━━━━━━━━━━━━━━━━━\u001b[0m\u001b[37m\u001b[0m \u001b[1m0s\u001b[0m 16ms/step - loss: 0.0240\n",
      "Epoch 46/50\n",
      "\u001b[1m4/4\u001b[0m \u001b[32m━━━━━━━━━━━━━━━━━━━━\u001b[0m\u001b[37m\u001b[0m \u001b[1m0s\u001b[0m 16ms/step - loss: 0.0125\n",
      "Epoch 47/50\n",
      "\u001b[1m4/4\u001b[0m \u001b[32m━━━━━━━━━━━━━━━━━━━━\u001b[0m\u001b[37m\u001b[0m \u001b[1m0s\u001b[0m 16ms/step - loss: 0.0214\n",
      "Epoch 48/50\n",
      "\u001b[1m4/4\u001b[0m \u001b[32m━━━━━━━━━━━━━━━━━━━━\u001b[0m\u001b[37m\u001b[0m \u001b[1m0s\u001b[0m 16ms/step - loss: 0.0190\n",
      "Epoch 49/50\n",
      "\u001b[1m4/4\u001b[0m \u001b[32m━━━━━━━━━━━━━━━━━━━━\u001b[0m\u001b[37m\u001b[0m \u001b[1m0s\u001b[0m 16ms/step - loss: 0.0148\n",
      "Epoch 50/50\n",
      "\u001b[1m4/4\u001b[0m \u001b[32m━━━━━━━━━━━━━━━━━━━━\u001b[0m\u001b[37m\u001b[0m \u001b[1m0s\u001b[0m 16ms/step - loss: 0.0140\n"
     ]
    },
    {
     "data": {
      "text/plain": [
       "<keras.src.callbacks.history.History at 0x16b54a450>"
      ]
     },
     "execution_count": 18,
     "metadata": {},
     "output_type": "execute_result"
    }
   ],
   "source": [
    "model_gru.fit(X_train, y_train, epochs=50, batch_size=32)"
   ]
  },
  {
   "cell_type": "markdown",
   "id": "0c16efc1",
   "metadata": {},
   "source": [
    "Results"
   ]
  },
  {
   "cell_type": "code",
   "execution_count": 19,
   "id": "531ab934",
   "metadata": {},
   "outputs": [
    {
     "name": "stdout",
     "output_type": "stream",
     "text": [
      "\u001b[1m3/3\u001b[0m \u001b[32m━━━━━━━━━━━━━━━━━━━━\u001b[0m\u001b[37m\u001b[0m \u001b[1m0s\u001b[0m 27ms/step\n"
     ]
    }
   ],
   "source": [
    "dataset_total = dataset.loc[:,target]\n",
    "inputs = dataset_total[len(dataset_total) - len(test_set) - n_steps :].values\n",
    "inputs = inputs.reshape(-1, 1)\n",
    "#scaling\n",
    "inputs = sc.transform(inputs)\n",
    "\n",
    "# Split into samples\n",
    "X_test, y_test = split_sequence(inputs, n_steps)\n",
    "# reshape\n",
    "X_test = X_test.reshape(X_test.shape[0], X_test.shape[1], features)\n",
    "#prediction\n",
    "predicted_target = model_gru.predict(X_test)\n",
    "#inverse transform the values\n",
    "predicted_target = sc.inverse_transform(predicted_target)\n"
   ]
  },
  {
   "cell_type": "code",
   "execution_count": 20,
   "id": "6ad89de4",
   "metadata": {},
   "outputs": [],
   "source": [
    "def plot_predictions(test, predicted):\n",
    "    plt.plot(test, color=\"gray\", label=\"Real\")\n",
    "    plt.plot(predicted, color=\"red\", label=\"Predicted\")\n",
    "    plt.title(\"Time Series Prediction\")\n",
    "    plt.xlabel(\"Time\")\n",
    "    plt.ylabel(\"Target\")\n",
    "    plt.legend()\n",
    "    plt.show()\n",
    "\n",
    "\n",
    "def return_rmse(test, predicted):\n",
    "    rmse = np.sqrt(mean_squared_error(test, predicted))\n",
    "    print(\"The root mean squared error is {:.2f}.\".format(rmse))\n"
   ]
  },
  {
   "cell_type": "code",
   "execution_count": 21,
   "id": "9e702776",
   "metadata": {},
   "outputs": [
    {
     "data": {
      "image/png": "[encoded data removed]",
      "text/plain": [
       "<Figure size 640x480 with 1 Axes>"
      ]
     },
     "metadata": {},
     "output_type": "display_data"
    }
   ],
   "source": [
    "plot_predictions(test_set,predicted_target)"
   ]
  },
  {
   "cell_type": "code",
   "execution_count": 22,
   "id": "69491de0",
   "metadata": {},
   "outputs": [
    {
     "name": "stdout",
     "output_type": "stream",
     "text": [
      "The root mean squared error is 36.16.\n"
     ]
    }
   ],
   "source": [
    "return_rmse(test_set,predicted_target)"
   ]
  }
 ],
 "metadata": {
  "kernelspec": {
   "display_name": "Python 3 (ipykernel)",
   "language": "python",
   "name": "python3"
  },
  "language_info": {
   "codemirror_mode": {
    "name": "ipython",
    "version": 3
   },
   "file_extension": ".py",
   "mimetype": "text/x-python",
   "name": "python",
   "nbconvert_exporter": "python",
   "pygments_lexer": "ipython3",
   "version": "3.11.4"
  }
 },
 "nbformat": 4,
 "nbformat_minor": 5
}
