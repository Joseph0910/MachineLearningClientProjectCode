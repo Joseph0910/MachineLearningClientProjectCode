{
 "cells": [
  {
   "cell_type": "markdown",
   "id": "56049ad6",
   "metadata": {},
   "source": [
    "# Import libraries\n"
   ]
  },
  {
   "cell_type": "code",
   "execution_count": 1,
   "id": "4280cee4",
   "metadata": {},
   "outputs": [],
   "source": [
    "import pandas as pd\n",
    "import numpy as np\n",
    "import matplotlib.pyplot as plt\n",
    "import seaborn as sns\n",
    "from mlxtend.feature_selection import SequentialFeatureSelector\n",
    "from sklearn.linear_model import LogisticRegression\n",
    "from sklearn.impute import SimpleImputer\n",
    "import statsmodels.api as sm\n",
    "from sklearn.preprocessing import StandardScaler\n",
    "from sklearn.decomposition import PCA\n",
    "from sklearn.preprocessing import scale \n",
    "from sklearn import model_selection\n",
    "from sklearn.model_selection import RepeatedKFold\n",
    "from sklearn.model_selection import train_test_split\n",
    "from sklearn.linear_model import LinearRegression\n",
    "from sklearn.metrics import mean_squared_error\n",
    "from sklearn.cluster import KMeans\n",
    "from sklearn.preprocessing import OneHotEncoder\n",
    "from sklearn.utils import resample"
   ]
  },
  {
   "cell_type": "markdown",
   "id": "b4a904a1",
   "metadata": {},
   "source": [
    "# Data Import"
   ]
  },
  {
   "cell_type": "code",
   "execution_count": 3,
   "id": "6d72df93",
   "metadata": {},
   "outputs": [],
   "source": [
    "dataset = pd.read_csv(\"Desktop/bankloan.csv\")"
   ]
  },
  {
   "cell_type": "markdown",
   "id": "4e83bb60",
   "metadata": {},
   "source": [
    "##### Optional Drop Column"
   ]
  },
  {
   "cell_type": "code",
   "execution_count": 6,
   "id": "47d66e64",
   "metadata": {},
   "outputs": [],
   "source": [
    "# Remove the column you want to drop\n",
    "column_to_drop = \"ID\"  # Replace \"column_name\" with the name of the column you want to remove\n",
    "dataset.drop(columns=[column_to_drop], inplace=True)\n",
    "#column_to_drop = \"vendor_id\"  # Replace \"column_name\" with the name of the column you want to remove\n",
    "#dataset.drop(columns=[column_to_drop], inplace=True)"
   ]
  },
  {
   "cell_type": "markdown",
   "id": "48365d93",
   "metadata": {},
   "source": [
    "# Data Cleaning"
   ]
  },
  {
   "cell_type": "code",
   "execution_count": 7,
   "id": "8a44831b",
   "metadata": {},
   "outputs": [
    {
     "name": "stdout",
     "output_type": "stream",
     "text": [
      "<class 'pandas.core.frame.DataFrame'>\n",
      "RangeIndex: 5000 entries, 0 to 4999\n",
      "Data columns (total 13 columns):\n",
      " #   Column              Non-Null Count  Dtype  \n",
      "---  ------              --------------  -----  \n",
      " 0   Age                 5000 non-null   int64  \n",
      " 1   Experience          5000 non-null   int64  \n",
      " 2   Income              5000 non-null   int64  \n",
      " 3   ZIP.Code            5000 non-null   int64  \n",
      " 4   Family              5000 non-null   int64  \n",
      " 5   CCAvg               5000 non-null   float64\n",
      " 6   Education           5000 non-null   int64  \n",
      " 7   Mortgage            5000 non-null   int64  \n",
      " 8   Personal.Loan       5000 non-null   int64  \n",
      " 9   Securities.Account  5000 non-null   int64  \n",
      " 10  CD.Account          5000 non-null   int64  \n",
      " 11  Online              5000 non-null   int64  \n",
      " 12  CreditCard          5000 non-null   int64  \n",
      "dtypes: float64(1), int64(12)\n",
      "memory usage: 507.9 KB\n"
     ]
    },
    {
     "data": {
      "text/html": [
       "<div>\n",
       "<style scoped>\n",
       "    .dataframe tbody tr th:only-of-type {\n",
       "        vertical-align: middle;\n",
       "    }\n",
       "\n",
       "    .dataframe tbody tr th {\n",
       "        vertical-align: top;\n",
       "    }\n",
       "\n",
       "    .dataframe thead th {\n",
       "        text-align: right;\n",
       "    }\n",
       "</style>\n",
       "<table border=\"1\" class=\"dataframe\">\n",
       "  <thead>\n",
       "    <tr style=\"text-align: right;\">\n",
       "      <th></th>\n",
       "      <th>count</th>\n",
       "      <th>mean</th>\n",
       "      <th>std</th>\n",
       "      <th>min</th>\n",
       "      <th>25%</th>\n",
       "      <th>50%</th>\n",
       "      <th>75%</th>\n",
       "      <th>max</th>\n",
       "    </tr>\n",
       "  </thead>\n",
       "  <tbody>\n",
       "    <tr>\n",
       "      <th>Age</th>\n",
       "      <td>5000.0</td>\n",
       "      <td>45.338400</td>\n",
       "      <td>11.463166</td>\n",
       "      <td>23.0</td>\n",
       "      <td>35.0</td>\n",
       "      <td>45.0</td>\n",
       "      <td>55.0</td>\n",
       "      <td>67.0</td>\n",
       "    </tr>\n",
       "    <tr>\n",
       "      <th>Experience</th>\n",
       "      <td>5000.0</td>\n",
       "      <td>20.104600</td>\n",
       "      <td>11.467954</td>\n",
       "      <td>-3.0</td>\n",
       "      <td>10.0</td>\n",
       "      <td>20.0</td>\n",
       "      <td>30.0</td>\n",
       "      <td>43.0</td>\n",
       "    </tr>\n",
       "    <tr>\n",
       "      <th>Income</th>\n",
       "      <td>5000.0</td>\n",
       "      <td>73.774200</td>\n",
       "      <td>46.033729</td>\n",
       "      <td>8.0</td>\n",
       "      <td>39.0</td>\n",
       "      <td>64.0</td>\n",
       "      <td>98.0</td>\n",
       "      <td>224.0</td>\n",
       "    </tr>\n",
       "    <tr>\n",
       "      <th>ZIP.Code</th>\n",
       "      <td>5000.0</td>\n",
       "      <td>93152.503000</td>\n",
       "      <td>2121.852197</td>\n",
       "      <td>9307.0</td>\n",
       "      <td>91911.0</td>\n",
       "      <td>93437.0</td>\n",
       "      <td>94608.0</td>\n",
       "      <td>96651.0</td>\n",
       "    </tr>\n",
       "    <tr>\n",
       "      <th>Family</th>\n",
       "      <td>5000.0</td>\n",
       "      <td>2.396400</td>\n",
       "      <td>1.147663</td>\n",
       "      <td>1.0</td>\n",
       "      <td>1.0</td>\n",
       "      <td>2.0</td>\n",
       "      <td>3.0</td>\n",
       "      <td>4.0</td>\n",
       "    </tr>\n",
       "    <tr>\n",
       "      <th>CCAvg</th>\n",
       "      <td>5000.0</td>\n",
       "      <td>1.937938</td>\n",
       "      <td>1.747659</td>\n",
       "      <td>0.0</td>\n",
       "      <td>0.7</td>\n",
       "      <td>1.5</td>\n",
       "      <td>2.5</td>\n",
       "      <td>10.0</td>\n",
       "    </tr>\n",
       "    <tr>\n",
       "      <th>Education</th>\n",
       "      <td>5000.0</td>\n",
       "      <td>1.881000</td>\n",
       "      <td>0.839869</td>\n",
       "      <td>1.0</td>\n",
       "      <td>1.0</td>\n",
       "      <td>2.0</td>\n",
       "      <td>3.0</td>\n",
       "      <td>3.0</td>\n",
       "    </tr>\n",
       "    <tr>\n",
       "      <th>Mortgage</th>\n",
       "      <td>5000.0</td>\n",
       "      <td>56.498800</td>\n",
       "      <td>101.713802</td>\n",
       "      <td>0.0</td>\n",
       "      <td>0.0</td>\n",
       "      <td>0.0</td>\n",
       "      <td>101.0</td>\n",
       "      <td>635.0</td>\n",
       "    </tr>\n",
       "    <tr>\n",
       "      <th>Personal.Loan</th>\n",
       "      <td>5000.0</td>\n",
       "      <td>0.096000</td>\n",
       "      <td>0.294621</td>\n",
       "      <td>0.0</td>\n",
       "      <td>0.0</td>\n",
       "      <td>0.0</td>\n",
       "      <td>0.0</td>\n",
       "      <td>1.0</td>\n",
       "    </tr>\n",
       "    <tr>\n",
       "      <th>Securities.Account</th>\n",
       "      <td>5000.0</td>\n",
       "      <td>0.104400</td>\n",
       "      <td>0.305809</td>\n",
       "      <td>0.0</td>\n",
       "      <td>0.0</td>\n",
       "      <td>0.0</td>\n",
       "      <td>0.0</td>\n",
       "      <td>1.0</td>\n",
       "    </tr>\n",
       "    <tr>\n",
       "      <th>CD.Account</th>\n",
       "      <td>5000.0</td>\n",
       "      <td>0.060400</td>\n",
       "      <td>0.238250</td>\n",
       "      <td>0.0</td>\n",
       "      <td>0.0</td>\n",
       "      <td>0.0</td>\n",
       "      <td>0.0</td>\n",
       "      <td>1.0</td>\n",
       "    </tr>\n",
       "    <tr>\n",
       "      <th>Online</th>\n",
       "      <td>5000.0</td>\n",
       "      <td>0.596800</td>\n",
       "      <td>0.490589</td>\n",
       "      <td>0.0</td>\n",
       "      <td>0.0</td>\n",
       "      <td>1.0</td>\n",
       "      <td>1.0</td>\n",
       "      <td>1.0</td>\n",
       "    </tr>\n",
       "    <tr>\n",
       "      <th>CreditCard</th>\n",
       "      <td>5000.0</td>\n",
       "      <td>0.294000</td>\n",
       "      <td>0.455637</td>\n",
       "      <td>0.0</td>\n",
       "      <td>0.0</td>\n",
       "      <td>0.0</td>\n",
       "      <td>1.0</td>\n",
       "      <td>1.0</td>\n",
       "    </tr>\n",
       "  </tbody>\n",
       "</table>\n",
       "</div>"
      ],
      "text/plain": [
       "                     count          mean          std     min      25%  \\\n",
       "Age                 5000.0     45.338400    11.463166    23.0     35.0   \n",
       "Experience          5000.0     20.104600    11.467954    -3.0     10.0   \n",
       "Income              5000.0     73.774200    46.033729     8.0     39.0   \n",
       "ZIP.Code            5000.0  93152.503000  2121.852197  9307.0  91911.0   \n",
       "Family              5000.0      2.396400     1.147663     1.0      1.0   \n",
       "CCAvg               5000.0      1.937938     1.747659     0.0      0.7   \n",
       "Education           5000.0      1.881000     0.839869     1.0      1.0   \n",
       "Mortgage            5000.0     56.498800   101.713802     0.0      0.0   \n",
       "Personal.Loan       5000.0      0.096000     0.294621     0.0      0.0   \n",
       "Securities.Account  5000.0      0.104400     0.305809     0.0      0.0   \n",
       "CD.Account          5000.0      0.060400     0.238250     0.0      0.0   \n",
       "Online              5000.0      0.596800     0.490589     0.0      0.0   \n",
       "CreditCard          5000.0      0.294000     0.455637     0.0      0.0   \n",
       "\n",
       "                        50%      75%      max  \n",
       "Age                    45.0     55.0     67.0  \n",
       "Experience             20.0     30.0     43.0  \n",
       "Income                 64.0     98.0    224.0  \n",
       "ZIP.Code            93437.0  94608.0  96651.0  \n",
       "Family                  2.0      3.0      4.0  \n",
       "CCAvg                   1.5      2.5     10.0  \n",
       "Education               2.0      3.0      3.0  \n",
       "Mortgage                0.0    101.0    635.0  \n",
       "Personal.Loan           0.0      0.0      1.0  \n",
       "Securities.Account      0.0      0.0      1.0  \n",
       "CD.Account              0.0      0.0      1.0  \n",
       "Online                  1.0      1.0      1.0  \n",
       "CreditCard              0.0      1.0      1.0  "
      ]
     },
     "execution_count": 7,
     "metadata": {},
     "output_type": "execute_result"
    }
   ],
   "source": [
    "dataset.info()\n",
    "#Distribution\n",
    "dataset.describe().transpose()"
   ]
  },
  {
   "cell_type": "markdown",
   "id": "9d4dd56d",
   "metadata": {},
   "source": [
    "### Null Values"
   ]
  },
  {
   "cell_type": "code",
   "execution_count": 8,
   "id": "32e2f7bf",
   "metadata": {},
   "outputs": [
    {
     "data": {
      "text/plain": [
       "Age                   0\n",
       "Experience            0\n",
       "Income                0\n",
       "ZIP.Code              0\n",
       "Family                0\n",
       "CCAvg                 0\n",
       "Education             0\n",
       "Mortgage              0\n",
       "Personal.Loan         0\n",
       "Securities.Account    0\n",
       "CD.Account            0\n",
       "Online                0\n",
       "CreditCard            0\n",
       "dtype: int64"
      ]
     },
     "execution_count": 8,
     "metadata": {},
     "output_type": "execute_result"
    }
   ],
   "source": [
    "dataset.isna().sum()"
   ]
  },
  {
   "cell_type": "code",
   "execution_count": 9,
   "id": "1a417505",
   "metadata": {},
   "outputs": [
    {
     "name": "stdout",
     "output_type": "stream",
     "text": [
      "Modified Dataset:\n",
      "   Age  Experience  Income  ZIP.Code  Family  CCAvg  Education  Mortgage  \\\n",
      "0   25           1      49     91107       4    1.6          1         0   \n",
      "1   45          19      34     90089       3    1.5          1         0   \n",
      "2   39          15      11     94720       1    1.0          1         0   \n",
      "3   35           9     100     94112       1    2.7          2         0   \n",
      "4   35           8      45     91330       4    1.0          2         0   \n",
      "\n",
      "   Personal.Loan  Securities.Account  CD.Account  Online  CreditCard  \n",
      "0              0                   1           0       0           0  \n",
      "1              0                   1           0       0           0  \n",
      "2              0                   0           0       0           0  \n",
      "3              0                   0           0       0           0  \n",
      "4              0                   0           0       0           1  \n"
     ]
    }
   ],
   "source": [
    "# Calculate the threshold for missing values\n",
    "threshold = 0.2 * len(dataset)\n",
    "\n",
    "# Iterate over each column\n",
    "for column in dataset.columns:\n",
    "    # Check if the column has missing values\n",
    "    if dataset[column].isna().sum() > 0:\n",
    "        # If the column is numerical, fill missing values with column mean\n",
    "        if dataset[column].dtype in ['int64', 'float64']:\n",
    "            # If the number of missing values is less than the threshold, drop rows\n",
    "            if dataset[column].isna().sum() < threshold:\n",
    "                dataset = dataset.dropna(subset=[column])\n",
    "            # If the number of missing values is greater than or equal to the threshold, fill with column mean\n",
    "            else:\n",
    "                column_mean = dataset[column].mean()\n",
    "                dataset[column].fillna(column_mean, inplace=True)\n",
    "        # If the column is categorical, drop rows with missing values\n",
    "        elif dataset[column].dtype == 'object':\n",
    "            # If the number of missing values is less than the threshold, drop rows\n",
    "            if dataset[column].isna().sum() < threshold:\n",
    "                dataset = dataset.dropna(subset=[column])\n",
    "\n",
    "# Print modified dataset\n",
    "print(\"Modified Dataset:\")\n",
    "if dataset.empty:\n",
    "    print(\"No data available.\")\n",
    "else:\n",
    "    print(dataset.head())"
   ]
  },
  {
   "cell_type": "code",
   "execution_count": 10,
   "id": "2de3fb49",
   "metadata": {},
   "outputs": [],
   "source": [
    "# Check for any remaining missing values\n",
    "missing_values = dataset.isna().sum().sum()\n",
    "if missing_values > 0:\n",
    "    print(\"Warning: Dataset still contains missing values after cleaning.\")\n"
   ]
  },
  {
   "cell_type": "markdown",
   "id": "b1062155",
   "metadata": {},
   "source": [
    "## Identify Target Variable"
   ]
  },
  {
   "cell_type": "code",
   "execution_count": 12,
   "id": "e8326e0e",
   "metadata": {},
   "outputs": [],
   "source": [
    "target = 'CreditCard'"
   ]
  },
  {
   "cell_type": "markdown",
   "id": "e496e0d5",
   "metadata": {},
   "source": [
    "# Feature Engineering "
   ]
  },
  {
   "cell_type": "code",
   "execution_count": 13,
   "id": "4d5905dc",
   "metadata": {},
   "outputs": [],
   "source": [
    "# Convert the \"sales\" column to string type if it's not already\n",
    "#dataset['sales'] = dataset['sales'].astype(str)\n",
    "\n",
    "# Remove dollar signs and commas, and convert to integers\n",
    "#dataset['sales'] = dataset['sales'].str.replace('$', '').str.replace(',', '', regex=False).astype(int)"
   ]
  },
  {
   "cell_type": "markdown",
   "id": "b8682599",
   "metadata": {},
   "source": [
    "### One Hot Encoder"
   ]
  },
  {
   "cell_type": "code",
   "execution_count": 14,
   "id": "5a74ba55",
   "metadata": {},
   "outputs": [
    {
     "name": "stdout",
     "output_type": "stream",
     "text": [
      "Categorical columns found:\n",
      "Personal.Loan\n",
      "Online\n",
      "Education\n",
      "CD.Account\n",
      "Securities.Account\n",
      "Family\n",
      "Modified Dataset:\n",
      "   Age  Experience  Income  ZIP.Code  CCAvg  Mortgage  CreditCard  \\\n",
      "0   25           1      49     91107    1.6         0           0   \n",
      "1   45          19      34     90089    1.5         0           0   \n",
      "2   39          15      11     94720    1.0         0           0   \n",
      "3   35           9     100     94112    2.7         0           0   \n",
      "4   35           8      45     91330    1.0         0           1   \n",
      "\n",
      "   Personal.Loan_1  Online_1  Education_2  Education_3  CD.Account_1  \\\n",
      "0              0.0       0.0          0.0          0.0           0.0   \n",
      "1              0.0       0.0          0.0          0.0           0.0   \n",
      "2              0.0       0.0          0.0          0.0           0.0   \n",
      "3              0.0       0.0          1.0          0.0           0.0   \n",
      "4              0.0       0.0          1.0          0.0           0.0   \n",
      "\n",
      "   Securities.Account_1  Family_2  Family_3  Family_4  \n",
      "0                   1.0       0.0       0.0       1.0  \n",
      "1                   1.0       0.0       1.0       0.0  \n",
      "2                   0.0       0.0       0.0       0.0  \n",
      "3                   0.0       0.0       0.0       0.0  \n",
      "4                   0.0       0.0       0.0       1.0  \n"
     ]
    }
   ],
   "source": [
    "# Check for categorical variables\n",
    "categorical_columns = set()\n",
    "\n",
    "# Add columns with less than 10 unique values\n",
    "for column in dataset.columns:\n",
    "    if column != target and dataset[column].nunique() < 10:\n",
    "        categorical_columns.add(column)\n",
    "\n",
    "# Append columns with object data type\n",
    "categorical_columns.update(col for col in dataset.select_dtypes(include=['object']).columns.tolist() if col != target and col != target)\n",
    "\n",
    "# Identify and add true/false columns\n",
    "true_false_columns = [col for col in dataset.columns if dataset[col].dtype == 'bool']\n",
    "categorical_columns.update(true_false_columns)\n",
    "\n",
    "if len(categorical_columns) > 0:\n",
    "    print(\"Categorical columns found:\")\n",
    "    for column in categorical_columns:\n",
    "        print(column)\n",
    "    \n",
    "    # Fit the encoder to the categorical columns\n",
    "    encoder = OneHotEncoder(drop='first', sparse_output=False)\n",
    "    encoded_columns = encoder.fit_transform(dataset[list(categorical_columns)])\n",
    "\n",
    "    # Get the feature names from the encoder\n",
    "    encoded_feature_names = encoder.get_feature_names_out(input_features=list(categorical_columns))\n",
    "\n",
    "    # Create a DataFrame with the encoded columns and feature names\n",
    "    encoded_df = pd.DataFrame(encoded_columns, columns=encoded_feature_names, index=dataset.index)\n",
    "\n",
    "    # Drop original categorical columns\n",
    "    dataset.drop(columns=categorical_columns, inplace=True)\n",
    "    \n",
    "    # Concatenate encoded columns with dataset\n",
    "    dataset = pd.concat([dataset, encoded_df], axis=1)\n",
    "    \n",
    "# Display the modified dataset\n",
    "print(\"Modified Dataset:\")\n",
    "if dataset.empty:\n",
    "    print(\"No data available.\")\n",
    "else:\n",
    "    print(dataset.head())"
   ]
  },
  {
   "cell_type": "markdown",
   "id": "886d1543",
   "metadata": {},
   "source": [
    "### Binary Variables"
   ]
  },
  {
   "cell_type": "code",
   "execution_count": 15,
   "id": "2c53a128",
   "metadata": {},
   "outputs": [
    {
     "name": "stdout",
     "output_type": "stream",
     "text": [
      "Binary Variables:\n",
      "['CreditCard', 'Personal.Loan_1', 'Online_1', 'Education_2', 'Education_3', 'CD.Account_1', 'Securities.Account_1', 'Family_2', 'Family_3', 'Family_4']\n"
     ]
    }
   ],
   "source": [
    "binary_variables = []\n",
    "\n",
    "# Iterate through each column\n",
    "for column in dataset.columns:\n",
    "    # Check if the number of unique values is 2 and values are 0 and 1, or if the value is just 0\n",
    "    if (dataset[column].nunique() == 2 and set(dataset[column]) == {0, 1}) or (dataset[column].nunique() == 1 and set(dataset[column]) == {0}):\n",
    "        binary_variables.append(column)\n",
    "\n",
    "# Print binary variables\n",
    "print(\"Binary Variables:\")\n",
    "print(binary_variables)"
   ]
  },
  {
   "cell_type": "markdown",
   "id": "6d264fde",
   "metadata": {},
   "source": [
    "## Numerical to Binary Variables"
   ]
  },
  {
   "cell_type": "code",
   "execution_count": 16,
   "id": "f5bf148f",
   "metadata": {},
   "outputs": [
    {
     "data": {
      "image/png": "[encoded data removed]",
      "text/plain": [
       "<Figure size 1200x800 with 6 Axes>"
      ]
     },
     "metadata": {},
     "output_type": "display_data"
    }
   ],
   "source": [
    "# Check if the target variable is numerical or categorical\n",
    "if dataset[target].dtype in ['int64', 'float64']:\n",
    "    # Get numerical variables excluding the target variable\n",
    "    numerical_variables = dataset.select_dtypes(include=['int64', 'float64']).columns.drop(target)\n",
    "else:\n",
    "    # Get numerical variables excluding the target variable\n",
    "    numerical_variables = dataset.select_dtypes(include=['int64', 'float64']).columns\n",
    "\n",
    "numerical_variables = numerical_variables.difference(binary_variables)\n",
    "\n",
    "# Calculate number of bins for each numerical variable\n",
    "num_bins_dict = {}\n",
    "for column in numerical_variables:\n",
    "    # Calculate the number of bins using Freedman-Diaconis rule\n",
    "    q75, q25 = dataset[column].quantile([0.75, 0.25])\n",
    "    iqr = q75 - q25\n",
    "    bin_width = 2 * iqr / (len(dataset[column]) ** (1/3))\n",
    "    \n",
    "    # Check if bin_width is zero\n",
    "    if bin_width == 0:\n",
    "        # Set a default number of bins or handle it appropriately\n",
    "        num_bins = 10  # Default value\n",
    "    else:\n",
    "        num_bins = int((dataset[column].max() - dataset[column].min()) / bin_width)\n",
    "        \n",
    "    # Ensure num_bins is an integer value\n",
    "    num_bins = int(num_bins)\n",
    "    \n",
    "    num_bins_dict[column] = num_bins\n",
    "\n",
    "# Initialize an empty DataFrame to store the binned categorical variables\n",
    "binned_dataset = pd.DataFrame()\n",
    "\n",
    "# Calculate the number of rows and columns for subplots\n",
    "num_variables = len(numerical_variables)\n",
    "num_rows = int(np.ceil(num_variables / 2))\n",
    "num_cols = 2\n",
    "\n",
    "# Initialize figure for histograms\n",
    "plt.figure(figsize=(12, 8))\n",
    "\n",
    "# Iterate through each numerical variable\n",
    "for i, column in enumerate(numerical_variables):\n",
    "    plt.subplot(num_rows, num_cols, i + 1)\n",
    "    \n",
    "    # Plot histogram\n",
    "    plt.hist(dataset[column], bins=num_bins_dict[column], color='skyblue', edgecolor='black')\n",
    "    plt.xlabel(column)\n",
    "    plt.ylabel('Frequency')\n",
    "    plt.title(f'Histogram of {column}')\n",
    "    plt.grid(True)\n",
    "    \n",
    "# Display the histograms\n",
    "plt.tight_layout()\n",
    "plt.show()\n"
   ]
  },
  {
   "cell_type": "code",
   "execution_count": 17,
   "id": "faad3988",
   "metadata": {},
   "outputs": [
    {
     "name": "stdout",
     "output_type": "stream",
     "text": [
      "Binned Dataset:\n",
      "   Age_22_25  Age_25_27  Age_27_30  Age_30_32  Age_32_35  Age_35_37  \\\n",
      "0          1          0          0          0          0          0   \n",
      "1          0          0          0          0          0          0   \n",
      "2          0          0          0          0          0          0   \n",
      "3          0          0          0          0          1          0   \n",
      "4          0          0          0          0          1          0   \n",
      "\n",
      "   Age_37_40  Age_40_42  Age_42_45  Age_45_47  ...  ZIP.Code_93486_93802  \\\n",
      "0          0          0          0          0  ...                     0   \n",
      "1          0          0          1          0  ...                     0   \n",
      "2          1          0          0          0  ...                     0   \n",
      "3          0          0          0          0  ...                     0   \n",
      "4          0          0          0          0  ...                     0   \n",
      "\n",
      "   ZIP.Code_93802_94119  ZIP.Code_94119_94435  ZIP.Code_94435_94752  \\\n",
      "0                     0                     0                     0   \n",
      "1                     0                     0                     0   \n",
      "2                     0                     0                     1   \n",
      "3                     1                     0                     0   \n",
      "4                     0                     0                     0   \n",
      "\n",
      "   ZIP.Code_94752_95068  ZIP.Code_95068_95385  ZIP.Code_95385_95701  \\\n",
      "0                     0                     0                     0   \n",
      "1                     0                     0                     0   \n",
      "2                     0                     0                     0   \n",
      "3                     0                     0                     0   \n",
      "4                     0                     0                     0   \n",
      "\n",
      "   ZIP.Code_95701_96018  ZIP.Code_96018_96334  ZIP.Code_96334_96651  \n",
      "0                     0                     0                     0  \n",
      "1                     0                     0                     0  \n",
      "2                     0                     0                     0  \n",
      "3                     0                     0                     0  \n",
      "4                     0                     0                     0  \n",
      "\n",
      "[5 rows x 444 columns]\n"
     ]
    }
   ],
   "source": [
    "# Initialize an empty DataFrame to store the binned categorical variables\n",
    "binned_dataset = pd.DataFrame()\n",
    "\n",
    "# Iterate through each numerical variable\n",
    "for column in numerical_variables:\n",
    "    # Calculate the maximum number of bins for this column\n",
    "    max_bins_column = num_bins_dict[column]\n",
    "    \n",
    "    # Bin the data accordingly\n",
    "    bins, bin_edges = pd.cut(dataset[column], bins=max_bins_column, retbins=True)\n",
    "    \n",
    "    # Generate bin labels from the bin edges\n",
    "    bin_labels = [f\"{column}_{int(bin_edges[i])}_{int(bin_edges[i+1])}\" for i in range(len(bin_edges)-1)]\n",
    "    \n",
    "    # Encode bins using one-hot encoding\n",
    "    encoded_bins = pd.get_dummies(bins, prefix=column)\n",
    "    \n",
    "    # Rename columns with integer bin edges\n",
    "    encoded_bins.columns = bin_labels\n",
    "    \n",
    "    # Concatenate encoded bins to the binned dataset\n",
    "    binned_dataset = pd.concat([binned_dataset, encoded_bins], axis=1)\n",
    "\n",
    "# Display the first few rows of the binned dataset\n",
    "print(\"Binned Dataset:\")\n",
    "print(binned_dataset.head())\n",
    "\n"
   ]
  },
  {
   "cell_type": "code",
   "execution_count": 18,
   "id": "a027f43c",
   "metadata": {},
   "outputs": [
    {
     "name": "stdout",
     "output_type": "stream",
     "text": [
      "Duplicate column names found:\n",
      "CCAvg_0_0\n",
      "CCAvg_0_0\n",
      "CCAvg_0_0\n",
      "CCAvg_1_1\n",
      "CCAvg_1_1\n",
      "CCAvg_1_1\n",
      "CCAvg_2_2\n",
      "CCAvg_2_2\n",
      "CCAvg_2_2\n",
      "CCAvg_3_3\n",
      "CCAvg_3_3\n",
      "CCAvg_4_4\n",
      "CCAvg_4_4\n",
      "CCAvg_4_4\n",
      "CCAvg_5_5\n",
      "CCAvg_5_5\n",
      "CCAvg_5_5\n",
      "CCAvg_6_6\n",
      "CCAvg_6_6\n",
      "CCAvg_7_7\n",
      "CCAvg_7_7\n",
      "CCAvg_7_7\n",
      "CCAvg_8_8\n",
      "CCAvg_8_8\n",
      "CCAvg_8_8\n",
      "CCAvg_9_9\n",
      "CCAvg_9_9\n",
      "Duplicate columns merged.\n"
     ]
    }
   ],
   "source": [
    "# Check for duplicate column names\n",
    "duplicate_columns = binned_dataset.columns[binned_dataset.columns.duplicated()]\n",
    "\n",
    "# Print duplicate column names, if any\n",
    "if len(duplicate_columns) > 0:\n",
    "    print(\"Duplicate column names found:\")\n",
    "    for column in duplicate_columns:\n",
    "        print(column)\n",
    "    \n",
    "    # Merge duplicate columns\n",
    "    binned_dataset = binned_dataset.groupby(level=0, axis=1).sum()\n",
    "    \n",
    "    print(\"Duplicate columns merged.\")\n",
    "else:\n",
    "    print(\"No duplicate column names found.\")"
   ]
  },
  {
   "cell_type": "code",
   "execution_count": 19,
   "id": "1ba77c07",
   "metadata": {},
   "outputs": [
    {
     "name": "stdout",
     "output_type": "stream",
     "text": [
      "Updated Dataset:\n",
      "   CreditCard  Personal.Loan_1  Online_1  Education_2  Education_3  \\\n",
      "0           0              0.0       0.0          0.0          0.0   \n",
      "1           0              0.0       0.0          0.0          0.0   \n",
      "2           0              0.0       0.0          0.0          0.0   \n",
      "3           0              0.0       0.0          1.0          0.0   \n",
      "4           1              0.0       0.0          1.0          0.0   \n",
      "\n",
      "   CD.Account_1  Securities.Account_1  Family_2  Family_3  Family_4  ...  \\\n",
      "0           0.0                   1.0       0.0       0.0       1.0  ...   \n",
      "1           0.0                   1.0       0.0       1.0       0.0  ...   \n",
      "2           0.0                   0.0       0.0       0.0       0.0  ...   \n",
      "3           0.0                   0.0       0.0       0.0       0.0  ...   \n",
      "4           0.0                   0.0       0.0       0.0       1.0  ...   \n",
      "\n",
      "   ZIP.Code_94119_94435  ZIP.Code_94435_94752  ZIP.Code_94752_95068  \\\n",
      "0                     0                     0                     0   \n",
      "1                     0                     0                     0   \n",
      "2                     0                     1                     0   \n",
      "3                     0                     0                     0   \n",
      "4                     0                     0                     0   \n",
      "\n",
      "   ZIP.Code_95068_95385  ZIP.Code_95385_95701  ZIP.Code_95701_96018  \\\n",
      "0                     0                     0                     0   \n",
      "1                     0                     0                     0   \n",
      "2                     0                     0                     0   \n",
      "3                     0                     0                     0   \n",
      "4                     0                     0                     0   \n",
      "\n",
      "   ZIP.Code_96018_96334  ZIP.Code_9623_9939  ZIP.Code_96334_96651  \\\n",
      "0                     0                   0                     0   \n",
      "1                     0                   0                     0   \n",
      "2                     0                   0                     0   \n",
      "3                     0                   0                     0   \n",
      "4                     0                   0                     0   \n",
      "\n",
      "   ZIP.Code_9939_10256  \n",
      "0                    0  \n",
      "1                    0  \n",
      "2                    0  \n",
      "3                    0  \n",
      "4                    0  \n",
      "\n",
      "[5 rows x 427 columns]\n"
     ]
    }
   ],
   "source": [
    "# Drop numerical columns from the original dataset\n",
    "dataset.drop(columns=numerical_variables, inplace=True)\n",
    "\n",
    "# Concatenate binned_dataset with the original dataset\n",
    "dataset = pd.concat([dataset, binned_dataset], axis=1)\n",
    "\n",
    "# Display the updated dataset\n",
    "print(\"Updated Dataset:\")\n",
    "print(dataset.head())"
   ]
  },
  {
   "cell_type": "code",
   "execution_count": 20,
   "id": "8ce49e20",
   "metadata": {},
   "outputs": [],
   "source": [
    "# Check for any remaining missing values\n",
    "missing_values = dataset.isna().sum().sum()\n",
    "if missing_values > 0:\n",
    "    print(\"Warning: Dataset still contains missing values after cleaning.\")"
   ]
  },
  {
   "cell_type": "markdown",
   "id": "d253324e",
   "metadata": {},
   "source": [
    "### Up-Sampling"
   ]
  },
  {
   "cell_type": "markdown",
   "id": "2f3a9478",
   "metadata": {},
   "source": [
    "##### Outcome"
   ]
  },
  {
   "cell_type": "code",
   "execution_count": 21,
   "id": "5ed421c8",
   "metadata": {},
   "outputs": [
    {
     "data": {
      "text/html": [
       "<div>\n",
       "<style scoped>\n",
       "    .dataframe tbody tr th:only-of-type {\n",
       "        vertical-align: middle;\n",
       "    }\n",
       "\n",
       "    .dataframe tbody tr th {\n",
       "        vertical-align: top;\n",
       "    }\n",
       "\n",
       "    .dataframe thead th {\n",
       "        text-align: right;\n",
       "    }\n",
       "</style>\n",
       "<table border=\"1\" class=\"dataframe\">\n",
       "  <thead>\n",
       "    <tr style=\"text-align: right;\">\n",
       "      <th></th>\n",
       "      <th>Personal.Loan_1</th>\n",
       "      <th>Online_1</th>\n",
       "      <th>Education_2</th>\n",
       "      <th>Education_3</th>\n",
       "      <th>CD.Account_1</th>\n",
       "      <th>Securities.Account_1</th>\n",
       "      <th>Family_2</th>\n",
       "      <th>Family_3</th>\n",
       "      <th>Family_4</th>\n",
       "      <th>Age_22_25</th>\n",
       "      <th>...</th>\n",
       "      <th>ZIP.Code_94119_94435</th>\n",
       "      <th>ZIP.Code_94435_94752</th>\n",
       "      <th>ZIP.Code_94752_95068</th>\n",
       "      <th>ZIP.Code_95068_95385</th>\n",
       "      <th>ZIP.Code_95385_95701</th>\n",
       "      <th>ZIP.Code_95701_96018</th>\n",
       "      <th>ZIP.Code_96018_96334</th>\n",
       "      <th>ZIP.Code_9623_9939</th>\n",
       "      <th>ZIP.Code_96334_96651</th>\n",
       "      <th>ZIP.Code_9939_10256</th>\n",
       "    </tr>\n",
       "    <tr>\n",
       "      <th>CreditCard</th>\n",
       "      <th></th>\n",
       "      <th></th>\n",
       "      <th></th>\n",
       "      <th></th>\n",
       "      <th></th>\n",
       "      <th></th>\n",
       "      <th></th>\n",
       "      <th></th>\n",
       "      <th></th>\n",
       "      <th></th>\n",
       "      <th></th>\n",
       "      <th></th>\n",
       "      <th></th>\n",
       "      <th></th>\n",
       "      <th></th>\n",
       "      <th></th>\n",
       "      <th></th>\n",
       "      <th></th>\n",
       "      <th></th>\n",
       "      <th></th>\n",
       "      <th></th>\n",
       "    </tr>\n",
       "  </thead>\n",
       "  <tbody>\n",
       "    <tr>\n",
       "      <th>0</th>\n",
       "      <td>3530</td>\n",
       "      <td>3530</td>\n",
       "      <td>3530</td>\n",
       "      <td>3530</td>\n",
       "      <td>3530</td>\n",
       "      <td>3530</td>\n",
       "      <td>3530</td>\n",
       "      <td>3530</td>\n",
       "      <td>3530</td>\n",
       "      <td>3530</td>\n",
       "      <td>...</td>\n",
       "      <td>3530</td>\n",
       "      <td>3530</td>\n",
       "      <td>3530</td>\n",
       "      <td>3530</td>\n",
       "      <td>3530</td>\n",
       "      <td>3530</td>\n",
       "      <td>3530</td>\n",
       "      <td>3530</td>\n",
       "      <td>3530</td>\n",
       "      <td>3530</td>\n",
       "    </tr>\n",
       "    <tr>\n",
       "      <th>1</th>\n",
       "      <td>1470</td>\n",
       "      <td>1470</td>\n",
       "      <td>1470</td>\n",
       "      <td>1470</td>\n",
       "      <td>1470</td>\n",
       "      <td>1470</td>\n",
       "      <td>1470</td>\n",
       "      <td>1470</td>\n",
       "      <td>1470</td>\n",
       "      <td>1470</td>\n",
       "      <td>...</td>\n",
       "      <td>1470</td>\n",
       "      <td>1470</td>\n",
       "      <td>1470</td>\n",
       "      <td>1470</td>\n",
       "      <td>1470</td>\n",
       "      <td>1470</td>\n",
       "      <td>1470</td>\n",
       "      <td>1470</td>\n",
       "      <td>1470</td>\n",
       "      <td>1470</td>\n",
       "    </tr>\n",
       "  </tbody>\n",
       "</table>\n",
       "<p>2 rows × 426 columns</p>\n",
       "</div>"
      ],
      "text/plain": [
       "            Personal.Loan_1  Online_1  Education_2  Education_3  CD.Account_1  \\\n",
       "CreditCard                                                                      \n",
       "0                      3530      3530         3530         3530          3530   \n",
       "1                      1470      1470         1470         1470          1470   \n",
       "\n",
       "            Securities.Account_1  Family_2  Family_3  Family_4  Age_22_25  \\\n",
       "CreditCard                                                                  \n",
       "0                           3530      3530      3530      3530       3530   \n",
       "1                           1470      1470      1470      1470       1470   \n",
       "\n",
       "            ...  ZIP.Code_94119_94435  ZIP.Code_94435_94752  \\\n",
       "CreditCard  ...                                               \n",
       "0           ...                  3530                  3530   \n",
       "1           ...                  1470                  1470   \n",
       "\n",
       "            ZIP.Code_94752_95068  ZIP.Code_95068_95385  ZIP.Code_95385_95701  \\\n",
       "CreditCard                                                                     \n",
       "0                           3530                  3530                  3530   \n",
       "1                           1470                  1470                  1470   \n",
       "\n",
       "            ZIP.Code_95701_96018  ZIP.Code_96018_96334  ZIP.Code_9623_9939  \\\n",
       "CreditCard                                                                   \n",
       "0                           3530                  3530                3530   \n",
       "1                           1470                  1470                1470   \n",
       "\n",
       "            ZIP.Code_96334_96651  ZIP.Code_9939_10256  \n",
       "CreditCard                                             \n",
       "0                           3530                 3530  \n",
       "1                           1470                 1470  \n",
       "\n",
       "[2 rows x 426 columns]"
      ]
     },
     "execution_count": 21,
     "metadata": {},
     "output_type": "execute_result"
    }
   ],
   "source": [
    "dataset.groupby(target).count()"
   ]
  },
  {
   "cell_type": "code",
   "execution_count": 22,
   "id": "464f5061",
   "metadata": {},
   "outputs": [
    {
     "name": "stdout",
     "output_type": "stream",
     "text": [
      "Target Value Counts (Sorted):\n",
      "0    3530\n",
      "1    1470\n",
      "Name: CreditCard, dtype: int64\n"
     ]
    },
    {
     "data": {
      "image/png": "[encoded data removed]",
      "text/plain": [
       "<Figure size 1000x600 with 1 Axes>"
      ]
     },
     "metadata": {},
     "output_type": "display_data"
    }
   ],
   "source": [
    "target_counts_sorted = dataset[target].value_counts().sort_index()\n",
    "\n",
    "# Display the counts\n",
    "print(\"Target Value Counts (Sorted):\")\n",
    "print(target_counts_sorted)\n",
    "\n",
    "plt.figure(figsize=(10, 6))\n",
    "plt.hist(dataset[target], bins='auto', color='skyblue', edgecolor='black')\n",
    "plt.xlabel(target)\n",
    "plt.ylabel('Frequency')\n",
    "plt.title('Histogram of Target')\n",
    "plt.grid(True)\n",
    "plt.show()"
   ]
  },
  {
   "cell_type": "code",
   "execution_count": 23,
   "id": "8b1cea4c",
   "metadata": {},
   "outputs": [
    {
     "name": "stdout",
     "output_type": "stream",
     "text": [
      "0    3530\n",
      "1    3530\n",
      "Name: CreditCard, dtype: int64\n"
     ]
    }
   ],
   "source": [
    "\n",
    "df_majority = dataset[dataset[target] == 0]\n",
    "\n",
    "\n",
    "df_minority = dataset[dataset[target] == 1]\n",
    "\n",
    "# Upsample minority class\n",
    "df_minority_upsampled = resample(df_minority, \n",
    "                                 replace=True,     \n",
    "                                 n_samples=len(df_majority),\n",
    "                                 random_state=42)  # Add random_state for reproducibility\n",
    "\n",
    "# Combine minority class with majority class\n",
    "dataset = pd.concat([df_majority, df_minority_upsampled])\n",
    "\n",
    "# Check the value counts of the prediction column in the downsampled dataset\n",
    "print(dataset[target].value_counts())\n"
   ]
  },
  {
   "cell_type": "markdown",
   "id": "0fbdb4a7",
   "metadata": {},
   "source": [
    "### Bias in other features"
   ]
  },
  {
   "cell_type": "code",
   "execution_count": 24,
   "id": "32278b28",
   "metadata": {},
   "outputs": [
    {
     "name": "stdout",
     "output_type": "stream",
     "text": [
      "Target Value Counts for Personal.Loan_1 (Sorted):\n",
      "0.0    6380\n",
      "1.0     680\n",
      "Name: Personal.Loan_1, dtype: int64\n"
     ]
    }
   ],
   "source": [
    "# Iterate over columns starting with \"X\"\n",
    "for column in dataset.columns:\n",
    "    if column.startswith(\"Personal\"):\n",
    "        # Get the target column\n",
    "        upsamp_target = dataset[column]\n",
    "        \n",
    "        # Get the sorted value counts\n",
    "        target_counts_sorted = upsamp_target.value_counts().sort_index()\n",
    "\n",
    "        # Display the counts\n",
    "        print(f\"Target Value Counts for {column} (Sorted):\")\n",
    "        print(target_counts_sorted)"
   ]
  },
  {
   "cell_type": "code",
   "execution_count": 25,
   "id": "79468254",
   "metadata": {},
   "outputs": [
    {
     "name": "stdout",
     "output_type": "stream",
     "text": [
      "0.0    6380\n",
      "1.0    1000\n",
      "Name: Personal.Loan_1, dtype: int64\n"
     ]
    }
   ],
   "source": [
    "# Select rows where the value in the target column is equal to 1\n",
    "df_majority = dataset[dataset[\"Personal.Loan_1\"] == 0]\n",
    "\n",
    "\n",
    "# Select rows where the value in the target column is equal to 0\n",
    "df_minority = dataset[dataset[\"Personal.Loan_1\"] == 1]\n",
    "\n",
    "# Upsample minority class\n",
    "df_minority_upsampled = resample(df_minority, \n",
    "                                 replace=True,     \n",
    "                                 n_samples=1000,\n",
    "                                 random_state=42)  # Add random_state for reproducibility\n",
    "\n",
    "# Combine minority class with majority class\n",
    "dataset = pd.concat([df_majority, df_minority_upsampled])\n",
    "\n",
    "# Check the value counts of the prediction column in the downsampled dataset\n",
    "print(dataset[\"Personal.Loan_1\"].value_counts())"
   ]
  },
  {
   "cell_type": "markdown",
   "id": "00f90e41",
   "metadata": {},
   "source": [
    "# Dimensionality Reduction"
   ]
  },
  {
   "cell_type": "code",
   "execution_count": 26,
   "id": "026b5d03",
   "metadata": {},
   "outputs": [
    {
     "name": "stdout",
     "output_type": "stream",
     "text": [
      "Highly correlated variables: set()\n",
      "Constant variables: ['CCAvg_9_9', 'Income_210_217', 'Mortgage_11_23', 'Mortgage_23_35', 'Mortgage_35_47', 'Mortgage_47_59', 'Mortgage_59_71', 'ZIP.Code_10256_10572', 'ZIP.Code_10572_10889', 'ZIP.Code_10889_11205', 'ZIP.Code_11205_11522', 'ZIP.Code_11522_11838', 'ZIP.Code_11838_12155', 'ZIP.Code_12155_12471', 'ZIP.Code_12471_12788', 'ZIP.Code_12788_13104', 'ZIP.Code_13104_13421', 'ZIP.Code_13421_13737', 'ZIP.Code_13737_14053', 'ZIP.Code_14053_14370', 'ZIP.Code_14370_14686', 'ZIP.Code_14686_15003', 'ZIP.Code_15003_15319', 'ZIP.Code_15319_15636', 'ZIP.Code_15636_15952', 'ZIP.Code_15952_16269', 'ZIP.Code_16269_16585', 'ZIP.Code_16585_16902', 'ZIP.Code_16902_17218', 'ZIP.Code_17218_17535', 'ZIP.Code_17535_17851', 'ZIP.Code_17851_18167', 'ZIP.Code_18167_18484', 'ZIP.Code_18484_18800', 'ZIP.Code_18800_19117', 'ZIP.Code_19117_19433', 'ZIP.Code_19433_19750', 'ZIP.Code_19750_20066', 'ZIP.Code_20066_20383', 'ZIP.Code_20383_20699', 'ZIP.Code_20699_21016', 'ZIP.Code_21016_21332', 'ZIP.Code_21332_21649', 'ZIP.Code_21649_21965', 'ZIP.Code_21965_22282', 'ZIP.Code_22282_22598', 'ZIP.Code_22598_22914', 'ZIP.Code_22914_23231', 'ZIP.Code_23231_23547', 'ZIP.Code_23547_23864', 'ZIP.Code_23864_24180', 'ZIP.Code_24180_24497', 'ZIP.Code_24497_24813', 'ZIP.Code_24813_25130', 'ZIP.Code_25130_25446', 'ZIP.Code_25446_25763', 'ZIP.Code_25763_26079', 'ZIP.Code_26079_26396', 'ZIP.Code_26396_26712', 'ZIP.Code_26712_27028', 'ZIP.Code_27028_27345', 'ZIP.Code_27345_27661', 'ZIP.Code_27661_27978', 'ZIP.Code_27978_28294', 'ZIP.Code_28294_28611', 'ZIP.Code_28611_28927', 'ZIP.Code_28927_29244', 'ZIP.Code_29244_29560', 'ZIP.Code_29560_29877', 'ZIP.Code_29877_30193', 'ZIP.Code_30193_30510', 'ZIP.Code_30510_30826', 'ZIP.Code_30826_31143', 'ZIP.Code_31143_31459', 'ZIP.Code_31459_31775', 'ZIP.Code_31775_32092', 'ZIP.Code_32092_32408', 'ZIP.Code_32408_32725', 'ZIP.Code_32725_33041', 'ZIP.Code_33041_33358', 'ZIP.Code_33358_33674', 'ZIP.Code_33674_33991', 'ZIP.Code_33991_34307', 'ZIP.Code_34307_34624', 'ZIP.Code_34624_34940', 'ZIP.Code_34940_35257', 'ZIP.Code_35257_35573', 'ZIP.Code_35573_35889', 'ZIP.Code_35889_36206', 'ZIP.Code_36206_36522', 'ZIP.Code_36522_36839', 'ZIP.Code_36839_37155', 'ZIP.Code_37155_37472', 'ZIP.Code_37472_37788', 'ZIP.Code_37788_38105', 'ZIP.Code_38105_38421', 'ZIP.Code_38421_38738', 'ZIP.Code_38738_39054', 'ZIP.Code_39054_39371', 'ZIP.Code_39371_39687', 'ZIP.Code_39687_40003', 'ZIP.Code_40003_40320', 'ZIP.Code_40320_40636', 'ZIP.Code_40636_40953', 'ZIP.Code_40953_41269', 'ZIP.Code_41269_41586', 'ZIP.Code_41586_41902', 'ZIP.Code_41902_42219', 'ZIP.Code_42219_42535', 'ZIP.Code_42535_42852', 'ZIP.Code_42852_43168', 'ZIP.Code_43168_43485', 'ZIP.Code_43485_43801', 'ZIP.Code_43801_44118', 'ZIP.Code_44118_44434', 'ZIP.Code_44434_44750', 'ZIP.Code_44750_45067', 'ZIP.Code_45067_45383', 'ZIP.Code_45383_45700', 'ZIP.Code_45700_46016', 'ZIP.Code_46016_46333', 'ZIP.Code_46333_46649', 'ZIP.Code_46649_46966', 'ZIP.Code_46966_47282', 'ZIP.Code_47282_47599', 'ZIP.Code_47599_47915', 'ZIP.Code_47915_48232', 'ZIP.Code_48232_48548', 'ZIP.Code_48548_48864', 'ZIP.Code_48864_49181', 'ZIP.Code_49181_49497', 'ZIP.Code_49497_49814', 'ZIP.Code_49814_50130', 'ZIP.Code_50130_50447', 'ZIP.Code_50447_50763', 'ZIP.Code_50763_51080', 'ZIP.Code_51080_51396', 'ZIP.Code_51396_51713', 'ZIP.Code_51713_52029', 'ZIP.Code_52029_52346', 'ZIP.Code_52346_52662', 'ZIP.Code_52662_52979', 'ZIP.Code_52979_53295', 'ZIP.Code_53295_53611', 'ZIP.Code_53611_53928', 'ZIP.Code_53928_54244', 'ZIP.Code_54244_54561', 'ZIP.Code_54561_54877', 'ZIP.Code_54877_55194', 'ZIP.Code_55194_55510', 'ZIP.Code_55510_55827', 'ZIP.Code_55827_56143', 'ZIP.Code_56143_56460', 'ZIP.Code_56460_56776', 'ZIP.Code_56776_57093', 'ZIP.Code_57093_57409', 'ZIP.Code_57409_57725', 'ZIP.Code_57725_58042', 'ZIP.Code_58042_58358', 'ZIP.Code_58358_58675', 'ZIP.Code_58675_58991', 'ZIP.Code_58991_59308', 'ZIP.Code_59308_59624', 'ZIP.Code_59624_59941', 'ZIP.Code_59941_60257', 'ZIP.Code_60257_60574', 'ZIP.Code_60574_60890', 'ZIP.Code_60890_61207', 'ZIP.Code_61207_61523', 'ZIP.Code_61523_61839', 'ZIP.Code_61839_62156', 'ZIP.Code_62156_62472', 'ZIP.Code_62472_62789', 'ZIP.Code_62789_63105', 'ZIP.Code_63105_63422', 'ZIP.Code_63422_63738', 'ZIP.Code_63738_64055', 'ZIP.Code_64055_64371', 'ZIP.Code_64371_64688', 'ZIP.Code_64688_65004', 'ZIP.Code_65004_65321', 'ZIP.Code_65321_65637', 'ZIP.Code_65637_65954', 'ZIP.Code_65954_66270', 'ZIP.Code_66270_66586', 'ZIP.Code_66586_66903', 'ZIP.Code_66903_67219', 'ZIP.Code_67219_67536', 'ZIP.Code_67536_67852', 'ZIP.Code_67852_68169', 'ZIP.Code_68169_68485', 'ZIP.Code_68485_68802', 'ZIP.Code_68802_69118', 'ZIP.Code_69118_69435', 'ZIP.Code_69435_69751', 'ZIP.Code_69751_70068', 'ZIP.Code_70068_70384', 'ZIP.Code_70384_70700', 'ZIP.Code_70700_71017', 'ZIP.Code_71017_71333', 'ZIP.Code_71333_71650', 'ZIP.Code_71650_71966', 'ZIP.Code_71966_72283', 'ZIP.Code_72283_72599', 'ZIP.Code_72599_72916', 'ZIP.Code_72916_73232', 'ZIP.Code_73232_73549', 'ZIP.Code_73549_73865', 'ZIP.Code_73865_74182', 'ZIP.Code_74182_74498', 'ZIP.Code_74498_74815', 'ZIP.Code_74815_75131', 'ZIP.Code_75131_75447', 'ZIP.Code_75447_75764', 'ZIP.Code_75764_76080', 'ZIP.Code_76080_76397', 'ZIP.Code_76397_76713', 'ZIP.Code_76713_77030', 'ZIP.Code_77030_77346', 'ZIP.Code_77346_77663', 'ZIP.Code_77663_77979', 'ZIP.Code_77979_78296', 'ZIP.Code_78296_78612', 'ZIP.Code_78612_78929', 'ZIP.Code_78929_79245', 'ZIP.Code_79245_79561', 'ZIP.Code_79561_79878', 'ZIP.Code_79878_80194', 'ZIP.Code_80194_80511', 'ZIP.Code_80511_80827', 'ZIP.Code_80827_81144', 'ZIP.Code_81144_81460', 'ZIP.Code_81460_81777', 'ZIP.Code_81777_82093', 'ZIP.Code_82093_82410', 'ZIP.Code_82410_82726', 'ZIP.Code_82726_83043', 'ZIP.Code_83043_83359', 'ZIP.Code_83359_83675', 'ZIP.Code_83675_83992', 'ZIP.Code_83992_84308', 'ZIP.Code_84308_84625', 'ZIP.Code_84625_84941', 'ZIP.Code_84941_85258', 'ZIP.Code_85258_85574', 'ZIP.Code_85574_85891', 'ZIP.Code_85891_86207', 'ZIP.Code_86207_86524', 'ZIP.Code_86524_86840', 'ZIP.Code_86840_87157', 'ZIP.Code_87157_87473', 'ZIP.Code_87473_87790', 'ZIP.Code_87790_88106', 'ZIP.Code_88106_88422', 'ZIP.Code_88422_88739', 'ZIP.Code_88739_89055', 'ZIP.Code_89055_89372', 'ZIP.Code_89372_89688', 'ZIP.Code_9623_9939', 'ZIP.Code_9939_10256']\n"
     ]
    }
   ],
   "source": [
    "#Check for perfect multicollinearity\n",
    "correlation_matrix = dataset.corr()\n",
    "highly_correlated_variables = set()\n",
    "for i in range(len(correlation_matrix.columns)):\n",
    "    for j in range(i):\n",
    "        if abs(correlation_matrix.iloc[i, j]) > 0.8:\n",
    "            colname_i = correlation_matrix.columns[i]\n",
    "            colname_j = correlation_matrix.columns[j]\n",
    "            highly_correlated_variables.add(colname_i)\n",
    "            highly_correlated_variables.add(colname_j)\n",
    "print(\"Highly correlated variables:\", highly_correlated_variables)\n",
    "\n",
    "# Step 2: Remove constant variables\n",
    "constant_variables = [col for col in dataset.columns if dataset[col].nunique() == 1]\n",
    "print(\"Constant variables:\", constant_variables)\n",
    "dataset.drop(columns=constant_variables, inplace=True)\n",
    "\n",
    "# Define the target variable 'y'\n",
    "y = dataset[target]\n",
    "\n",
    "# Select all other columns as features 'x'\n",
    "x = dataset.drop(columns=[target])"
   ]
  },
  {
   "cell_type": "markdown",
   "id": "6f1f849d",
   "metadata": {},
   "source": [
    "### Outlier Detection"
   ]
  },
  {
   "cell_type": "markdown",
   "id": "c16f8b94",
   "metadata": {},
   "source": [
    "#### **Data is scaled in this step***"
   ]
  },
  {
   "cell_type": "code",
   "execution_count": 27,
   "id": "de58bedb",
   "metadata": {},
   "outputs": [
    {
     "name": "stdout",
     "output_type": "stream",
     "text": [
      "Indices of outliers: [  38   84  208  217  225  294  370  413  426  430  432  434  481  655\n",
      "  711  739  742  755  774  810  817  860  864  906  937  959 1018 1031\n",
      " 1035 1066 1072 1088 1130 1186 1318 1458 1482 1523 1541 1590 1592 1694\n",
      " 1708 1722 1751 1777 1881 1885 1886 1889 1913 1914 1925 1930 1931 1961\n",
      " 2034 2058 2136 2244 2252 2301 2308 2335 2515 2628 2703 2714 2716 2746\n",
      " 2901 2989 3187 3198 3214 3292 3397 3436 3486 3515 3524 3554 3619 3671\n",
      " 3733 3907 4029 4044 4115 4177 4460 4478 4566 4606 4705 4773 4798 4837\n",
      " 4922 4948 4962 4970 5192 5220 5240 5263 5273 5325 5399 5660 5865 5903\n",
      " 5914 5919 6114 6347 6369 6378 6380 6385 6393 6399 6402 6406 6410 6417\n",
      " 6422 6423 6427 6429 6451 6452 6459 6470 6488 6495 6499 6504 6547 6565\n",
      " 6597 6599 6600 6607 6612 6619 6622 6629 6638 6655 6664 6668 6672 6688\n",
      " 6698 6699 6701 6710 6713 6726 6729 6733 6734 6747 6752 6764 6765 6774\n",
      " 6776 6778 6793 6794 6796 6801 6802 6804 6830 6848 6875 6883 6889 6893\n",
      " 6896 6899 6909 6949 6953 6955 6969 6984 7008 7012 7020 7022 7034 7035\n",
      " 7038 7042 7047 7065 7068 7074 7077 7079 7082 7088 7099 7101 7105 7106\n",
      " 7110 7111 7117 7134 7143 7144 7150 7152 7154 7185 7190 7193 7214 7235\n",
      " 7242 7247 7256 7268 7275 7279 7298 7310 7320 7330 7336 7343 7350 7358\n",
      " 7375 7379]\n",
      "Details of outliers:\n",
      "      CreditCard  Personal.Loan_1  Online_1  Education_2  Education_3  \\\n",
      "59             0              0.0       0.0          0.0          0.0   \n",
      "119            0              0.0       0.0          0.0          0.0   \n",
      "327            0              0.0       1.0          0.0          0.0   \n",
      "338            0              0.0       0.0          0.0          0.0   \n",
      "354            0              0.0       1.0          0.0          0.0   \n",
      "...          ...              ...       ...          ...          ...   \n",
      "1328           1              1.0       0.0          0.0          0.0   \n",
      "1937           0              1.0       1.0          0.0          1.0   \n",
      "2337           1              1.0       0.0          1.0          0.0   \n",
      "2382           1              1.0       0.0          1.0          0.0   \n",
      "2956           1              1.0       1.0          0.0          1.0   \n",
      "\n",
      "      CD.Account_1  Securities.Account_1  Family_2  Family_3  Family_4  ...  \\\n",
      "59             0.0                   0.0       1.0       0.0       0.0  ...   \n",
      "119            0.0                   0.0       0.0       0.0       0.0  ...   \n",
      "327            0.0                   0.0       1.0       0.0       0.0  ...   \n",
      "338            0.0                   0.0       1.0       0.0       0.0  ...   \n",
      "354            0.0                   0.0       1.0       0.0       0.0  ...   \n",
      "...            ...                   ...       ...       ...       ...  ...   \n",
      "1328           0.0                   0.0       0.0       0.0       1.0  ...   \n",
      "1937           1.0                   1.0       0.0       0.0       0.0  ...   \n",
      "2337           0.0                   0.0       0.0       0.0       0.0  ...   \n",
      "2382           0.0                   0.0       0.0       0.0       1.0  ...   \n",
      "2956           1.0                   0.0       0.0       0.0       1.0  ...   \n",
      "\n",
      "      ZIP.Code_93486_93802  ZIP.Code_93802_94119  ZIP.Code_94119_94435  \\\n",
      "59                       0                     0                     0   \n",
      "119                      0                     0                     1   \n",
      "327                      0                     0                     0   \n",
      "338                      1                     0                     0   \n",
      "354                      0                     0                     0   \n",
      "...                    ...                   ...                   ...   \n",
      "1328                     0                     0                     0   \n",
      "1937                     0                     0                     0   \n",
      "2337                     0                     0                     0   \n",
      "2382                     0                     0                     1   \n",
      "2956                     0                     0                     0   \n",
      "\n",
      "      ZIP.Code_94435_94752  ZIP.Code_94752_95068  ZIP.Code_95068_95385  \\\n",
      "59                       0                     0                     0   \n",
      "119                      0                     0                     0   \n",
      "327                      0                     0                     0   \n",
      "338                      0                     0                     0   \n",
      "354                      0                     0                     0   \n",
      "...                    ...                   ...                   ...   \n",
      "1328                     0                     0                     0   \n",
      "1937                     0                     1                     0   \n",
      "2337                     0                     1                     0   \n",
      "2382                     0                     0                     0   \n",
      "2956                     0                     0                     0   \n",
      "\n",
      "      ZIP.Code_95385_95701  ZIP.Code_95701_96018  ZIP.Code_96018_96334  \\\n",
      "59                       0                     0                     0   \n",
      "119                      0                     0                     0   \n",
      "327                      0                     0                     0   \n",
      "338                      0                     0                     0   \n",
      "354                      0                     0                     0   \n",
      "...                    ...                   ...                   ...   \n",
      "1328                     1                     0                     0   \n",
      "1937                     0                     0                     0   \n",
      "2337                     0                     0                     0   \n",
      "2382                     0                     0                     0   \n",
      "2956                     0                     0                     0   \n",
      "\n",
      "      ZIP.Code_96334_96651  \n",
      "59                       0  \n",
      "119                      0  \n",
      "327                      0  \n",
      "338                      0  \n",
      "354                      0  \n",
      "...                    ...  \n",
      "1328                     0  \n",
      "1937                     0  \n",
      "2337                     0  \n",
      "2382                     0  \n",
      "2956                     0  \n",
      "\n",
      "[240 rows x 167 columns]\n"
     ]
    }
   ],
   "source": [
    "from sklearn.cluster import KMeans\n",
    "from sklearn.preprocessing import StandardScaler\n",
    "\n",
    "# Perform KMeans clustering\n",
    "# Separate features (X) and target variable (y) if necessary\n",
    "X = dataset.drop(columns=[target])\n",
    "y = dataset[target]\n",
    "\n",
    "# Scale the features (X)\n",
    "scaler = StandardScaler()\n",
    "scaled_X = scaler.fit_transform(X)\n",
    "\n",
    "kmeans = KMeans()\n",
    "kmeans.fit(scaled_X)\n",
    "\n",
    "# Get cluster centers\n",
    "centers = kmeans.cluster_centers_\n",
    "\n",
    "# Calculate distances of each point to its respective cluster center\n",
    "distances = np.sqrt(np.sum((scaled_X - centers[kmeans.labels_])**2, axis=1))\n",
    "\n",
    "# Calculate mean and standard deviation of distances\n",
    "mean_distance = np.mean(distances)\n",
    "std_distance = np.std(distances)\n",
    "\n",
    "# Desired threshold as 2 standard deviations from the mean\n",
    "desired_threshold = mean_distance + 2 * std_distance\n",
    "\n",
    "# Use the threshold for outlier detection\n",
    "outliers_mask = distances > desired_threshold\n",
    "\n",
    "# Save outliers in a new dataset\n",
    "outliers_dataset = dataset[outliers_mask]\n",
    "\n",
    "# Print indices and details of outliers\n",
    "print(\"Indices of outliers:\", np.where(outliers_mask)[0])\n",
    "print(\"Details of outliers:\")\n",
    "print(outliers_dataset)\n",
    "\n",
    "# Remove outliers from the original dataset\n",
    "dataset = dataset[~outliers_mask]"
   ]
  },
  {
   "cell_type": "code",
   "execution_count": 28,
   "id": "5af63243",
   "metadata": {},
   "outputs": [],
   "source": [
    "X = dataset.drop(columns=[target])\n",
    "y = dataset[target]"
   ]
  },
  {
   "cell_type": "markdown",
   "id": "b25d7c4a",
   "metadata": {},
   "source": [
    "### Principal Component Analysis (PCA)"
   ]
  },
  {
   "cell_type": "code",
   "execution_count": 30,
   "id": "a98acd9d",
   "metadata": {},
   "outputs": [
    {
     "data": {
      "image/png": "[encoded data removed]",
      "text/plain": [
       "<Figure size 640x480 with 1 Axes>"
      ]
     },
     "metadata": {},
     "output_type": "display_data"
    }
   ],
   "source": [
    "from sklearn.model_selection import RepeatedKFold, cross_val_score\n",
    "from sklearn.decomposition import PCA\n",
    "from sklearn.svm import SVC\n",
    "import matplotlib.pyplot as plt\n",
    "\n",
    "# Perform PCA\n",
    "pca = PCA()\n",
    "x_reduced = pca.fit_transform(X)\n",
    "\n",
    "# Define cross-validation method\n",
    "cv = RepeatedKFold(n_splits=10, n_repeats=3, random_state=1)\n",
    "\n",
    "svc = SVC()\n",
    "\n",
    "# Calculate accuracy with only the intercept\n",
    "accuracy = []\n",
    "score = cross_val_score(svc, np.ones((len(x_reduced), 1)), y, cv=cv, scoring='accuracy').mean()\n",
    "accuracy.append(score)\n",
    "\n",
    "# Calculate accuracy using cross-validation, adding one component at a time\n",
    "for i in range(1, 6):\n",
    "    score = cross_val_score(svc, x_reduced[:, :i], y, cv=cv, scoring='accuracy').mean()\n",
    "    accuracy.append(score)\n",
    "\n",
    "# Plot cross-validation results\n",
    "plt.plot(accuracy)\n",
    "plt.xlabel('Number of Principal Components')\n",
    "plt.ylabel('Accuracy')\n",
    "plt.title('Accuracy vs. Number of Principal Components')\n",
    "plt.show()\n"
   ]
  },
  {
   "cell_type": "code",
   "execution_count": 31,
   "id": "eabc2677",
   "metadata": {},
   "outputs": [
    {
     "data": {
      "text/plain": [
       "array([  4.74,   9.06,  12.98,  16.8 ,  20.36,  23.67,  26.67,  29.14,\n",
       "        31.35,  33.47,  35.58,  37.56,  39.51,  41.39,  43.23,  45.01,\n",
       "        46.67,  48.33,  49.92,  51.36,  52.78,  54.13,  55.44,  56.7 ,\n",
       "        57.95,  59.16,  60.35,  61.51,  62.63,  63.73,  64.8 ,  65.85,\n",
       "        66.86,  67.85,  68.81,  69.76,  70.67,  71.56,  72.41,  73.24,\n",
       "        74.05,  74.84,  75.63,  76.39,  77.12,  77.83,  78.52,  79.2 ,\n",
       "        79.85,  80.5 ,  81.13,  81.73,  82.32,  82.9 ,  83.47,  84.02,\n",
       "        84.54,  85.04,  85.53,  86.  ,  86.46,  86.9 ,  87.32,  87.74,\n",
       "        88.16,  88.56,  88.95,  89.33,  89.7 ,  90.05,  90.4 ,  90.74,\n",
       "        91.07,  91.4 ,  91.72,  92.03,  92.33,  92.63,  92.92,  93.2 ,\n",
       "        93.48,  93.74,  94.  ,  94.26,  94.51,  94.76,  95.  ,  95.23,\n",
       "        95.46,  95.69,  95.91,  96.12,  96.33,  96.52,  96.71,  96.89,\n",
       "        97.07,  97.24,  97.41,  97.58,  97.74,  97.89,  98.04,  98.19,\n",
       "        98.33,  98.47,  98.6 ,  98.72,  98.83,  98.93,  99.03,  99.13,\n",
       "        99.22,  99.31,  99.39,  99.47,  99.54,  99.61,  99.67,  99.73,\n",
       "        99.79,  99.84,  99.89,  99.93,  99.97, 100.  , 100.03, 100.05,\n",
       "       100.07, 100.08, 100.08, 100.08, 100.08, 100.08, 100.08, 100.08,\n",
       "       100.08, 100.08, 100.08, 100.08, 100.08, 100.08, 100.08, 100.08,\n",
       "       100.08, 100.08, 100.08, 100.08, 100.08, 100.08, 100.08, 100.08,\n",
       "       100.08, 100.08, 100.08, 100.08, 100.08, 100.08, 100.08, 100.08,\n",
       "       100.08, 100.08, 100.08, 100.08, 100.08, 100.08])"
      ]
     },
     "execution_count": 31,
     "metadata": {},
     "output_type": "execute_result"
    }
   ],
   "source": [
    "#percentage of variance in the response variable explained by adding in each principal component to the model:\n",
    "np.cumsum(np.round(pca.explained_variance_ratio_, decimals=4)*100)"
   ]
  },
  {
   "cell_type": "code",
   "execution_count": 32,
   "id": "d3a73fd8",
   "metadata": {},
   "outputs": [],
   "source": [
    "# Choose the desired number of principal components based on the plot\n",
    "num_components = 112 # For example, choose n principal components\n",
    "\n",
    "# Use the selected number of principal components\n",
    "x_reduced_selected = x_reduced[:, :num_components]"
   ]
  },
  {
   "cell_type": "markdown",
   "id": "0110d570",
   "metadata": {},
   "source": [
    "# Splitting the dataset"
   ]
  },
  {
   "cell_type": "code",
   "execution_count": 33,
   "id": "ce957564",
   "metadata": {},
   "outputs": [],
   "source": [
    "from sklearn.model_selection import train_test_split\n",
    "\n",
    "\n",
    "# Split the data into training (50%), testing (30%), and out-of-sample (20%)\n",
    "x_train, x_temp, y_train, y_temp = train_test_split(X, y, test_size=0.4, random_state=100)\n",
    "x_test, x_out_sample, y_test, y_out_sample = train_test_split(x_temp, y_temp, test_size=0.6, random_state=100)"
   ]
  },
  {
   "cell_type": "code",
   "execution_count": 34,
   "id": "ea173896",
   "metadata": {},
   "outputs": [],
   "source": [
    "missing_values = dataset.isnull().sum().sum()\n",
    "if missing_values > 0:\n",
    "    print(\"Warning: Dataset still contains missing values after cleaning.\")\n"
   ]
  },
  {
   "cell_type": "markdown",
   "id": "ca241bf4",
   "metadata": {},
   "source": [
    "# Fitting the SVM model"
   ]
  },
  {
   "cell_type": "code",
   "execution_count": 35,
   "id": "47aaeada",
   "metadata": {},
   "outputs": [
    {
     "name": "stdout",
     "output_type": "stream",
     "text": [
      "Best Parameters: {'kernel': 'rbf', 'gamma': 'scale', 'C': 100}\n",
      "Train Score: 0.7829131652661064\n",
      "Test Score: 0.8152364273204904\n"
     ]
    }
   ],
   "source": [
    "from sklearn.model_selection import RandomizedSearchCV\n",
    "from sklearn.svm import SVC\n",
    "from scipy.stats import randint\n",
    "\n",
    "# Define the parameter distributions\n",
    "param_dist = {\n",
    "    'C': [0.1, 1, 10, 100],  # Penalty parameter C of the error term\n",
    "    'kernel': ['linear', 'poly', 'rbf', 'sigmoid'],  # Kernel type\n",
    "    'gamma': ['scale', 'auto'],  # Kernel coefficient for 'rbf', 'poly' and 'sigmoid'\n",
    "}\n",
    "\n",
    "# Create an SVM classifier\n",
    "svc = SVC()\n",
    "\n",
    "# Use random search to find the best hyperparameters\n",
    "rand_search = RandomizedSearchCV(svc, \n",
    "                                 param_distributions=param_dist, \n",
    "                                 n_iter=10,  # Number of parameter settings that are sampled\n",
    "                                 cv=4)       # Cross-validation folds\n",
    "\n",
    "# Fit the random search object to the data\n",
    "rand_search.fit(x_train, y_train)\n",
    "\n",
    "# Print best parameters found\n",
    "print(\"Best Parameters:\", rand_search.best_params_)\n",
    "\n",
    "# Print best mean cross-validated score found\n",
    "print(\"Train Score:\", rand_search.best_score_)\n",
    "\n",
    "# Evaluate the best model on the test set\n",
    "print(\"Test Score:\", rand_search.score(x_test, y_test))"
   ]
  },
  {
   "cell_type": "code",
   "execution_count": 36,
   "id": "faeaaa25",
   "metadata": {},
   "outputs": [
    {
     "data": {
      "text/html": [
       "<style>#sk-container-id-1 {\n",
       "  /* Definition of color scheme common for light and dark mode */\n",
       "  --sklearn-color-text: black;\n",
       "  --sklearn-color-line: gray;\n",
       "  /* Definition of color scheme for unfitted estimators */\n",
       "  --sklearn-color-unfitted-level-0: #fff5e6;\n",
       "  --sklearn-color-unfitted-level-1: #f6e4d2;\n",
       "  --sklearn-color-unfitted-level-2: #ffe0b3;\n",
       "  --sklearn-color-unfitted-level-3: chocolate;\n",
       "  /* Definition of color scheme for fitted estimators */\n",
       "  --sklearn-color-fitted-level-0: #f0f8ff;\n",
       "  --sklearn-color-fitted-level-1: #d4ebff;\n",
       "  --sklearn-color-fitted-level-2: #b3dbfd;\n",
       "  --sklearn-color-fitted-level-3: cornflowerblue;\n",
       "\n",
       "  /* Specific color for light theme */\n",
       "  --sklearn-color-text-on-default-background: var(--sg-text-color, var(--theme-code-foreground, var(--jp-content-font-color1, black)));\n",
       "  --sklearn-color-background: var(--sg-background-color, var(--theme-background, var(--jp-layout-color0, white)));\n",
       "  --sklearn-color-border-box: var(--sg-text-color, var(--theme-code-foreground, var(--jp-content-font-color1, black)));\n",
       "  --sklearn-color-icon: #696969;\n",
       "\n",
       "  @media (prefers-color-scheme: dark) {\n",
       "    /* Redefinition of color scheme for dark theme */\n",
       "    --sklearn-color-text-on-default-background: var(--sg-text-color, var(--theme-code-foreground, var(--jp-content-font-color1, white)));\n",
       "    --sklearn-color-background: var(--sg-background-color, var(--theme-background, var(--jp-layout-color0, #111)));\n",
       "    --sklearn-color-border-box: var(--sg-text-color, var(--theme-code-foreground, var(--jp-content-font-color1, white)));\n",
       "    --sklearn-color-icon: #878787;\n",
       "  }\n",
       "}\n",
       "\n",
       "#sk-container-id-1 {\n",
       "  color: var(--sklearn-color-text);\n",
       "}\n",
       "\n",
       "#sk-container-id-1 pre {\n",
       "  padding: 0;\n",
       "}\n",
       "\n",
       "#sk-container-id-1 input.sk-hidden--visually {\n",
       "  border: 0;\n",
       "  clip: rect(1px 1px 1px 1px);\n",
       "  clip: rect(1px, 1px, 1px, 1px);\n",
       "  height: 1px;\n",
       "  margin: -1px;\n",
       "  overflow: hidden;\n",
       "  padding: 0;\n",
       "  position: absolute;\n",
       "  width: 1px;\n",
       "}\n",
       "\n",
       "#sk-container-id-1 div.sk-dashed-wrapped {\n",
       "  border: 1px dashed var(--sklearn-color-line);\n",
       "  margin: 0 0.4em 0.5em 0.4em;\n",
       "  box-sizing: border-box;\n",
       "  padding-bottom: 0.4em;\n",
       "  background-color: var(--sklearn-color-background);\n",
       "}\n",
       "\n",
       "#sk-container-id-1 div.sk-container {\n",
       "  /* jupyter's `normalize.less` sets `[hidden] { display: none; }`\n",
       "     but bootstrap.min.css set `[hidden] { display: none !important; }`\n",
       "     so we also need the `!important` here to be able to override the\n",
       "     default hidden behavior on the sphinx rendered scikit-learn.org.\n",
       "     See: https://github.com/scikit-learn/scikit-learn/issues/21755 */\n",
       "  display: inline-block !important;\n",
       "  position: relative;\n",
       "}\n",
       "\n",
       "#sk-container-id-1 div.sk-text-repr-fallback {\n",
       "  display: none;\n",
       "}\n",
       "\n",
       "div.sk-parallel-item,\n",
       "div.sk-serial,\n",
       "div.sk-item {\n",
       "  /* draw centered vertical line to link estimators */\n",
       "  background-image: linear-gradient(var(--sklearn-color-text-on-default-background), var(--sklearn-color-text-on-default-background));\n",
       "  background-size: 2px 100%;\n",
       "  background-repeat: no-repeat;\n",
       "  background-position: center center;\n",
       "}\n",
       "\n",
       "/* Parallel-specific style estimator block */\n",
       "\n",
       "#sk-container-id-1 div.sk-parallel-item::after {\n",
       "  content: \"\";\n",
       "  width: 100%;\n",
       "  border-bottom: 2px solid var(--sklearn-color-text-on-default-background);\n",
       "  flex-grow: 1;\n",
       "}\n",
       "\n",
       "#sk-container-id-1 div.sk-parallel {\n",
       "  display: flex;\n",
       "  align-items: stretch;\n",
       "  justify-content: center;\n",
       "  background-color: var(--sklearn-color-background);\n",
       "  position: relative;\n",
       "}\n",
       "\n",
       "#sk-container-id-1 div.sk-parallel-item {\n",
       "  display: flex;\n",
       "  flex-direction: column;\n",
       "}\n",
       "\n",
       "#sk-container-id-1 div.sk-parallel-item:first-child::after {\n",
       "  align-self: flex-end;\n",
       "  width: 50%;\n",
       "}\n",
       "\n",
       "#sk-container-id-1 div.sk-parallel-item:last-child::after {\n",
       "  align-self: flex-start;\n",
       "  width: 50%;\n",
       "}\n",
       "\n",
       "#sk-container-id-1 div.sk-parallel-item:only-child::after {\n",
       "  width: 0;\n",
       "}\n",
       "\n",
       "/* Serial-specific style estimator block */\n",
       "\n",
       "#sk-container-id-1 div.sk-serial {\n",
       "  display: flex;\n",
       "  flex-direction: column;\n",
       "  align-items: center;\n",
       "  background-color: var(--sklearn-color-background);\n",
       "  padding-right: 1em;\n",
       "  padding-left: 1em;\n",
       "}\n",
       "\n",
       "\n",
       "/* Toggleable style: style used for estimator/Pipeline/ColumnTransformer box that is\n",
       "clickable and can be expanded/collapsed.\n",
       "- Pipeline and ColumnTransformer use this feature and define the default style\n",
       "- Estimators will overwrite some part of the style using the `sk-estimator` class\n",
       "*/\n",
       "\n",
       "/* Pipeline and ColumnTransformer style (default) */\n",
       "\n",
       "#sk-container-id-1 div.sk-toggleable {\n",
       "  /* Default theme specific background. It is overwritten whether we have a\n",
       "  specific estimator or a Pipeline/ColumnTransformer */\n",
       "  background-color: var(--sklearn-color-background);\n",
       "}\n",
       "\n",
       "/* Toggleable label */\n",
       "#sk-container-id-1 label.sk-toggleable__label {\n",
       "  cursor: pointer;\n",
       "  display: block;\n",
       "  width: 100%;\n",
       "  margin-bottom: 0;\n",
       "  padding: 0.5em;\n",
       "  box-sizing: border-box;\n",
       "  text-align: center;\n",
       "}\n",
       "\n",
       "#sk-container-id-1 label.sk-toggleable__label-arrow:before {\n",
       "  /* Arrow on the left of the label */\n",
       "  content: \"▸\";\n",
       "  float: left;\n",
       "  margin-right: 0.25em;\n",
       "  color: var(--sklearn-color-icon);\n",
       "}\n",
       "\n",
       "#sk-container-id-1 label.sk-toggleable__label-arrow:hover:before {\n",
       "  color: var(--sklearn-color-text);\n",
       "}\n",
       "\n",
       "/* Toggleable content - dropdown */\n",
       "\n",
       "#sk-container-id-1 div.sk-toggleable__content {\n",
       "  max-height: 0;\n",
       "  max-width: 0;\n",
       "  overflow: hidden;\n",
       "  text-align: left;\n",
       "  /* unfitted */\n",
       "  background-color: var(--sklearn-color-unfitted-level-0);\n",
       "}\n",
       "\n",
       "#sk-container-id-1 div.sk-toggleable__content.fitted {\n",
       "  /* fitted */\n",
       "  background-color: var(--sklearn-color-fitted-level-0);\n",
       "}\n",
       "\n",
       "#sk-container-id-1 div.sk-toggleable__content pre {\n",
       "  margin: 0.2em;\n",
       "  border-radius: 0.25em;\n",
       "  color: var(--sklearn-color-text);\n",
       "  /* unfitted */\n",
       "  background-color: var(--sklearn-color-unfitted-level-0);\n",
       "}\n",
       "\n",
       "#sk-container-id-1 div.sk-toggleable__content.fitted pre {\n",
       "  /* unfitted */\n",
       "  background-color: var(--sklearn-color-fitted-level-0);\n",
       "}\n",
       "\n",
       "#sk-container-id-1 input.sk-toggleable__control:checked~div.sk-toggleable__content {\n",
       "  /* Expand drop-down */\n",
       "  max-height: 200px;\n",
       "  max-width: 100%;\n",
       "  overflow: auto;\n",
       "}\n",
       "\n",
       "#sk-container-id-1 input.sk-toggleable__control:checked~label.sk-toggleable__label-arrow:before {\n",
       "  content: \"▾\";\n",
       "}\n",
       "\n",
       "/* Pipeline/ColumnTransformer-specific style */\n",
       "\n",
       "#sk-container-id-1 div.sk-label input.sk-toggleable__control:checked~label.sk-toggleable__label {\n",
       "  color: var(--sklearn-color-text);\n",
       "  background-color: var(--sklearn-color-unfitted-level-2);\n",
       "}\n",
       "\n",
       "#sk-container-id-1 div.sk-label.fitted input.sk-toggleable__control:checked~label.sk-toggleable__label {\n",
       "  background-color: var(--sklearn-color-fitted-level-2);\n",
       "}\n",
       "\n",
       "/* Estimator-specific style */\n",
       "\n",
       "/* Colorize estimator box */\n",
       "#sk-container-id-1 div.sk-estimator input.sk-toggleable__control:checked~label.sk-toggleable__label {\n",
       "  /* unfitted */\n",
       "  background-color: var(--sklearn-color-unfitted-level-2);\n",
       "}\n",
       "\n",
       "#sk-container-id-1 div.sk-estimator.fitted input.sk-toggleable__control:checked~label.sk-toggleable__label {\n",
       "  /* fitted */\n",
       "  background-color: var(--sklearn-color-fitted-level-2);\n",
       "}\n",
       "\n",
       "#sk-container-id-1 div.sk-label label.sk-toggleable__label,\n",
       "#sk-container-id-1 div.sk-label label {\n",
       "  /* The background is the default theme color */\n",
       "  color: var(--sklearn-color-text-on-default-background);\n",
       "}\n",
       "\n",
       "/* On hover, darken the color of the background */\n",
       "#sk-container-id-1 div.sk-label:hover label.sk-toggleable__label {\n",
       "  color: var(--sklearn-color-text);\n",
       "  background-color: var(--sklearn-color-unfitted-level-2);\n",
       "}\n",
       "\n",
       "/* Label box, darken color on hover, fitted */\n",
       "#sk-container-id-1 div.sk-label.fitted:hover label.sk-toggleable__label.fitted {\n",
       "  color: var(--sklearn-color-text);\n",
       "  background-color: var(--sklearn-color-fitted-level-2);\n",
       "}\n",
       "\n",
       "/* Estimator label */\n",
       "\n",
       "#sk-container-id-1 div.sk-label label {\n",
       "  font-family: monospace;\n",
       "  font-weight: bold;\n",
       "  display: inline-block;\n",
       "  line-height: 1.2em;\n",
       "}\n",
       "\n",
       "#sk-container-id-1 div.sk-label-container {\n",
       "  text-align: center;\n",
       "}\n",
       "\n",
       "/* Estimator-specific */\n",
       "#sk-container-id-1 div.sk-estimator {\n",
       "  font-family: monospace;\n",
       "  border: 1px dotted var(--sklearn-color-border-box);\n",
       "  border-radius: 0.25em;\n",
       "  box-sizing: border-box;\n",
       "  margin-bottom: 0.5em;\n",
       "  /* unfitted */\n",
       "  background-color: var(--sklearn-color-unfitted-level-0);\n",
       "}\n",
       "\n",
       "#sk-container-id-1 div.sk-estimator.fitted {\n",
       "  /* fitted */\n",
       "  background-color: var(--sklearn-color-fitted-level-0);\n",
       "}\n",
       "\n",
       "/* on hover */\n",
       "#sk-container-id-1 div.sk-estimator:hover {\n",
       "  /* unfitted */\n",
       "  background-color: var(--sklearn-color-unfitted-level-2);\n",
       "}\n",
       "\n",
       "#sk-container-id-1 div.sk-estimator.fitted:hover {\n",
       "  /* fitted */\n",
       "  background-color: var(--sklearn-color-fitted-level-2);\n",
       "}\n",
       "\n",
       "/* Specification for estimator info (e.g. \"i\" and \"?\") */\n",
       "\n",
       "/* Common style for \"i\" and \"?\" */\n",
       "\n",
       ".sk-estimator-doc-link,\n",
       "a:link.sk-estimator-doc-link,\n",
       "a:visited.sk-estimator-doc-link {\n",
       "  float: right;\n",
       "  font-size: smaller;\n",
       "  line-height: 1em;\n",
       "  font-family: monospace;\n",
       "  background-color: var(--sklearn-color-background);\n",
       "  border-radius: 1em;\n",
       "  height: 1em;\n",
       "  width: 1em;\n",
       "  text-decoration: none !important;\n",
       "  margin-left: 1ex;\n",
       "  /* unfitted */\n",
       "  border: var(--sklearn-color-unfitted-level-1) 1pt solid;\n",
       "  color: var(--sklearn-color-unfitted-level-1);\n",
       "}\n",
       "\n",
       ".sk-estimator-doc-link.fitted,\n",
       "a:link.sk-estimator-doc-link.fitted,\n",
       "a:visited.sk-estimator-doc-link.fitted {\n",
       "  /* fitted */\n",
       "  border: var(--sklearn-color-fitted-level-1) 1pt solid;\n",
       "  color: var(--sklearn-color-fitted-level-1);\n",
       "}\n",
       "\n",
       "/* On hover */\n",
       "div.sk-estimator:hover .sk-estimator-doc-link:hover,\n",
       ".sk-estimator-doc-link:hover,\n",
       "div.sk-label-container:hover .sk-estimator-doc-link:hover,\n",
       ".sk-estimator-doc-link:hover {\n",
       "  /* unfitted */\n",
       "  background-color: var(--sklearn-color-unfitted-level-3);\n",
       "  color: var(--sklearn-color-background);\n",
       "  text-decoration: none;\n",
       "}\n",
       "\n",
       "div.sk-estimator.fitted:hover .sk-estimator-doc-link.fitted:hover,\n",
       ".sk-estimator-doc-link.fitted:hover,\n",
       "div.sk-label-container:hover .sk-estimator-doc-link.fitted:hover,\n",
       ".sk-estimator-doc-link.fitted:hover {\n",
       "  /* fitted */\n",
       "  background-color: var(--sklearn-color-fitted-level-3);\n",
       "  color: var(--sklearn-color-background);\n",
       "  text-decoration: none;\n",
       "}\n",
       "\n",
       "/* Span, style for the box shown on hovering the info icon */\n",
       ".sk-estimator-doc-link span {\n",
       "  display: none;\n",
       "  z-index: 9999;\n",
       "  position: relative;\n",
       "  font-weight: normal;\n",
       "  right: .2ex;\n",
       "  padding: .5ex;\n",
       "  margin: .5ex;\n",
       "  width: min-content;\n",
       "  min-width: 20ex;\n",
       "  max-width: 50ex;\n",
       "  color: var(--sklearn-color-text);\n",
       "  box-shadow: 2pt 2pt 4pt #999;\n",
       "  /* unfitted */\n",
       "  background: var(--sklearn-color-unfitted-level-0);\n",
       "  border: .5pt solid var(--sklearn-color-unfitted-level-3);\n",
       "}\n",
       "\n",
       ".sk-estimator-doc-link.fitted span {\n",
       "  /* fitted */\n",
       "  background: var(--sklearn-color-fitted-level-0);\n",
       "  border: var(--sklearn-color-fitted-level-3);\n",
       "}\n",
       "\n",
       ".sk-estimator-doc-link:hover span {\n",
       "  display: block;\n",
       "}\n",
       "\n",
       "/* \"?\"-specific style due to the `<a>` HTML tag */\n",
       "\n",
       "#sk-container-id-1 a.estimator_doc_link {\n",
       "  float: right;\n",
       "  font-size: 1rem;\n",
       "  line-height: 1em;\n",
       "  font-family: monospace;\n",
       "  background-color: var(--sklearn-color-background);\n",
       "  border-radius: 1rem;\n",
       "  height: 1rem;\n",
       "  width: 1rem;\n",
       "  text-decoration: none;\n",
       "  /* unfitted */\n",
       "  color: var(--sklearn-color-unfitted-level-1);\n",
       "  border: var(--sklearn-color-unfitted-level-1) 1pt solid;\n",
       "}\n",
       "\n",
       "#sk-container-id-1 a.estimator_doc_link.fitted {\n",
       "  /* fitted */\n",
       "  border: var(--sklearn-color-fitted-level-1) 1pt solid;\n",
       "  color: var(--sklearn-color-fitted-level-1);\n",
       "}\n",
       "\n",
       "/* On hover */\n",
       "#sk-container-id-1 a.estimator_doc_link:hover {\n",
       "  /* unfitted */\n",
       "  background-color: var(--sklearn-color-unfitted-level-3);\n",
       "  color: var(--sklearn-color-background);\n",
       "  text-decoration: none;\n",
       "}\n",
       "\n",
       "#sk-container-id-1 a.estimator_doc_link.fitted:hover {\n",
       "  /* fitted */\n",
       "  background-color: var(--sklearn-color-fitted-level-3);\n",
       "}\n",
       "</style><div id=\"sk-container-id-1\" class=\"sk-top-container\"><div class=\"sk-text-repr-fallback\"><pre>SVC(C=100, random_state=100)</pre><b>In a Jupyter environment, please rerun this cell to show the HTML representation or trust the notebook. <br />On GitHub, the HTML representation is unable to render, please try loading this page with nbviewer.org.</b></div><div class=\"sk-container\" hidden><div class=\"sk-item\"><div class=\"sk-estimator fitted sk-toggleable\"><input class=\"sk-toggleable__control sk-hidden--visually\" id=\"sk-estimator-id-1\" type=\"checkbox\" checked><label for=\"sk-estimator-id-1\" class=\"sk-toggleable__label fitted sk-toggleable__label-arrow fitted\">&nbsp;&nbsp;SVC<a class=\"sk-estimator-doc-link fitted\" rel=\"noreferrer\" target=\"_blank\" href=\"https://scikit-learn.org/1.4/modules/generated/sklearn.svm.SVC.html\">?<span>Documentation for SVC</span></a><span class=\"sk-estimator-doc-link fitted\">i<span>Fitted</span></span></label><div class=\"sk-toggleable__content fitted\"><pre>SVC(C=100, random_state=100)</pre></div> </div></div></div></div>"
      ],
      "text/plain": [
       "SVC(C=100, random_state=100)"
      ]
     },
     "execution_count": 36,
     "metadata": {},
     "output_type": "execute_result"
    }
   ],
   "source": [
    "# Define the Support Vector Classifier (SVC) with specified hyperparameters\n",
    "svc = SVC(kernel='rbf', C=100, gamma='scale', random_state=100)\n",
    "\n",
    "# Fit the training data to the SVC\n",
    "svc.fit(x_train, y_train)"
   ]
  },
  {
   "cell_type": "code",
   "execution_count": 37,
   "id": "218fab1e",
   "metadata": {},
   "outputs": [
    {
     "data": {
      "text/plain": [
       "array([1, 0, 1, ..., 0, 0, 1])"
      ]
     },
     "execution_count": 37,
     "metadata": {},
     "output_type": "execute_result"
    }
   ],
   "source": [
    "y_pred = svc.predict(x_test)\n",
    "y_pred"
   ]
  },
  {
   "cell_type": "code",
   "execution_count": 38,
   "id": "a009ecd3",
   "metadata": {},
   "outputs": [
    {
     "name": "stdout",
     "output_type": "stream",
     "text": [
      "SVM accuracy is 0.82\n"
     ]
    }
   ],
   "source": [
    "from sklearn.metrics import accuracy_score\n",
    "\n",
    "print(\"SVM accuracy is %2.2f\" % accuracy_score( \n",
    "     y_test, svc.predict(x_test)))"
   ]
  },
  {
   "cell_type": "markdown",
   "id": "cff3f1d3",
   "metadata": {},
   "source": [
    "# Model Evaluation"
   ]
  },
  {
   "cell_type": "markdown",
   "id": "13fe836d",
   "metadata": {},
   "source": [
    "### On test data"
   ]
  },
  {
   "cell_type": "code",
   "execution_count": 39,
   "id": "ca484c75",
   "metadata": {},
   "outputs": [
    {
     "name": "stdout",
     "output_type": "stream",
     "text": [
      "Accuracy: 81.52%\n"
     ]
    }
   ],
   "source": [
    "from sklearn import metrics\n",
    "\n",
    "# Predict the labels for the test set\n",
    "y_pred = svc.predict(x_test)\n",
    "\n",
    "# Calculate accuracy\n",
    "accuracy = accuracy_score(y_test, y_pred) * 100\n",
    "\n",
    "# Print accuracy\n",
    "print('Accuracy: {:.2f}%'.format(accuracy))"
   ]
  },
  {
   "cell_type": "code",
   "execution_count": 40,
   "id": "98ef845f",
   "metadata": {},
   "outputs": [
    {
     "name": "stdout",
     "output_type": "stream",
     "text": [
      "Balanced Accuracy Score: 81.42%\n"
     ]
    }
   ],
   "source": [
    "from sklearn.metrics import balanced_accuracy_score\n",
    "\n",
    "# Assuming y_true and y_pred are your true and predicted labels, respectively\n",
    "balanced_accuracy = balanced_accuracy_score(y_test, y_pred)* 100\n",
    "\n",
    "print('Balanced Accuracy Score: {:.2f}%'.format(balanced_accuracy))"
   ]
  },
  {
   "cell_type": "code",
   "execution_count": 77,
   "id": "2ef95249",
   "metadata": {},
   "outputs": [
    {
     "data": {
      "text/plain": [
       "0.7040673211781207"
      ]
     },
     "execution_count": 77,
     "metadata": {},
     "output_type": "execute_result"
    }
   ],
   "source": [
    "from sklearn.metrics import jaccard_score\n",
    "jaccard_score(y_test, y_pred)"
   ]
  },
  {
   "cell_type": "markdown",
   "id": "7b19899f",
   "metadata": {},
   "source": [
    "### On out-of-sample data"
   ]
  },
  {
   "cell_type": "code",
   "execution_count": 42,
   "id": "fa187b91",
   "metadata": {
    "scrolled": true
   },
   "outputs": [
    {
     "name": "stdout",
     "output_type": "stream",
     "text": [
      "Accuracy: 79.17%\n"
     ]
    }
   ],
   "source": [
    "# Predict the labels for the out-of-sample set\n",
    "y_pred_out_sample = svc.predict(x_out_sample)\n",
    "\n",
    "# Calculate accuracy\n",
    "accuracy_out_sample = accuracy_score(y_out_sample, y_pred_out_sample) * 100\n",
    "\n",
    "# Print accuracy\n",
    "print('Accuracy: {:.2f}%'.format(accuracy_out_sample))\n"
   ]
  },
  {
   "cell_type": "code",
   "execution_count": 43,
   "id": "e146c499",
   "metadata": {},
   "outputs": [
    {
     "name": "stdout",
     "output_type": "stream",
     "text": [
      "Balanced Accuracy Score: 79.18%\n"
     ]
    }
   ],
   "source": [
    "balanced_accuracy = balanced_accuracy_score(y_out_sample, y_pred_out_sample)*100\n",
    "\n",
    "print('Balanced Accuracy Score: {:.2f}%'.format(balanced_accuracy))"
   ]
  },
  {
   "cell_type": "code",
   "execution_count": 78,
   "id": "5bfd6012",
   "metadata": {},
   "outputs": [
    {
     "data": {
      "text/plain": [
       "0.669750231267345"
      ]
     },
     "execution_count": 78,
     "metadata": {},
     "output_type": "execute_result"
    }
   ],
   "source": [
    "from sklearn.metrics import jaccard_score\n",
    "jaccard_score(y_out_sample, y_pred_out_sample)"
   ]
  },
  {
   "cell_type": "markdown",
   "id": "e4900210",
   "metadata": {},
   "source": [
    "# Confusion Matrix"
   ]
  },
  {
   "cell_type": "code",
   "execution_count": 45,
   "id": "55a23d9b",
   "metadata": {},
   "outputs": [
    {
     "data": {
      "image/png": "[encoded data removed]",
      "text/plain": [
       "<Figure size 640x480 with 2 Axes>"
      ]
     },
     "metadata": {},
     "output_type": "display_data"
    }
   ],
   "source": [
    "from sklearn.metrics import ConfusionMatrixDisplay, confusion_matrix\n",
    "\n",
    "# Create the confusion matrix\n",
    "# Compute confusion matrices\n",
    "cm_test = confusion_matrix(y_test, y_pred)\n",
    "cm_out_sample = confusion_matrix(y_out_sample, y_pred_out_sample)\n",
    "\n",
    "# Combine the confusion matrices\n",
    "cm = cm_test + cm_out_sample\n",
    "\n",
    "ConfusionMatrixDisplay(confusion_matrix=cm).plot();"
   ]
  },
  {
   "cell_type": "code",
   "execution_count": 46,
   "id": "ed1151bd",
   "metadata": {},
   "outputs": [
    {
     "name": "stdout",
     "output_type": "stream",
     "text": [
      "      CreditCard  Personal.Loan_1  Online_1  Education_2  Education_3  \\\n",
      "0            0.0              0.0       0.0          0.0          0.0   \n",
      "1            0.0              0.0       0.0          0.0          0.0   \n",
      "2            0.0              0.0       0.0          1.0          0.0   \n",
      "3            0.0              0.0       1.0          1.0          0.0   \n",
      "4            0.0              0.0       1.0          1.0          0.0   \n",
      "...          ...              ...       ...          ...          ...   \n",
      "2851         0.0              0.0       1.0          0.0          0.0   \n",
      "2852         0.0              0.0       1.0          0.0          0.0   \n",
      "2853         0.0              0.0       1.0          0.0          0.0   \n",
      "2854         0.0              0.0       0.0          0.0          1.0   \n",
      "2855         0.0              0.0       0.0          0.0          1.0   \n",
      "\n",
      "      CD.Account_1  Securities.Account_1  Family_2  Family_3  Family_4  ...  \\\n",
      "0              0.0                   1.0       0.0       1.0       0.0  ...   \n",
      "1              0.0                   0.0       0.0       0.0       0.0  ...   \n",
      "2              0.0                   0.0       0.0       0.0       0.0  ...   \n",
      "3              0.0                   0.0       0.0       0.0       1.0  ...   \n",
      "4              0.0                   0.0       1.0       0.0       0.0  ...   \n",
      "...            ...                   ...       ...       ...       ...  ...   \n",
      "2851           0.0                   0.0       1.0       0.0       0.0  ...   \n",
      "2852           0.0                   1.0       0.0       1.0       0.0  ...   \n",
      "2853           0.0                   1.0       1.0       0.0       0.0  ...   \n",
      "2854           0.0                   0.0       0.0       1.0       0.0  ...   \n",
      "2855           0.0                   0.0       0.0       0.0       0.0  ...   \n",
      "\n",
      "      ZIP.Code_93802_94119  ZIP.Code_94119_94435  ZIP.Code_94435_94752  \\\n",
      "0                      0.0                   0.0                   0.0   \n",
      "1                      0.0                   0.0                   1.0   \n",
      "2                      1.0                   0.0                   0.0   \n",
      "3                      0.0                   0.0                   0.0   \n",
      "4                      0.0                   0.0                   0.0   \n",
      "...                    ...                   ...                   ...   \n",
      "2851                   1.0                   0.0                   0.0   \n",
      "2852                   0.0                   0.0                   0.0   \n",
      "2853                   0.0                   0.0                   1.0   \n",
      "2854                   0.0                   0.0                   0.0   \n",
      "2855                   0.0                   1.0                   0.0   \n",
      "\n",
      "      ZIP.Code_94752_95068  ZIP.Code_95068_95385  ZIP.Code_95385_95701  \\\n",
      "0                      0.0                   0.0                   0.0   \n",
      "1                      0.0                   0.0                   0.0   \n",
      "2                      0.0                   0.0                   0.0   \n",
      "3                      0.0                   0.0                   0.0   \n",
      "4                      0.0                   0.0                   0.0   \n",
      "...                    ...                   ...                   ...   \n",
      "2851                   0.0                   0.0                   0.0   \n",
      "2852                   1.0                   0.0                   0.0   \n",
      "2853                   0.0                   0.0                   0.0   \n",
      "2854                   0.0                   0.0                   0.0   \n",
      "2855                   0.0                   0.0                   0.0   \n",
      "\n",
      "      ZIP.Code_95701_96018  ZIP.Code_96018_96334  ZIP.Code_96334_96651  \\\n",
      "0                      0.0                   0.0                   0.0   \n",
      "1                      0.0                   0.0                   0.0   \n",
      "2                      0.0                   0.0                   0.0   \n",
      "3                      0.0                   0.0                   0.0   \n",
      "4                      0.0                   0.0                   0.0   \n",
      "...                    ...                   ...                   ...   \n",
      "2851                   0.0                   0.0                   0.0   \n",
      "2852                   0.0                   0.0                   0.0   \n",
      "2853                   0.0                   0.0                   0.0   \n",
      "2854                   0.0                   0.0                   0.0   \n",
      "2855                   0.0                   0.0                   0.0   \n",
      "\n",
      "      correct  \n",
      "0        True  \n",
      "1        True  \n",
      "2        True  \n",
      "3        True  \n",
      "4        True  \n",
      "...       ...  \n",
      "2851    False  \n",
      "2852    False  \n",
      "2853    False  \n",
      "2854    False  \n",
      "2855    False  \n",
      "\n",
      "[2856 rows x 168 columns]\n"
     ]
    }
   ],
   "source": [
    "# Extract indices of false positives and false negatives from the confusion matrix\n",
    "false_positive_indices = [(i, j) for i in range(cm.shape[0]) for j in range(cm.shape[1]) if i != j and j == 1]  # False positive indices\n",
    "false_negative_indices = [(i, j) for i in range(cm.shape[0]) for j in range(cm.shape[1]) if i != j and j == 0]  # False negative indices\n",
    "\n",
    "# Create new DataFrame to store instances with correct and incorrect predictions\n",
    "correct_rows = []\n",
    "incorrect_rows = []\n",
    "\n",
    "for index, (true_label, pred_label, out_true_label, out_pred_label) in enumerate(zip(y_test, y_pred, y_out_sample, y_pred_out_sample)):\n",
    "    # Check for false positives or false negatives in the first set of predictions\n",
    "    if (true_label, pred_label) in false_positive_indices or (true_label, pred_label) in false_negative_indices:\n",
    "        row_data = dataset.iloc[index].tolist()\n",
    "        incorrect_rows.append(row_data + [False])\n",
    "    else:\n",
    "        row_data = dataset.iloc[index].tolist()\n",
    "        correct_rows.append(row_data + [True])\n",
    "\n",
    "# Process remaining instances in the second set of predictions\n",
    "for index, (out_true_label, out_pred_label) in enumerate(zip(y_out_sample, y_pred_out_sample)):\n",
    "    # Check for false positives or false negatives in the second set of predictions\n",
    "    if (out_true_label, out_pred_label) in false_positive_indices or (out_true_label, out_pred_label) in false_negative_indices:\n",
    "        row_data = dataset.iloc[len(y_test) + index].tolist()  # Adjust index to start from where the first loop left off\n",
    "        incorrect_rows.append(row_data + [False])\n",
    "    else:\n",
    "        row_data = dataset.iloc[len(y_test) + index].tolist()  # Adjust index to start from where the first loop left off\n",
    "        correct_rows.append(row_data + [True])\n",
    "\n",
    "# Create DataFrames from the collected rows\n",
    "correct_df = pd.DataFrame(correct_rows, columns=dataset.columns.tolist() + ['correct'])\n",
    "incorrect_df = pd.DataFrame(incorrect_rows, columns=dataset.columns.tolist() + ['correct'])\n",
    "\n",
    "# Combine correct_df and incorrect_df into a single DataFrame\n",
    "result_dataset = pd.concat([correct_df, incorrect_df], ignore_index=True)\n",
    "\n",
    "# Print the resulting dataset\n",
    "print(result_dataset)"
   ]
  },
  {
   "cell_type": "code",
   "execution_count": 47,
   "id": "58ab1021",
   "metadata": {},
   "outputs": [
    {
     "name": "stdout",
     "output_type": "stream",
     "text": [
      "2288\n"
     ]
    }
   ],
   "source": [
    "# Count the number of correct predictions\n",
    "correct_count = result_dataset[result_dataset['correct'] == True].shape[0]\n",
    "print (correct_count)"
   ]
  },
  {
   "cell_type": "markdown",
   "id": "94d171b3",
   "metadata": {},
   "source": [
    "### Fairness Test"
   ]
  },
  {
   "cell_type": "markdown",
   "id": "73fa81ea",
   "metadata": {},
   "source": [
    "use this when theres multiple columns youre looking over (ex. age_10_15...age 40_50.. etc)"
   ]
  },
  {
   "cell_type": "code",
   "execution_count": 48,
   "id": "fc3fc05c",
   "metadata": {},
   "outputs": [
    {
     "name": "stdout",
     "output_type": "stream",
     "text": [
      "Error rate for rows where Age_22_25 = 1 in result_dataset: 0.17460317460317465\n",
      "Error rate for rows where Age_25_27 = 1 in result_dataset: 0.17582417582417587\n",
      "Error rate for rows where Age_27_30 = 1 in result_dataset: 0.19499999999999995\n",
      "Error rate for rows where Age_30_32 = 1 in result_dataset: 0.16666666666666663\n",
      "Error rate for rows where Age_32_35 = 1 in result_dataset: 0.19650655021834063\n",
      "Error rate for rows where Age_35_37 = 1 in result_dataset: 0.24528301886792447\n",
      "Error rate for rows where Age_37_40 = 1 in result_dataset: 0.24472573839662448\n",
      "Error rate for rows where Age_40_42 = 1 in result_dataset: 0.2407407407407407\n",
      "Error rate for rows where Age_42_45 = 1 in result_dataset: 0.14932126696832582\n",
      "Error rate for rows where Age_45_47 = 1 in result_dataset: 0.19841269841269837\n",
      "Error rate for rows where Age_47_49 = 1 in result_dataset: 0.24444444444444446\n",
      "Error rate for rows where Age_49_52 = 1 in result_dataset: 0.19313304721030045\n",
      "Error rate for rows where Age_52_54 = 1 in result_dataset: 0.16891891891891897\n",
      "Error rate for rows where Age_54_57 = 1 in result_dataset: 0.23684210526315785\n",
      "Error rate for rows where Age_57_59 = 1 in result_dataset: 0.19594594594594594\n",
      "Error rate for rows where Age_59_62 = 1 in result_dataset: 0.15546218487394958\n",
      "Error rate for rows where Age_62_64 = 1 in result_dataset: 0.18811881188118806\n",
      "Error rate for rows where Age_64_67 = 1 in result_dataset: 0.2068965517241379\n"
     ]
    }
   ],
   "source": [
    "# Initialize dictionary to store error rates\n",
    "error_rates = {}\n",
    "\n",
    "# Iterate over columns in the dataset\n",
    "for column in result_dataset.columns:\n",
    "    # Check if the column name starts with \"salary\"\n",
    "    if column.startswith('Age'):\n",
    "        # Filter rows where the current salary column equals 1\n",
    "        salary_rows = result_dataset[result_dataset[column] == 1]\n",
    "        # Calculate error rate for the current salary column\n",
    "        error_rate = 1 - salary_rows['correct'].mean()\n",
    "        # Store error rate in the dictionary\n",
    "        error_rates[column] = error_rate\n",
    "\n",
    "# Print error rates for each salary column\n",
    "for column, error_rate in error_rates.items():\n",
    "    print(f\"Error rate for rows where {column} = 1 in result_dataset:\", error_rate)\n"
   ]
  },
  {
   "cell_type": "markdown",
   "id": "6663d431",
   "metadata": {},
   "source": [
    "use when looking over one column (ex. Sex_Male)"
   ]
  },
  {
   "cell_type": "code",
   "execution_count": null,
   "id": "ee5e79bc",
   "metadata": {},
   "outputs": [],
   "source": [
    "# Initialize dictionaries to store error rates\n",
    "error_rates_1 = {}\n",
    "error_rates_0 = {}\n",
    "\n",
    "# Iterate over columns in the dataset\n",
    "for column in result_dataset.columns:\n",
    "    # Check if the column name starts with \"Sex\"\n",
    "    if column.startswith('Sex'):\n",
    "        # Filter rows where the current column equals 1\n",
    "        rows_1 = result_dataset[result_dataset[column] == 1]\n",
    "        # Calculate error rate for the current column when equal to 1\n",
    "        error_rate_1 = 1 - rows_1['correct'].mean()\n",
    "        # Store error rate in the dictionary\n",
    "        error_rates_1[column] = error_rate_1\n",
    "\n",
    "        # Filter rows where the current column equals 0\n",
    "        rows_0 = result_dataset[result_dataset[column] == 0]\n",
    "        # Calculate error rate for the current column when equal to 0\n",
    "        error_rate_0 = 1 - rows_0['correct'].mean()\n",
    "        # Store error rate in the dictionary\n",
    "        error_rates_0[column] = error_rate_0\n",
    "\n",
    "# Print error rates for each column where equal to 1\n",
    "print(\"Error rates for rows where the column equals 1 in result_dataset:\")\n",
    "for column, error_rate in error_rates_1.items():\n",
    "    print(f\"Error rate for {column}: {error_rate}\")\n",
    "\n",
    "# Print error rates for each column where equal to 0\n",
    "print(\"\\nError rates for rows where the column equals 0 in result_dataset:\")\n",
    "for column, error_rate in error_rates_0.items():\n",
    "    print(f\"Error rate for {column}: {error_rate}\")\n"
   ]
  },
  {
   "cell_type": "markdown",
   "id": "70b08134",
   "metadata": {},
   "source": [
    "# ROC Curve"
   ]
  },
  {
   "cell_type": "markdown",
   "id": "6859fb59",
   "metadata": {},
   "source": [
    "for binary classification"
   ]
  },
  {
   "cell_type": "code",
   "execution_count": 49,
   "id": "3716ee59",
   "metadata": {},
   "outputs": [
    {
     "data": {
      "image/png": "[encoded data removed]",
      "text/plain": [
       "<Figure size 640x480 with 1 Axes>"
      ]
     },
     "metadata": {},
     "output_type": "display_data"
    }
   ],
   "source": [
    "from sklearn.metrics import roc_curve, auc\n",
    "\n",
    "#Predict probabilities on the test set\n",
    "y_pred_decision = svc.decision_function(x_test)\n",
    "\n",
    "# Calculate the false positive rate (FPR), true positive rate (TPR), and thresholds\n",
    "fpr, tpr, thresholds = roc_curve(y_test, y_pred_decision)\n",
    "\n",
    "# Calculate the area under the ROC curve (AUC)\n",
    "roc_auc = auc(fpr, tpr)\n",
    "\n",
    "# Plot the ROC curve\n",
    "plt.figure()\n",
    "plt.plot(fpr, tpr, label='SVM (area = %0.2f)' % roc_auc)\n",
    "plt.plot([0, 1], [0, 1],'r--')\n",
    "plt.xlim([0.0, 1.0])\n",
    "plt.ylim([0.0, 1.05])\n",
    "plt.xlabel('False Positive Rate')\n",
    "plt.ylabel('True Positive Rate')\n",
    "plt.title('ROC Curve')\n",
    "plt.legend(loc=\"lower right\")\n",
    "plt.savefig('Log_ROC')\n",
    "plt.show()"
   ]
  },
  {
   "cell_type": "markdown",
   "id": "e512fe44",
   "metadata": {},
   "source": [
    "# Outlier Model"
   ]
  },
  {
   "cell_type": "markdown",
   "id": "21730424",
   "metadata": {},
   "source": [
    "### Up-Sampling"
   ]
  },
  {
   "cell_type": "code",
   "execution_count": 51,
   "id": "6ae5d34d",
   "metadata": {},
   "outputs": [
    {
     "name": "stdout",
     "output_type": "stream",
     "text": [
      "Target Value Counts (Sorted):\n",
      "0    129\n",
      "1    111\n",
      "Name: CreditCard, dtype: int64\n"
     ]
    },
    {
     "data": {
      "image/png": "[encoded data removed]",
      "text/plain": [
       "<Figure size 1000x600 with 1 Axes>"
      ]
     },
     "metadata": {},
     "output_type": "display_data"
    }
   ],
   "source": [
    "target_counts_sorted = outliers_dataset[target].value_counts().sort_index()\n",
    "\n",
    "# Display the counts\n",
    "print(\"Target Value Counts (Sorted):\")\n",
    "print(target_counts_sorted)\n",
    "\n",
    "plt.figure(figsize=(10, 6))\n",
    "plt.hist(outliers_dataset[target], bins='auto', color='skyblue', edgecolor='black')\n",
    "plt.xlabel(target)\n",
    "plt.ylabel('Frequency')\n",
    "plt.title('Histogram of Target')\n",
    "plt.grid(True)\n",
    "plt.show()"
   ]
  },
  {
   "cell_type": "code",
   "execution_count": 52,
   "id": "9e705f2d",
   "metadata": {},
   "outputs": [
    {
     "name": "stdout",
     "output_type": "stream",
     "text": [
      "0    129\n",
      "1    129\n",
      "Name: CreditCard, dtype: int64\n"
     ]
    }
   ],
   "source": [
    "df_majority = outliers_dataset[outliers_dataset[target] == 0]\n",
    "\n",
    "\n",
    "df_minority = outliers_dataset[outliers_dataset[target] == 1]\n",
    "\n",
    "# Upsample minority class\n",
    "df_minority_upsampled = resample(df_minority, \n",
    "                                 replace=True,     \n",
    "                                 n_samples=len(df_majority),\n",
    "                                 random_state=42)  # Add random_state for reproducibility\n",
    "\n",
    "# Combine minority class with majority class\n",
    "outliers_dataset = pd.concat([df_majority, df_minority_upsampled])\n",
    "\n",
    "# Check the value counts of the prediction column in the downsampled dataset\n",
    "print(outliers_dataset[target].value_counts())\n"
   ]
  },
  {
   "cell_type": "code",
   "execution_count": 53,
   "id": "bd92eabe",
   "metadata": {},
   "outputs": [],
   "source": [
    "# Define the target variable 'y'\n",
    "oy = outliers_dataset[target]\n",
    "\n",
    "# Select all other columns as features 'x'\n",
    "ox = outliers_dataset.drop(columns=[target])"
   ]
  },
  {
   "cell_type": "markdown",
   "id": "b77c7280",
   "metadata": {},
   "source": [
    "### PCA"
   ]
  },
  {
   "cell_type": "code",
   "execution_count": 56,
   "id": "c9bbc869",
   "metadata": {},
   "outputs": [
    {
     "data": {
      "image/png": "[encoded data removed]",
      "text/plain": [
       "<Figure size 640x480 with 1 Axes>"
      ]
     },
     "metadata": {},
     "output_type": "display_data"
    }
   ],
   "source": [
    "from sklearn.model_selection import RepeatedKFold, cross_val_score\n",
    "from sklearn.decomposition import PCA\n",
    "from sklearn.svm import SVC\n",
    "import matplotlib.pyplot as plt\n",
    "\n",
    "# Perform PCA\n",
    "pca = PCA()\n",
    "ox_reduced = pca.fit_transform(ox)\n",
    "\n",
    "# Define cross-validation method\n",
    "cv = RepeatedKFold(n_splits=10, n_repeats=3, random_state=1)\n",
    "\n",
    "svc = SVC()\n",
    "\n",
    "# Calculate accuracy with only the intercept\n",
    "accuracy = []\n",
    "score = cross_val_score(svc, np.ones((len(ox_reduced), 1)), oy, cv=cv, scoring='accuracy').mean()\n",
    "accuracy.append(score)\n",
    "\n",
    "# Calculate accuracy using cross-validation, adding one component at a time\n",
    "for i in range(1, 6):\n",
    "    score = cross_val_score(svc, ox_reduced[:, :i], oy, cv=cv, scoring='accuracy').mean()\n",
    "    accuracy.append(score)\n",
    "\n",
    "# Plot cross-validation results\n",
    "plt.plot(accuracy)\n",
    "plt.xlabel('Number of Principal Components')\n",
    "plt.ylabel('Accuracy')\n",
    "plt.title('Accuracy vs. Number of Principal Components')\n",
    "plt.show()\n"
   ]
  },
  {
   "cell_type": "code",
   "execution_count": 57,
   "id": "e8f68a92",
   "metadata": {},
   "outputs": [
    {
     "data": {
      "text/plain": [
       "array([ 9.05, 15.71, 22.02, 27.53, 31.8 , 35.55, 39.  , 42.29, 45.37,\n",
       "       48.26, 50.63, 52.88, 54.97, 56.87, 58.76, 60.57, 62.3 , 63.91,\n",
       "       65.37, 66.76, 68.11, 69.41, 70.66, 71.88, 73.08, 74.21, 75.32,\n",
       "       76.37, 77.39, 78.39, 79.33, 80.21, 81.06, 81.86, 82.62, 83.36,\n",
       "       84.07, 84.77, 85.45, 86.07, 86.68, 87.25, 87.79, 88.33, 88.85,\n",
       "       89.34, 89.82, 90.29, 90.73, 91.16, 91.55, 91.94, 92.3 , 92.65,\n",
       "       92.99, 93.33, 93.65, 93.96, 94.26, 94.55, 94.83, 95.08, 95.32,\n",
       "       95.55, 95.78, 96.  , 96.21, 96.41, 96.6 , 96.78, 96.95, 97.12,\n",
       "       97.28, 97.43, 97.58, 97.72, 97.86, 97.98, 98.1 , 98.22, 98.33,\n",
       "       98.44, 98.54, 98.64, 98.73, 98.82, 98.9 , 98.98, 99.05, 99.12,\n",
       "       99.19, 99.25, 99.31, 99.36, 99.41, 99.46, 99.51, 99.55, 99.59,\n",
       "       99.63, 99.66, 99.69, 99.72, 99.75, 99.77, 99.79, 99.81, 99.83,\n",
       "       99.85, 99.86, 99.87, 99.88, 99.89, 99.9 , 99.91, 99.92, 99.93,\n",
       "       99.93, 99.93, 99.93, 99.93, 99.93, 99.93, 99.93, 99.93, 99.93,\n",
       "       99.93, 99.93, 99.93, 99.93, 99.93, 99.93, 99.93, 99.93, 99.93,\n",
       "       99.93, 99.93, 99.93, 99.93, 99.93, 99.93, 99.93, 99.93, 99.93,\n",
       "       99.93, 99.93, 99.93, 99.93, 99.93, 99.93, 99.93, 99.93, 99.93,\n",
       "       99.93, 99.93, 99.93, 99.93, 99.93, 99.93, 99.93, 99.93, 99.93,\n",
       "       99.93, 99.93, 99.93, 99.93])"
      ]
     },
     "execution_count": 57,
     "metadata": {},
     "output_type": "execute_result"
    }
   ],
   "source": [
    "#percentage of variance in the response variable explained by adding in each principal component to the model:\n",
    "np.cumsum(np.round(pca.explained_variance_ratio_, decimals=4)*100)"
   ]
  },
  {
   "cell_type": "code",
   "execution_count": 58,
   "id": "780b9e0c",
   "metadata": {},
   "outputs": [],
   "source": [
    "# Choose the desired number of principal components based on the plot\n",
    "num_components = 90 # For example, choose n principal components\n",
    "\n",
    "# Use the selected number of principal components\n",
    "ox_reduced_selected = ox_reduced[:, :num_components]"
   ]
  },
  {
   "cell_type": "markdown",
   "id": "852919b2",
   "metadata": {},
   "source": [
    "## Spliting the Outlier dataset"
   ]
  },
  {
   "cell_type": "code",
   "execution_count": 59,
   "id": "149edb01",
   "metadata": {},
   "outputs": [],
   "source": [
    "from sklearn.model_selection import train_test_split\n",
    "\n",
    "\n",
    "# Split the data into training (50%), testing (30%), and out-of-sample (20%)\n",
    "ox_train, ox_temp, oy_train, oy_temp = train_test_split(ox, oy, test_size=0.4, random_state=100)\n",
    "ox_test, ox_out_sample, oy_test, oy_out_sample = train_test_split(ox_temp, oy_temp, test_size=0.6, random_state=100)"
   ]
  },
  {
   "cell_type": "code",
   "execution_count": 60,
   "id": "52fa2831",
   "metadata": {},
   "outputs": [],
   "source": [
    "missing_values = outliers_dataset.isnull().sum().sum()\n",
    "if missing_values > 0:\n",
    "    print(\"Warning: Dataset still contains missing values after cleaning.\")\n"
   ]
  },
  {
   "cell_type": "markdown",
   "id": "b96251ac",
   "metadata": {},
   "source": [
    "## Fitting the SVM model"
   ]
  },
  {
   "cell_type": "code",
   "execution_count": 61,
   "id": "eb781d20",
   "metadata": {},
   "outputs": [
    {
     "name": "stdout",
     "output_type": "stream",
     "text": [
      "Best Parameters: {'kernel': 'rbf', 'gamma': 'scale', 'C': 10}\n",
      "Train Score: 0.9154858299595142\n",
      "Test Score: 0.975609756097561\n"
     ]
    }
   ],
   "source": [
    "from sklearn.model_selection import RandomizedSearchCV\n",
    "from sklearn.svm import SVC\n",
    "from scipy.stats import randint\n",
    "\n",
    "# Define the parameter distributions\n",
    "param_dist = {\n",
    "    'C': [0.1, 1, 10, 100],  # Penalty parameter C of the error term\n",
    "    'kernel': ['linear', 'poly', 'rbf', 'sigmoid'],  # Kernel type\n",
    "    'gamma': ['scale', 'auto'],  # Kernel coefficient for 'rbf', 'poly' and 'sigmoid'\n",
    "}\n",
    "\n",
    "# Create an SVM classifier\n",
    "svc = SVC()\n",
    "\n",
    "# Use random search to find the best hyperparameters\n",
    "rand_search = RandomizedSearchCV(svc, \n",
    "                                 param_distributions=param_dist, \n",
    "                                 n_iter=10,  # Number of parameter settings that are sampled\n",
    "                                 cv=4)       # Cross-validation folds\n",
    "\n",
    "# Fit the random search object to the data\n",
    "rand_search.fit(ox_train, oy_train)\n",
    "\n",
    "# Print best parameters found\n",
    "print(\"Best Parameters:\", rand_search.best_params_)\n",
    "\n",
    "# Print best mean cross-validated score found\n",
    "print(\"Train Score:\", rand_search.best_score_)\n",
    "\n",
    "# Evaluate the best model on the test set\n",
    "print(\"Test Score:\", rand_search.score(ox_test, oy_test))"
   ]
  },
  {
   "cell_type": "code",
   "execution_count": 62,
   "id": "a3288a16",
   "metadata": {},
   "outputs": [
    {
     "data": {
      "text/html": [
       "<style>#sk-container-id-2 {\n",
       "  /* Definition of color scheme common for light and dark mode */\n",
       "  --sklearn-color-text: black;\n",
       "  --sklearn-color-line: gray;\n",
       "  /* Definition of color scheme for unfitted estimators */\n",
       "  --sklearn-color-unfitted-level-0: #fff5e6;\n",
       "  --sklearn-color-unfitted-level-1: #f6e4d2;\n",
       "  --sklearn-color-unfitted-level-2: #ffe0b3;\n",
       "  --sklearn-color-unfitted-level-3: chocolate;\n",
       "  /* Definition of color scheme for fitted estimators */\n",
       "  --sklearn-color-fitted-level-0: #f0f8ff;\n",
       "  --sklearn-color-fitted-level-1: #d4ebff;\n",
       "  --sklearn-color-fitted-level-2: #b3dbfd;\n",
       "  --sklearn-color-fitted-level-3: cornflowerblue;\n",
       "\n",
       "  /* Specific color for light theme */\n",
       "  --sklearn-color-text-on-default-background: var(--sg-text-color, var(--theme-code-foreground, var(--jp-content-font-color1, black)));\n",
       "  --sklearn-color-background: var(--sg-background-color, var(--theme-background, var(--jp-layout-color0, white)));\n",
       "  --sklearn-color-border-box: var(--sg-text-color, var(--theme-code-foreground, var(--jp-content-font-color1, black)));\n",
       "  --sklearn-color-icon: #696969;\n",
       "\n",
       "  @media (prefers-color-scheme: dark) {\n",
       "    /* Redefinition of color scheme for dark theme */\n",
       "    --sklearn-color-text-on-default-background: var(--sg-text-color, var(--theme-code-foreground, var(--jp-content-font-color1, white)));\n",
       "    --sklearn-color-background: var(--sg-background-color, var(--theme-background, var(--jp-layout-color0, #111)));\n",
       "    --sklearn-color-border-box: var(--sg-text-color, var(--theme-code-foreground, var(--jp-content-font-color1, white)));\n",
       "    --sklearn-color-icon: #878787;\n",
       "  }\n",
       "}\n",
       "\n",
       "#sk-container-id-2 {\n",
       "  color: var(--sklearn-color-text);\n",
       "}\n",
       "\n",
       "#sk-container-id-2 pre {\n",
       "  padding: 0;\n",
       "}\n",
       "\n",
       "#sk-container-id-2 input.sk-hidden--visually {\n",
       "  border: 0;\n",
       "  clip: rect(1px 1px 1px 1px);\n",
       "  clip: rect(1px, 1px, 1px, 1px);\n",
       "  height: 1px;\n",
       "  margin: -1px;\n",
       "  overflow: hidden;\n",
       "  padding: 0;\n",
       "  position: absolute;\n",
       "  width: 1px;\n",
       "}\n",
       "\n",
       "#sk-container-id-2 div.sk-dashed-wrapped {\n",
       "  border: 1px dashed var(--sklearn-color-line);\n",
       "  margin: 0 0.4em 0.5em 0.4em;\n",
       "  box-sizing: border-box;\n",
       "  padding-bottom: 0.4em;\n",
       "  background-color: var(--sklearn-color-background);\n",
       "}\n",
       "\n",
       "#sk-container-id-2 div.sk-container {\n",
       "  /* jupyter's `normalize.less` sets `[hidden] { display: none; }`\n",
       "     but bootstrap.min.css set `[hidden] { display: none !important; }`\n",
       "     so we also need the `!important` here to be able to override the\n",
       "     default hidden behavior on the sphinx rendered scikit-learn.org.\n",
       "     See: https://github.com/scikit-learn/scikit-learn/issues/21755 */\n",
       "  display: inline-block !important;\n",
       "  position: relative;\n",
       "}\n",
       "\n",
       "#sk-container-id-2 div.sk-text-repr-fallback {\n",
       "  display: none;\n",
       "}\n",
       "\n",
       "div.sk-parallel-item,\n",
       "div.sk-serial,\n",
       "div.sk-item {\n",
       "  /* draw centered vertical line to link estimators */\n",
       "  background-image: linear-gradient(var(--sklearn-color-text-on-default-background), var(--sklearn-color-text-on-default-background));\n",
       "  background-size: 2px 100%;\n",
       "  background-repeat: no-repeat;\n",
       "  background-position: center center;\n",
       "}\n",
       "\n",
       "/* Parallel-specific style estimator block */\n",
       "\n",
       "#sk-container-id-2 div.sk-parallel-item::after {\n",
       "  content: \"\";\n",
       "  width: 100%;\n",
       "  border-bottom: 2px solid var(--sklearn-color-text-on-default-background);\n",
       "  flex-grow: 1;\n",
       "}\n",
       "\n",
       "#sk-container-id-2 div.sk-parallel {\n",
       "  display: flex;\n",
       "  align-items: stretch;\n",
       "  justify-content: center;\n",
       "  background-color: var(--sklearn-color-background);\n",
       "  position: relative;\n",
       "}\n",
       "\n",
       "#sk-container-id-2 div.sk-parallel-item {\n",
       "  display: flex;\n",
       "  flex-direction: column;\n",
       "}\n",
       "\n",
       "#sk-container-id-2 div.sk-parallel-item:first-child::after {\n",
       "  align-self: flex-end;\n",
       "  width: 50%;\n",
       "}\n",
       "\n",
       "#sk-container-id-2 div.sk-parallel-item:last-child::after {\n",
       "  align-self: flex-start;\n",
       "  width: 50%;\n",
       "}\n",
       "\n",
       "#sk-container-id-2 div.sk-parallel-item:only-child::after {\n",
       "  width: 0;\n",
       "}\n",
       "\n",
       "/* Serial-specific style estimator block */\n",
       "\n",
       "#sk-container-id-2 div.sk-serial {\n",
       "  display: flex;\n",
       "  flex-direction: column;\n",
       "  align-items: center;\n",
       "  background-color: var(--sklearn-color-background);\n",
       "  padding-right: 1em;\n",
       "  padding-left: 1em;\n",
       "}\n",
       "\n",
       "\n",
       "/* Toggleable style: style used for estimator/Pipeline/ColumnTransformer box that is\n",
       "clickable and can be expanded/collapsed.\n",
       "- Pipeline and ColumnTransformer use this feature and define the default style\n",
       "- Estimators will overwrite some part of the style using the `sk-estimator` class\n",
       "*/\n",
       "\n",
       "/* Pipeline and ColumnTransformer style (default) */\n",
       "\n",
       "#sk-container-id-2 div.sk-toggleable {\n",
       "  /* Default theme specific background. It is overwritten whether we have a\n",
       "  specific estimator or a Pipeline/ColumnTransformer */\n",
       "  background-color: var(--sklearn-color-background);\n",
       "}\n",
       "\n",
       "/* Toggleable label */\n",
       "#sk-container-id-2 label.sk-toggleable__label {\n",
       "  cursor: pointer;\n",
       "  display: block;\n",
       "  width: 100%;\n",
       "  margin-bottom: 0;\n",
       "  padding: 0.5em;\n",
       "  box-sizing: border-box;\n",
       "  text-align: center;\n",
       "}\n",
       "\n",
       "#sk-container-id-2 label.sk-toggleable__label-arrow:before {\n",
       "  /* Arrow on the left of the label */\n",
       "  content: \"▸\";\n",
       "  float: left;\n",
       "  margin-right: 0.25em;\n",
       "  color: var(--sklearn-color-icon);\n",
       "}\n",
       "\n",
       "#sk-container-id-2 label.sk-toggleable__label-arrow:hover:before {\n",
       "  color: var(--sklearn-color-text);\n",
       "}\n",
       "\n",
       "/* Toggleable content - dropdown */\n",
       "\n",
       "#sk-container-id-2 div.sk-toggleable__content {\n",
       "  max-height: 0;\n",
       "  max-width: 0;\n",
       "  overflow: hidden;\n",
       "  text-align: left;\n",
       "  /* unfitted */\n",
       "  background-color: var(--sklearn-color-unfitted-level-0);\n",
       "}\n",
       "\n",
       "#sk-container-id-2 div.sk-toggleable__content.fitted {\n",
       "  /* fitted */\n",
       "  background-color: var(--sklearn-color-fitted-level-0);\n",
       "}\n",
       "\n",
       "#sk-container-id-2 div.sk-toggleable__content pre {\n",
       "  margin: 0.2em;\n",
       "  border-radius: 0.25em;\n",
       "  color: var(--sklearn-color-text);\n",
       "  /* unfitted */\n",
       "  background-color: var(--sklearn-color-unfitted-level-0);\n",
       "}\n",
       "\n",
       "#sk-container-id-2 div.sk-toggleable__content.fitted pre {\n",
       "  /* unfitted */\n",
       "  background-color: var(--sklearn-color-fitted-level-0);\n",
       "}\n",
       "\n",
       "#sk-container-id-2 input.sk-toggleable__control:checked~div.sk-toggleable__content {\n",
       "  /* Expand drop-down */\n",
       "  max-height: 200px;\n",
       "  max-width: 100%;\n",
       "  overflow: auto;\n",
       "}\n",
       "\n",
       "#sk-container-id-2 input.sk-toggleable__control:checked~label.sk-toggleable__label-arrow:before {\n",
       "  content: \"▾\";\n",
       "}\n",
       "\n",
       "/* Pipeline/ColumnTransformer-specific style */\n",
       "\n",
       "#sk-container-id-2 div.sk-label input.sk-toggleable__control:checked~label.sk-toggleable__label {\n",
       "  color: var(--sklearn-color-text);\n",
       "  background-color: var(--sklearn-color-unfitted-level-2);\n",
       "}\n",
       "\n",
       "#sk-container-id-2 div.sk-label.fitted input.sk-toggleable__control:checked~label.sk-toggleable__label {\n",
       "  background-color: var(--sklearn-color-fitted-level-2);\n",
       "}\n",
       "\n",
       "/* Estimator-specific style */\n",
       "\n",
       "/* Colorize estimator box */\n",
       "#sk-container-id-2 div.sk-estimator input.sk-toggleable__control:checked~label.sk-toggleable__label {\n",
       "  /* unfitted */\n",
       "  background-color: var(--sklearn-color-unfitted-level-2);\n",
       "}\n",
       "\n",
       "#sk-container-id-2 div.sk-estimator.fitted input.sk-toggleable__control:checked~label.sk-toggleable__label {\n",
       "  /* fitted */\n",
       "  background-color: var(--sklearn-color-fitted-level-2);\n",
       "}\n",
       "\n",
       "#sk-container-id-2 div.sk-label label.sk-toggleable__label,\n",
       "#sk-container-id-2 div.sk-label label {\n",
       "  /* The background is the default theme color */\n",
       "  color: var(--sklearn-color-text-on-default-background);\n",
       "}\n",
       "\n",
       "/* On hover, darken the color of the background */\n",
       "#sk-container-id-2 div.sk-label:hover label.sk-toggleable__label {\n",
       "  color: var(--sklearn-color-text);\n",
       "  background-color: var(--sklearn-color-unfitted-level-2);\n",
       "}\n",
       "\n",
       "/* Label box, darken color on hover, fitted */\n",
       "#sk-container-id-2 div.sk-label.fitted:hover label.sk-toggleable__label.fitted {\n",
       "  color: var(--sklearn-color-text);\n",
       "  background-color: var(--sklearn-color-fitted-level-2);\n",
       "}\n",
       "\n",
       "/* Estimator label */\n",
       "\n",
       "#sk-container-id-2 div.sk-label label {\n",
       "  font-family: monospace;\n",
       "  font-weight: bold;\n",
       "  display: inline-block;\n",
       "  line-height: 1.2em;\n",
       "}\n",
       "\n",
       "#sk-container-id-2 div.sk-label-container {\n",
       "  text-align: center;\n",
       "}\n",
       "\n",
       "/* Estimator-specific */\n",
       "#sk-container-id-2 div.sk-estimator {\n",
       "  font-family: monospace;\n",
       "  border: 1px dotted var(--sklearn-color-border-box);\n",
       "  border-radius: 0.25em;\n",
       "  box-sizing: border-box;\n",
       "  margin-bottom: 0.5em;\n",
       "  /* unfitted */\n",
       "  background-color: var(--sklearn-color-unfitted-level-0);\n",
       "}\n",
       "\n",
       "#sk-container-id-2 div.sk-estimator.fitted {\n",
       "  /* fitted */\n",
       "  background-color: var(--sklearn-color-fitted-level-0);\n",
       "}\n",
       "\n",
       "/* on hover */\n",
       "#sk-container-id-2 div.sk-estimator:hover {\n",
       "  /* unfitted */\n",
       "  background-color: var(--sklearn-color-unfitted-level-2);\n",
       "}\n",
       "\n",
       "#sk-container-id-2 div.sk-estimator.fitted:hover {\n",
       "  /* fitted */\n",
       "  background-color: var(--sklearn-color-fitted-level-2);\n",
       "}\n",
       "\n",
       "/* Specification for estimator info (e.g. \"i\" and \"?\") */\n",
       "\n",
       "/* Common style for \"i\" and \"?\" */\n",
       "\n",
       ".sk-estimator-doc-link,\n",
       "a:link.sk-estimator-doc-link,\n",
       "a:visited.sk-estimator-doc-link {\n",
       "  float: right;\n",
       "  font-size: smaller;\n",
       "  line-height: 1em;\n",
       "  font-family: monospace;\n",
       "  background-color: var(--sklearn-color-background);\n",
       "  border-radius: 1em;\n",
       "  height: 1em;\n",
       "  width: 1em;\n",
       "  text-decoration: none !important;\n",
       "  margin-left: 1ex;\n",
       "  /* unfitted */\n",
       "  border: var(--sklearn-color-unfitted-level-1) 1pt solid;\n",
       "  color: var(--sklearn-color-unfitted-level-1);\n",
       "}\n",
       "\n",
       ".sk-estimator-doc-link.fitted,\n",
       "a:link.sk-estimator-doc-link.fitted,\n",
       "a:visited.sk-estimator-doc-link.fitted {\n",
       "  /* fitted */\n",
       "  border: var(--sklearn-color-fitted-level-1) 1pt solid;\n",
       "  color: var(--sklearn-color-fitted-level-1);\n",
       "}\n",
       "\n",
       "/* On hover */\n",
       "div.sk-estimator:hover .sk-estimator-doc-link:hover,\n",
       ".sk-estimator-doc-link:hover,\n",
       "div.sk-label-container:hover .sk-estimator-doc-link:hover,\n",
       ".sk-estimator-doc-link:hover {\n",
       "  /* unfitted */\n",
       "  background-color: var(--sklearn-color-unfitted-level-3);\n",
       "  color: var(--sklearn-color-background);\n",
       "  text-decoration: none;\n",
       "}\n",
       "\n",
       "div.sk-estimator.fitted:hover .sk-estimator-doc-link.fitted:hover,\n",
       ".sk-estimator-doc-link.fitted:hover,\n",
       "div.sk-label-container:hover .sk-estimator-doc-link.fitted:hover,\n",
       ".sk-estimator-doc-link.fitted:hover {\n",
       "  /* fitted */\n",
       "  background-color: var(--sklearn-color-fitted-level-3);\n",
       "  color: var(--sklearn-color-background);\n",
       "  text-decoration: none;\n",
       "}\n",
       "\n",
       "/* Span, style for the box shown on hovering the info icon */\n",
       ".sk-estimator-doc-link span {\n",
       "  display: none;\n",
       "  z-index: 9999;\n",
       "  position: relative;\n",
       "  font-weight: normal;\n",
       "  right: .2ex;\n",
       "  padding: .5ex;\n",
       "  margin: .5ex;\n",
       "  width: min-content;\n",
       "  min-width: 20ex;\n",
       "  max-width: 50ex;\n",
       "  color: var(--sklearn-color-text);\n",
       "  box-shadow: 2pt 2pt 4pt #999;\n",
       "  /* unfitted */\n",
       "  background: var(--sklearn-color-unfitted-level-0);\n",
       "  border: .5pt solid var(--sklearn-color-unfitted-level-3);\n",
       "}\n",
       "\n",
       ".sk-estimator-doc-link.fitted span {\n",
       "  /* fitted */\n",
       "  background: var(--sklearn-color-fitted-level-0);\n",
       "  border: var(--sklearn-color-fitted-level-3);\n",
       "}\n",
       "\n",
       ".sk-estimator-doc-link:hover span {\n",
       "  display: block;\n",
       "}\n",
       "\n",
       "/* \"?\"-specific style due to the `<a>` HTML tag */\n",
       "\n",
       "#sk-container-id-2 a.estimator_doc_link {\n",
       "  float: right;\n",
       "  font-size: 1rem;\n",
       "  line-height: 1em;\n",
       "  font-family: monospace;\n",
       "  background-color: var(--sklearn-color-background);\n",
       "  border-radius: 1rem;\n",
       "  height: 1rem;\n",
       "  width: 1rem;\n",
       "  text-decoration: none;\n",
       "  /* unfitted */\n",
       "  color: var(--sklearn-color-unfitted-level-1);\n",
       "  border: var(--sklearn-color-unfitted-level-1) 1pt solid;\n",
       "}\n",
       "\n",
       "#sk-container-id-2 a.estimator_doc_link.fitted {\n",
       "  /* fitted */\n",
       "  border: var(--sklearn-color-fitted-level-1) 1pt solid;\n",
       "  color: var(--sklearn-color-fitted-level-1);\n",
       "}\n",
       "\n",
       "/* On hover */\n",
       "#sk-container-id-2 a.estimator_doc_link:hover {\n",
       "  /* unfitted */\n",
       "  background-color: var(--sklearn-color-unfitted-level-3);\n",
       "  color: var(--sklearn-color-background);\n",
       "  text-decoration: none;\n",
       "}\n",
       "\n",
       "#sk-container-id-2 a.estimator_doc_link.fitted:hover {\n",
       "  /* fitted */\n",
       "  background-color: var(--sklearn-color-fitted-level-3);\n",
       "}\n",
       "</style><div id=\"sk-container-id-2\" class=\"sk-top-container\"><div class=\"sk-text-repr-fallback\"><pre>SVC(C=10, random_state=100)</pre><b>In a Jupyter environment, please rerun this cell to show the HTML representation or trust the notebook. <br />On GitHub, the HTML representation is unable to render, please try loading this page with nbviewer.org.</b></div><div class=\"sk-container\" hidden><div class=\"sk-item\"><div class=\"sk-estimator fitted sk-toggleable\"><input class=\"sk-toggleable__control sk-hidden--visually\" id=\"sk-estimator-id-2\" type=\"checkbox\" checked><label for=\"sk-estimator-id-2\" class=\"sk-toggleable__label fitted sk-toggleable__label-arrow fitted\">&nbsp;&nbsp;SVC<a class=\"sk-estimator-doc-link fitted\" rel=\"noreferrer\" target=\"_blank\" href=\"https://scikit-learn.org/1.4/modules/generated/sklearn.svm.SVC.html\">?<span>Documentation for SVC</span></a><span class=\"sk-estimator-doc-link fitted\">i<span>Fitted</span></span></label><div class=\"sk-toggleable__content fitted\"><pre>SVC(C=10, random_state=100)</pre></div> </div></div></div></div>"
      ],
      "text/plain": [
       "SVC(C=10, random_state=100)"
      ]
     },
     "execution_count": 62,
     "metadata": {},
     "output_type": "execute_result"
    }
   ],
   "source": [
    "# Define the Support Vector Classifier (SVC) with specified hyperparameters\n",
    "svc = SVC(kernel='rbf', C=10, gamma='scale', random_state=100)\n",
    "\n",
    "# Fit the training data to the SVC\n",
    "svc.fit(ox_train, oy_train)"
   ]
  },
  {
   "cell_type": "code",
   "execution_count": 63,
   "id": "2fdcd8e7",
   "metadata": {},
   "outputs": [
    {
     "data": {
      "text/plain": [
       "array([0, 0, 1, 1, 0, 1, 1, 1, 0, 0, 0, 0, 0, 0, 0, 1, 1, 1, 0, 0, 1, 1,\n",
       "       0, 1, 1, 0, 0, 1, 0, 0, 1, 1, 1, 0, 0, 1, 1, 1, 1, 0, 1])"
      ]
     },
     "execution_count": 63,
     "metadata": {},
     "output_type": "execute_result"
    }
   ],
   "source": [
    "oy_pred = svc.predict(ox_test)\n",
    "oy_pred"
   ]
  },
  {
   "cell_type": "code",
   "execution_count": 64,
   "id": "0b883510",
   "metadata": {},
   "outputs": [
    {
     "name": "stdout",
     "output_type": "stream",
     "text": [
      "SVM accuracy is 0.98\n"
     ]
    }
   ],
   "source": [
    "print(\"SVM accuracy is %2.2f\" % accuracy_score( \n",
    "     oy_test, svc.predict(ox_test)))"
   ]
  },
  {
   "cell_type": "markdown",
   "id": "91547c7b",
   "metadata": {},
   "source": [
    "## Model Evaluation"
   ]
  },
  {
   "cell_type": "markdown",
   "id": "045fa929",
   "metadata": {},
   "source": [
    "### On test data"
   ]
  },
  {
   "cell_type": "code",
   "execution_count": 65,
   "id": "eed05d07",
   "metadata": {},
   "outputs": [
    {
     "name": "stdout",
     "output_type": "stream",
     "text": [
      "Accuracy: 97.56%\n"
     ]
    }
   ],
   "source": [
    "from sklearn import metrics\n",
    "# Predict the labels for the test set\n",
    "oy_pred = svc.predict(ox_test)\n",
    "\n",
    "# Calculate accuracy\n",
    "oaccuracy = accuracy_score(oy_test, oy_pred) * 100\n",
    "\n",
    "# Print accuracy\n",
    "print('Accuracy: {:.2f}%'.format(oaccuracy))"
   ]
  },
  {
   "cell_type": "code",
   "execution_count": 66,
   "id": "7b463cbc",
   "metadata": {},
   "outputs": [
    {
     "name": "stdout",
     "output_type": "stream",
     "text": [
      "Balanced Accuracy Score: 97.73%\n"
     ]
    }
   ],
   "source": [
    "from sklearn.metrics import balanced_accuracy_score\n",
    "\n",
    "# Assuming y_true and y_pred are your true and predicted labels, respectively\n",
    "balanced_accuracy = balanced_accuracy_score(oy_test, oy_pred)* 100\n",
    "\n",
    "print('Balanced Accuracy Score: {:.2f}%'.format(balanced_accuracy))"
   ]
  },
  {
   "cell_type": "code",
   "execution_count": 67,
   "id": "09eb34a2",
   "metadata": {},
   "outputs": [
    {
     "data": {
      "text/plain": [
       "0.9545454545454546"
      ]
     },
     "execution_count": 67,
     "metadata": {},
     "output_type": "execute_result"
    }
   ],
   "source": [
    "from sklearn.metrics import jaccard_score\n",
    "jaccard_score(oy_test, oy_pred)"
   ]
  },
  {
   "cell_type": "markdown",
   "id": "b93af1b9",
   "metadata": {},
   "source": [
    "### On out-of-sample data"
   ]
  },
  {
   "cell_type": "code",
   "execution_count": 68,
   "id": "c22d4156",
   "metadata": {},
   "outputs": [
    {
     "name": "stdout",
     "output_type": "stream",
     "text": [
      "Accuracy: 98.41%\n"
     ]
    }
   ],
   "source": [
    "from sklearn.metrics import accuracy_score\n",
    "\n",
    "# Predict the labels for the out-of-sample set\n",
    "oy_pred_out_sample = svc.predict(ox_out_sample)\n",
    "\n",
    "# Calculate accuracy\n",
    "oaccuracy_out_sample = accuracy_score(oy_out_sample, oy_pred_out_sample) * 100\n",
    "\n",
    "# Print accuracy\n",
    "print('Accuracy: {:.2f}%'.format(oaccuracy_out_sample))"
   ]
  },
  {
   "cell_type": "code",
   "execution_count": 69,
   "id": "5a1346e4",
   "metadata": {},
   "outputs": [
    {
     "name": "stdout",
     "output_type": "stream",
     "text": [
      "Balanced Accuracy Score: 98.33%\n"
     ]
    }
   ],
   "source": [
    "from sklearn.metrics import balanced_accuracy_score\n",
    "\n",
    "# Assuming y_true and y_pred are your true and predicted labels, respectively\n",
    "balanced_accuracy = balanced_accuracy_score(oy_out_sample, oy_pred_out_sample)* 100\n",
    "\n",
    "print('Balanced Accuracy Score: {:.2f}%'.format(balanced_accuracy))"
   ]
  },
  {
   "cell_type": "code",
   "execution_count": 70,
   "id": "92fd5629",
   "metadata": {},
   "outputs": [
    {
     "data": {
      "text/plain": [
       "0.9666666666666667"
      ]
     },
     "execution_count": 70,
     "metadata": {},
     "output_type": "execute_result"
    }
   ],
   "source": [
    "from sklearn.metrics import jaccard_score\n",
    "jaccard_score(oy_out_sample, oy_pred_out_sample)"
   ]
  },
  {
   "cell_type": "markdown",
   "id": "e1c9ae63",
   "metadata": {},
   "source": [
    "## Confusion Matrix"
   ]
  },
  {
   "cell_type": "code",
   "execution_count": 71,
   "id": "c8aec8eb",
   "metadata": {},
   "outputs": [
    {
     "data": {
      "text/plain": [
       "<sklearn.metrics._plot.confusion_matrix.ConfusionMatrixDisplay at 0x29362ad10>"
      ]
     },
     "execution_count": 71,
     "metadata": {},
     "output_type": "execute_result"
    },
    {
     "data": {
      "image/png": "[encoded data removed]",
      "text/plain": [
       "<Figure size 640x480 with 2 Axes>"
      ]
     },
     "metadata": {},
     "output_type": "display_data"
    }
   ],
   "source": [
    "# Create the confusion matrix\n",
    "\n",
    "ocm_test = confusion_matrix(oy_test, oy_pred)\n",
    "ocm_out_sample = confusion_matrix(oy_out_sample, oy_pred_out_sample)\n",
    "\n",
    "# Combine the confusion matrices\n",
    "ocm = ocm_test + ocm_out_sample\n",
    "\n",
    "# Plot the confusion matrix\n",
    "ConfusionMatrixDisplay(confusion_matrix=ocm).plot()\n"
   ]
  },
  {
   "cell_type": "code",
   "execution_count": 72,
   "id": "62406cec",
   "metadata": {},
   "outputs": [
    {
     "name": "stdout",
     "output_type": "stream",
     "text": [
      "     CreditCard  Personal.Loan_1  Online_1  Education_2  Education_3  \\\n",
      "0           0.0              0.0       0.0          0.0          0.0   \n",
      "1           0.0              0.0       0.0          0.0          0.0   \n",
      "2           0.0              0.0       1.0          0.0          0.0   \n",
      "3           0.0              0.0       0.0          0.0          0.0   \n",
      "4           0.0              0.0       1.0          0.0          0.0   \n",
      "..          ...              ...       ...          ...          ...   \n",
      "99          0.0              1.0       0.0          0.0          1.0   \n",
      "100         0.0              1.0       1.0          0.0          0.0   \n",
      "101         0.0              1.0       0.0          1.0          0.0   \n",
      "102         0.0              0.0       0.0          0.0          0.0   \n",
      "103         0.0              1.0       1.0          1.0          0.0   \n",
      "\n",
      "     CD.Account_1  Securities.Account_1  Family_2  Family_3  Family_4  ...  \\\n",
      "0             0.0                   0.0       1.0       0.0       0.0  ...   \n",
      "1             0.0                   0.0       0.0       0.0       0.0  ...   \n",
      "2             0.0                   0.0       1.0       0.0       0.0  ...   \n",
      "3             0.0                   0.0       1.0       0.0       0.0  ...   \n",
      "4             0.0                   0.0       1.0       0.0       0.0  ...   \n",
      "..            ...                   ...       ...       ...       ...  ...   \n",
      "99            0.0                   0.0       0.0       0.0       0.0  ...   \n",
      "100           0.0                   0.0       0.0       1.0       0.0  ...   \n",
      "101           1.0                   1.0       0.0       1.0       0.0  ...   \n",
      "102           0.0                   0.0       0.0       0.0       0.0  ...   \n",
      "103           0.0                   0.0       0.0       0.0       0.0  ...   \n",
      "\n",
      "     ZIP.Code_93802_94119  ZIP.Code_94119_94435  ZIP.Code_94435_94752  \\\n",
      "0                     0.0                   0.0                   0.0   \n",
      "1                     0.0                   1.0                   0.0   \n",
      "2                     0.0                   0.0                   0.0   \n",
      "3                     0.0                   0.0                   0.0   \n",
      "4                     0.0                   0.0                   0.0   \n",
      "..                    ...                   ...                   ...   \n",
      "99                    0.0                   0.0                   0.0   \n",
      "100                   0.0                   0.0                   0.0   \n",
      "101                   0.0                   0.0                   0.0   \n",
      "102                   0.0                   0.0                   0.0   \n",
      "103                   1.0                   0.0                   0.0   \n",
      "\n",
      "     ZIP.Code_94752_95068  ZIP.Code_95068_95385  ZIP.Code_95385_95701  \\\n",
      "0                     0.0                   0.0                   0.0   \n",
      "1                     0.0                   0.0                   0.0   \n",
      "2                     0.0                   0.0                   0.0   \n",
      "3                     0.0                   0.0                   0.0   \n",
      "4                     0.0                   0.0                   0.0   \n",
      "..                    ...                   ...                   ...   \n",
      "99                    1.0                   0.0                   0.0   \n",
      "100                   0.0                   0.0                   0.0   \n",
      "101                   1.0                   0.0                   0.0   \n",
      "102                   0.0                   0.0                   0.0   \n",
      "103                   0.0                   0.0                   0.0   \n",
      "\n",
      "     ZIP.Code_95701_96018  ZIP.Code_96018_96334  ZIP.Code_96334_96651  correct  \n",
      "0                     0.0                   0.0                   0.0     True  \n",
      "1                     0.0                   0.0                   0.0     True  \n",
      "2                     0.0                   0.0                   0.0     True  \n",
      "3                     0.0                   0.0                   0.0     True  \n",
      "4                     0.0                   0.0                   0.0     True  \n",
      "..                    ...                   ...                   ...      ...  \n",
      "99                    0.0                   0.0                   0.0     True  \n",
      "100                   0.0                   0.0                   0.0     True  \n",
      "101                   0.0                   0.0                   0.0     True  \n",
      "102                   0.0                   0.0                   0.0    False  \n",
      "103                   0.0                   0.0                   0.0    False  \n",
      "\n",
      "[104 rows x 168 columns]\n"
     ]
    }
   ],
   "source": [
    "false_positive_indices = [(i, j) for i in range(ocm.shape[0]) for j in range(ocm.shape[1]) if i != j and j == 1]  # False positive indices\n",
    "false_negative_indices = [(i, j) for i in range(ocm.shape[0]) for j in range(ocm.shape[1]) if i != j and j == 0]  # False negative indices\n",
    "\n",
    "# Create new DataFrame to store instances with correct and incorrect predictions\n",
    "ocorrect_rows = []\n",
    "oincorrect_rows = []\n",
    "\n",
    "for index, (true_label, pred_label, out_true_label, out_pred_label) in enumerate(zip(oy_test, oy_pred, oy_out_sample, oy_pred_out_sample)):\n",
    "    # Check for false positives or false negatives in the first set of predictions\n",
    "    if (true_label, pred_label) in false_positive_indices or (true_label, pred_label) in false_negative_indices:\n",
    "        row_data = outliers_dataset.iloc[index].tolist()\n",
    "        oincorrect_rows.append(row_data + [False])\n",
    "    else:\n",
    "        row_data = outliers_dataset.iloc[index].tolist()\n",
    "        ocorrect_rows.append(row_data + [True])\n",
    "\n",
    "# Process remaining instances in the second set of predictions\n",
    "for index, (out_true_label, out_pred_label) in enumerate(zip(oy_out_sample, oy_pred_out_sample)):\n",
    "    # Check for false positives or false negatives in the second set of predictions\n",
    "    if (out_true_label, out_pred_label) in false_positive_indices or (out_true_label, out_pred_label) in false_negative_indices:\n",
    "        row_data = outliers_dataset.iloc[len(oy_test) + index].tolist()  # Adjust index to start from where the first loop left off\n",
    "        oincorrect_rows.append(row_data + [False])\n",
    "    else:\n",
    "        row_data = outliers_dataset.iloc[len(oy_test) + index].tolist()  # Adjust index to start from where the first loop left off\n",
    "        ocorrect_rows.append(row_data + [True])\n",
    "\n",
    "# Create DataFrames from the collected rows\n",
    "ocorrect_df = pd.DataFrame(ocorrect_rows, columns=outliers_dataset.columns.tolist() + ['correct'])\n",
    "oincorrect_df = pd.DataFrame(oincorrect_rows, columns=outliers_dataset.columns.tolist() + ['correct'])\n",
    "\n",
    "# Combine correct_df and incorrect_df into a single DataFrame\n",
    "oresult_dataset = pd.concat([ocorrect_df, oincorrect_df], ignore_index=True)\n",
    "\n",
    "# Print the resulting dataset\n",
    "print(oresult_dataset)"
   ]
  },
  {
   "cell_type": "markdown",
   "id": "a29ae76b",
   "metadata": {},
   "source": [
    "## ROC Curve"
   ]
  },
  {
   "cell_type": "code",
   "execution_count": 74,
   "id": "185e22ab",
   "metadata": {},
   "outputs": [
    {
     "data": {
      "image/png": "[encoded data removed]",
      "text/plain": [
       "<Figure size 640x480 with 1 Axes>"
      ]
     },
     "metadata": {},
     "output_type": "display_data"
    }
   ],
   "source": [
    "#Predict probabilities on the test set\n",
    "oy_pred_decision = svc.decision_function(ox_test)\n",
    "\n",
    "# Calculate the false positive rate (FPR), true positive rate (TPR), and thresholds\n",
    "fpr, tpr, thresholds = roc_curve(oy_test, oy_pred_decision)\n",
    "\n",
    "# Calculate the area under the ROC curve (AUC)\n",
    "roc_auc = auc(fpr, tpr)\n",
    "\n",
    "# Plot the ROC curve\n",
    "plt.figure()\n",
    "plt.plot(fpr, tpr, label='SVM (area = %0.2f)' % roc_auc)\n",
    "plt.plot([0, 1], [0, 1],'r--')\n",
    "plt.xlim([0.0, 1.0])\n",
    "plt.ylim([0.0, 1.05])\n",
    "plt.xlabel('False Positive Rate')\n",
    "plt.ylabel('True Positive Rate')\n",
    "plt.title('ROC Curve')\n",
    "plt.legend(loc=\"lower right\")\n",
    "plt.savefig('Log_ROC')\n",
    "plt.show()"
   ]
  },
  {
   "cell_type": "markdown",
   "id": "fc10c0ab",
   "metadata": {},
   "source": [
    "# Combined Model"
   ]
  },
  {
   "cell_type": "code",
   "execution_count": 75,
   "id": "0c30b31b",
   "metadata": {},
   "outputs": [
    {
     "name": "stdout",
     "output_type": "stream",
     "text": [
      "      CreditCard  Personal.Loan_1  Online_1  Education_2  Education_3  \\\n",
      "0            0.0              0.0       0.0          0.0          0.0   \n",
      "1            0.0              0.0       0.0          0.0          0.0   \n",
      "2            0.0              0.0       1.0          0.0          0.0   \n",
      "3            0.0              0.0       0.0          0.0          0.0   \n",
      "4            0.0              0.0       1.0          0.0          0.0   \n",
      "...          ...              ...       ...          ...          ...   \n",
      "2955         0.0              0.0       1.0          0.0          0.0   \n",
      "2956         0.0              0.0       1.0          0.0          0.0   \n",
      "2957         0.0              0.0       1.0          0.0          0.0   \n",
      "2958         0.0              0.0       0.0          0.0          1.0   \n",
      "2959         0.0              0.0       0.0          0.0          1.0   \n",
      "\n",
      "      CD.Account_1  Securities.Account_1  Family_2  Family_3  Family_4  ...  \\\n",
      "0              0.0                   0.0       1.0       0.0       0.0  ...   \n",
      "1              0.0                   0.0       0.0       0.0       0.0  ...   \n",
      "2              0.0                   0.0       1.0       0.0       0.0  ...   \n",
      "3              0.0                   0.0       1.0       0.0       0.0  ...   \n",
      "4              0.0                   0.0       1.0       0.0       0.0  ...   \n",
      "...            ...                   ...       ...       ...       ...  ...   \n",
      "2955           0.0                   0.0       1.0       0.0       0.0  ...   \n",
      "2956           0.0                   1.0       0.0       1.0       0.0  ...   \n",
      "2957           0.0                   1.0       1.0       0.0       0.0  ...   \n",
      "2958           0.0                   0.0       0.0       1.0       0.0  ...   \n",
      "2959           0.0                   0.0       0.0       0.0       0.0  ...   \n",
      "\n",
      "      ZIP.Code_93802_94119  ZIP.Code_94119_94435  ZIP.Code_94435_94752  \\\n",
      "0                      0.0                   0.0                   0.0   \n",
      "1                      0.0                   1.0                   0.0   \n",
      "2                      0.0                   0.0                   0.0   \n",
      "3                      0.0                   0.0                   0.0   \n",
      "4                      0.0                   0.0                   0.0   \n",
      "...                    ...                   ...                   ...   \n",
      "2955                   1.0                   0.0                   0.0   \n",
      "2956                   0.0                   0.0                   0.0   \n",
      "2957                   0.0                   0.0                   1.0   \n",
      "2958                   0.0                   0.0                   0.0   \n",
      "2959                   0.0                   1.0                   0.0   \n",
      "\n",
      "      ZIP.Code_94752_95068  ZIP.Code_95068_95385  ZIP.Code_95385_95701  \\\n",
      "0                      0.0                   0.0                   0.0   \n",
      "1                      0.0                   0.0                   0.0   \n",
      "2                      0.0                   0.0                   0.0   \n",
      "3                      0.0                   0.0                   0.0   \n",
      "4                      0.0                   0.0                   0.0   \n",
      "...                    ...                   ...                   ...   \n",
      "2955                   0.0                   0.0                   0.0   \n",
      "2956                   1.0                   0.0                   0.0   \n",
      "2957                   0.0                   0.0                   0.0   \n",
      "2958                   0.0                   0.0                   0.0   \n",
      "2959                   0.0                   0.0                   0.0   \n",
      "\n",
      "      ZIP.Code_95701_96018  ZIP.Code_96018_96334  ZIP.Code_96334_96651  \\\n",
      "0                      0.0                   0.0                   0.0   \n",
      "1                      0.0                   0.0                   0.0   \n",
      "2                      0.0                   0.0                   0.0   \n",
      "3                      0.0                   0.0                   0.0   \n",
      "4                      0.0                   0.0                   0.0   \n",
      "...                    ...                   ...                   ...   \n",
      "2955                   0.0                   0.0                   0.0   \n",
      "2956                   0.0                   0.0                   0.0   \n",
      "2957                   0.0                   0.0                   0.0   \n",
      "2958                   0.0                   0.0                   0.0   \n",
      "2959                   0.0                   0.0                   0.0   \n",
      "\n",
      "      correct  \n",
      "0        True  \n",
      "1        True  \n",
      "2        True  \n",
      "3        True  \n",
      "4        True  \n",
      "...       ...  \n",
      "2955    False  \n",
      "2956    False  \n",
      "2957    False  \n",
      "2958    False  \n",
      "2959    False  \n",
      "\n",
      "[2960 rows x 168 columns]\n"
     ]
    }
   ],
   "source": [
    "combined_data = pd.concat([oresult_dataset, result_dataset], axis=0)\n",
    "\n",
    "# Reset index after concatenation\n",
    "combined_data.reset_index(drop=True, inplace=True)\n",
    "\n",
    "# Display the combined dataset\n",
    "print(combined_data)"
   ]
  },
  {
   "cell_type": "code",
   "execution_count": 76,
   "id": "2977a75c",
   "metadata": {},
   "outputs": [
    {
     "name": "stdout",
     "output_type": "stream",
     "text": [
      "Accuracy: 80.74324324324324 %\n"
     ]
    }
   ],
   "source": [
    "# Calculate accuracy\n",
    "accuracy = combined_data['correct'].mean() * 100  # Convert to percentage\n",
    "\n",
    "# Display accuracy\n",
    "print(\"Accuracy:\", accuracy, \"%\")"
   ]
  },
  {
   "cell_type": "code",
   "execution_count": null,
   "id": "ffe0ec72",
   "metadata": {},
   "outputs": [],
   "source": []
  }
 ],
 "metadata": {
  "kernelspec": {
   "display_name": "Python 3 (ipykernel)",
   "language": "python",
   "name": "python3"
  },
  "language_info": {
   "codemirror_mode": {
    "name": "ipython",
    "version": 3
   },
   "file_extension": ".py",
   "mimetype": "text/x-python",
   "name": "python",
   "nbconvert_exporter": "python",
   "pygments_lexer": "ipython3",
   "version": "3.11.4"
  }
 },
 "nbformat": 4,
 "nbformat_minor": 5
}
