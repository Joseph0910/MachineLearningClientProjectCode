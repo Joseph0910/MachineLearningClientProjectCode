{
 "cells": [
  {
   "cell_type": "markdown",
   "id": "56049ad6",
   "metadata": {},
   "source": [
    "# Import libraries\n"
   ]
  },
  {
   "cell_type": "code",
   "execution_count": 1,
   "id": "4280cee4",
   "metadata": {},
   "outputs": [],
   "source": [
    "import pandas as pd\n",
    "import numpy as np\n",
    "import matplotlib.pyplot as plt\n",
    "import seaborn as sns\n",
    "from mlxtend.feature_selection import SequentialFeatureSelector\n",
    "from sklearn.impute import SimpleImputer\n",
    "import statsmodels.api as sm\n",
    "from sklearn.preprocessing import StandardScaler\n",
    "from sklearn.decomposition import PCA\n",
    "from sklearn.preprocessing import scale \n",
    "from sklearn import model_selection\n",
    "from sklearn.model_selection import RepeatedKFold\n",
    "from sklearn.model_selection import train_test_split\n",
    "from sklearn.linear_model import LinearRegression\n",
    "from sklearn.metrics import mean_squared_error\n",
    "from sklearn.cluster import KMeans\n",
    "from sklearn.preprocessing import OneHotEncoder\n",
    "from sklearn.utils import resample\n",
    "from scipy.stats import norm"
   ]
  },
  {
   "cell_type": "markdown",
   "id": "b4a904a1",
   "metadata": {},
   "source": [
    "# Data Import"
   ]
  },
  {
   "cell_type": "code",
   "execution_count": 2,
   "id": "6d72df93",
   "metadata": {},
   "outputs": [],
   "source": [
    "dataset = pd.read_csv(\"Desktop/Student_Performance.csv\")"
   ]
  },
  {
   "cell_type": "markdown",
   "id": "aaef4399",
   "metadata": {},
   "source": [
    "##### Optional Drop Column"
   ]
  },
  {
   "cell_type": "code",
   "execution_count": 3,
   "id": "83789464",
   "metadata": {},
   "outputs": [],
   "source": [
    "# Remove the column you want to drop\n",
    "#column_to_drop = \"case\"  # Replace \"column_name\" with the name of the column you want to remove\n",
    "#dataset.drop(columns=[column_to_drop], inplace=True)\n"
   ]
  },
  {
   "cell_type": "markdown",
   "id": "48365d93",
   "metadata": {},
   "source": [
    "# Data Cleaning"
   ]
  },
  {
   "cell_type": "code",
   "execution_count": 4,
   "id": "d4ecb5c6",
   "metadata": {},
   "outputs": [
    {
     "name": "stdout",
     "output_type": "stream",
     "text": [
      "<class 'pandas.core.frame.DataFrame'>\n",
      "RangeIndex: 10000 entries, 0 to 9999\n",
      "Data columns (total 6 columns):\n",
      " #   Column                            Non-Null Count  Dtype  \n",
      "---  ------                            --------------  -----  \n",
      " 0   Hours Studied                     10000 non-null  int64  \n",
      " 1   Previous Scores                   10000 non-null  int64  \n",
      " 2   Extracurricular Activities        10000 non-null  object \n",
      " 3   Sleep Hours                       10000 non-null  int64  \n",
      " 4   Sample Question Papers Practiced  10000 non-null  int64  \n",
      " 5   Performance Index                 10000 non-null  float64\n",
      "dtypes: float64(1), int64(4), object(1)\n",
      "memory usage: 468.9+ KB\n"
     ]
    },
    {
     "data": {
      "text/html": [
       "<div>\n",
       "<style scoped>\n",
       "    .dataframe tbody tr th:only-of-type {\n",
       "        vertical-align: middle;\n",
       "    }\n",
       "\n",
       "    .dataframe tbody tr th {\n",
       "        vertical-align: top;\n",
       "    }\n",
       "\n",
       "    .dataframe thead th {\n",
       "        text-align: right;\n",
       "    }\n",
       "</style>\n",
       "<table border=\"1\" class=\"dataframe\">\n",
       "  <thead>\n",
       "    <tr style=\"text-align: right;\">\n",
       "      <th></th>\n",
       "      <th>count</th>\n",
       "      <th>mean</th>\n",
       "      <th>std</th>\n",
       "      <th>min</th>\n",
       "      <th>25%</th>\n",
       "      <th>50%</th>\n",
       "      <th>75%</th>\n",
       "      <th>max</th>\n",
       "    </tr>\n",
       "  </thead>\n",
       "  <tbody>\n",
       "    <tr>\n",
       "      <th>Hours Studied</th>\n",
       "      <td>10000.0</td>\n",
       "      <td>4.9929</td>\n",
       "      <td>2.589309</td>\n",
       "      <td>1.0</td>\n",
       "      <td>3.0</td>\n",
       "      <td>5.0</td>\n",
       "      <td>7.0</td>\n",
       "      <td>9.0</td>\n",
       "    </tr>\n",
       "    <tr>\n",
       "      <th>Previous Scores</th>\n",
       "      <td>10000.0</td>\n",
       "      <td>69.4457</td>\n",
       "      <td>17.343152</td>\n",
       "      <td>40.0</td>\n",
       "      <td>54.0</td>\n",
       "      <td>69.0</td>\n",
       "      <td>85.0</td>\n",
       "      <td>99.0</td>\n",
       "    </tr>\n",
       "    <tr>\n",
       "      <th>Sleep Hours</th>\n",
       "      <td>10000.0</td>\n",
       "      <td>6.5306</td>\n",
       "      <td>1.695863</td>\n",
       "      <td>4.0</td>\n",
       "      <td>5.0</td>\n",
       "      <td>7.0</td>\n",
       "      <td>8.0</td>\n",
       "      <td>9.0</td>\n",
       "    </tr>\n",
       "    <tr>\n",
       "      <th>Sample Question Papers Practiced</th>\n",
       "      <td>10000.0</td>\n",
       "      <td>4.5833</td>\n",
       "      <td>2.867348</td>\n",
       "      <td>0.0</td>\n",
       "      <td>2.0</td>\n",
       "      <td>5.0</td>\n",
       "      <td>7.0</td>\n",
       "      <td>9.0</td>\n",
       "    </tr>\n",
       "    <tr>\n",
       "      <th>Performance Index</th>\n",
       "      <td>10000.0</td>\n",
       "      <td>55.2248</td>\n",
       "      <td>19.212558</td>\n",
       "      <td>10.0</td>\n",
       "      <td>40.0</td>\n",
       "      <td>55.0</td>\n",
       "      <td>71.0</td>\n",
       "      <td>100.0</td>\n",
       "    </tr>\n",
       "  </tbody>\n",
       "</table>\n",
       "</div>"
      ],
      "text/plain": [
       "                                    count     mean        std   min   25%  \\\n",
       "Hours Studied                     10000.0   4.9929   2.589309   1.0   3.0   \n",
       "Previous Scores                   10000.0  69.4457  17.343152  40.0  54.0   \n",
       "Sleep Hours                       10000.0   6.5306   1.695863   4.0   5.0   \n",
       "Sample Question Papers Practiced  10000.0   4.5833   2.867348   0.0   2.0   \n",
       "Performance Index                 10000.0  55.2248  19.212558  10.0  40.0   \n",
       "\n",
       "                                   50%   75%    max  \n",
       "Hours Studied                      5.0   7.0    9.0  \n",
       "Previous Scores                   69.0  85.0   99.0  \n",
       "Sleep Hours                        7.0   8.0    9.0  \n",
       "Sample Question Papers Practiced   5.0   7.0    9.0  \n",
       "Performance Index                 55.0  71.0  100.0  "
      ]
     },
     "execution_count": 4,
     "metadata": {},
     "output_type": "execute_result"
    }
   ],
   "source": [
    "dataset.info()\n",
    "#Distribution\n",
    "dataset.describe().transpose()"
   ]
  },
  {
   "cell_type": "markdown",
   "id": "b2657975",
   "metadata": {},
   "source": [
    "### Null Values"
   ]
  },
  {
   "cell_type": "code",
   "execution_count": 5,
   "id": "32e2f7bf",
   "metadata": {},
   "outputs": [
    {
     "data": {
      "text/plain": [
       "Hours Studied                       0\n",
       "Previous Scores                     0\n",
       "Extracurricular Activities          0\n",
       "Sleep Hours                         0\n",
       "Sample Question Papers Practiced    0\n",
       "Performance Index                   0\n",
       "dtype: int64"
      ]
     },
     "execution_count": 5,
     "metadata": {},
     "output_type": "execute_result"
    }
   ],
   "source": [
    "dataset.isna().sum()"
   ]
  },
  {
   "cell_type": "code",
   "execution_count": 6,
   "id": "644971f0",
   "metadata": {},
   "outputs": [],
   "source": [
    "# Calculate the threshold for the number of missing values\n",
    "threshold = 0.2 * len(dataset)\n",
    "\n",
    "# Iterate over each column\n",
    "for column in dataset.columns:\n",
    "    # Check if the column has missing values\n",
    "    if dataset[column].isna().sum() > 0:\n",
    "        # If the number of missing values is less than the threshold, drop rows\n",
    "        if dataset[column].isna().sum() < threshold:\n",
    "            dataset = dataset.dropna(subset=[column])\n",
    "        # If the number of missing values is greater than or equal to the threshold, fill with mean\n",
    "        else:\n",
    "            dataset[column].fillna(dataset[column].mean(), inplace=True)"
   ]
  },
  {
   "cell_type": "code",
   "execution_count": 7,
   "id": "a0e2facb",
   "metadata": {},
   "outputs": [],
   "source": [
    "# Check for any remaining missing values\n",
    "missing_values = dataset.isna().sum().sum()\n",
    "if missing_values > 0:\n",
    "    print(\"Warning: Dataset still contains missing values after cleaning.\")"
   ]
  },
  {
   "cell_type": "markdown",
   "id": "005eaedd",
   "metadata": {},
   "source": [
    "## Identify Target Variable"
   ]
  },
  {
   "cell_type": "code",
   "execution_count": 8,
   "id": "ff58de9d",
   "metadata": {},
   "outputs": [],
   "source": [
    "target = 'Performance Index'"
   ]
  },
  {
   "cell_type": "markdown",
   "id": "e496e0d5",
   "metadata": {},
   "source": [
    "# Feature Engineering "
   ]
  },
  {
   "cell_type": "markdown",
   "id": "a7f06fb8",
   "metadata": {},
   "source": [
    "### One Hot Encoder"
   ]
  },
  {
   "cell_type": "code",
   "execution_count": 9,
   "id": "5a74ba55",
   "metadata": {},
   "outputs": [
    {
     "name": "stdout",
     "output_type": "stream",
     "text": [
      "Categorical columns found:\n",
      "Hours Studied\n",
      "Extracurricular Activities\n",
      "Sleep Hours\n",
      "Modified Dataset:\n",
      "   Previous Scores  Sample Question Papers Practiced  Performance Index  \\\n",
      "0               99                                 1               91.0   \n",
      "1               82                                 2               65.0   \n",
      "2               51                                 2               45.0   \n",
      "3               52                                 2               36.0   \n",
      "4               75                                 5               66.0   \n",
      "\n",
      "   Hours Studied_2  Hours Studied_3  Hours Studied_4  Hours Studied_5  \\\n",
      "0              0.0              0.0              0.0              0.0   \n",
      "1              0.0              0.0              1.0              0.0   \n",
      "2              0.0              0.0              0.0              0.0   \n",
      "3              0.0              0.0              0.0              1.0   \n",
      "4              0.0              0.0              0.0              0.0   \n",
      "\n",
      "   Hours Studied_6  Hours Studied_7  Hours Studied_8  Hours Studied_9  \\\n",
      "0              0.0              1.0              0.0              0.0   \n",
      "1              0.0              0.0              0.0              0.0   \n",
      "2              0.0              0.0              1.0              0.0   \n",
      "3              0.0              0.0              0.0              0.0   \n",
      "4              0.0              1.0              0.0              0.0   \n",
      "\n",
      "   Extracurricular Activities_Yes  Sleep Hours_5  Sleep Hours_6  \\\n",
      "0                             1.0            0.0            0.0   \n",
      "1                             0.0            0.0            0.0   \n",
      "2                             1.0            0.0            0.0   \n",
      "3                             1.0            1.0            0.0   \n",
      "4                             0.0            0.0            0.0   \n",
      "\n",
      "   Sleep Hours_7  Sleep Hours_8  Sleep Hours_9  \n",
      "0            0.0            0.0            1.0  \n",
      "1            0.0            0.0            0.0  \n",
      "2            1.0            0.0            0.0  \n",
      "3            0.0            0.0            0.0  \n",
      "4            0.0            1.0            0.0  \n"
     ]
    }
   ],
   "source": [
    "# Check for categorical variables\n",
    "categorical_columns = set()\n",
    "\n",
    "# Add columns with less than 10 unique values\n",
    "for column in dataset.columns:\n",
    "    if dataset[column].nunique() < 10:\n",
    "        categorical_columns.add(column)\n",
    "\n",
    "# Append columns with object data type\n",
    "categorical_columns.update(dataset.select_dtypes(include=['object']).columns.tolist())\n",
    "\n",
    "if len(categorical_columns) > 0:\n",
    "    print(\"Categorical columns found:\")\n",
    "    for column in categorical_columns:\n",
    "        print(column)\n",
    "    \n",
    "    # Fit the encoder to the categorical columns\n",
    "    encoder = OneHotEncoder(drop='first', sparse_output=False)\n",
    "    encoded_columns = encoder.fit_transform(dataset[list(categorical_columns)])\n",
    "\n",
    "    # Get the feature names from the encoder\n",
    "    encoded_feature_names = encoder.get_feature_names_out(input_features=list(categorical_columns))\n",
    "\n",
    "    # Create a DataFrame with the encoded columns and feature names\n",
    "    encoded_df = pd.DataFrame(encoded_columns, columns=encoded_feature_names)\n",
    "\n",
    "    # Drop original categorical columns\n",
    "    dataset.drop(columns=categorical_columns, inplace=True)\n",
    "    \n",
    "    # Concatenate encoded columns with dataset\n",
    "    dataset = pd.concat([dataset, encoded_df], axis=1)\n",
    "    \n",
    "    # Display the modified dataset\n",
    "    print(\"Modified Dataset:\")\n",
    "    print(dataset.head())\n",
    "else:\n",
    "    print(\"No categorical columns found.\")\n"
   ]
  },
  {
   "cell_type": "code",
   "execution_count": 10,
   "id": "53e3c571",
   "metadata": {},
   "outputs": [],
   "source": [
    "# Calculate the threshold for the number of missing values\n",
    "threshold = 0.2 * len(dataset)\n",
    "\n",
    "# Iterate over each column\n",
    "for column in dataset.columns:\n",
    "    # Check if the column has missing values\n",
    "    if dataset[column].isna().sum() > 0:\n",
    "        # If the number of missing values is less than the threshold, drop rows\n",
    "        if dataset[column].isna().sum() < threshold:\n",
    "            dataset = dataset.dropna(subset=[column])\n",
    "        # If the number of missing values is greater than or equal to the threshold, fill with mean\n",
    "        else:\n",
    "            dataset[column].fillna(dataset[column].mean(), inplace=True)"
   ]
  },
  {
   "cell_type": "code",
   "execution_count": 11,
   "id": "98f49e70",
   "metadata": {},
   "outputs": [],
   "source": [
    "# Check for any remaining missing values\n",
    "missing_values = dataset.isna().sum().sum()\n",
    "if missing_values > 0:\n",
    "    print(\"Warning: Dataset still contains missing values after cleaning.\")"
   ]
  },
  {
   "cell_type": "markdown",
   "id": "26b7f17f",
   "metadata": {},
   "source": [
    "### Outlier Detection"
   ]
  },
  {
   "cell_type": "markdown",
   "id": "3f41d064",
   "metadata": {},
   "source": [
    "#### *** Data is scaled at this step***"
   ]
  },
  {
   "cell_type": "code",
   "execution_count": 13,
   "id": "a2421143",
   "metadata": {},
   "outputs": [
    {
     "name": "stdout",
     "output_type": "stream",
     "text": [
      "Indices of outliers: [4154 5567 6197]\n",
      "Details of outliers:\n",
      "      Previous Scores  Sample Question Papers Practiced  Performance Index  \\\n",
      "4154               40                                 0               17.0   \n",
      "5567               98                                 0               72.0   \n",
      "6197               40                                 0               17.0   \n",
      "\n",
      "      Hours Studied_2  Hours Studied_3  Hours Studied_4  Hours Studied_5  \\\n",
      "4154              0.0              1.0              0.0              0.0   \n",
      "5567              0.0              1.0              0.0              0.0   \n",
      "6197              0.0              1.0              0.0              0.0   \n",
      "\n",
      "      Hours Studied_6  Hours Studied_7  Hours Studied_8  Hours Studied_9  \\\n",
      "4154              0.0              0.0              0.0              0.0   \n",
      "5567              0.0              0.0              0.0              0.0   \n",
      "6197              0.0              0.0              0.0              0.0   \n",
      "\n",
      "      Extracurricular Activities_Yes  Sleep Hours_5  Sleep Hours_6  \\\n",
      "4154                             0.0            0.0            0.0   \n",
      "5567                             1.0            0.0            0.0   \n",
      "6197                             0.0            1.0            0.0   \n",
      "\n",
      "      Sleep Hours_7  Sleep Hours_8  Sleep Hours_9  \n",
      "4154            0.0            0.0            0.0  \n",
      "5567            0.0            0.0            0.0  \n",
      "6197            0.0            0.0            0.0  \n"
     ]
    }
   ],
   "source": [
    "from sklearn.cluster import KMeans\n",
    "from sklearn.preprocessing import StandardScaler\n",
    "\n",
    "# Perform KMeans clustering\n",
    "# Separate features (X) and target variable (y) if necessary\n",
    "X = dataset.drop(columns=[target])\n",
    "y = dataset[target]\n",
    "\n",
    "# Scale the features (X)\n",
    "scaler = StandardScaler()\n",
    "scaled_X = scaler.fit_transform(X)\n",
    "\n",
    "kmeans = KMeans()\n",
    "kmeans.fit(scaled_X)\n",
    "\n",
    "# Get cluster centers\n",
    "centers = kmeans.cluster_centers_\n",
    "\n",
    "# Calculate distances of each point to its respective cluster center\n",
    "distances = np.sqrt(np.sum((scaled_X - centers[kmeans.labels_])**2, axis=1))\n",
    "\n",
    "# Calculate mean and standard deviation of distances\n",
    "mean_distance = np.mean(distances)\n",
    "std_distance = np.std(distances)\n",
    "\n",
    "# Desired threshold as 2 standard deviations from the mean\n",
    "desired_threshold = mean_distance + 2 * std_distance\n",
    "\n",
    "# Use the threshold for outlier detection\n",
    "outliers_mask = distances > desired_threshold\n",
    "\n",
    "# Save outliers in a new dataset\n",
    "outliers_dataset = dataset[outliers_mask]\n",
    "\n",
    "# Print indices and details of outliers\n",
    "print(\"Indices of outliers:\", np.where(outliers_mask)[0])\n",
    "print(\"Details of outliers:\")\n",
    "print(outliers_dataset)\n",
    "\n",
    "# Remove outliers from the original dataset\n",
    "dataset = dataset[~outliers_mask]\n"
   ]
  },
  {
   "cell_type": "markdown",
   "id": "c0e873fa",
   "metadata": {},
   "source": [
    "### Binary Variables"
   ]
  },
  {
   "cell_type": "code",
   "execution_count": 14,
   "id": "f9561640",
   "metadata": {},
   "outputs": [
    {
     "name": "stdout",
     "output_type": "stream",
     "text": [
      "Binary Variables:\n",
      "['Hours Studied_2', 'Hours Studied_3', 'Hours Studied_4', 'Hours Studied_5', 'Hours Studied_6', 'Hours Studied_7', 'Hours Studied_8', 'Hours Studied_9', 'Extracurricular Activities_Yes', 'Sleep Hours_5', 'Sleep Hours_6', 'Sleep Hours_7', 'Sleep Hours_8', 'Sleep Hours_9']\n"
     ]
    }
   ],
   "source": [
    "binary_variables = []\n",
    "\n",
    "# Iterate through each column\n",
    "for column in dataset.columns:\n",
    "    # Check if the number of unique values is 2 and values are 0 and 1, or if the value is just 0\n",
    "    if (dataset[column].nunique() == 2 and set(dataset[column]) == {0, 1}) or (dataset[column].nunique() == 1 and set(dataset[column]) == {0}):\n",
    "        binary_variables.append(column)\n",
    "\n",
    "# Print binary variables\n",
    "print(\"Binary Variables:\")\n",
    "print(binary_variables)"
   ]
  },
  {
   "cell_type": "markdown",
   "id": "c718e3ff",
   "metadata": {},
   "source": [
    "## Numerical to Binary Variables"
   ]
  },
  {
   "cell_type": "code",
   "execution_count": 15,
   "id": "c909b4e8",
   "metadata": {},
   "outputs": [
    {
     "data": {
      "image/png": "[encoded data removed]",
      "text/plain": [
       "<Figure size 1200x800 with 2 Axes>"
      ]
     },
     "metadata": {},
     "output_type": "display_data"
    }
   ],
   "source": [
    "# Get numerical variables\n",
    "numerical_variables = dataset.select_dtypes(include=['int64', 'float64']).columns\n",
    "numerical_variables = numerical_variables.drop(target)\n",
    "numerical_variables = numerical_variables.difference(binary_variables).difference(categorical_columns)\n",
    "\n",
    "# Calculate number of bins for each numerical variable\n",
    "num_bins_dict = {}\n",
    "for column in numerical_variables:\n",
    "    # Calculate the number of bins using Freedman-Diaconis rule\n",
    "    q75, q25 = dataset[column].quantile([0.75, 0.25])\n",
    "    iqr = q75 - q25\n",
    "    bin_width = 2 * iqr / (len(dataset[column]) ** (1/3))\n",
    "    \n",
    "    # Check if bin_width is zero\n",
    "    if bin_width == 0:\n",
    "        # Set a default number of bins or handle it appropriately\n",
    "        num_bins = 10  # Default value\n",
    "    else:\n",
    "        num_bins = int((dataset[column].max() - dataset[column].min()) / bin_width)\n",
    "        \n",
    "    # Ensure num_bins is an integer value\n",
    "    num_bins = int(num_bins)\n",
    "    \n",
    "    num_bins_dict[column] = num_bins\n",
    "\n",
    "# Initialize an empty DataFrame to store the binned categorical variables\n",
    "binned_dataset = pd.DataFrame()\n",
    "\n",
    "# Calculate the number of rows and columns for subplots\n",
    "num_variables = len(numerical_variables)\n",
    "num_rows = int(np.ceil(num_variables / 2))\n",
    "num_cols = 2\n",
    "\n",
    "# Initialize figure for histograms\n",
    "plt.figure(figsize=(12, 8))\n",
    "\n",
    "# Iterate through each numerical variable\n",
    "for i, column in enumerate(numerical_variables):\n",
    "    plt.subplot(num_rows, num_cols, i + 1)\n",
    "    \n",
    "    # Plot histogram\n",
    "    plt.hist(dataset[column], bins=num_bins_dict[column], color='skyblue', edgecolor='black')\n",
    "    plt.xlabel(column)\n",
    "    plt.ylabel('Frequency')\n",
    "    plt.title(f'Histogram of {column}')\n",
    "    plt.grid(True)\n",
    "    \n",
    "# Display the histograms\n",
    "plt.tight_layout()\n",
    "plt.show()"
   ]
  },
  {
   "cell_type": "code",
   "execution_count": 16,
   "id": "a7fdeb80",
   "metadata": {},
   "outputs": [
    {
     "name": "stdout",
     "output_type": "stream",
     "text": [
      "Binned Dataset:\n",
      "   Previous Scores_39_42  Previous Scores_42_45  Previous Scores_45_48  \\\n",
      "0                      0                      0                      0   \n",
      "1                      0                      0                      0   \n",
      "2                      0                      0                      0   \n",
      "3                      0                      0                      0   \n",
      "4                      0                      0                      0   \n",
      "\n",
      "   Previous Scores_48_51  Previous Scores_51_54  Previous Scores_54_57  \\\n",
      "0                      0                      0                      0   \n",
      "1                      0                      0                      0   \n",
      "2                      1                      0                      0   \n",
      "3                      0                      1                      0   \n",
      "4                      0                      0                      0   \n",
      "\n",
      "   Previous Scores_57_60  Previous Scores_60_63  Previous Scores_63_66  \\\n",
      "0                      0                      0                      0   \n",
      "1                      0                      0                      0   \n",
      "2                      0                      0                      0   \n",
      "3                      0                      0                      0   \n",
      "4                      0                      0                      0   \n",
      "\n",
      "   Previous Scores_66_69  ...  Sample Question Papers Practiced_4_4  \\\n",
      "0                      0  ...                                     0   \n",
      "1                      0  ...                                     0   \n",
      "2                      0  ...                                     0   \n",
      "3                      0  ...                                     0   \n",
      "4                      0  ...                                     0   \n",
      "\n",
      "   Sample Question Papers Practiced_4_5  Sample Question Papers Practiced_5_5  \\\n",
      "0                                     0                                     0   \n",
      "1                                     0                                     0   \n",
      "2                                     0                                     0   \n",
      "3                                     0                                     0   \n",
      "4                                     1                                     0   \n",
      "\n",
      "   Sample Question Papers Practiced_5_6  Sample Question Papers Practiced_6_6  \\\n",
      "0                                     0                                     0   \n",
      "1                                     0                                     0   \n",
      "2                                     0                                     0   \n",
      "3                                     0                                     0   \n",
      "4                                     0                                     0   \n",
      "\n",
      "   Sample Question Papers Practiced_6_7  Sample Question Papers Practiced_7_7  \\\n",
      "0                                     0                                     0   \n",
      "1                                     0                                     0   \n",
      "2                                     0                                     0   \n",
      "3                                     0                                     0   \n",
      "4                                     0                                     0   \n",
      "\n",
      "   Sample Question Papers Practiced_7_8  Sample Question Papers Practiced_8_8  \\\n",
      "0                                     0                                     0   \n",
      "1                                     0                                     0   \n",
      "2                                     0                                     0   \n",
      "3                                     0                                     0   \n",
      "4                                     0                                     0   \n",
      "\n",
      "   Sample Question Papers Practiced_8_9  \n",
      "0                                     0  \n",
      "1                                     0  \n",
      "2                                     0  \n",
      "3                                     0  \n",
      "4                                     0  \n",
      "\n",
      "[5 rows x 39 columns]\n"
     ]
    }
   ],
   "source": [
    "# Initialize an empty DataFrame to store the binned categorical variables\n",
    "binned_dataset = pd.DataFrame()\n",
    "\n",
    "# Iterate through each numerical variable\n",
    "for column in numerical_variables:\n",
    "    # Calculate the maximum number of bins for this column\n",
    "    max_bins_column = num_bins_dict[column]\n",
    "    \n",
    "    # Bin the data accordingly\n",
    "    bins, bin_edges = pd.cut(dataset[column], bins=max_bins_column, retbins=True)\n",
    "    \n",
    "    # Generate bin labels from the bin edges\n",
    "    bin_labels = [f\"{column}_{int(bin_edges[i])}_{int(bin_edges[i+1])}\" for i in range(len(bin_edges)-1)]\n",
    "    \n",
    "    # Encode bins using one-hot encoding\n",
    "    encoded_bins = pd.get_dummies(bins, prefix=column)\n",
    "    \n",
    "    # Rename columns with integer bin edges\n",
    "    encoded_bins.columns = bin_labels\n",
    "    \n",
    "    # Concatenate encoded bins to the binned dataset\n",
    "    binned_dataset = pd.concat([binned_dataset, encoded_bins], axis=1)\n",
    "\n",
    "# Display the first few rows of the binned dataset\n",
    "print(\"Binned Dataset:\")\n",
    "print(binned_dataset.head())\n"
   ]
  },
  {
   "cell_type": "code",
   "execution_count": 17,
   "id": "5d0b7a21",
   "metadata": {},
   "outputs": [
    {
     "name": "stdout",
     "output_type": "stream",
     "text": [
      "Duplicate column names found:\n",
      "Sample Question Papers Practiced_0_0\n",
      "Duplicate columns merged.\n"
     ]
    }
   ],
   "source": [
    "# Check for duplicate column names\n",
    "duplicate_columns = binned_dataset.columns[binned_dataset.columns.duplicated()]\n",
    "\n",
    "# Print duplicate column names, if any\n",
    "if len(duplicate_columns) > 0:\n",
    "    print(\"Duplicate column names found:\")\n",
    "    for column in duplicate_columns:\n",
    "        print(column)\n",
    "    \n",
    "    # Merge duplicate columns\n",
    "    binned_dataset = binned_dataset.groupby(level=0, axis=1).sum()\n",
    "    \n",
    "    print(\"Duplicate columns merged.\")\n",
    "else:\n",
    "    print(\"No duplicate column names found.\")"
   ]
  },
  {
   "cell_type": "code",
   "execution_count": 18,
   "id": "8f31e161",
   "metadata": {},
   "outputs": [
    {
     "name": "stdout",
     "output_type": "stream",
     "text": [
      "Updated Dataset:\n",
      "   Performance Index  Hours Studied_2  Hours Studied_3  Hours Studied_4  \\\n",
      "0               91.0              0.0              0.0              0.0   \n",
      "1               65.0              0.0              0.0              1.0   \n",
      "2               45.0              0.0              0.0              0.0   \n",
      "3               36.0              0.0              0.0              0.0   \n",
      "4               66.0              0.0              0.0              0.0   \n",
      "\n",
      "   Hours Studied_5  Hours Studied_6  Hours Studied_7  Hours Studied_8  \\\n",
      "0              0.0              0.0              1.0              0.0   \n",
      "1              0.0              0.0              0.0              0.0   \n",
      "2              0.0              0.0              0.0              1.0   \n",
      "3              1.0              0.0              0.0              0.0   \n",
      "4              0.0              0.0              1.0              0.0   \n",
      "\n",
      "   Hours Studied_9  Extracurricular Activities_Yes  ...  \\\n",
      "0              0.0                             1.0  ...   \n",
      "1              0.0                             0.0  ...   \n",
      "2              0.0                             1.0  ...   \n",
      "3              0.0                             1.0  ...   \n",
      "4              0.0                             0.0  ...   \n",
      "\n",
      "   Sample Question Papers Practiced_4_4  Sample Question Papers Practiced_4_5  \\\n",
      "0                                     0                                     0   \n",
      "1                                     0                                     0   \n",
      "2                                     0                                     0   \n",
      "3                                     0                                     0   \n",
      "4                                     0                                     1   \n",
      "\n",
      "   Sample Question Papers Practiced_5_5  Sample Question Papers Practiced_5_6  \\\n",
      "0                                     0                                     0   \n",
      "1                                     0                                     0   \n",
      "2                                     0                                     0   \n",
      "3                                     0                                     0   \n",
      "4                                     0                                     0   \n",
      "\n",
      "   Sample Question Papers Practiced_6_6  Sample Question Papers Practiced_6_7  \\\n",
      "0                                     0                                     0   \n",
      "1                                     0                                     0   \n",
      "2                                     0                                     0   \n",
      "3                                     0                                     0   \n",
      "4                                     0                                     0   \n",
      "\n",
      "   Sample Question Papers Practiced_7_7  Sample Question Papers Practiced_7_8  \\\n",
      "0                                     0                                     0   \n",
      "1                                     0                                     0   \n",
      "2                                     0                                     0   \n",
      "3                                     0                                     0   \n",
      "4                                     0                                     0   \n",
      "\n",
      "   Sample Question Papers Practiced_8_8  Sample Question Papers Practiced_8_9  \n",
      "0                                     0                                     0  \n",
      "1                                     0                                     0  \n",
      "2                                     0                                     0  \n",
      "3                                     0                                     0  \n",
      "4                                     0                                     0  \n",
      "\n",
      "[5 rows x 53 columns]\n"
     ]
    }
   ],
   "source": [
    "# Drop numerical columns from the original dataset\n",
    "dataset.drop(columns=numerical_variables, inplace=True)\n",
    "\n",
    "# Concatenate binned_dataset with the original dataset\n",
    "dataset = pd.concat([dataset, binned_dataset], axis=1)\n",
    "\n",
    "# Display the updated dataset\n",
    "print(\"Updated Dataset:\")\n",
    "print(dataset.head())"
   ]
  },
  {
   "cell_type": "code",
   "execution_count": 19,
   "id": "449876e8",
   "metadata": {},
   "outputs": [
    {
     "name": "stdout",
     "output_type": "stream",
     "text": [
      "Number of columns in the dataset: 53\n"
     ]
    }
   ],
   "source": [
    "# Calculate column sums\n",
    "#column_sums = dataset.sum()\n",
    "\n",
    "# Get column names where sum is less than 10\n",
    "#columns_to_remove = column_sums[column_sums < 10].index\n",
    "\n",
    "# Remove columns from dataset\n",
    "#dataset = dataset.drop(columns=columns_to_remove)\n",
    "\n",
    "print(\"Number of columns in the dataset:\", len(dataset.columns))"
   ]
  },
  {
   "cell_type": "markdown",
   "id": "75c518dc",
   "metadata": {},
   "source": [
    "### Up-Sampling"
   ]
  },
  {
   "cell_type": "code",
   "execution_count": 20,
   "id": "116d5421",
   "metadata": {},
   "outputs": [
    {
     "name": "stdout",
     "output_type": "stream",
     "text": [
      "Target Value Counts for Extracurricular Activities_Yes (Sorted):\n",
      "0.0    5050\n",
      "1.0    4947\n",
      "Name: Extracurricular Activities_Yes, dtype: int64\n"
     ]
    }
   ],
   "source": [
    "# Iterate over columns starting with \"X\"\n",
    "for column in dataset.columns:\n",
    "    if column.startswith(\"Extracurricular Activities\"):\n",
    "        # Get the target column\n",
    "        upsamp_target = dataset[column]\n",
    "        \n",
    "        # Get the sorted value counts\n",
    "        target_counts_sorted = upsamp_target.value_counts().sort_index()\n",
    "\n",
    "        # Display the counts\n",
    "        print(f\"Target Value Counts for {column} (Sorted):\")\n",
    "        print(target_counts_sorted)\n"
   ]
  },
  {
   "cell_type": "code",
   "execution_count": null,
   "id": "82e2d043",
   "metadata": {},
   "outputs": [],
   "source": [
    "# Select rows where the value in the target column is equal to 1\n",
    "df_majority = dataset[dataset[\"sex_m\"] == 1]\n",
    "\n",
    "\n",
    "# Select rows where the value in the target column is equal to 0\n",
    "df_minority = dataset[dataset[\"sex_m\"] == 0]\n",
    "\n",
    "# Upsample minority class\n",
    "df_minority_upsampled = resample(df_minority, \n",
    "                                 replace=True,     \n",
    "                                 n_samples=len(df_majority),\n",
    "                                 random_state=42)  # Add random_state for reproducibility\n",
    "\n",
    "# Combine minority class with majority class\n",
    "dataset = pd.concat([df_majority, df_minority_upsampled])\n",
    "\n",
    "# Check the value counts of the prediction column in the downsampled dataset\n",
    "print(dataset[\"sex_m\"].value_counts())"
   ]
  },
  {
   "cell_type": "markdown",
   "id": "0af35938",
   "metadata": {},
   "source": [
    "# Dimensionality Reduction"
   ]
  },
  {
   "cell_type": "code",
   "execution_count": 21,
   "id": "e4033ccc",
   "metadata": {},
   "outputs": [
    {
     "name": "stdout",
     "output_type": "stream",
     "text": [
      "Highly correlated variables: set()\n",
      "Constant variables: ['Sample Question Papers Practiced_1_1', 'Sample Question Papers Practiced_2_2', 'Sample Question Papers Practiced_3_3', 'Sample Question Papers Practiced_4_4', 'Sample Question Papers Practiced_5_5', 'Sample Question Papers Practiced_6_6', 'Sample Question Papers Practiced_7_7', 'Sample Question Papers Practiced_8_8']\n"
     ]
    }
   ],
   "source": [
    "#Check for perfect multicollinearity\n",
    "correlation_matrix = dataset.corr()\n",
    "highly_correlated_variables = set()\n",
    "for i in range(len(correlation_matrix.columns)):\n",
    "    for j in range(i):\n",
    "        if abs(correlation_matrix.iloc[i, j]) > 0.8:\n",
    "            colname_i = correlation_matrix.columns[i]\n",
    "            colname_j = correlation_matrix.columns[j]\n",
    "            highly_correlated_variables.add(colname_i)\n",
    "            highly_correlated_variables.add(colname_j)\n",
    "print(\"Highly correlated variables:\", highly_correlated_variables)\n",
    "\n",
    "# Step 2: Remove constant variables\n",
    "constant_variables = [col for col in dataset.columns if dataset[col].nunique() == 1]\n",
    "print(\"Constant variables:\", constant_variables)\n",
    "dataset.drop(columns=constant_variables, inplace=True)\n",
    "\n",
    "# Define the target variable 'y'\n",
    "y = dataset[target]\n",
    "\n",
    "# Select all other columns as features 'x'\n",
    "X = dataset.drop(columns=[target])"
   ]
  },
  {
   "cell_type": "markdown",
   "id": "c938cae1",
   "metadata": {},
   "source": [
    "### Principal Component Analysis (PCA)"
   ]
  },
  {
   "cell_type": "code",
   "execution_count": 22,
   "id": "e79eae90",
   "metadata": {},
   "outputs": [
    {
     "data": {
      "image/png": "[encoded data removed]",
      "text/plain": [
       "<Figure size 640x480 with 1 Axes>"
      ]
     },
     "metadata": {},
     "output_type": "display_data"
    }
   ],
   "source": [
    "\n",
    "# Perform PCA\n",
    "pca = PCA()\n",
    "x_reduced = pca.fit_transform(X)\n",
    "\n",
    "# Define cross-validation method\n",
    "cv = RepeatedKFold(n_splits=10, n_repeats=3, random_state=1)\n",
    "\n",
    "# Initialize linear regression model\n",
    "regr = LinearRegression()\n",
    "\n",
    "# Calculate MSE with only the intercept\n",
    "mse = []\n",
    "score = -1 * model_selection.cross_val_score(regr,\n",
    "                                              np.ones((len(x_reduced), 1)), y, cv=cv,\n",
    "                                              scoring='neg_mean_squared_error').mean()\n",
    "mse.append(score)\n",
    "\n",
    "# Calculate MSE using cross-validation, adding one component at a time\n",
    "for i in np.arange(1, 6):\n",
    "    score = -1 * model_selection.cross_val_score(regr,\n",
    "                                                  x_reduced[:, :i], y, cv=cv, scoring='neg_mean_squared_error').mean()\n",
    "    mse.append(score)\n",
    "\n",
    "\n",
    "# Plot cross-validation results\n",
    "plt.plot(mse)\n",
    "plt.xlabel('Number of Principal Components')\n",
    "plt.ylabel('MSE')\n",
    "plt.title('MSE vs. Number of Principal Components')\n",
    "plt.show()"
   ]
  },
  {
   "cell_type": "code",
   "execution_count": 23,
   "id": "a574b874",
   "metadata": {},
   "outputs": [
    {
     "data": {
      "text/plain": [
       "array([ 7.  , 11.95, 16.64, 21.24, 25.76, 28.95, 32.12, 35.27, 38.38,\n",
       "       41.46, 44.52, 47.56, 50.48, 53.36, 56.22, 59.06, 61.84, 64.56,\n",
       "       67.23, 69.87, 72.47, 74.05, 75.52, 76.96, 78.4 , 79.83, 81.25,\n",
       "       82.67, 84.08, 85.48, 86.86, 88.23, 89.59, 90.95, 92.31, 93.65,\n",
       "       94.98, 96.31, 97.63, 98.85, 99.6 , 99.95, 99.95, 99.95])"
      ]
     },
     "execution_count": 23,
     "metadata": {},
     "output_type": "execute_result"
    }
   ],
   "source": [
    "#percentage of variance in the response variable explained by adding in each principal component to the model:\n",
    "np.cumsum(np.round(pca.explained_variance_ratio_, decimals=4)*100)"
   ]
  },
  {
   "cell_type": "code",
   "execution_count": 24,
   "id": "296ae59d",
   "metadata": {},
   "outputs": [],
   "source": [
    "# Choose the desired number of principal components based on the plot\n",
    "num_components = 48 # For example, choose n principal components\n",
    "\n",
    "# Use the selected number of principal components\n",
    "x_reduced_selected = x_reduced[:, :num_components]"
   ]
  },
  {
   "cell_type": "markdown",
   "id": "0110d570",
   "metadata": {},
   "source": [
    "# Splitting the dataset"
   ]
  },
  {
   "cell_type": "code",
   "execution_count": 25,
   "id": "ce957564",
   "metadata": {},
   "outputs": [],
   "source": [
    "from sklearn.model_selection import train_test_split\n",
    "\n",
    "# Split the data into training (50%), testing (30%), and out-of-sample (20%)\n",
    "x_train, x_temp, y_train, y_temp = train_test_split(x_reduced_selected, y, test_size=0.4, random_state=100)\n",
    "x_test, x_out_sample, y_test, y_out_sample = train_test_split(x_temp, y_temp, test_size=0.6, random_state=100)"
   ]
  },
  {
   "cell_type": "markdown",
   "id": "ca241bf4",
   "metadata": {},
   "source": [
    "# Fitting the Multiple Linear Regression model"
   ]
  },
  {
   "cell_type": "code",
   "execution_count": 26,
   "id": "26e268e1",
   "metadata": {},
   "outputs": [
    {
     "data": {
      "text/html": [
       "<style>#sk-container-id-1 {\n",
       "  /* Definition of color scheme common for light and dark mode */\n",
       "  --sklearn-color-text: black;\n",
       "  --sklearn-color-line: gray;\n",
       "  /* Definition of color scheme for unfitted estimators */\n",
       "  --sklearn-color-unfitted-level-0: #fff5e6;\n",
       "  --sklearn-color-unfitted-level-1: #f6e4d2;\n",
       "  --sklearn-color-unfitted-level-2: #ffe0b3;\n",
       "  --sklearn-color-unfitted-level-3: chocolate;\n",
       "  /* Definition of color scheme for fitted estimators */\n",
       "  --sklearn-color-fitted-level-0: #f0f8ff;\n",
       "  --sklearn-color-fitted-level-1: #d4ebff;\n",
       "  --sklearn-color-fitted-level-2: #b3dbfd;\n",
       "  --sklearn-color-fitted-level-3: cornflowerblue;\n",
       "\n",
       "  /* Specific color for light theme */\n",
       "  --sklearn-color-text-on-default-background: var(--sg-text-color, var(--theme-code-foreground, var(--jp-content-font-color1, black)));\n",
       "  --sklearn-color-background: var(--sg-background-color, var(--theme-background, var(--jp-layout-color0, white)));\n",
       "  --sklearn-color-border-box: var(--sg-text-color, var(--theme-code-foreground, var(--jp-content-font-color1, black)));\n",
       "  --sklearn-color-icon: #696969;\n",
       "\n",
       "  @media (prefers-color-scheme: dark) {\n",
       "    /* Redefinition of color scheme for dark theme */\n",
       "    --sklearn-color-text-on-default-background: var(--sg-text-color, var(--theme-code-foreground, var(--jp-content-font-color1, white)));\n",
       "    --sklearn-color-background: var(--sg-background-color, var(--theme-background, var(--jp-layout-color0, #111)));\n",
       "    --sklearn-color-border-box: var(--sg-text-color, var(--theme-code-foreground, var(--jp-content-font-color1, white)));\n",
       "    --sklearn-color-icon: #878787;\n",
       "  }\n",
       "}\n",
       "\n",
       "#sk-container-id-1 {\n",
       "  color: var(--sklearn-color-text);\n",
       "}\n",
       "\n",
       "#sk-container-id-1 pre {\n",
       "  padding: 0;\n",
       "}\n",
       "\n",
       "#sk-container-id-1 input.sk-hidden--visually {\n",
       "  border: 0;\n",
       "  clip: rect(1px 1px 1px 1px);\n",
       "  clip: rect(1px, 1px, 1px, 1px);\n",
       "  height: 1px;\n",
       "  margin: -1px;\n",
       "  overflow: hidden;\n",
       "  padding: 0;\n",
       "  position: absolute;\n",
       "  width: 1px;\n",
       "}\n",
       "\n",
       "#sk-container-id-1 div.sk-dashed-wrapped {\n",
       "  border: 1px dashed var(--sklearn-color-line);\n",
       "  margin: 0 0.4em 0.5em 0.4em;\n",
       "  box-sizing: border-box;\n",
       "  padding-bottom: 0.4em;\n",
       "  background-color: var(--sklearn-color-background);\n",
       "}\n",
       "\n",
       "#sk-container-id-1 div.sk-container {\n",
       "  /* jupyter's `normalize.less` sets `[hidden] { display: none; }`\n",
       "     but bootstrap.min.css set `[hidden] { display: none !important; }`\n",
       "     so we also need the `!important` here to be able to override the\n",
       "     default hidden behavior on the sphinx rendered scikit-learn.org.\n",
       "     See: https://github.com/scikit-learn/scikit-learn/issues/21755 */\n",
       "  display: inline-block !important;\n",
       "  position: relative;\n",
       "}\n",
       "\n",
       "#sk-container-id-1 div.sk-text-repr-fallback {\n",
       "  display: none;\n",
       "}\n",
       "\n",
       "div.sk-parallel-item,\n",
       "div.sk-serial,\n",
       "div.sk-item {\n",
       "  /* draw centered vertical line to link estimators */\n",
       "  background-image: linear-gradient(var(--sklearn-color-text-on-default-background), var(--sklearn-color-text-on-default-background));\n",
       "  background-size: 2px 100%;\n",
       "  background-repeat: no-repeat;\n",
       "  background-position: center center;\n",
       "}\n",
       "\n",
       "/* Parallel-specific style estimator block */\n",
       "\n",
       "#sk-container-id-1 div.sk-parallel-item::after {\n",
       "  content: \"\";\n",
       "  width: 100%;\n",
       "  border-bottom: 2px solid var(--sklearn-color-text-on-default-background);\n",
       "  flex-grow: 1;\n",
       "}\n",
       "\n",
       "#sk-container-id-1 div.sk-parallel {\n",
       "  display: flex;\n",
       "  align-items: stretch;\n",
       "  justify-content: center;\n",
       "  background-color: var(--sklearn-color-background);\n",
       "  position: relative;\n",
       "}\n",
       "\n",
       "#sk-container-id-1 div.sk-parallel-item {\n",
       "  display: flex;\n",
       "  flex-direction: column;\n",
       "}\n",
       "\n",
       "#sk-container-id-1 div.sk-parallel-item:first-child::after {\n",
       "  align-self: flex-end;\n",
       "  width: 50%;\n",
       "}\n",
       "\n",
       "#sk-container-id-1 div.sk-parallel-item:last-child::after {\n",
       "  align-self: flex-start;\n",
       "  width: 50%;\n",
       "}\n",
       "\n",
       "#sk-container-id-1 div.sk-parallel-item:only-child::after {\n",
       "  width: 0;\n",
       "}\n",
       "\n",
       "/* Serial-specific style estimator block */\n",
       "\n",
       "#sk-container-id-1 div.sk-serial {\n",
       "  display: flex;\n",
       "  flex-direction: column;\n",
       "  align-items: center;\n",
       "  background-color: var(--sklearn-color-background);\n",
       "  padding-right: 1em;\n",
       "  padding-left: 1em;\n",
       "}\n",
       "\n",
       "\n",
       "/* Toggleable style: style used for estimator/Pipeline/ColumnTransformer box that is\n",
       "clickable and can be expanded/collapsed.\n",
       "- Pipeline and ColumnTransformer use this feature and define the default style\n",
       "- Estimators will overwrite some part of the style using the `sk-estimator` class\n",
       "*/\n",
       "\n",
       "/* Pipeline and ColumnTransformer style (default) */\n",
       "\n",
       "#sk-container-id-1 div.sk-toggleable {\n",
       "  /* Default theme specific background. It is overwritten whether we have a\n",
       "  specific estimator or a Pipeline/ColumnTransformer */\n",
       "  background-color: var(--sklearn-color-background);\n",
       "}\n",
       "\n",
       "/* Toggleable label */\n",
       "#sk-container-id-1 label.sk-toggleable__label {\n",
       "  cursor: pointer;\n",
       "  display: block;\n",
       "  width: 100%;\n",
       "  margin-bottom: 0;\n",
       "  padding: 0.5em;\n",
       "  box-sizing: border-box;\n",
       "  text-align: center;\n",
       "}\n",
       "\n",
       "#sk-container-id-1 label.sk-toggleable__label-arrow:before {\n",
       "  /* Arrow on the left of the label */\n",
       "  content: \"▸\";\n",
       "  float: left;\n",
       "  margin-right: 0.25em;\n",
       "  color: var(--sklearn-color-icon);\n",
       "}\n",
       "\n",
       "#sk-container-id-1 label.sk-toggleable__label-arrow:hover:before {\n",
       "  color: var(--sklearn-color-text);\n",
       "}\n",
       "\n",
       "/* Toggleable content - dropdown */\n",
       "\n",
       "#sk-container-id-1 div.sk-toggleable__content {\n",
       "  max-height: 0;\n",
       "  max-width: 0;\n",
       "  overflow: hidden;\n",
       "  text-align: left;\n",
       "  /* unfitted */\n",
       "  background-color: var(--sklearn-color-unfitted-level-0);\n",
       "}\n",
       "\n",
       "#sk-container-id-1 div.sk-toggleable__content.fitted {\n",
       "  /* fitted */\n",
       "  background-color: var(--sklearn-color-fitted-level-0);\n",
       "}\n",
       "\n",
       "#sk-container-id-1 div.sk-toggleable__content pre {\n",
       "  margin: 0.2em;\n",
       "  border-radius: 0.25em;\n",
       "  color: var(--sklearn-color-text);\n",
       "  /* unfitted */\n",
       "  background-color: var(--sklearn-color-unfitted-level-0);\n",
       "}\n",
       "\n",
       "#sk-container-id-1 div.sk-toggleable__content.fitted pre {\n",
       "  /* unfitted */\n",
       "  background-color: var(--sklearn-color-fitted-level-0);\n",
       "}\n",
       "\n",
       "#sk-container-id-1 input.sk-toggleable__control:checked~div.sk-toggleable__content {\n",
       "  /* Expand drop-down */\n",
       "  max-height: 200px;\n",
       "  max-width: 100%;\n",
       "  overflow: auto;\n",
       "}\n",
       "\n",
       "#sk-container-id-1 input.sk-toggleable__control:checked~label.sk-toggleable__label-arrow:before {\n",
       "  content: \"▾\";\n",
       "}\n",
       "\n",
       "/* Pipeline/ColumnTransformer-specific style */\n",
       "\n",
       "#sk-container-id-1 div.sk-label input.sk-toggleable__control:checked~label.sk-toggleable__label {\n",
       "  color: var(--sklearn-color-text);\n",
       "  background-color: var(--sklearn-color-unfitted-level-2);\n",
       "}\n",
       "\n",
       "#sk-container-id-1 div.sk-label.fitted input.sk-toggleable__control:checked~label.sk-toggleable__label {\n",
       "  background-color: var(--sklearn-color-fitted-level-2);\n",
       "}\n",
       "\n",
       "/* Estimator-specific style */\n",
       "\n",
       "/* Colorize estimator box */\n",
       "#sk-container-id-1 div.sk-estimator input.sk-toggleable__control:checked~label.sk-toggleable__label {\n",
       "  /* unfitted */\n",
       "  background-color: var(--sklearn-color-unfitted-level-2);\n",
       "}\n",
       "\n",
       "#sk-container-id-1 div.sk-estimator.fitted input.sk-toggleable__control:checked~label.sk-toggleable__label {\n",
       "  /* fitted */\n",
       "  background-color: var(--sklearn-color-fitted-level-2);\n",
       "}\n",
       "\n",
       "#sk-container-id-1 div.sk-label label.sk-toggleable__label,\n",
       "#sk-container-id-1 div.sk-label label {\n",
       "  /* The background is the default theme color */\n",
       "  color: var(--sklearn-color-text-on-default-background);\n",
       "}\n",
       "\n",
       "/* On hover, darken the color of the background */\n",
       "#sk-container-id-1 div.sk-label:hover label.sk-toggleable__label {\n",
       "  color: var(--sklearn-color-text);\n",
       "  background-color: var(--sklearn-color-unfitted-level-2);\n",
       "}\n",
       "\n",
       "/* Label box, darken color on hover, fitted */\n",
       "#sk-container-id-1 div.sk-label.fitted:hover label.sk-toggleable__label.fitted {\n",
       "  color: var(--sklearn-color-text);\n",
       "  background-color: var(--sklearn-color-fitted-level-2);\n",
       "}\n",
       "\n",
       "/* Estimator label */\n",
       "\n",
       "#sk-container-id-1 div.sk-label label {\n",
       "  font-family: monospace;\n",
       "  font-weight: bold;\n",
       "  display: inline-block;\n",
       "  line-height: 1.2em;\n",
       "}\n",
       "\n",
       "#sk-container-id-1 div.sk-label-container {\n",
       "  text-align: center;\n",
       "}\n",
       "\n",
       "/* Estimator-specific */\n",
       "#sk-container-id-1 div.sk-estimator {\n",
       "  font-family: monospace;\n",
       "  border: 1px dotted var(--sklearn-color-border-box);\n",
       "  border-radius: 0.25em;\n",
       "  box-sizing: border-box;\n",
       "  margin-bottom: 0.5em;\n",
       "  /* unfitted */\n",
       "  background-color: var(--sklearn-color-unfitted-level-0);\n",
       "}\n",
       "\n",
       "#sk-container-id-1 div.sk-estimator.fitted {\n",
       "  /* fitted */\n",
       "  background-color: var(--sklearn-color-fitted-level-0);\n",
       "}\n",
       "\n",
       "/* on hover */\n",
       "#sk-container-id-1 div.sk-estimator:hover {\n",
       "  /* unfitted */\n",
       "  background-color: var(--sklearn-color-unfitted-level-2);\n",
       "}\n",
       "\n",
       "#sk-container-id-1 div.sk-estimator.fitted:hover {\n",
       "  /* fitted */\n",
       "  background-color: var(--sklearn-color-fitted-level-2);\n",
       "}\n",
       "\n",
       "/* Specification for estimator info (e.g. \"i\" and \"?\") */\n",
       "\n",
       "/* Common style for \"i\" and \"?\" */\n",
       "\n",
       ".sk-estimator-doc-link,\n",
       "a:link.sk-estimator-doc-link,\n",
       "a:visited.sk-estimator-doc-link {\n",
       "  float: right;\n",
       "  font-size: smaller;\n",
       "  line-height: 1em;\n",
       "  font-family: monospace;\n",
       "  background-color: var(--sklearn-color-background);\n",
       "  border-radius: 1em;\n",
       "  height: 1em;\n",
       "  width: 1em;\n",
       "  text-decoration: none !important;\n",
       "  margin-left: 1ex;\n",
       "  /* unfitted */\n",
       "  border: var(--sklearn-color-unfitted-level-1) 1pt solid;\n",
       "  color: var(--sklearn-color-unfitted-level-1);\n",
       "}\n",
       "\n",
       ".sk-estimator-doc-link.fitted,\n",
       "a:link.sk-estimator-doc-link.fitted,\n",
       "a:visited.sk-estimator-doc-link.fitted {\n",
       "  /* fitted */\n",
       "  border: var(--sklearn-color-fitted-level-1) 1pt solid;\n",
       "  color: var(--sklearn-color-fitted-level-1);\n",
       "}\n",
       "\n",
       "/* On hover */\n",
       "div.sk-estimator:hover .sk-estimator-doc-link:hover,\n",
       ".sk-estimator-doc-link:hover,\n",
       "div.sk-label-container:hover .sk-estimator-doc-link:hover,\n",
       ".sk-estimator-doc-link:hover {\n",
       "  /* unfitted */\n",
       "  background-color: var(--sklearn-color-unfitted-level-3);\n",
       "  color: var(--sklearn-color-background);\n",
       "  text-decoration: none;\n",
       "}\n",
       "\n",
       "div.sk-estimator.fitted:hover .sk-estimator-doc-link.fitted:hover,\n",
       ".sk-estimator-doc-link.fitted:hover,\n",
       "div.sk-label-container:hover .sk-estimator-doc-link.fitted:hover,\n",
       ".sk-estimator-doc-link.fitted:hover {\n",
       "  /* fitted */\n",
       "  background-color: var(--sklearn-color-fitted-level-3);\n",
       "  color: var(--sklearn-color-background);\n",
       "  text-decoration: none;\n",
       "}\n",
       "\n",
       "/* Span, style for the box shown on hovering the info icon */\n",
       ".sk-estimator-doc-link span {\n",
       "  display: none;\n",
       "  z-index: 9999;\n",
       "  position: relative;\n",
       "  font-weight: normal;\n",
       "  right: .2ex;\n",
       "  padding: .5ex;\n",
       "  margin: .5ex;\n",
       "  width: min-content;\n",
       "  min-width: 20ex;\n",
       "  max-width: 50ex;\n",
       "  color: var(--sklearn-color-text);\n",
       "  box-shadow: 2pt 2pt 4pt #999;\n",
       "  /* unfitted */\n",
       "  background: var(--sklearn-color-unfitted-level-0);\n",
       "  border: .5pt solid var(--sklearn-color-unfitted-level-3);\n",
       "}\n",
       "\n",
       ".sk-estimator-doc-link.fitted span {\n",
       "  /* fitted */\n",
       "  background: var(--sklearn-color-fitted-level-0);\n",
       "  border: var(--sklearn-color-fitted-level-3);\n",
       "}\n",
       "\n",
       ".sk-estimator-doc-link:hover span {\n",
       "  display: block;\n",
       "}\n",
       "\n",
       "/* \"?\"-specific style due to the `<a>` HTML tag */\n",
       "\n",
       "#sk-container-id-1 a.estimator_doc_link {\n",
       "  float: right;\n",
       "  font-size: 1rem;\n",
       "  line-height: 1em;\n",
       "  font-family: monospace;\n",
       "  background-color: var(--sklearn-color-background);\n",
       "  border-radius: 1rem;\n",
       "  height: 1rem;\n",
       "  width: 1rem;\n",
       "  text-decoration: none;\n",
       "  /* unfitted */\n",
       "  color: var(--sklearn-color-unfitted-level-1);\n",
       "  border: var(--sklearn-color-unfitted-level-1) 1pt solid;\n",
       "}\n",
       "\n",
       "#sk-container-id-1 a.estimator_doc_link.fitted {\n",
       "  /* fitted */\n",
       "  border: var(--sklearn-color-fitted-level-1) 1pt solid;\n",
       "  color: var(--sklearn-color-fitted-level-1);\n",
       "}\n",
       "\n",
       "/* On hover */\n",
       "#sk-container-id-1 a.estimator_doc_link:hover {\n",
       "  /* unfitted */\n",
       "  background-color: var(--sklearn-color-unfitted-level-3);\n",
       "  color: var(--sklearn-color-background);\n",
       "  text-decoration: none;\n",
       "}\n",
       "\n",
       "#sk-container-id-1 a.estimator_doc_link.fitted:hover {\n",
       "  /* fitted */\n",
       "  background-color: var(--sklearn-color-fitted-level-3);\n",
       "}\n",
       "</style><div id=\"sk-container-id-1\" class=\"sk-top-container\"><div class=\"sk-text-repr-fallback\"><pre>LinearRegression()</pre><b>In a Jupyter environment, please rerun this cell to show the HTML representation or trust the notebook. <br />On GitHub, the HTML representation is unable to render, please try loading this page with nbviewer.org.</b></div><div class=\"sk-container\" hidden><div class=\"sk-item\"><div class=\"sk-estimator fitted sk-toggleable\"><input class=\"sk-toggleable__control sk-hidden--visually\" id=\"sk-estimator-id-1\" type=\"checkbox\" checked><label for=\"sk-estimator-id-1\" class=\"sk-toggleable__label fitted sk-toggleable__label-arrow fitted\">&nbsp;&nbsp;LinearRegression<a class=\"sk-estimator-doc-link fitted\" rel=\"noreferrer\" target=\"_blank\" href=\"https://scikit-learn.org/1.4/modules/generated/sklearn.linear_model.LinearRegression.html\">?<span>Documentation for LinearRegression</span></a><span class=\"sk-estimator-doc-link fitted\">i<span>Fitted</span></span></label><div class=\"sk-toggleable__content fitted\"><pre>LinearRegression()</pre></div> </div></div></div></div>"
      ],
      "text/plain": [
       "LinearRegression()"
      ]
     },
     "execution_count": 26,
     "metadata": {},
     "output_type": "execute_result"
    }
   ],
   "source": [
    "from sklearn.model_selection import GridSearchCV\n",
    "from sklearn.metrics import make_scorer, r2_score\n",
    "\n",
    "# Define the model\n",
    "mlr = LinearRegression()\n",
    "\n",
    "# Define an empty hyperparameter grid\n",
    "param_grid = {}\n",
    "\n",
    "# Define the GridSearchCV with an empty hyperparameter grid\n",
    "grid_search = GridSearchCV(mlr, param_grid, cv=5, scoring=make_scorer(r2_score)) #cv=3 small datasets, cv=5 larger\n",
    "\n",
    "# Fit the model with hyperparameter optimization\n",
    "grid_search.fit(x_train, y_train)\n",
    "\n",
    "# Get the best estimator\n",
    "best_mlr = grid_search.best_estimator_\n",
    "\n",
    "# Train the best model on the entire training set (Optional)\n",
    "best_mlr.fit(x_train, y_train)"
   ]
  },
  {
   "cell_type": "markdown",
   "id": "30a46965",
   "metadata": {},
   "source": [
    "# Prediction of test set"
   ]
  },
  {
   "cell_type": "code",
   "execution_count": 27,
   "id": "06000f51",
   "metadata": {},
   "outputs": [],
   "source": [
    "y_pred_mlr = best_mlr.predict(x_test)"
   ]
  },
  {
   "cell_type": "code",
   "execution_count": 35,
   "id": "1258b04f",
   "metadata": {},
   "outputs": [],
   "source": [
    "y_pred_out_sample = best_mlr.predict(x_out_sample)"
   ]
  },
  {
   "cell_type": "markdown",
   "id": "1d8a9849",
   "metadata": {},
   "source": [
    "# Actual value and the predicted value"
   ]
  },
  {
   "cell_type": "code",
   "execution_count": 28,
   "id": "e850e458",
   "metadata": {},
   "outputs": [
    {
     "name": "stdout",
     "output_type": "stream",
     "text": [
      "      Actual value  Predicted value\n",
      "613           40.0        43.461111\n",
      "3859          72.0        74.216707\n",
      "731           46.0        44.983201\n",
      "6776          72.0        73.427988\n",
      "7303          56.0        53.374416\n",
      "...            ...              ...\n",
      "1011          52.0        49.122483\n",
      "3986          88.0        88.666722\n",
      "7086          38.0        41.382237\n",
      "6142          63.0        63.189582\n",
      "5447          62.0        62.338241\n",
      "\n",
      "[1599 rows x 2 columns]\n"
     ]
    }
   ],
   "source": [
    "mlr_diff = pd.DataFrame({'Actual value': y_test, 'Predicted value': y_pred_mlr})\n",
    "mlr_diff.head()\n",
    "print(mlr_diff)"
   ]
  },
  {
   "cell_type": "markdown",
   "id": "cff3f1d3",
   "metadata": {},
   "source": [
    "# Model Evaluation"
   ]
  },
  {
   "cell_type": "markdown",
   "id": "f3b81e90",
   "metadata": {},
   "source": [
    "### On test data"
   ]
  },
  {
   "cell_type": "code",
   "execution_count": 38,
   "id": "ca484c75",
   "metadata": {},
   "outputs": [
    {
     "name": "stdout",
     "output_type": "stream",
     "text": [
      "R squared: 98.69\n"
     ]
    }
   ],
   "source": [
    "from sklearn import metrics\n",
    "r_squared = best_mlr.score(x_test, y_test)\n",
    "print('R squared: {:.2f}'.format(r_squared * 100))"
   ]
  },
  {
   "cell_type": "code",
   "execution_count": 31,
   "id": "e6dfb5e7",
   "metadata": {},
   "outputs": [
    {
     "name": "stdout",
     "output_type": "stream",
     "text": [
      "Mean squared error: 4.84\n"
     ]
    }
   ],
   "source": [
    "from sklearn.metrics import mean_squared_error\n",
    "mse = mean_squared_error(y_test, y_pred_mlr)\n",
    "print('Mean squared error: {:.2f}'.format(mse))"
   ]
  },
  {
   "cell_type": "code",
   "execution_count": 32,
   "id": "8d86fd00",
   "metadata": {},
   "outputs": [
    {
     "name": "stdout",
     "output_type": "stream",
     "text": [
      "Max error: 7.02\n"
     ]
    }
   ],
   "source": [
    "from sklearn.metrics import max_error\n",
    "me = max_error(y_test, y_pred_mlr)\n",
    "print('Max error: {:.2f}'.format(me))"
   ]
  },
  {
   "cell_type": "markdown",
   "id": "dbb7d559",
   "metadata": {},
   "source": [
    "### On out-of-sample data"
   ]
  },
  {
   "cell_type": "code",
   "execution_count": 33,
   "id": "61b9fa02",
   "metadata": {},
   "outputs": [
    {
     "name": "stdout",
     "output_type": "stream",
     "text": [
      "R squared: 98.70\n"
     ]
    }
   ],
   "source": [
    "r_squared = best_mlr.score(x_out_sample, y_out_sample)\n",
    "print('R squared: {:.2f}'.format(r_squared * 100))"
   ]
  },
  {
   "cell_type": "code",
   "execution_count": 36,
   "id": "6d64b7ae",
   "metadata": {},
   "outputs": [
    {
     "name": "stdout",
     "output_type": "stream",
     "text": [
      "Mean squared error: 4.94\n"
     ]
    }
   ],
   "source": [
    "mse = mean_squared_error(y_out_sample, y_pred_out_sample)\n",
    "print('Mean squared error: {:.2f}'.format(mse))"
   ]
  },
  {
   "cell_type": "code",
   "execution_count": 37,
   "id": "6a5dee61",
   "metadata": {},
   "outputs": [
    {
     "name": "stdout",
     "output_type": "stream",
     "text": [
      "Max error: 8.68\n"
     ]
    }
   ],
   "source": [
    "me = max_error(y_out_sample, y_pred_out_sample)\n",
    "print('Max error: {:.2f}'.format(me))"
   ]
  },
  {
   "cell_type": "markdown",
   "id": "56035051",
   "metadata": {},
   "source": [
    "## Fairness"
   ]
  },
  {
   "cell_type": "code",
   "execution_count": 39,
   "id": "a7824218",
   "metadata": {},
   "outputs": [
    {
     "name": "stdout",
     "output_type": "stream",
     "text": [
      "   Performance Index  Hours Studied_2  Hours Studied_3  Hours Studied_4  \\\n",
      "0               91.0              0.0              0.0              0.0   \n",
      "1               65.0              0.0              0.0              1.0   \n",
      "2               45.0              0.0              0.0              0.0   \n",
      "3               36.0              0.0              0.0              0.0   \n",
      "4               66.0              0.0              0.0              0.0   \n",
      "\n",
      "   Hours Studied_5  Hours Studied_6  Hours Studied_7  Hours Studied_8  \\\n",
      "0              0.0              0.0              1.0              0.0   \n",
      "1              0.0              0.0              0.0              0.0   \n",
      "2              0.0              0.0              0.0              1.0   \n",
      "3              1.0              0.0              0.0              0.0   \n",
      "4              0.0              0.0              1.0              0.0   \n",
      "\n",
      "   Hours Studied_9  Extracurricular Activities_Yes  ...  \\\n",
      "0              0.0                             1.0  ...   \n",
      "1              0.0                             0.0  ...   \n",
      "2              0.0                             1.0  ...   \n",
      "3              0.0                             1.0  ...   \n",
      "4              0.0                             0.0  ...   \n",
      "\n",
      "   Sample Question Papers Practiced_0_1  Sample Question Papers Practiced_1_2  \\\n",
      "0                                     1                                     0   \n",
      "1                                     0                                     1   \n",
      "2                                     0                                     1   \n",
      "3                                     0                                     1   \n",
      "4                                     0                                     0   \n",
      "\n",
      "   Sample Question Papers Practiced_2_3  Sample Question Papers Practiced_3_4  \\\n",
      "0                                     0                                     0   \n",
      "1                                     0                                     0   \n",
      "2                                     0                                     0   \n",
      "3                                     0                                     0   \n",
      "4                                     0                                     0   \n",
      "\n",
      "   Sample Question Papers Practiced_4_5  Sample Question Papers Practiced_5_6  \\\n",
      "0                                     0                                     0   \n",
      "1                                     0                                     0   \n",
      "2                                     0                                     0   \n",
      "3                                     0                                     0   \n",
      "4                                     1                                     0   \n",
      "\n",
      "   Sample Question Papers Practiced_6_7  Sample Question Papers Practiced_7_8  \\\n",
      "0                                     0                                     0   \n",
      "1                                     0                                     0   \n",
      "2                                     0                                     0   \n",
      "3                                     0                                     0   \n",
      "4                                     0                                     0   \n",
      "\n",
      "   Sample Question Papers Practiced_8_9  Predicted value  \n",
      "0                                     0        43.461111  \n",
      "1                                     0        74.216707  \n",
      "2                                     0        44.983201  \n",
      "3                                     0        73.427988  \n",
      "4                                     0        53.374416  \n",
      "\n",
      "[5 rows x 46 columns]\n"
     ]
    }
   ],
   "source": [
    "# Create DataFrame for predicted values\n",
    "y_pred_mlr_df = pd.DataFrame({'Predicted value': y_pred_mlr})\n",
    "\n",
    "# Reset the index of the original_data DataFrame to ensure alignment\n",
    "original_data_reset_index = dataset.reset_index(drop=True)\n",
    "\n",
    "# Filter out rows with NaN predicted values\n",
    "joined_data = pd.concat([original_data_reset_index, y_pred_mlr_df], axis=1)\n",
    "joined_data = joined_data[~np.isnan(joined_data['Predicted value'])]\n",
    "\n",
    "# Display the joined data\n",
    "print(joined_data.head())\n"
   ]
  },
  {
   "cell_type": "code",
   "execution_count": null,
   "id": "9b89c6b1",
   "metadata": {},
   "outputs": [],
   "source": [
    "# Calculate absolute error\n",
    "absolute_error = abs(joined_data[target] - joined_data['Predicted value'])\n",
    "\n",
    "# Avoid division by zero\n",
    "error_rate = absolute_error / np.where(joined_data[target] != 0, joined_data[target], np.nan)\n",
    "\n",
    "# Add error rate as a new column to the dataset\n",
    "joined_data['Error Rate'] = error_rate\n",
    "\n",
    "print(joined_data.head())"
   ]
  },
  {
   "cell_type": "code",
   "execution_count": null,
   "id": "5dc79d3d",
   "metadata": {},
   "outputs": [],
   "source": [
    "# Filter rows where sex_M is equal to 0\n",
    "error_rate_sex_M_0 = joined_data[joined_data['sex_male'] == 0]['Error Rate'].fillna(0).median()\n",
    "# Filter rows where sex_M is equal to 1\n",
    "error_rate_sex_M_1 = joined_data[joined_data['sex_male'] == 1]['Error Rate'].median()\n",
    "\n",
    "print(f'Error rate mean for sex_male = 0: {error_rate_sex_M_0}')\n",
    "print(f'Error rate mean for sex_male = 1: {error_rate_sex_M_1}')\n"
   ]
  },
  {
   "cell_type": "markdown",
   "id": "405eb365",
   "metadata": {},
   "source": [
    "# Outlier Model"
   ]
  },
  {
   "cell_type": "markdown",
   "id": "a5745c63",
   "metadata": {},
   "source": [
    "### Up-Sampling"
   ]
  },
  {
   "cell_type": "code",
   "execution_count": null,
   "id": "63838d45",
   "metadata": {},
   "outputs": [],
   "source": [
    "# Iterate over columns starting with \"X\"\n",
    "for column in dataset.columns:\n",
    "    if column.startswith(\"sex\"):\n",
    "        # Get the target column\n",
    "        upsamp_target = outliers_dataset[column]\n",
    "        \n",
    "        # Get the sorted value counts\n",
    "        target_counts_sorted = upsamp_target.value_counts().sort_index()\n",
    "\n",
    "        # Display the counts\n",
    "        print(f\"Target Value Counts for {column} (Sorted):\")\n",
    "        print(target_counts_sorted)\n",
    "        "
   ]
  },
  {
   "cell_type": "code",
   "execution_count": null,
   "id": "4a7d2e54",
   "metadata": {},
   "outputs": [],
   "source": [
    "# Select rows where the value in the target column is equal to 1\n",
    "df_majority = outliers_dataset[outliers_dataset[\"sex_male\"] == 1]\n",
    "\n",
    "\n",
    "# Select rows where the value in the target column is equal to 0\n",
    "df_minority = outliers_dataset[outliers_dataset[\"sex_male\"] == 0]\n",
    "\n",
    "# Upsample minority class\n",
    "df_minority_upsampled = resample(df_minority, \n",
    "                                 replace=True,     \n",
    "                                 n_samples=len(df_majority),\n",
    "                                 random_state=42)  # Add random_state for reproducibility\n",
    "\n",
    "# Combine minority class with majority class\n",
    "outliers_dataset = pd.concat([df_majority, df_minority_upsampled])\n",
    "\n",
    "# Check the value counts of the prediction column in the downsampled dataset\n",
    "print(dataset[\"sex_male\"].value_counts())"
   ]
  },
  {
   "cell_type": "markdown",
   "id": "a5be89d1",
   "metadata": {},
   "source": [
    "## Dimensionality Reduction"
   ]
  },
  {
   "cell_type": "markdown",
   "id": "efcd3697",
   "metadata": {},
   "source": [
    "### PCA"
   ]
  },
  {
   "cell_type": "code",
   "execution_count": null,
   "id": "df5d1cba",
   "metadata": {},
   "outputs": [],
   "source": [
    "oX = outliers_dataset.drop(columns=[target])\n",
    "oy = outliers_dataset[target]\n",
    "\n",
    "# Perform PCA\n",
    "pca = PCA()\n",
    "ox_reduced = pca.fit_transform(oX)\n",
    "\n",
    "# Define cross-validation method\n",
    "cv = RepeatedKFold(n_splits=10, n_repeats=3, random_state=1)\n",
    "\n",
    "# Initialize linear regression model\n",
    "regr = LinearRegression()\n",
    "\n",
    "# Calculate MSE with only the intercept\n",
    "mse = []\n",
    "score = -1 * model_selection.cross_val_score(regr,\n",
    "                                              np.ones((len(ox_reduced), 1)), oy, cv=cv,\n",
    "                                              scoring='neg_mean_squared_error').mean()\n",
    "mse.append(score)\n",
    "\n",
    "# Calculate MSE using cross-validation, adding one component at a time\n",
    "for i in np.arange(1, 6):\n",
    "    score = -1 * model_selection.cross_val_score(regr,\n",
    "                                                  ox_reduced[:, :i], oy, cv=cv, scoring='neg_mean_squared_error').mean()\n",
    "    mse.append(score)\n",
    "\n",
    "# Choose the desired number of principal components based on the plot\n",
    "num_components = 12  # For example, choose n principal components\n",
    "\n",
    "# Use the selected number of principal components\n",
    "ox_reduced_selected = ox_reduced[:, :num_components]\n",
    "\n",
    "# Plot cross-validation results\n",
    "plt.plot(mse)\n",
    "plt.xlabel('Number of Principal Components')\n",
    "plt.ylabel('MSE')\n",
    "plt.title('MSE vs. Number of Principal Components')\n",
    "plt.show()"
   ]
  },
  {
   "cell_type": "code",
   "execution_count": null,
   "id": "67aeca0b",
   "metadata": {},
   "outputs": [],
   "source": [
    "#percentage of variance in the response variable explained by adding in each principal component to the model:\n",
    "np.cumsum(np.round(pca.explained_variance_ratio_, decimals=4)*100)"
   ]
  },
  {
   "cell_type": "markdown",
   "id": "801f45d7",
   "metadata": {},
   "source": [
    "## Splitting the outlier dataset"
   ]
  },
  {
   "cell_type": "code",
   "execution_count": null,
   "id": "45cebda4",
   "metadata": {},
   "outputs": [],
   "source": [
    "oX = outliers_dataset.drop(columns=[target])\n",
    "oy = outliers_dataset[target]"
   ]
  },
  {
   "cell_type": "code",
   "execution_count": null,
   "id": "fc28a38a",
   "metadata": {},
   "outputs": [],
   "source": [
    "from sklearn.model_selection import train_test_split\n",
    "\n",
    "# Split the data into training (50%), testing (30%), and out-of-sample (20%)\n",
    "ox_train, ox_temp, oy_train, oy_temp = train_test_split(ox_reduced_selected, oy, test_size=0.3, random_state=100)\n",
    "ox_test, ox_out_sample, oy_test, oy_out_sample = train_test_split(ox_temp, oy_temp, test_size=0.6, random_state=100)"
   ]
  },
  {
   "cell_type": "markdown",
   "id": "2002560e",
   "metadata": {},
   "source": [
    "## Fitting the Multiple Linear Regression Model"
   ]
  },
  {
   "cell_type": "code",
   "execution_count": null,
   "id": "5ea0a794",
   "metadata": {},
   "outputs": [],
   "source": [
    "from sklearn.model_selection import GridSearchCV\n",
    "from sklearn.metrics import make_scorer, r2_score\n",
    "\n",
    "# Define the model\n",
    "mlr = LinearRegression()\n",
    "\n",
    "# Define an empty hyperparameter grid\n",
    "param_grid = {}\n",
    "\n",
    "# Define the GridSearchCV with an empty hyperparameter grid\n",
    "grid_search = GridSearchCV(mlr, param_grid, cv=5, scoring=make_scorer(r2_score))\n",
    "\n",
    "# Fit the model with hyperparameter optimization\n",
    "grid_search.fit(ox_train, oy_train)\n",
    "\n",
    "# Get the best estimator\n",
    "best_mlr = grid_search.best_estimator_\n",
    "\n",
    "# Train the best model on the entire training set\n",
    "best_mlr.fit(ox_train, oy_train)"
   ]
  },
  {
   "cell_type": "markdown",
   "id": "1732276b",
   "metadata": {},
   "source": [
    "## Prediction of test set"
   ]
  },
  {
   "cell_type": "code",
   "execution_count": null,
   "id": "4603a9b8",
   "metadata": {},
   "outputs": [],
   "source": [
    "oy_pred_mlr = best_mlr.predict(ox_test)"
   ]
  },
  {
   "cell_type": "markdown",
   "id": "41286d6a",
   "metadata": {},
   "source": [
    "## Actual Value and Predicted Value"
   ]
  },
  {
   "cell_type": "code",
   "execution_count": null,
   "id": "beeb65cd",
   "metadata": {},
   "outputs": [],
   "source": [
    "mlr_diff = pd.DataFrame({'Actual value': oy_test, 'Predicted value': oy_pred_mlr})\n",
    "mlr_diff.head()"
   ]
  },
  {
   "cell_type": "markdown",
   "id": "3526072a",
   "metadata": {},
   "source": [
    "## Model Evaluation"
   ]
  },
  {
   "cell_type": "markdown",
   "id": "f54d5279",
   "metadata": {},
   "source": [
    "### On test data"
   ]
  },
  {
   "cell_type": "code",
   "execution_count": null,
   "id": "b738a953",
   "metadata": {},
   "outputs": [],
   "source": [
    "from sklearn import metrics\n",
    "r_squared = best_mlr.score(ox_test, oy_test)\n",
    "print('R squared: {:.2f}'.format(r_squared * 100))"
   ]
  },
  {
   "cell_type": "code",
   "execution_count": null,
   "id": "16b5266b",
   "metadata": {},
   "outputs": [],
   "source": [
    "mse = mean_squared_error(oy_test, oy_pred)\n",
    "print('Mean squared error: {:.2f}'.format(mse * 100))"
   ]
  },
  {
   "cell_type": "code",
   "execution_count": null,
   "id": "bfaf0b8d",
   "metadata": {},
   "outputs": [],
   "source": [
    "me = max_error(oy_test, oy_pred)\n",
    "print('Max error: {:.2f}'.format(me * 100))"
   ]
  },
  {
   "cell_type": "markdown",
   "id": "d8938f67",
   "metadata": {},
   "source": [
    "### On out-of-sample data"
   ]
  },
  {
   "cell_type": "code",
   "execution_count": null,
   "id": "6059b2f0",
   "metadata": {},
   "outputs": [],
   "source": [
    "r_squared = best_mlr.score(ox_out_sample, oy_out_sample)\n",
    "print('R squared: {:.2f}'.format(r_squared * 100))"
   ]
  },
  {
   "cell_type": "code",
   "execution_count": null,
   "id": "530719f9",
   "metadata": {},
   "outputs": [],
   "source": [
    "mse = mean_squared_error(oy_out_sample, y_pred_out_sample)\n",
    "print('Mean squared error: {:.2f}'.format(mse))"
   ]
  },
  {
   "cell_type": "code",
   "execution_count": null,
   "id": "cf18aa4e",
   "metadata": {},
   "outputs": [],
   "source": [
    "me = max_error(oy_out_sample, y_pred_out_sample)\n",
    "print('Max error: {:.2f}'.format(me))"
   ]
  },
  {
   "cell_type": "code",
   "execution_count": null,
   "id": "539220bf",
   "metadata": {},
   "outputs": [],
   "source": [
    "oy_pred_mlr_df = pd.DataFrame({'Predicted value': oy_pred_mlr})\n",
    "\n",
    "# Reset the index of the original_data DataFrame to ensure alignment\n",
    "ooriginal_data_reset_index = outliers_dataset.reset_index(drop=True)\n",
    "\n",
    "# Concatenate original_data_reset_index, y_test_df, and y_pred_mlr_df along the columns\n",
    "ojoined_data = pd.concat([original_data_reset_index, oy_pred_mlr_df], axis=1)\n",
    "\n",
    "# Display the joined data\n",
    "print(ojoined_data.head())"
   ]
  },
  {
   "cell_type": "code",
   "execution_count": null,
   "id": "ffecadb8",
   "metadata": {},
   "outputs": [],
   "source": [
    "# Calculate absolute error\n",
    "absolute_error = abs(ojoined_data[target] - ojoined_data['Predicted value'])\n",
    "\n",
    "# Calculate error rate\n",
    "error_rate = absolute_error / ojoined_data[target]\n",
    "\n",
    "# Add error rate as a new column to the dataset\n",
    "ojoined_data['Error Rate'] = error_rate\n",
    "ojoined_data = ojoined_data[~np.isnan(ojoined_data['Predicted value'])]\n",
    "\n",
    "print(ojoined_data.head())"
   ]
  },
  {
   "cell_type": "markdown",
   "id": "38dc6f67",
   "metadata": {},
   "source": [
    "# Combined Model"
   ]
  },
  {
   "cell_type": "code",
   "execution_count": null,
   "id": "5aef45f1",
   "metadata": {},
   "outputs": [],
   "source": [
    "combined_data = pd.concat([ojoined_data, joined_data], axis=0)\n",
    "\n",
    "# Reset index after concatenation\n",
    "combined_data.reset_index(drop=True, inplace=True)\n",
    "\n",
    "# Display the combined dataset\n",
    "print(combined_data)"
   ]
  },
  {
   "cell_type": "code",
   "execution_count": null,
   "id": "5695fada",
   "metadata": {},
   "outputs": [],
   "source": []
  }
 ],
 "metadata": {
  "kernelspec": {
   "display_name": "Python 3 (ipykernel)",
   "language": "python",
   "name": "python3"
  },
  "language_info": {
   "codemirror_mode": {
    "name": "ipython",
    "version": 3
   },
   "file_extension": ".py",
   "mimetype": "text/x-python",
   "name": "python",
   "nbconvert_exporter": "python",
   "pygments_lexer": "ipython3",
   "version": "3.11.4"
  }
 },
 "nbformat": 4,
 "nbformat_minor": 5
}
