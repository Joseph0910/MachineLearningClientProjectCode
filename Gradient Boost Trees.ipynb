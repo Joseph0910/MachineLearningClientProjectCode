{
 "cells": [
  {
   "cell_type": "markdown",
   "id": "56049ad6",
   "metadata": {},
   "source": [
    "# Import libraries\n"
   ]
  },
  {
   "cell_type": "code",
   "execution_count": 1,
   "id": "4280cee4",
   "metadata": {},
   "outputs": [],
   "source": [
    "import pandas as pd\n",
    "import numpy as np\n",
    "import matplotlib.pyplot as plt\n",
    "import seaborn as sns\n",
    "from mlxtend.feature_selection import SequentialFeatureSelector\n",
    "from sklearn.linear_model import LogisticRegression\n",
    "from sklearn.impute import SimpleImputer\n",
    "import statsmodels.api as sm\n",
    "from sklearn.preprocessing import StandardScaler\n",
    "from sklearn.decomposition import PCA\n",
    "from sklearn.preprocessing import scale \n",
    "from sklearn import model_selection\n",
    "from sklearn.model_selection import RepeatedKFold\n",
    "from sklearn.model_selection import train_test_split\n",
    "from sklearn.linear_model import LinearRegression\n",
    "from sklearn.metrics import mean_squared_error\n",
    "from sklearn.cluster import KMeans\n",
    "from sklearn.preprocessing import OneHotEncoder\n",
    "from sklearn.utils import resample"
   ]
  },
  {
   "cell_type": "markdown",
   "id": "b4a904a1",
   "metadata": {},
   "source": [
    "# Data Import"
   ]
  },
  {
   "cell_type": "code",
   "execution_count": 2,
   "id": "6d72df93",
   "metadata": {},
   "outputs": [],
   "source": [
    "dataset = pd.read_csv(\"Desktop/diabetes.csv\")"
   ]
  },
  {
   "cell_type": "markdown",
   "id": "4e83bb60",
   "metadata": {},
   "source": [
    "##### Optional Drop Column"
   ]
  },
  {
   "cell_type": "code",
   "execution_count": 3,
   "id": "47d66e64",
   "metadata": {},
   "outputs": [],
   "source": [
    "# Remove the column you want to drop\n",
    "#column_to_drop = \"product_id\"  # Replace \"column_name\" with the name of the column you want to remove\n",
    "#dataset.drop(columns=[column_to_drop], inplace=True)\n",
    "#column_to_drop = \"vendor_id\"  # Replace \"column_name\" with the name of the column you want to remove\n",
    "#dataset.drop(columns=[column_to_drop], inplace=True)"
   ]
  },
  {
   "cell_type": "markdown",
   "id": "48365d93",
   "metadata": {},
   "source": [
    "# Data Cleaning"
   ]
  },
  {
   "cell_type": "code",
   "execution_count": 4,
   "id": "8a44831b",
   "metadata": {},
   "outputs": [
    {
     "name": "stdout",
     "output_type": "stream",
     "text": [
      "<class 'pandas.core.frame.DataFrame'>\n",
      "RangeIndex: 768 entries, 0 to 767\n",
      "Data columns (total 9 columns):\n",
      " #   Column                    Non-Null Count  Dtype  \n",
      "---  ------                    --------------  -----  \n",
      " 0   Pregnancies               768 non-null    int64  \n",
      " 1   Glucose                   768 non-null    int64  \n",
      " 2   BloodPressure             768 non-null    int64  \n",
      " 3   SkinThickness             768 non-null    int64  \n",
      " 4   Insulin                   768 non-null    int64  \n",
      " 5   BMI                       768 non-null    float64\n",
      " 6   DiabetesPedigreeFunction  768 non-null    float64\n",
      " 7   Age                       768 non-null    int64  \n",
      " 8   Outcome                   768 non-null    int64  \n",
      "dtypes: float64(2), int64(7)\n",
      "memory usage: 54.1 KB\n"
     ]
    },
    {
     "data": {
      "text/html": [
       "<div>\n",
       "<style scoped>\n",
       "    .dataframe tbody tr th:only-of-type {\n",
       "        vertical-align: middle;\n",
       "    }\n",
       "\n",
       "    .dataframe tbody tr th {\n",
       "        vertical-align: top;\n",
       "    }\n",
       "\n",
       "    .dataframe thead th {\n",
       "        text-align: right;\n",
       "    }\n",
       "</style>\n",
       "<table border=\"1\" class=\"dataframe\">\n",
       "  <thead>\n",
       "    <tr style=\"text-align: right;\">\n",
       "      <th></th>\n",
       "      <th>count</th>\n",
       "      <th>mean</th>\n",
       "      <th>std</th>\n",
       "      <th>min</th>\n",
       "      <th>25%</th>\n",
       "      <th>50%</th>\n",
       "      <th>75%</th>\n",
       "      <th>max</th>\n",
       "    </tr>\n",
       "  </thead>\n",
       "  <tbody>\n",
       "    <tr>\n",
       "      <th>Pregnancies</th>\n",
       "      <td>768.0</td>\n",
       "      <td>3.845052</td>\n",
       "      <td>3.369578</td>\n",
       "      <td>0.000</td>\n",
       "      <td>1.00000</td>\n",
       "      <td>3.0000</td>\n",
       "      <td>6.00000</td>\n",
       "      <td>17.00</td>\n",
       "    </tr>\n",
       "    <tr>\n",
       "      <th>Glucose</th>\n",
       "      <td>768.0</td>\n",
       "      <td>120.894531</td>\n",
       "      <td>31.972618</td>\n",
       "      <td>0.000</td>\n",
       "      <td>99.00000</td>\n",
       "      <td>117.0000</td>\n",
       "      <td>140.25000</td>\n",
       "      <td>199.00</td>\n",
       "    </tr>\n",
       "    <tr>\n",
       "      <th>BloodPressure</th>\n",
       "      <td>768.0</td>\n",
       "      <td>69.105469</td>\n",
       "      <td>19.355807</td>\n",
       "      <td>0.000</td>\n",
       "      <td>62.00000</td>\n",
       "      <td>72.0000</td>\n",
       "      <td>80.00000</td>\n",
       "      <td>122.00</td>\n",
       "    </tr>\n",
       "    <tr>\n",
       "      <th>SkinThickness</th>\n",
       "      <td>768.0</td>\n",
       "      <td>20.536458</td>\n",
       "      <td>15.952218</td>\n",
       "      <td>0.000</td>\n",
       "      <td>0.00000</td>\n",
       "      <td>23.0000</td>\n",
       "      <td>32.00000</td>\n",
       "      <td>99.00</td>\n",
       "    </tr>\n",
       "    <tr>\n",
       "      <th>Insulin</th>\n",
       "      <td>768.0</td>\n",
       "      <td>79.799479</td>\n",
       "      <td>115.244002</td>\n",
       "      <td>0.000</td>\n",
       "      <td>0.00000</td>\n",
       "      <td>30.5000</td>\n",
       "      <td>127.25000</td>\n",
       "      <td>846.00</td>\n",
       "    </tr>\n",
       "    <tr>\n",
       "      <th>BMI</th>\n",
       "      <td>768.0</td>\n",
       "      <td>31.992578</td>\n",
       "      <td>7.884160</td>\n",
       "      <td>0.000</td>\n",
       "      <td>27.30000</td>\n",
       "      <td>32.0000</td>\n",
       "      <td>36.60000</td>\n",
       "      <td>67.10</td>\n",
       "    </tr>\n",
       "    <tr>\n",
       "      <th>DiabetesPedigreeFunction</th>\n",
       "      <td>768.0</td>\n",
       "      <td>0.471876</td>\n",
       "      <td>0.331329</td>\n",
       "      <td>0.078</td>\n",
       "      <td>0.24375</td>\n",
       "      <td>0.3725</td>\n",
       "      <td>0.62625</td>\n",
       "      <td>2.42</td>\n",
       "    </tr>\n",
       "    <tr>\n",
       "      <th>Age</th>\n",
       "      <td>768.0</td>\n",
       "      <td>33.240885</td>\n",
       "      <td>11.760232</td>\n",
       "      <td>21.000</td>\n",
       "      <td>24.00000</td>\n",
       "      <td>29.0000</td>\n",
       "      <td>41.00000</td>\n",
       "      <td>81.00</td>\n",
       "    </tr>\n",
       "    <tr>\n",
       "      <th>Outcome</th>\n",
       "      <td>768.0</td>\n",
       "      <td>0.348958</td>\n",
       "      <td>0.476951</td>\n",
       "      <td>0.000</td>\n",
       "      <td>0.00000</td>\n",
       "      <td>0.0000</td>\n",
       "      <td>1.00000</td>\n",
       "      <td>1.00</td>\n",
       "    </tr>\n",
       "  </tbody>\n",
       "</table>\n",
       "</div>"
      ],
      "text/plain": [
       "                          count        mean         std     min       25%  \\\n",
       "Pregnancies               768.0    3.845052    3.369578   0.000   1.00000   \n",
       "Glucose                   768.0  120.894531   31.972618   0.000  99.00000   \n",
       "BloodPressure             768.0   69.105469   19.355807   0.000  62.00000   \n",
       "SkinThickness             768.0   20.536458   15.952218   0.000   0.00000   \n",
       "Insulin                   768.0   79.799479  115.244002   0.000   0.00000   \n",
       "BMI                       768.0   31.992578    7.884160   0.000  27.30000   \n",
       "DiabetesPedigreeFunction  768.0    0.471876    0.331329   0.078   0.24375   \n",
       "Age                       768.0   33.240885   11.760232  21.000  24.00000   \n",
       "Outcome                   768.0    0.348958    0.476951   0.000   0.00000   \n",
       "\n",
       "                               50%        75%     max  \n",
       "Pregnancies                 3.0000    6.00000   17.00  \n",
       "Glucose                   117.0000  140.25000  199.00  \n",
       "BloodPressure              72.0000   80.00000  122.00  \n",
       "SkinThickness              23.0000   32.00000   99.00  \n",
       "Insulin                    30.5000  127.25000  846.00  \n",
       "BMI                        32.0000   36.60000   67.10  \n",
       "DiabetesPedigreeFunction    0.3725    0.62625    2.42  \n",
       "Age                        29.0000   41.00000   81.00  \n",
       "Outcome                     0.0000    1.00000    1.00  "
      ]
     },
     "execution_count": 4,
     "metadata": {},
     "output_type": "execute_result"
    }
   ],
   "source": [
    "dataset.info()\n",
    "#Distribution\n",
    "dataset.describe().transpose()"
   ]
  },
  {
   "cell_type": "markdown",
   "id": "9d4dd56d",
   "metadata": {},
   "source": [
    "### Null Values"
   ]
  },
  {
   "cell_type": "code",
   "execution_count": 5,
   "id": "32e2f7bf",
   "metadata": {},
   "outputs": [
    {
     "data": {
      "text/plain": [
       "Pregnancies                 0\n",
       "Glucose                     0\n",
       "BloodPressure               0\n",
       "SkinThickness               0\n",
       "Insulin                     0\n",
       "BMI                         0\n",
       "DiabetesPedigreeFunction    0\n",
       "Age                         0\n",
       "Outcome                     0\n",
       "dtype: int64"
      ]
     },
     "execution_count": 5,
     "metadata": {},
     "output_type": "execute_result"
    }
   ],
   "source": [
    "dataset.isna().sum()"
   ]
  },
  {
   "cell_type": "code",
   "execution_count": 6,
   "id": "1a417505",
   "metadata": {},
   "outputs": [
    {
     "name": "stdout",
     "output_type": "stream",
     "text": [
      "Modified Dataset:\n",
      "   Pregnancies  Glucose  BloodPressure  SkinThickness  Insulin   BMI  \\\n",
      "0            6      148             72             35        0  33.6   \n",
      "1            1       85             66             29        0  26.6   \n",
      "2            8      183             64              0        0  23.3   \n",
      "3            1       89             66             23       94  28.1   \n",
      "4            0      137             40             35      168  43.1   \n",
      "\n",
      "   DiabetesPedigreeFunction  Age  Outcome  \n",
      "0                     0.627   50        1  \n",
      "1                     0.351   31        0  \n",
      "2                     0.672   32        1  \n",
      "3                     0.167   21        0  \n",
      "4                     2.288   33        1  \n"
     ]
    }
   ],
   "source": [
    "# Calculate the threshold for missing values\n",
    "threshold = 0.2 * len(dataset)\n",
    "\n",
    "# Iterate over each column\n",
    "for column in dataset.columns:\n",
    "    # Check if the column has missing values\n",
    "    if dataset[column].isna().sum() > 0:\n",
    "        # If the column is numerical, fill missing values with column mean\n",
    "        if dataset[column].dtype in ['int64', 'float64']:\n",
    "            # If the number of missing values is less than the threshold, drop rows\n",
    "            if dataset[column].isna().sum() < threshold:\n",
    "                dataset = dataset.dropna(subset=[column])\n",
    "            # If the number of missing values is greater than or equal to the threshold, fill with column mean\n",
    "            else:\n",
    "                column_mean = dataset[column].mean()\n",
    "                dataset[column].fillna(column_mean, inplace=True)\n",
    "        # If the column is categorical, drop rows with missing values\n",
    "        elif dataset[column].dtype == 'object':\n",
    "            # If the number of missing values is less than the threshold, drop rows\n",
    "            if dataset[column].isna().sum() < threshold:\n",
    "                dataset = dataset.dropna(subset=[column])\n",
    "\n",
    "# Print modified dataset\n",
    "print(\"Modified Dataset:\")\n",
    "if dataset.empty:\n",
    "    print(\"No data available.\")\n",
    "else:\n",
    "    print(dataset.head())"
   ]
  },
  {
   "cell_type": "code",
   "execution_count": 7,
   "id": "2de3fb49",
   "metadata": {},
   "outputs": [],
   "source": [
    "# Check for any remaining missing values\n",
    "missing_values = dataset.isna().sum().sum()\n",
    "if missing_values > 0:\n",
    "    print(\"Warning: Dataset still contains missing values after cleaning.\")\n"
   ]
  },
  {
   "cell_type": "markdown",
   "id": "b1062155",
   "metadata": {},
   "source": [
    "## Identify Target Variable"
   ]
  },
  {
   "cell_type": "code",
   "execution_count": 8,
   "id": "e8326e0e",
   "metadata": {},
   "outputs": [],
   "source": [
    "target = 'Outcome'"
   ]
  },
  {
   "cell_type": "markdown",
   "id": "e496e0d5",
   "metadata": {},
   "source": [
    "# Feature Engineering "
   ]
  },
  {
   "cell_type": "code",
   "execution_count": 9,
   "id": "4d5905dc",
   "metadata": {},
   "outputs": [],
   "source": [
    "# Convert the \"sales\" column to string type if it's not already\n",
    "#dataset['sales'] = dataset['sales'].astype(str)\n",
    "\n",
    "# Remove dollar signs and commas, and convert to integers\n",
    "#dataset['sales'] = dataset['sales'].str.replace('$', '').str.replace(',', '', regex=False).astype(int)"
   ]
  },
  {
   "cell_type": "markdown",
   "id": "b8682599",
   "metadata": {},
   "source": [
    "### One Hot Encoder"
   ]
  },
  {
   "cell_type": "code",
   "execution_count": 10,
   "id": "5a74ba55",
   "metadata": {},
   "outputs": [
    {
     "name": "stdout",
     "output_type": "stream",
     "text": [
      "Modified Dataset:\n",
      "   Pregnancies  Glucose  BloodPressure  SkinThickness  Insulin   BMI  \\\n",
      "0            6      148             72             35        0  33.6   \n",
      "1            1       85             66             29        0  26.6   \n",
      "2            8      183             64              0        0  23.3   \n",
      "3            1       89             66             23       94  28.1   \n",
      "4            0      137             40             35      168  43.1   \n",
      "\n",
      "   DiabetesPedigreeFunction  Age  Outcome  \n",
      "0                     0.627   50        1  \n",
      "1                     0.351   31        0  \n",
      "2                     0.672   32        1  \n",
      "3                     0.167   21        0  \n",
      "4                     2.288   33        1  \n"
     ]
    }
   ],
   "source": [
    "# Check for categorical variables\n",
    "categorical_columns = set()\n",
    "\n",
    "# Add columns with less than 10 unique values\n",
    "for column in dataset.columns:\n",
    "    if column != target and dataset[column].nunique() < 10:\n",
    "        categorical_columns.add(column)\n",
    "\n",
    "# Append columns with object data type\n",
    "categorical_columns.update(col for col in dataset.select_dtypes(include=['object']).columns.tolist() if col != target and col != target)\n",
    "\n",
    "# Identify and add true/false columns\n",
    "true_false_columns = [col for col in dataset.columns if dataset[col].dtype == 'bool']\n",
    "categorical_columns.update(true_false_columns)\n",
    "\n",
    "if len(categorical_columns) > 0:\n",
    "    print(\"Categorical columns found:\")\n",
    "    for column in categorical_columns:\n",
    "        print(column)\n",
    "    \n",
    "    # Fit the encoder to the categorical columns\n",
    "    encoder = OneHotEncoder(drop='first', sparse_output=False)\n",
    "    encoded_columns = encoder.fit_transform(dataset[list(categorical_columns)])\n",
    "\n",
    "    # Get the feature names from the encoder\n",
    "    encoded_feature_names = encoder.get_feature_names_out(input_features=list(categorical_columns))\n",
    "\n",
    "    # Create a DataFrame with the encoded columns and feature names\n",
    "    encoded_df = pd.DataFrame(encoded_columns, columns=encoded_feature_names, index=dataset.index)\n",
    "\n",
    "    # Drop original categorical columns\n",
    "    dataset.drop(columns=categorical_columns, inplace=True)\n",
    "    \n",
    "    # Concatenate encoded columns with dataset\n",
    "    dataset = pd.concat([dataset, encoded_df], axis=1)\n",
    "    \n",
    "# Display the modified dataset\n",
    "print(\"Modified Dataset:\")\n",
    "if dataset.empty:\n",
    "    print(\"No data available.\")\n",
    "else:\n",
    "    print(dataset.head())"
   ]
  },
  {
   "cell_type": "markdown",
   "id": "886d1543",
   "metadata": {},
   "source": [
    "### Binary Variables"
   ]
  },
  {
   "cell_type": "code",
   "execution_count": 11,
   "id": "2c53a128",
   "metadata": {},
   "outputs": [
    {
     "name": "stdout",
     "output_type": "stream",
     "text": [
      "Binary Variables:\n",
      "['Outcome']\n"
     ]
    }
   ],
   "source": [
    "binary_variables = []\n",
    "\n",
    "# Iterate through each column\n",
    "for column in dataset.columns:\n",
    "    # Check if the number of unique values is 2 and values are 0 and 1, or if the value is just 0\n",
    "    if (dataset[column].nunique() == 2 and set(dataset[column]) == {0, 1}) or (dataset[column].nunique() == 1 and set(dataset[column]) == {0}):\n",
    "        binary_variables.append(column)\n",
    "\n",
    "# Print binary variables\n",
    "print(\"Binary Variables:\")\n",
    "print(binary_variables)"
   ]
  },
  {
   "cell_type": "markdown",
   "id": "6d264fde",
   "metadata": {},
   "source": [
    "## Numerical to Binary Variables"
   ]
  },
  {
   "cell_type": "code",
   "execution_count": 12,
   "id": "f5bf148f",
   "metadata": {},
   "outputs": [
    {
     "data": {
      "image/png": "[encoded data removed]",
      "text/plain": [
       "<Figure size 1200x800 with 8 Axes>"
      ]
     },
     "metadata": {},
     "output_type": "display_data"
    }
   ],
   "source": [
    "# Check if the target variable is numerical or categorical\n",
    "if dataset[target].dtype in ['int64', 'float64']:\n",
    "    # Get numerical variables excluding the target variable\n",
    "    numerical_variables = dataset.select_dtypes(include=['int64', 'float64']).columns.drop(target)\n",
    "else:\n",
    "    # Get numerical variables excluding the target variable\n",
    "    numerical_variables = dataset.select_dtypes(include=['int64', 'float64']).columns\n",
    "\n",
    "numerical_variables = numerical_variables.difference(binary_variables)\n",
    "\n",
    "# Calculate number of bins for each numerical variable\n",
    "num_bins_dict = {}\n",
    "for column in numerical_variables:\n",
    "    # Calculate the number of bins using Freedman-Diaconis rule\n",
    "    q75, q25 = dataset[column].quantile([0.75, 0.25])\n",
    "    iqr = q75 - q25\n",
    "    bin_width = 2 * iqr / (len(dataset[column]) ** (1/3))\n",
    "    \n",
    "    # Check if bin_width is zero\n",
    "    if bin_width == 0:\n",
    "        # Set a default number of bins or handle it appropriately\n",
    "        num_bins = 10  # Default value\n",
    "    else:\n",
    "        num_bins = int((dataset[column].max() - dataset[column].min()) / bin_width)\n",
    "        \n",
    "    # Ensure num_bins is an integer value\n",
    "    num_bins = int(num_bins)\n",
    "    \n",
    "    num_bins_dict[column] = num_bins\n",
    "\n",
    "# Initialize an empty DataFrame to store the binned categorical variables\n",
    "binned_dataset = pd.DataFrame()\n",
    "\n",
    "# Calculate the number of rows and columns for subplots\n",
    "num_variables = len(numerical_variables)\n",
    "num_rows = int(np.ceil(num_variables / 2))\n",
    "num_cols = 2\n",
    "\n",
    "# Initialize figure for histograms\n",
    "plt.figure(figsize=(12, 8))\n",
    "\n",
    "# Iterate through each numerical variable\n",
    "for i, column in enumerate(numerical_variables):\n",
    "    plt.subplot(num_rows, num_cols, i + 1)\n",
    "    \n",
    "    # Plot histogram\n",
    "    plt.hist(dataset[column], bins=num_bins_dict[column], color='skyblue', edgecolor='black')\n",
    "    plt.xlabel(column)\n",
    "    plt.ylabel('Frequency')\n",
    "    plt.title(f'Histogram of {column}')\n",
    "    plt.grid(True)\n",
    "    \n",
    "# Display the histograms\n",
    "plt.tight_layout()\n",
    "plt.show()\n"
   ]
  },
  {
   "cell_type": "code",
   "execution_count": 13,
   "id": "faad3988",
   "metadata": {},
   "outputs": [
    {
     "name": "stdout",
     "output_type": "stream",
     "text": [
      "Binned Dataset:\n",
      "   Age_20_24  Age_24_28  Age_28_32  Age_32_36  Age_36_39  Age_39_43  \\\n",
      "0          0          0          0          0          0          0   \n",
      "1          0          0          1          0          0          0   \n",
      "2          0          0          1          0          0          0   \n",
      "3          1          0          0          0          0          0   \n",
      "4          0          0          0          1          0          0   \n",
      "\n",
      "   Age_43_47  Age_47_51  Age_51_54  Age_54_58  ...  SkinThickness_28_35  \\\n",
      "0          0          1          0          0  ...                    1   \n",
      "1          0          0          0          0  ...                    1   \n",
      "2          0          0          0          0  ...                    0   \n",
      "3          0          0          0          0  ...                    0   \n",
      "4          0          0          0          0  ...                    1   \n",
      "\n",
      "   SkinThickness_35_42  SkinThickness_42_49  SkinThickness_49_56  \\\n",
      "0                    0                    0                    0   \n",
      "1                    0                    0                    0   \n",
      "2                    0                    0                    0   \n",
      "3                    0                    0                    0   \n",
      "4                    0                    0                    0   \n",
      "\n",
      "   SkinThickness_56_63  SkinThickness_63_70  SkinThickness_70_77  \\\n",
      "0                    0                    0                    0   \n",
      "1                    0                    0                    0   \n",
      "2                    0                    0                    0   \n",
      "3                    0                    0                    0   \n",
      "4                    0                    0                    0   \n",
      "\n",
      "   SkinThickness_77_84  SkinThickness_84_91  SkinThickness_91_99  \n",
      "0                    0                    0                    0  \n",
      "1                    0                    0                    0  \n",
      "2                    0                    0                    0  \n",
      "3                    0                    0                    0  \n",
      "4                    0                    0                    0  \n",
      "\n",
      "[5 rows x 189 columns]\n"
     ]
    }
   ],
   "source": [
    "# Initialize an empty DataFrame to store the binned categorical variables\n",
    "binned_dataset = pd.DataFrame()\n",
    "\n",
    "# Iterate through each numerical variable\n",
    "for column in numerical_variables:\n",
    "    # Calculate the maximum number of bins for this column\n",
    "    max_bins_column = num_bins_dict[column]\n",
    "    \n",
    "    # Bin the data accordingly\n",
    "    bins, bin_edges = pd.cut(dataset[column], bins=max_bins_column, retbins=True)\n",
    "    \n",
    "    # Generate bin labels from the bin edges\n",
    "    bin_labels = [f\"{column}_{int(bin_edges[i])}_{int(bin_edges[i+1])}\" for i in range(len(bin_edges)-1)]\n",
    "    \n",
    "    # Encode bins using one-hot encoding\n",
    "    encoded_bins = pd.get_dummies(bins, prefix=column)\n",
    "    \n",
    "    # Rename columns with integer bin edges\n",
    "    encoded_bins.columns = bin_labels\n",
    "    \n",
    "    # Concatenate encoded bins to the binned dataset\n",
    "    binned_dataset = pd.concat([binned_dataset, encoded_bins], axis=1)\n",
    "\n",
    "# Display the first few rows of the binned dataset\n",
    "print(\"Binned Dataset:\")\n",
    "print(binned_dataset.head())\n",
    "\n"
   ]
  },
  {
   "cell_type": "code",
   "execution_count": 14,
   "id": "a027f43c",
   "metadata": {},
   "outputs": [
    {
     "name": "stdout",
     "output_type": "stream",
     "text": [
      "Duplicate column names found:\n",
      "DiabetesPedigreeFunction_0_0\n",
      "DiabetesPedigreeFunction_0_0\n",
      "DiabetesPedigreeFunction_0_0\n",
      "DiabetesPedigreeFunction_0_0\n",
      "DiabetesPedigreeFunction_0_0\n",
      "DiabetesPedigreeFunction_0_0\n",
      "DiabetesPedigreeFunction_0_0\n",
      "DiabetesPedigreeFunction_0_0\n",
      "DiabetesPedigreeFunction_0_0\n",
      "DiabetesPedigreeFunction_0_0\n",
      "DiabetesPedigreeFunction_1_1\n",
      "DiabetesPedigreeFunction_1_1\n",
      "DiabetesPedigreeFunction_1_1\n",
      "DiabetesPedigreeFunction_1_1\n",
      "DiabetesPedigreeFunction_1_1\n",
      "DiabetesPedigreeFunction_1_1\n",
      "DiabetesPedigreeFunction_1_1\n",
      "DiabetesPedigreeFunction_1_1\n",
      "DiabetesPedigreeFunction_1_1\n",
      "DiabetesPedigreeFunction_2_2\n",
      "DiabetesPedigreeFunction_2_2\n",
      "DiabetesPedigreeFunction_2_2\n",
      "DiabetesPedigreeFunction_2_2\n",
      "Duplicate columns merged.\n"
     ]
    }
   ],
   "source": [
    "# Check for duplicate column names\n",
    "duplicate_columns = binned_dataset.columns[binned_dataset.columns.duplicated()]\n",
    "\n",
    "# Print duplicate column names, if any\n",
    "if len(duplicate_columns) > 0:\n",
    "    print(\"Duplicate column names found:\")\n",
    "    for column in duplicate_columns:\n",
    "        print(column)\n",
    "    \n",
    "    # Merge duplicate columns\n",
    "    binned_dataset = binned_dataset.groupby(level=0, axis=1).sum()\n",
    "    \n",
    "    print(\"Duplicate columns merged.\")\n",
    "else:\n",
    "    print(\"No duplicate column names found.\")"
   ]
  },
  {
   "cell_type": "code",
   "execution_count": 15,
   "id": "1ba77c07",
   "metadata": {},
   "outputs": [
    {
     "name": "stdout",
     "output_type": "stream",
     "text": [
      "Updated Dataset:\n",
      "   Outcome  Age_20_24  Age_24_28  Age_28_32  Age_32_36  Age_36_39  Age_39_43  \\\n",
      "0        1          0          0          0          0          0          0   \n",
      "1        0          0          0          1          0          0          0   \n",
      "2        1          0          0          1          0          0          0   \n",
      "3        0          1          0          0          0          0          0   \n",
      "4        1          0          0          0          1          0          0   \n",
      "\n",
      "   Age_43_47  Age_47_51  Age_51_54  ...  SkinThickness_35_42  \\\n",
      "0          0          1          0  ...                    0   \n",
      "1          0          0          0  ...                    0   \n",
      "2          0          0          0  ...                    0   \n",
      "3          0          0          0  ...                    0   \n",
      "4          0          0          0  ...                    0   \n",
      "\n",
      "   SkinThickness_42_49  SkinThickness_49_56  SkinThickness_56_63  \\\n",
      "0                    0                    0                    0   \n",
      "1                    0                    0                    0   \n",
      "2                    0                    0                    0   \n",
      "3                    0                    0                    0   \n",
      "4                    0                    0                    0   \n",
      "\n",
      "   SkinThickness_63_70  SkinThickness_70_77  SkinThickness_77_84  \\\n",
      "0                    0                    0                    0   \n",
      "1                    0                    0                    0   \n",
      "2                    0                    0                    0   \n",
      "3                    0                    0                    0   \n",
      "4                    0                    0                    0   \n",
      "\n",
      "   SkinThickness_7_14  SkinThickness_84_91  SkinThickness_91_99  \n",
      "0                   0                    0                    0  \n",
      "1                   0                    0                    0  \n",
      "2                   0                    0                    0  \n",
      "3                   0                    0                    0  \n",
      "4                   0                    0                    0  \n",
      "\n",
      "[5 rows x 167 columns]\n"
     ]
    }
   ],
   "source": [
    "# Drop numerical columns from the original dataset\n",
    "dataset.drop(columns=numerical_variables, inplace=True)\n",
    "\n",
    "# Concatenate binned_dataset with the original dataset\n",
    "dataset = pd.concat([dataset, binned_dataset], axis=1)\n",
    "\n",
    "# Display the updated dataset\n",
    "print(\"Updated Dataset:\")\n",
    "print(dataset.head())"
   ]
  },
  {
   "cell_type": "code",
   "execution_count": 16,
   "id": "8ce49e20",
   "metadata": {},
   "outputs": [],
   "source": [
    "# Check for any remaining missing values\n",
    "missing_values = dataset.isna().sum().sum()\n",
    "if missing_values > 0:\n",
    "    print(\"Warning: Dataset still contains missing values after cleaning.\")"
   ]
  },
  {
   "cell_type": "markdown",
   "id": "d253324e",
   "metadata": {},
   "source": [
    "### Up-Sampling"
   ]
  },
  {
   "cell_type": "markdown",
   "id": "2f3a9478",
   "metadata": {},
   "source": [
    "##### Outcome"
   ]
  },
  {
   "cell_type": "code",
   "execution_count": 17,
   "id": "5ed421c8",
   "metadata": {},
   "outputs": [
    {
     "data": {
      "text/html": [
       "<div>\n",
       "<style scoped>\n",
       "    .dataframe tbody tr th:only-of-type {\n",
       "        vertical-align: middle;\n",
       "    }\n",
       "\n",
       "    .dataframe tbody tr th {\n",
       "        vertical-align: top;\n",
       "    }\n",
       "\n",
       "    .dataframe thead th {\n",
       "        text-align: right;\n",
       "    }\n",
       "</style>\n",
       "<table border=\"1\" class=\"dataframe\">\n",
       "  <thead>\n",
       "    <tr style=\"text-align: right;\">\n",
       "      <th></th>\n",
       "      <th>Age_20_24</th>\n",
       "      <th>Age_24_28</th>\n",
       "      <th>Age_28_32</th>\n",
       "      <th>Age_32_36</th>\n",
       "      <th>Age_36_39</th>\n",
       "      <th>Age_39_43</th>\n",
       "      <th>Age_43_47</th>\n",
       "      <th>Age_47_51</th>\n",
       "      <th>Age_51_54</th>\n",
       "      <th>Age_54_58</th>\n",
       "      <th>...</th>\n",
       "      <th>SkinThickness_35_42</th>\n",
       "      <th>SkinThickness_42_49</th>\n",
       "      <th>SkinThickness_49_56</th>\n",
       "      <th>SkinThickness_56_63</th>\n",
       "      <th>SkinThickness_63_70</th>\n",
       "      <th>SkinThickness_70_77</th>\n",
       "      <th>SkinThickness_77_84</th>\n",
       "      <th>SkinThickness_7_14</th>\n",
       "      <th>SkinThickness_84_91</th>\n",
       "      <th>SkinThickness_91_99</th>\n",
       "    </tr>\n",
       "    <tr>\n",
       "      <th>Outcome</th>\n",
       "      <th></th>\n",
       "      <th></th>\n",
       "      <th></th>\n",
       "      <th></th>\n",
       "      <th></th>\n",
       "      <th></th>\n",
       "      <th></th>\n",
       "      <th></th>\n",
       "      <th></th>\n",
       "      <th></th>\n",
       "      <th></th>\n",
       "      <th></th>\n",
       "      <th></th>\n",
       "      <th></th>\n",
       "      <th></th>\n",
       "      <th></th>\n",
       "      <th></th>\n",
       "      <th></th>\n",
       "      <th></th>\n",
       "      <th></th>\n",
       "      <th></th>\n",
       "    </tr>\n",
       "  </thead>\n",
       "  <tbody>\n",
       "    <tr>\n",
       "      <th>0</th>\n",
       "      <td>500</td>\n",
       "      <td>500</td>\n",
       "      <td>500</td>\n",
       "      <td>500</td>\n",
       "      <td>500</td>\n",
       "      <td>500</td>\n",
       "      <td>500</td>\n",
       "      <td>500</td>\n",
       "      <td>500</td>\n",
       "      <td>500</td>\n",
       "      <td>...</td>\n",
       "      <td>500</td>\n",
       "      <td>500</td>\n",
       "      <td>500</td>\n",
       "      <td>500</td>\n",
       "      <td>500</td>\n",
       "      <td>500</td>\n",
       "      <td>500</td>\n",
       "      <td>500</td>\n",
       "      <td>500</td>\n",
       "      <td>500</td>\n",
       "    </tr>\n",
       "    <tr>\n",
       "      <th>1</th>\n",
       "      <td>268</td>\n",
       "      <td>268</td>\n",
       "      <td>268</td>\n",
       "      <td>268</td>\n",
       "      <td>268</td>\n",
       "      <td>268</td>\n",
       "      <td>268</td>\n",
       "      <td>268</td>\n",
       "      <td>268</td>\n",
       "      <td>268</td>\n",
       "      <td>...</td>\n",
       "      <td>268</td>\n",
       "      <td>268</td>\n",
       "      <td>268</td>\n",
       "      <td>268</td>\n",
       "      <td>268</td>\n",
       "      <td>268</td>\n",
       "      <td>268</td>\n",
       "      <td>268</td>\n",
       "      <td>268</td>\n",
       "      <td>268</td>\n",
       "    </tr>\n",
       "  </tbody>\n",
       "</table>\n",
       "<p>2 rows × 166 columns</p>\n",
       "</div>"
      ],
      "text/plain": [
       "         Age_20_24  Age_24_28  Age_28_32  Age_32_36  Age_36_39  Age_39_43  \\\n",
       "Outcome                                                                     \n",
       "0              500        500        500        500        500        500   \n",
       "1              268        268        268        268        268        268   \n",
       "\n",
       "         Age_43_47  Age_47_51  Age_51_54  Age_54_58  ...  SkinThickness_35_42  \\\n",
       "Outcome                                              ...                        \n",
       "0              500        500        500        500  ...                  500   \n",
       "1              268        268        268        268  ...                  268   \n",
       "\n",
       "         SkinThickness_42_49  SkinThickness_49_56  SkinThickness_56_63  \\\n",
       "Outcome                                                                  \n",
       "0                        500                  500                  500   \n",
       "1                        268                  268                  268   \n",
       "\n",
       "         SkinThickness_63_70  SkinThickness_70_77  SkinThickness_77_84  \\\n",
       "Outcome                                                                  \n",
       "0                        500                  500                  500   \n",
       "1                        268                  268                  268   \n",
       "\n",
       "         SkinThickness_7_14  SkinThickness_84_91  SkinThickness_91_99  \n",
       "Outcome                                                                \n",
       "0                       500                  500                  500  \n",
       "1                       268                  268                  268  \n",
       "\n",
       "[2 rows x 166 columns]"
      ]
     },
     "execution_count": 17,
     "metadata": {},
     "output_type": "execute_result"
    }
   ],
   "source": [
    "dataset.groupby(target).count()"
   ]
  },
  {
   "cell_type": "code",
   "execution_count": 18,
   "id": "464f5061",
   "metadata": {},
   "outputs": [
    {
     "name": "stdout",
     "output_type": "stream",
     "text": [
      "Target Value Counts (Sorted):\n",
      "0    500\n",
      "1    268\n",
      "Name: Outcome, dtype: int64\n"
     ]
    },
    {
     "data": {
      "image/png": "[encoded data removed]",
      "text/plain": [
       "<Figure size 1000x600 with 1 Axes>"
      ]
     },
     "metadata": {},
     "output_type": "display_data"
    }
   ],
   "source": [
    "target_counts_sorted = dataset[target].value_counts().sort_index()\n",
    "\n",
    "# Display the counts\n",
    "print(\"Target Value Counts (Sorted):\")\n",
    "print(target_counts_sorted)\n",
    "\n",
    "plt.figure(figsize=(10, 6))\n",
    "plt.hist(dataset[target], bins='auto', color='skyblue', edgecolor='black')\n",
    "plt.xlabel(target)\n",
    "plt.ylabel('Frequency')\n",
    "plt.title('Histogram of Target')\n",
    "plt.grid(True)\n",
    "plt.show()"
   ]
  },
  {
   "cell_type": "code",
   "execution_count": 19,
   "id": "8b1cea4c",
   "metadata": {},
   "outputs": [
    {
     "name": "stdout",
     "output_type": "stream",
     "text": [
      "0    500\n",
      "1    500\n",
      "Name: Outcome, dtype: int64\n"
     ]
    }
   ],
   "source": [
    "\n",
    "df_majority = dataset[dataset[target] == 0]\n",
    "\n",
    "\n",
    "df_minority = dataset[dataset[target] == 1]\n",
    "\n",
    "# Upsample minority class\n",
    "df_minority_upsampled = resample(df_minority, \n",
    "                                 replace=True,     \n",
    "                                 n_samples=len(df_majority),\n",
    "                                 random_state=42)  # Add random_state for reproducibility\n",
    "\n",
    "# Combine minority class with majority class\n",
    "dataset = pd.concat([df_majority, df_minority_upsampled])\n",
    "\n",
    "# Check the value counts of the prediction column in the downsampled dataset\n",
    "print(dataset[target].value_counts())\n"
   ]
  },
  {
   "cell_type": "markdown",
   "id": "0fbdb4a7",
   "metadata": {},
   "source": [
    "### Bias in other features"
   ]
  },
  {
   "cell_type": "code",
   "execution_count": 21,
   "id": "32278b28",
   "metadata": {},
   "outputs": [
    {
     "name": "stdout",
     "output_type": "stream",
     "text": [
      "Target Value Counts for Age_20_24 (Sorted):\n",
      "0    754\n",
      "1    246\n",
      "Name: Age_20_24, dtype: int64\n",
      "Target Value Counts for Age_24_28 (Sorted):\n",
      "0    823\n",
      "1    177\n",
      "Name: Age_24_28, dtype: int64\n",
      "Target Value Counts for Age_28_32 (Sorted):\n",
      "0    877\n",
      "1    123\n",
      "Name: Age_28_32, dtype: int64\n",
      "Target Value Counts for Age_32_36 (Sorted):\n",
      "0    922\n",
      "1     78\n",
      "Name: Age_32_36, dtype: int64\n",
      "Target Value Counts for Age_36_39 (Sorted):\n",
      "0    928\n",
      "1     72\n",
      "Name: Age_36_39, dtype: int64\n",
      "Target Value Counts for Age_39_43 (Sorted):\n",
      "0    905\n",
      "1     95\n",
      "Name: Age_39_43, dtype: int64\n",
      "Target Value Counts for Age_43_47 (Sorted):\n",
      "0    939\n",
      "1     61\n",
      "Name: Age_43_47, dtype: int64\n",
      "Target Value Counts for Age_47_51 (Sorted):\n",
      "0    949\n",
      "1     51\n",
      "Name: Age_47_51, dtype: int64\n",
      "Target Value Counts for Age_51_54 (Sorted):\n",
      "0    969\n",
      "1     31\n",
      "Name: Age_51_54, dtype: int64\n",
      "Target Value Counts for Age_54_58 (Sorted):\n",
      "0    972\n",
      "1     28\n",
      "Name: Age_54_58, dtype: int64\n",
      "Target Value Counts for Age_58_62 (Sorted):\n",
      "0    984\n",
      "1     16\n",
      "Name: Age_58_62, dtype: int64\n",
      "Target Value Counts for Age_62_66 (Sorted):\n",
      "0    988\n",
      "1     12\n",
      "Name: Age_62_66, dtype: int64\n",
      "Target Value Counts for Age_66_69 (Sorted):\n",
      "0    994\n",
      "1      6\n",
      "Name: Age_66_69, dtype: int64\n",
      "Target Value Counts for Age_69_73 (Sorted):\n",
      "0    997\n",
      "1      3\n",
      "Name: Age_69_73, dtype: int64\n",
      "Target Value Counts for Age_73_77 (Sorted):\n",
      "0    1000\n",
      "Name: Age_73_77, dtype: int64\n",
      "Target Value Counts for Age_77_81 (Sorted):\n",
      "0    999\n",
      "1      1\n",
      "Name: Age_77_81, dtype: int64\n"
     ]
    }
   ],
   "source": [
    "# Iterate over columns starting with \"X\"\n",
    "for column in dataset.columns:\n",
    "    if column.startswith(\"Age\"):\n",
    "        # Get the target column\n",
    "        upsamp_target = dataset[column]\n",
    "        \n",
    "        # Get the sorted value counts\n",
    "        target_counts_sorted = upsamp_target.value_counts().sort_index()\n",
    "\n",
    "        # Display the counts\n",
    "        print(f\"Target Value Counts for {column} (Sorted):\")\n",
    "        print(target_counts_sorted)"
   ]
  },
  {
   "cell_type": "code",
   "execution_count": null,
   "id": "79468254",
   "metadata": {},
   "outputs": [],
   "source": [
    "# Select rows where the value in the target column is equal to 1\n",
    "df_majority = dataset[dataset[\"Sex_male\"] == 1]\n",
    "\n",
    "\n",
    "# Select rows where the value in the target column is equal to 0\n",
    "df_minority = dataset[dataset[\"Sex_male\"] == 0]\n",
    "\n",
    "# Upsample minority class\n",
    "df_minority_upsampled = resample(df_minority, \n",
    "                                 replace=True,     \n",
    "                                 n_samples=len(df_majority),\n",
    "                                 random_state=42)  # Add random_state for reproducibility\n",
    "\n",
    "# Combine minority class with majority class\n",
    "dataset = pd.concat([df_majority, df_minority_upsampled])\n",
    "\n",
    "# Check the value counts of the prediction column in the downsampled dataset\n",
    "print(dataset[\"Sex_male\"].value_counts())"
   ]
  },
  {
   "cell_type": "markdown",
   "id": "00f90e41",
   "metadata": {},
   "source": [
    "# Dimensionality Reduction"
   ]
  },
  {
   "cell_type": "code",
   "execution_count": 22,
   "id": "026b5d03",
   "metadata": {},
   "outputs": [
    {
     "name": "stdout",
     "output_type": "stream",
     "text": [
      "Highly correlated variables: {'BMI_50_52', 'BMI_54_56', 'Insulin_676_705', 'BloodPressure_27_31', 'DiabetesPedigreeFunction_0_0', 'DiabetesPedigreeFunction_1_1'}\n",
      "Constant variables: ['Age_73_77', 'BMI_10_12', 'BMI_12_14', 'BMI_14_16', 'BMI_2_4', 'BMI_4_6', 'BMI_61_63', 'BMI_63_65', 'BMI_6_8', 'BMI_8_10', 'BloodPressure_114_118', 'BloodPressure_11_15', 'BloodPressure_15_19', 'BloodPressure_19_23', 'BloodPressure_31_35', 'BloodPressure_39_43', 'BloodPressure_3_7', 'BloodPressure_7_11', 'DiabetesPedigreeFunction_1_2', 'Glucose_18_27', 'Glucose_27_36', 'Glucose_45_54', 'Glucose_9_18', 'Insulin_620_648', 'Insulin_648_676', 'Insulin_705_733', 'Insulin_761_789', 'Insulin_789_817', 'Insulin_817_846', 'SkinThickness_63_70', 'SkinThickness_70_77', 'SkinThickness_77_84', 'SkinThickness_84_91', 'SkinThickness_91_99']\n"
     ]
    }
   ],
   "source": [
    "#Check for perfect multicollinearity\n",
    "correlation_matrix = dataset.corr()\n",
    "highly_correlated_variables = set()\n",
    "for i in range(len(correlation_matrix.columns)):\n",
    "    for j in range(i):\n",
    "        if abs(correlation_matrix.iloc[i, j]) > 0.8:\n",
    "            colname_i = correlation_matrix.columns[i]\n",
    "            colname_j = correlation_matrix.columns[j]\n",
    "            highly_correlated_variables.add(colname_i)\n",
    "            highly_correlated_variables.add(colname_j)\n",
    "print(\"Highly correlated variables:\", highly_correlated_variables)\n",
    "\n",
    "# Step 2: Remove constant variables\n",
    "constant_variables = [col for col in dataset.columns if dataset[col].nunique() == 1]\n",
    "print(\"Constant variables:\", constant_variables)\n",
    "dataset.drop(columns=constant_variables, inplace=True)\n",
    "\n",
    "# Define the target variable 'y'\n",
    "y = dataset[target]\n",
    "\n",
    "# Select all other columns as features 'x'\n",
    "x = dataset.drop(columns=[target])"
   ]
  },
  {
   "cell_type": "markdown",
   "id": "6f1f849d",
   "metadata": {},
   "source": [
    "### Outlier Detection"
   ]
  },
  {
   "cell_type": "markdown",
   "id": "c16f8b94",
   "metadata": {},
   "source": [
    "#### **Data is scaled in this step***"
   ]
  },
  {
   "cell_type": "code",
   "execution_count": 23,
   "id": "de58bedb",
   "metadata": {},
   "outputs": [
    {
     "name": "stdout",
     "output_type": "stream",
     "text": [
      "Indices of outliers: [  6  30  34  68 141 151 152 160 243 257 271 280 284 338 348 390 391 425\n",
      " 442 551 569 599 607 608 618 731 732 734 748 786 792 808 809 813 820 844\n",
      " 846 933 952 972 986]\n",
      "Details of outliers:\n",
      "     Outcome  Age_20_24  Age_24_28  Age_28_32  Age_32_36  Age_36_39  \\\n",
      "18         0          0          0          0          1          0   \n",
      "57         0          0          0          1          0          0   \n",
      "62         0          0          0          0          1          0   \n",
      "106        0          0          1          0          0          0   \n",
      "228        0          0          0          1          0          0   \n",
      "247        0          1          0          0          0          0   \n",
      "248        0          0          0          0          1          0   \n",
      "258        0          1          0          0          0          0   \n",
      "392        0          1          0          0          0          0   \n",
      "418        0          0          1          0          0          0   \n",
      "438        0          1          0          0          0          0   \n",
      "453        0          0          0          0          0          0   \n",
      "459        0          0          0          0          0          0   \n",
      "526        0          1          0          0          0          0   \n",
      "537        0          0          0          0          0          0   \n",
      "597        0          1          0          0          0          0   \n",
      "599        0          0          1          0          0          0   \n",
      "645        0          0          0          1          0          0   \n",
      "673        0          1          0          0          0          0   \n",
      "584        1          0          0          0          0          0   \n",
      "177        1          0          1          0          0          0   \n",
      "177        1          0          1          0          0          0   \n",
      "370        1          0          1          0          0          0   \n",
      "445        1          0          1          0          0          0   \n",
      "120        1          0          1          0          0          0   \n",
      "691        1          0          0          0          0          0   \n",
      "409        1          0          1          0          0          0   \n",
      "666        1          0          0          0          0          0   \n",
      "409        1          0          1          0          0          0   \n",
      "370        1          0          1          0          0          0   \n",
      "177        1          0          1          0          0          0   \n",
      "753        1          0          1          0          0          0   \n",
      "125        1          0          1          0          0          0   \n",
      "409        1          0          1          0          0          0   \n",
      "303        1          0          1          0          0          0   \n",
      "125        1          0          1          0          0          0   \n",
      "691        1          0          0          0          0          0   \n",
      "159        1          0          0          0          0          0   \n",
      "666        1          0          0          0          0          0   \n",
      "584        1          0          0          0          0          0   \n",
      "303        1          0          1          0          0          0   \n",
      "\n",
      "     Age_39_43  Age_43_47  Age_47_51  Age_51_54  ...  Pregnancies_9_10  \\\n",
      "18           0          0          0          0  ...                 0   \n",
      "57           0          0          0          0  ...                 0   \n",
      "62           0          0          0          0  ...                 0   \n",
      "106          0          0          0          0  ...                 0   \n",
      "228          0          0          0          0  ...                 0   \n",
      "247          0          0          0          0  ...                 0   \n",
      "248          0          0          0          0  ...                 0   \n",
      "258          0          0          0          0  ...                 0   \n",
      "392          0          0          0          0  ...                 0   \n",
      "418          0          0          0          0  ...                 0   \n",
      "438          0          0          0          0  ...                 0   \n",
      "453          0          0          0          0  ...                 0   \n",
      "459          0          0          0          0  ...                 0   \n",
      "526          0          0          0          0  ...                 0   \n",
      "537          0          0          0          0  ...                 0   \n",
      "597          0          0          0          0  ...                 0   \n",
      "599          0          0          0          0  ...                 0   \n",
      "645          0          0          0          0  ...                 0   \n",
      "673          0          0          0          0  ...                 0   \n",
      "584          0          0          0          1  ...                 0   \n",
      "177          0          0          0          0  ...                 0   \n",
      "177          0          0          0          0  ...                 0   \n",
      "370          0          0          0          0  ...                 0   \n",
      "445          0          0          0          0  ...                 0   \n",
      "120          0          0          0          0  ...                 0   \n",
      "691          0          1          0          0  ...                 0   \n",
      "409          0          0          0          0  ...                 0   \n",
      "666          0          0          0          0  ...                 0   \n",
      "409          0          0          0          0  ...                 0   \n",
      "370          0          0          0          0  ...                 0   \n",
      "177          0          0          0          0  ...                 0   \n",
      "753          0          0          0          0  ...                 0   \n",
      "125          0          0          0          0  ...                 0   \n",
      "409          0          0          0          0  ...                 0   \n",
      "303          0          0          0          0  ...                 0   \n",
      "125          0          0          0          0  ...                 0   \n",
      "691          0          1          0          0  ...                 0   \n",
      "159          0          1          0          0  ...                 0   \n",
      "666          0          0          0          0  ...                 0   \n",
      "584          0          0          0          1  ...                 0   \n",
      "303          0          0          0          0  ...                 0   \n",
      "\n",
      "     SkinThickness_0_7  SkinThickness_14_21  SkinThickness_21_28  \\\n",
      "18                   0                    0                    0   \n",
      "57                   0                    0                    0   \n",
      "62                   1                    0                    0   \n",
      "106                  1                    0                    0   \n",
      "228                  0                    0                    0   \n",
      "247                  0                    0                    0   \n",
      "248                  0                    0                    0   \n",
      "258                  0                    1                    0   \n",
      "392                  0                    0                    0   \n",
      "418                  1                    0                    0   \n",
      "438                  0                    1                    0   \n",
      "453                  1                    0                    0   \n",
      "459                  0                    0                    0   \n",
      "526                  0                    1                    0   \n",
      "537                  1                    0                    0   \n",
      "597                  0                    1                    0   \n",
      "599                  0                    1                    0   \n",
      "645                  0                    0                    0   \n",
      "673                  0                    0                    0   \n",
      "584                  0                    0                    1   \n",
      "177                  0                    0                    0   \n",
      "177                  0                    0                    0   \n",
      "370                  0                    0                    0   \n",
      "445                  0                    0                    0   \n",
      "120                  0                    0                    0   \n",
      "691                  1                    0                    0   \n",
      "409                  0                    0                    0   \n",
      "666                  0                    1                    0   \n",
      "409                  0                    0                    0   \n",
      "370                  0                    0                    0   \n",
      "177                  0                    0                    0   \n",
      "753                  0                    0                    0   \n",
      "125                  0                    0                    0   \n",
      "409                  0                    0                    0   \n",
      "303                  1                    0                    0   \n",
      "125                  0                    0                    0   \n",
      "691                  1                    0                    0   \n",
      "159                  0                    0                    0   \n",
      "666                  0                    1                    0   \n",
      "584                  0                    0                    1   \n",
      "303                  1                    0                    0   \n",
      "\n",
      "     SkinThickness_28_35  SkinThickness_35_42  SkinThickness_42_49  \\\n",
      "18                     0                    1                    0   \n",
      "57                     0                    0                    0   \n",
      "62                     0                    0                    0   \n",
      "106                    0                    0                    0   \n",
      "228                    0                    1                    0   \n",
      "247                    1                    0                    0   \n",
      "248                    1                    0                    0   \n",
      "258                    0                    0                    0   \n",
      "392                    0                    0                    0   \n",
      "418                    0                    0                    0   \n",
      "438                    0                    0                    0   \n",
      "453                    0                    0                    0   \n",
      "459                    1                    0                    0   \n",
      "526                    0                    0                    0   \n",
      "537                    0                    0                    0   \n",
      "597                    0                    0                    0   \n",
      "599                    0                    0                    0   \n",
      "645                    1                    0                    0   \n",
      "673                    1                    0                    0   \n",
      "584                    0                    0                    0   \n",
      "177                    0                    0                    1   \n",
      "177                    0                    0                    1   \n",
      "370                    0                    0                    1   \n",
      "445                    0                    0                    0   \n",
      "120                    0                    0                    0   \n",
      "691                    0                    0                    0   \n",
      "409                    0                    0                    1   \n",
      "666                    0                    0                    0   \n",
      "409                    0                    0                    1   \n",
      "370                    0                    0                    1   \n",
      "177                    0                    0                    1   \n",
      "753                    0                    0                    1   \n",
      "125                    0                    1                    0   \n",
      "409                    0                    0                    1   \n",
      "303                    0                    0                    0   \n",
      "125                    0                    1                    0   \n",
      "691                    0                    0                    0   \n",
      "159                    0                    1                    0   \n",
      "666                    0                    0                    0   \n",
      "584                    0                    0                    0   \n",
      "303                    0                    0                    0   \n",
      "\n",
      "     SkinThickness_49_56  SkinThickness_56_63  SkinThickness_7_14  \n",
      "18                     0                    0                   0  \n",
      "57                     0                    1                   0  \n",
      "62                     0                    0                   0  \n",
      "106                    0                    0                   0  \n",
      "228                    0                    0                   0  \n",
      "247                    0                    0                   0  \n",
      "248                    0                    0                   0  \n",
      "258                    0                    0                   0  \n",
      "392                    0                    0                   1  \n",
      "418                    0                    0                   0  \n",
      "438                    0                    0                   0  \n",
      "453                    0                    0                   0  \n",
      "459                    0                    0                   0  \n",
      "526                    0                    0                   0  \n",
      "537                    0                    0                   0  \n",
      "597                    0                    0                   0  \n",
      "599                    0                    0                   0  \n",
      "645                    0                    0                   0  \n",
      "673                    0                    0                   0  \n",
      "584                    0                    0                   0  \n",
      "177                    0                    0                   0  \n",
      "177                    0                    0                   0  \n",
      "370                    0                    0                   0  \n",
      "445                    0                    1                   0  \n",
      "120                    1                    0                   0  \n",
      "691                    0                    0                   0  \n",
      "409                    0                    0                   0  \n",
      "666                    0                    0                   0  \n",
      "409                    0                    0                   0  \n",
      "370                    0                    0                   0  \n",
      "177                    0                    0                   0  \n",
      "753                    0                    0                   0  \n",
      "125                    0                    0                   0  \n",
      "409                    0                    0                   0  \n",
      "303                    0                    0                   0  \n",
      "125                    0                    0                   0  \n",
      "691                    0                    0                   0  \n",
      "159                    0                    0                   0  \n",
      "666                    0                    0                   0  \n",
      "584                    0                    0                   0  \n",
      "303                    0                    0                   0  \n",
      "\n",
      "[41 rows x 133 columns]\n"
     ]
    }
   ],
   "source": [
    "from sklearn.cluster import KMeans\n",
    "from sklearn.preprocessing import StandardScaler\n",
    "\n",
    "# Perform KMeans clustering\n",
    "# Separate features (X) and target variable (y) if necessary\n",
    "X = dataset.drop(columns=[target])\n",
    "y = dataset[target]\n",
    "\n",
    "# Scale the features (X)\n",
    "scaler = StandardScaler()\n",
    "scaled_X = scaler.fit_transform(X)\n",
    "\n",
    "kmeans = KMeans()\n",
    "kmeans.fit(scaled_X)\n",
    "\n",
    "# Get cluster centers\n",
    "centers = kmeans.cluster_centers_\n",
    "\n",
    "# Calculate distances of each point to its respective cluster center\n",
    "distances = np.sqrt(np.sum((scaled_X - centers[kmeans.labels_])**2, axis=1))\n",
    "\n",
    "# Calculate mean and standard deviation of distances\n",
    "mean_distance = np.mean(distances)\n",
    "std_distance = np.std(distances)\n",
    "\n",
    "# Desired threshold as 2 standard deviations from the mean\n",
    "desired_threshold = mean_distance + 2 * std_distance\n",
    "\n",
    "# Use the threshold for outlier detection\n",
    "outliers_mask = distances > desired_threshold\n",
    "\n",
    "# Save outliers in a new dataset\n",
    "outliers_dataset = dataset[outliers_mask]\n",
    "\n",
    "# Print indices and details of outliers\n",
    "print(\"Indices of outliers:\", np.where(outliers_mask)[0])\n",
    "print(\"Details of outliers:\")\n",
    "print(outliers_dataset)\n",
    "\n",
    "# Remove outliers from the original dataset\n",
    "dataset = dataset[~outliers_mask]"
   ]
  },
  {
   "cell_type": "code",
   "execution_count": 24,
   "id": "5af63243",
   "metadata": {},
   "outputs": [],
   "source": [
    "X = dataset.drop(columns=[target])\n",
    "y = dataset[target]"
   ]
  },
  {
   "cell_type": "markdown",
   "id": "b25d7c4a",
   "metadata": {},
   "source": [
    "### Principal Component Analysis (PCA)"
   ]
  },
  {
   "cell_type": "code",
   "execution_count": 25,
   "id": "a98acd9d",
   "metadata": {},
   "outputs": [
    {
     "data": {
      "image/png": "[encoded data removed]",
      "text/plain": [
       "<Figure size 640x480 with 1 Axes>"
      ]
     },
     "metadata": {},
     "output_type": "display_data"
    }
   ],
   "source": [
    "from sklearn.model_selection import RepeatedKFold, cross_val_score\n",
    "from sklearn.decomposition import PCA\n",
    "from sklearn.ensemble import GradientBoostingClassifier \n",
    "\n",
    "# Perform PCA\n",
    "pca = PCA()\n",
    "x_reduced = pca.fit_transform(X)\n",
    "\n",
    "# Define cross-validation method\n",
    "cv = RepeatedKFold(n_splits=10, n_repeats=3, random_state=1)\n",
    "\n",
    "gbc = GradientBoostingClassifier()\n",
    "\n",
    "# Calculate MSE with only the intercept\n",
    "mse = []\n",
    "score = -1 * cross_val_score(gbc, np.ones((len(x_reduced), 1)), y, cv=cv, scoring='neg_mean_squared_error').mean()\n",
    "mse.append(score)\n",
    "\n",
    "# Calculate MSE using cross-validation, adding one component at a time\n",
    "for i in np.arange(1, 6):\n",
    "    score = -1 * cross_val_score(gbc, x_reduced[:, :i], y, cv=cv, scoring='neg_mean_squared_error').mean()\n",
    "    mse.append(score)\n",
    "\n",
    "#Plot cross-validation results\n",
    "plt.plot(mse)\n",
    "plt.xlabel('Number of Principal Components')\n",
    "plt.ylabel('MSE')\n",
    "plt.title('MSE vs. Number of Principal Components')\n",
    "plt.show()\n"
   ]
  },
  {
   "cell_type": "code",
   "execution_count": 26,
   "id": "eabc2677",
   "metadata": {},
   "outputs": [
    {
     "data": {
      "text/plain": [
       "array([ 7.77, 12.9 , 16.46, 19.89, 22.86, 25.68, 28.33, 30.93, 33.4 ,\n",
       "       35.78, 38.06, 40.22, 42.33, 44.4 , 46.4 , 48.37, 50.26, 52.05,\n",
       "       53.78, 55.47, 57.14, 58.77, 60.33, 61.87, 63.35, 64.8 , 66.15,\n",
       "       67.47, 68.71, 69.93, 71.13, 72.31, 73.43, 74.53, 75.61, 76.62,\n",
       "       77.61, 78.56, 79.5 , 80.42, 81.31, 82.18, 83.  , 83.82, 84.58,\n",
       "       85.32, 86.06, 86.75, 87.42, 88.06, 88.66, 89.26, 89.84, 90.38,\n",
       "       90.91, 91.41, 91.88, 92.35, 92.79, 93.21, 93.62, 94.02, 94.41,\n",
       "       94.77, 95.11, 95.44, 95.73, 96.01, 96.28, 96.53, 96.76, 96.99,\n",
       "       97.2 , 97.4 , 97.59, 97.78, 97.95, 98.12, 98.28, 98.44, 98.58,\n",
       "       98.72, 98.83, 98.93, 99.02, 99.11, 99.2 , 99.28, 99.36, 99.44,\n",
       "       99.51, 99.58, 99.65, 99.71, 99.77, 99.83, 99.88, 99.92, 99.96,\n",
       "       99.96, 99.96, 99.96, 99.96, 99.96, 99.96, 99.96, 99.96, 99.96,\n",
       "       99.96, 99.96, 99.96, 99.96, 99.96, 99.96, 99.96, 99.96, 99.96,\n",
       "       99.96, 99.96, 99.96, 99.96, 99.96, 99.96, 99.96, 99.96, 99.96,\n",
       "       99.96, 99.96, 99.96, 99.96, 99.96, 99.96])"
      ]
     },
     "execution_count": 26,
     "metadata": {},
     "output_type": "execute_result"
    }
   ],
   "source": [
    "#percentage of variance in the response variable explained by adding in each principal component to the model:\n",
    "np.cumsum(np.round(pca.explained_variance_ratio_, decimals=4)*100)"
   ]
  },
  {
   "cell_type": "code",
   "execution_count": 27,
   "id": "d3a73fd8",
   "metadata": {},
   "outputs": [],
   "source": [
    "# Choose the desired number of principal components based on the plot\n",
    "num_components = 99 # For example, choose n principal components\n",
    "\n",
    "# Use the selected number of principal components\n",
    "x_reduced_selected = x_reduced[:, :num_components]"
   ]
  },
  {
   "cell_type": "markdown",
   "id": "0110d570",
   "metadata": {},
   "source": [
    "# Splitting the dataset"
   ]
  },
  {
   "cell_type": "code",
   "execution_count": 28,
   "id": "ce957564",
   "metadata": {},
   "outputs": [],
   "source": [
    "from sklearn.model_selection import train_test_split\n",
    "\n",
    "\n",
    "# Split the data into training (50%), testing (30%), and out-of-sample (20%)\n",
    "x_train, x_temp, y_train, y_temp = train_test_split(X, y, test_size=0.4, random_state=100)\n",
    "x_test, x_out_sample, y_test, y_out_sample = train_test_split(x_temp, y_temp, test_size=0.6, random_state=100)"
   ]
  },
  {
   "cell_type": "code",
   "execution_count": 29,
   "id": "ea173896",
   "metadata": {},
   "outputs": [],
   "source": [
    "missing_values = dataset.isnull().sum().sum()\n",
    "if missing_values > 0:\n",
    "    print(\"Warning: Dataset still contains missing values after cleaning.\")\n"
   ]
  },
  {
   "cell_type": "markdown",
   "id": "ca241bf4",
   "metadata": {},
   "source": [
    "# Fitting the Gradient Boost model"
   ]
  },
  {
   "cell_type": "code",
   "execution_count": 30,
   "id": "47aaeada",
   "metadata": {},
   "outputs": [
    {
     "name": "stdout",
     "output_type": "stream",
     "text": [
      "Best Parameters: {'learning_rate': 0.1, 'max_depth': 4, 'n_estimators': 223}\n",
      "Train Score: 0.8174776612276612\n",
      "Test Score: 0.8431372549019608\n"
     ]
    }
   ],
   "source": [
    "from sklearn.model_selection import RandomizedSearchCV\n",
    "from sklearn.ensemble import GradientBoostingClassifier\n",
    "from scipy.stats import randint\n",
    "\n",
    "# Define the parameter distributions\n",
    "param_dist = {\n",
    "    'learning_rate': [0.01, 0.05, 0.1],\n",
    "    'n_estimators': randint(100, 500),\n",
    "    'max_depth': randint(2, 8)\n",
    "}\n",
    "\n",
    "# Create a GradientBoostingClassifier\n",
    "gbc = GradientBoostingClassifier()\n",
    "\n",
    "# Use random search to find the best hyperparameters\n",
    "rand_search = RandomizedSearchCV(gbc, \n",
    "                                 param_distributions=param_dist, \n",
    "                                 n_iter=10,  # Number of parameter settings that are sampled\n",
    "                                 cv=4)       # Cross-validation folds\n",
    "\n",
    "# Fit the random search object to the data\n",
    "rand_search.fit(x_train, y_train)\n",
    "\n",
    "# Print best parameters found\n",
    "print(\"Best Parameters:\", rand_search.best_params_)\n",
    "\n",
    "# Print best mean cross-validated score found\n",
    "print(\"Train Score:\", rand_search.best_score_)\n",
    "\n",
    "# Evaluate the best model on the test set\n",
    "print(\"Test Score:\", rand_search.score(x_test, y_test))"
   ]
  },
  {
   "cell_type": "code",
   "execution_count": 33,
   "id": "faeaaa25",
   "metadata": {},
   "outputs": [
    {
     "data": {
      "text/html": [
       "<style>#sk-container-id-2 {\n",
       "  /* Definition of color scheme common for light and dark mode */\n",
       "  --sklearn-color-text: black;\n",
       "  --sklearn-color-line: gray;\n",
       "  /* Definition of color scheme for unfitted estimators */\n",
       "  --sklearn-color-unfitted-level-0: #fff5e6;\n",
       "  --sklearn-color-unfitted-level-1: #f6e4d2;\n",
       "  --sklearn-color-unfitted-level-2: #ffe0b3;\n",
       "  --sklearn-color-unfitted-level-3: chocolate;\n",
       "  /* Definition of color scheme for fitted estimators */\n",
       "  --sklearn-color-fitted-level-0: #f0f8ff;\n",
       "  --sklearn-color-fitted-level-1: #d4ebff;\n",
       "  --sklearn-color-fitted-level-2: #b3dbfd;\n",
       "  --sklearn-color-fitted-level-3: cornflowerblue;\n",
       "\n",
       "  /* Specific color for light theme */\n",
       "  --sklearn-color-text-on-default-background: var(--sg-text-color, var(--theme-code-foreground, var(--jp-content-font-color1, black)));\n",
       "  --sklearn-color-background: var(--sg-background-color, var(--theme-background, var(--jp-layout-color0, white)));\n",
       "  --sklearn-color-border-box: var(--sg-text-color, var(--theme-code-foreground, var(--jp-content-font-color1, black)));\n",
       "  --sklearn-color-icon: #696969;\n",
       "\n",
       "  @media (prefers-color-scheme: dark) {\n",
       "    /* Redefinition of color scheme for dark theme */\n",
       "    --sklearn-color-text-on-default-background: var(--sg-text-color, var(--theme-code-foreground, var(--jp-content-font-color1, white)));\n",
       "    --sklearn-color-background: var(--sg-background-color, var(--theme-background, var(--jp-layout-color0, #111)));\n",
       "    --sklearn-color-border-box: var(--sg-text-color, var(--theme-code-foreground, var(--jp-content-font-color1, white)));\n",
       "    --sklearn-color-icon: #878787;\n",
       "  }\n",
       "}\n",
       "\n",
       "#sk-container-id-2 {\n",
       "  color: var(--sklearn-color-text);\n",
       "}\n",
       "\n",
       "#sk-container-id-2 pre {\n",
       "  padding: 0;\n",
       "}\n",
       "\n",
       "#sk-container-id-2 input.sk-hidden--visually {\n",
       "  border: 0;\n",
       "  clip: rect(1px 1px 1px 1px);\n",
       "  clip: rect(1px, 1px, 1px, 1px);\n",
       "  height: 1px;\n",
       "  margin: -1px;\n",
       "  overflow: hidden;\n",
       "  padding: 0;\n",
       "  position: absolute;\n",
       "  width: 1px;\n",
       "}\n",
       "\n",
       "#sk-container-id-2 div.sk-dashed-wrapped {\n",
       "  border: 1px dashed var(--sklearn-color-line);\n",
       "  margin: 0 0.4em 0.5em 0.4em;\n",
       "  box-sizing: border-box;\n",
       "  padding-bottom: 0.4em;\n",
       "  background-color: var(--sklearn-color-background);\n",
       "}\n",
       "\n",
       "#sk-container-id-2 div.sk-container {\n",
       "  /* jupyter's `normalize.less` sets `[hidden] { display: none; }`\n",
       "     but bootstrap.min.css set `[hidden] { display: none !important; }`\n",
       "     so we also need the `!important` here to be able to override the\n",
       "     default hidden behavior on the sphinx rendered scikit-learn.org.\n",
       "     See: https://github.com/scikit-learn/scikit-learn/issues/21755 */\n",
       "  display: inline-block !important;\n",
       "  position: relative;\n",
       "}\n",
       "\n",
       "#sk-container-id-2 div.sk-text-repr-fallback {\n",
       "  display: none;\n",
       "}\n",
       "\n",
       "div.sk-parallel-item,\n",
       "div.sk-serial,\n",
       "div.sk-item {\n",
       "  /* draw centered vertical line to link estimators */\n",
       "  background-image: linear-gradient(var(--sklearn-color-text-on-default-background), var(--sklearn-color-text-on-default-background));\n",
       "  background-size: 2px 100%;\n",
       "  background-repeat: no-repeat;\n",
       "  background-position: center center;\n",
       "}\n",
       "\n",
       "/* Parallel-specific style estimator block */\n",
       "\n",
       "#sk-container-id-2 div.sk-parallel-item::after {\n",
       "  content: \"\";\n",
       "  width: 100%;\n",
       "  border-bottom: 2px solid var(--sklearn-color-text-on-default-background);\n",
       "  flex-grow: 1;\n",
       "}\n",
       "\n",
       "#sk-container-id-2 div.sk-parallel {\n",
       "  display: flex;\n",
       "  align-items: stretch;\n",
       "  justify-content: center;\n",
       "  background-color: var(--sklearn-color-background);\n",
       "  position: relative;\n",
       "}\n",
       "\n",
       "#sk-container-id-2 div.sk-parallel-item {\n",
       "  display: flex;\n",
       "  flex-direction: column;\n",
       "}\n",
       "\n",
       "#sk-container-id-2 div.sk-parallel-item:first-child::after {\n",
       "  align-self: flex-end;\n",
       "  width: 50%;\n",
       "}\n",
       "\n",
       "#sk-container-id-2 div.sk-parallel-item:last-child::after {\n",
       "  align-self: flex-start;\n",
       "  width: 50%;\n",
       "}\n",
       "\n",
       "#sk-container-id-2 div.sk-parallel-item:only-child::after {\n",
       "  width: 0;\n",
       "}\n",
       "\n",
       "/* Serial-specific style estimator block */\n",
       "\n",
       "#sk-container-id-2 div.sk-serial {\n",
       "  display: flex;\n",
       "  flex-direction: column;\n",
       "  align-items: center;\n",
       "  background-color: var(--sklearn-color-background);\n",
       "  padding-right: 1em;\n",
       "  padding-left: 1em;\n",
       "}\n",
       "\n",
       "\n",
       "/* Toggleable style: style used for estimator/Pipeline/ColumnTransformer box that is\n",
       "clickable and can be expanded/collapsed.\n",
       "- Pipeline and ColumnTransformer use this feature and define the default style\n",
       "- Estimators will overwrite some part of the style using the `sk-estimator` class\n",
       "*/\n",
       "\n",
       "/* Pipeline and ColumnTransformer style (default) */\n",
       "\n",
       "#sk-container-id-2 div.sk-toggleable {\n",
       "  /* Default theme specific background. It is overwritten whether we have a\n",
       "  specific estimator or a Pipeline/ColumnTransformer */\n",
       "  background-color: var(--sklearn-color-background);\n",
       "}\n",
       "\n",
       "/* Toggleable label */\n",
       "#sk-container-id-2 label.sk-toggleable__label {\n",
       "  cursor: pointer;\n",
       "  display: block;\n",
       "  width: 100%;\n",
       "  margin-bottom: 0;\n",
       "  padding: 0.5em;\n",
       "  box-sizing: border-box;\n",
       "  text-align: center;\n",
       "}\n",
       "\n",
       "#sk-container-id-2 label.sk-toggleable__label-arrow:before {\n",
       "  /* Arrow on the left of the label */\n",
       "  content: \"▸\";\n",
       "  float: left;\n",
       "  margin-right: 0.25em;\n",
       "  color: var(--sklearn-color-icon);\n",
       "}\n",
       "\n",
       "#sk-container-id-2 label.sk-toggleable__label-arrow:hover:before {\n",
       "  color: var(--sklearn-color-text);\n",
       "}\n",
       "\n",
       "/* Toggleable content - dropdown */\n",
       "\n",
       "#sk-container-id-2 div.sk-toggleable__content {\n",
       "  max-height: 0;\n",
       "  max-width: 0;\n",
       "  overflow: hidden;\n",
       "  text-align: left;\n",
       "  /* unfitted */\n",
       "  background-color: var(--sklearn-color-unfitted-level-0);\n",
       "}\n",
       "\n",
       "#sk-container-id-2 div.sk-toggleable__content.fitted {\n",
       "  /* fitted */\n",
       "  background-color: var(--sklearn-color-fitted-level-0);\n",
       "}\n",
       "\n",
       "#sk-container-id-2 div.sk-toggleable__content pre {\n",
       "  margin: 0.2em;\n",
       "  border-radius: 0.25em;\n",
       "  color: var(--sklearn-color-text);\n",
       "  /* unfitted */\n",
       "  background-color: var(--sklearn-color-unfitted-level-0);\n",
       "}\n",
       "\n",
       "#sk-container-id-2 div.sk-toggleable__content.fitted pre {\n",
       "  /* unfitted */\n",
       "  background-color: var(--sklearn-color-fitted-level-0);\n",
       "}\n",
       "\n",
       "#sk-container-id-2 input.sk-toggleable__control:checked~div.sk-toggleable__content {\n",
       "  /* Expand drop-down */\n",
       "  max-height: 200px;\n",
       "  max-width: 100%;\n",
       "  overflow: auto;\n",
       "}\n",
       "\n",
       "#sk-container-id-2 input.sk-toggleable__control:checked~label.sk-toggleable__label-arrow:before {\n",
       "  content: \"▾\";\n",
       "}\n",
       "\n",
       "/* Pipeline/ColumnTransformer-specific style */\n",
       "\n",
       "#sk-container-id-2 div.sk-label input.sk-toggleable__control:checked~label.sk-toggleable__label {\n",
       "  color: var(--sklearn-color-text);\n",
       "  background-color: var(--sklearn-color-unfitted-level-2);\n",
       "}\n",
       "\n",
       "#sk-container-id-2 div.sk-label.fitted input.sk-toggleable__control:checked~label.sk-toggleable__label {\n",
       "  background-color: var(--sklearn-color-fitted-level-2);\n",
       "}\n",
       "\n",
       "/* Estimator-specific style */\n",
       "\n",
       "/* Colorize estimator box */\n",
       "#sk-container-id-2 div.sk-estimator input.sk-toggleable__control:checked~label.sk-toggleable__label {\n",
       "  /* unfitted */\n",
       "  background-color: var(--sklearn-color-unfitted-level-2);\n",
       "}\n",
       "\n",
       "#sk-container-id-2 div.sk-estimator.fitted input.sk-toggleable__control:checked~label.sk-toggleable__label {\n",
       "  /* fitted */\n",
       "  background-color: var(--sklearn-color-fitted-level-2);\n",
       "}\n",
       "\n",
       "#sk-container-id-2 div.sk-label label.sk-toggleable__label,\n",
       "#sk-container-id-2 div.sk-label label {\n",
       "  /* The background is the default theme color */\n",
       "  color: var(--sklearn-color-text-on-default-background);\n",
       "}\n",
       "\n",
       "/* On hover, darken the color of the background */\n",
       "#sk-container-id-2 div.sk-label:hover label.sk-toggleable__label {\n",
       "  color: var(--sklearn-color-text);\n",
       "  background-color: var(--sklearn-color-unfitted-level-2);\n",
       "}\n",
       "\n",
       "/* Label box, darken color on hover, fitted */\n",
       "#sk-container-id-2 div.sk-label.fitted:hover label.sk-toggleable__label.fitted {\n",
       "  color: var(--sklearn-color-text);\n",
       "  background-color: var(--sklearn-color-fitted-level-2);\n",
       "}\n",
       "\n",
       "/* Estimator label */\n",
       "\n",
       "#sk-container-id-2 div.sk-label label {\n",
       "  font-family: monospace;\n",
       "  font-weight: bold;\n",
       "  display: inline-block;\n",
       "  line-height: 1.2em;\n",
       "}\n",
       "\n",
       "#sk-container-id-2 div.sk-label-container {\n",
       "  text-align: center;\n",
       "}\n",
       "\n",
       "/* Estimator-specific */\n",
       "#sk-container-id-2 div.sk-estimator {\n",
       "  font-family: monospace;\n",
       "  border: 1px dotted var(--sklearn-color-border-box);\n",
       "  border-radius: 0.25em;\n",
       "  box-sizing: border-box;\n",
       "  margin-bottom: 0.5em;\n",
       "  /* unfitted */\n",
       "  background-color: var(--sklearn-color-unfitted-level-0);\n",
       "}\n",
       "\n",
       "#sk-container-id-2 div.sk-estimator.fitted {\n",
       "  /* fitted */\n",
       "  background-color: var(--sklearn-color-fitted-level-0);\n",
       "}\n",
       "\n",
       "/* on hover */\n",
       "#sk-container-id-2 div.sk-estimator:hover {\n",
       "  /* unfitted */\n",
       "  background-color: var(--sklearn-color-unfitted-level-2);\n",
       "}\n",
       "\n",
       "#sk-container-id-2 div.sk-estimator.fitted:hover {\n",
       "  /* fitted */\n",
       "  background-color: var(--sklearn-color-fitted-level-2);\n",
       "}\n",
       "\n",
       "/* Specification for estimator info (e.g. \"i\" and \"?\") */\n",
       "\n",
       "/* Common style for \"i\" and \"?\" */\n",
       "\n",
       ".sk-estimator-doc-link,\n",
       "a:link.sk-estimator-doc-link,\n",
       "a:visited.sk-estimator-doc-link {\n",
       "  float: right;\n",
       "  font-size: smaller;\n",
       "  line-height: 1em;\n",
       "  font-family: monospace;\n",
       "  background-color: var(--sklearn-color-background);\n",
       "  border-radius: 1em;\n",
       "  height: 1em;\n",
       "  width: 1em;\n",
       "  text-decoration: none !important;\n",
       "  margin-left: 1ex;\n",
       "  /* unfitted */\n",
       "  border: var(--sklearn-color-unfitted-level-1) 1pt solid;\n",
       "  color: var(--sklearn-color-unfitted-level-1);\n",
       "}\n",
       "\n",
       ".sk-estimator-doc-link.fitted,\n",
       "a:link.sk-estimator-doc-link.fitted,\n",
       "a:visited.sk-estimator-doc-link.fitted {\n",
       "  /* fitted */\n",
       "  border: var(--sklearn-color-fitted-level-1) 1pt solid;\n",
       "  color: var(--sklearn-color-fitted-level-1);\n",
       "}\n",
       "\n",
       "/* On hover */\n",
       "div.sk-estimator:hover .sk-estimator-doc-link:hover,\n",
       ".sk-estimator-doc-link:hover,\n",
       "div.sk-label-container:hover .sk-estimator-doc-link:hover,\n",
       ".sk-estimator-doc-link:hover {\n",
       "  /* unfitted */\n",
       "  background-color: var(--sklearn-color-unfitted-level-3);\n",
       "  color: var(--sklearn-color-background);\n",
       "  text-decoration: none;\n",
       "}\n",
       "\n",
       "div.sk-estimator.fitted:hover .sk-estimator-doc-link.fitted:hover,\n",
       ".sk-estimator-doc-link.fitted:hover,\n",
       "div.sk-label-container:hover .sk-estimator-doc-link.fitted:hover,\n",
       ".sk-estimator-doc-link.fitted:hover {\n",
       "  /* fitted */\n",
       "  background-color: var(--sklearn-color-fitted-level-3);\n",
       "  color: var(--sklearn-color-background);\n",
       "  text-decoration: none;\n",
       "}\n",
       "\n",
       "/* Span, style for the box shown on hovering the info icon */\n",
       ".sk-estimator-doc-link span {\n",
       "  display: none;\n",
       "  z-index: 9999;\n",
       "  position: relative;\n",
       "  font-weight: normal;\n",
       "  right: .2ex;\n",
       "  padding: .5ex;\n",
       "  margin: .5ex;\n",
       "  width: min-content;\n",
       "  min-width: 20ex;\n",
       "  max-width: 50ex;\n",
       "  color: var(--sklearn-color-text);\n",
       "  box-shadow: 2pt 2pt 4pt #999;\n",
       "  /* unfitted */\n",
       "  background: var(--sklearn-color-unfitted-level-0);\n",
       "  border: .5pt solid var(--sklearn-color-unfitted-level-3);\n",
       "}\n",
       "\n",
       ".sk-estimator-doc-link.fitted span {\n",
       "  /* fitted */\n",
       "  background: var(--sklearn-color-fitted-level-0);\n",
       "  border: var(--sklearn-color-fitted-level-3);\n",
       "}\n",
       "\n",
       ".sk-estimator-doc-link:hover span {\n",
       "  display: block;\n",
       "}\n",
       "\n",
       "/* \"?\"-specific style due to the `<a>` HTML tag */\n",
       "\n",
       "#sk-container-id-2 a.estimator_doc_link {\n",
       "  float: right;\n",
       "  font-size: 1rem;\n",
       "  line-height: 1em;\n",
       "  font-family: monospace;\n",
       "  background-color: var(--sklearn-color-background);\n",
       "  border-radius: 1rem;\n",
       "  height: 1rem;\n",
       "  width: 1rem;\n",
       "  text-decoration: none;\n",
       "  /* unfitted */\n",
       "  color: var(--sklearn-color-unfitted-level-1);\n",
       "  border: var(--sklearn-color-unfitted-level-1) 1pt solid;\n",
       "}\n",
       "\n",
       "#sk-container-id-2 a.estimator_doc_link.fitted {\n",
       "  /* fitted */\n",
       "  border: var(--sklearn-color-fitted-level-1) 1pt solid;\n",
       "  color: var(--sklearn-color-fitted-level-1);\n",
       "}\n",
       "\n",
       "/* On hover */\n",
       "#sk-container-id-2 a.estimator_doc_link:hover {\n",
       "  /* unfitted */\n",
       "  background-color: var(--sklearn-color-unfitted-level-3);\n",
       "  color: var(--sklearn-color-background);\n",
       "  text-decoration: none;\n",
       "}\n",
       "\n",
       "#sk-container-id-2 a.estimator_doc_link.fitted:hover {\n",
       "  /* fitted */\n",
       "  background-color: var(--sklearn-color-fitted-level-3);\n",
       "}\n",
       "</style><div id=\"sk-container-id-2\" class=\"sk-top-container\"><div class=\"sk-text-repr-fallback\"><pre>GradientBoostingClassifier(max_depth=4, n_estimators=223, random_state=100)</pre><b>In a Jupyter environment, please rerun this cell to show the HTML representation or trust the notebook. <br />On GitHub, the HTML representation is unable to render, please try loading this page with nbviewer.org.</b></div><div class=\"sk-container\" hidden><div class=\"sk-item\"><div class=\"sk-estimator fitted sk-toggleable\"><input class=\"sk-toggleable__control sk-hidden--visually\" id=\"sk-estimator-id-2\" type=\"checkbox\" checked><label for=\"sk-estimator-id-2\" class=\"sk-toggleable__label fitted sk-toggleable__label-arrow fitted\">&nbsp;&nbsp;GradientBoostingClassifier<a class=\"sk-estimator-doc-link fitted\" rel=\"noreferrer\" target=\"_blank\" href=\"https://scikit-learn.org/1.4/modules/generated/sklearn.ensemble.GradientBoostingClassifier.html\">?<span>Documentation for GradientBoostingClassifier</span></a><span class=\"sk-estimator-doc-link fitted\">i<span>Fitted</span></span></label><div class=\"sk-toggleable__content fitted\"><pre>GradientBoostingClassifier(max_depth=4, n_estimators=223, random_state=100)</pre></div> </div></div></div></div>"
      ],
      "text/plain": [
       "GradientBoostingClassifier(max_depth=4, n_estimators=223, random_state=100)"
      ]
     },
     "execution_count": 33,
     "metadata": {},
     "output_type": "execute_result"
    }
   ],
   "source": [
    "# Define Gradient Boosting Classifier with hyperparameters\n",
    "\n",
    "gbc=GradientBoostingClassifier(learning_rate=0.1,max_depth=4,n_estimators=223,random_state=100)\n",
    "\n",
    "# Fit train data to GBC\n",
    "\n",
    "gbc.fit(x_train,y_train)"
   ]
  },
  {
   "cell_type": "code",
   "execution_count": 34,
   "id": "218fab1e",
   "metadata": {},
   "outputs": [
    {
     "data": {
      "text/plain": [
       "array([1, 1, 1, 0, 1, 1, 0, 1, 1, 0, 1, 0, 0, 0, 1, 0, 1, 1, 0, 0, 0, 0,\n",
       "       0, 0, 0, 0, 1, 0, 0, 0, 1, 0, 1, 0, 0, 0, 1, 0, 1, 0, 0, 1, 0, 1,\n",
       "       1, 0, 1, 0, 1, 1, 0, 1, 0, 1, 0, 0, 0, 1, 0, 0, 1, 0, 0, 0, 1, 1,\n",
       "       1, 1, 1, 0, 1, 0, 1, 1, 1, 0, 1, 1, 1, 0, 1, 1, 0, 1, 0, 0, 0, 0,\n",
       "       0, 1, 1, 0, 1, 0, 0, 1, 0, 1, 1, 0, 1, 1, 1, 0, 1, 0, 1, 0, 0, 0,\n",
       "       1, 1, 1, 0, 0, 0, 1, 1, 1, 1, 1, 1, 1, 1, 1, 1, 1, 1, 0, 0, 1, 1,\n",
       "       0, 1, 0, 0, 0, 0, 1, 1, 1, 1, 1, 1, 0, 0, 1, 0, 1, 0, 0, 0, 0])"
      ]
     },
     "execution_count": 34,
     "metadata": {},
     "output_type": "execute_result"
    }
   ],
   "source": [
    "y_pred = gbc.predict(x_test)\n",
    "y_pred"
   ]
  },
  {
   "cell_type": "code",
   "execution_count": 35,
   "id": "a009ecd3",
   "metadata": {},
   "outputs": [
    {
     "name": "stdout",
     "output_type": "stream",
     "text": [
      "GBC accuracy is 0.84\n"
     ]
    }
   ],
   "source": [
    "from sklearn.metrics import accuracy_score\n",
    "\n",
    "print(\"GBC accuracy is %2.2f\" % accuracy_score( \n",
    "     y_test, gbc.predict(x_test)))"
   ]
  },
  {
   "cell_type": "markdown",
   "id": "cff3f1d3",
   "metadata": {},
   "source": [
    "# Model Evaluation"
   ]
  },
  {
   "cell_type": "markdown",
   "id": "13fe836d",
   "metadata": {},
   "source": [
    "### On test data"
   ]
  },
  {
   "cell_type": "code",
   "execution_count": 36,
   "id": "ca484c75",
   "metadata": {},
   "outputs": [
    {
     "name": "stdout",
     "output_type": "stream",
     "text": [
      "Accuracy: 83.66%\n"
     ]
    }
   ],
   "source": [
    "from sklearn import metrics\n",
    "\n",
    "# Predict the labels for the test set\n",
    "y_pred = gbc.predict(x_test)\n",
    "\n",
    "# Calculate accuracy\n",
    "accuracy = accuracy_score(y_test, y_pred) * 100\n",
    "\n",
    "# Print accuracy\n",
    "print('Accuracy: {:.2f}%'.format(accuracy))"
   ]
  },
  {
   "cell_type": "code",
   "execution_count": 37,
   "id": "98ef845f",
   "metadata": {},
   "outputs": [
    {
     "name": "stdout",
     "output_type": "stream",
     "text": [
      "Balanced Accuracy Score: 84.31%\n"
     ]
    }
   ],
   "source": [
    "from sklearn.metrics import balanced_accuracy_score\n",
    "\n",
    "# Assuming y_true and y_pred are your true and predicted labels, respectively\n",
    "balanced_accuracy = balanced_accuracy_score(y_test, y_pred)* 100\n",
    "\n",
    "print('Balanced Accuracy Score: {:.2f}%'.format(balanced_accuracy))"
   ]
  },
  {
   "cell_type": "code",
   "execution_count": 38,
   "id": "33c66ba9",
   "metadata": {},
   "outputs": [],
   "source": [
    "y_pred_prob_t = gbc.predict_proba(x_test)\n",
    "\n",
    "def class_likelihood_ratios(y_test, y_pred_prob_t):\n",
    "    \"\"\"\n",
    "    Calculate class likelihood ratios given true labels and predicted probabilities.\n",
    "\n",
    "    Parameters:\n",
    "    y_true (array-like): True labels.\n",
    "    y_prob (array-like): Predicted probabilities for each class.\n",
    "\n",
    "    Returns:\n",
    "    class_lr (dict): Dictionary containing class likelihood ratios.\n",
    "    \"\"\"\n",
    "    # Extract unique classes\n",
    "    classes = np.unique(y_test)\n",
    "    \n",
    "    # Initialize dictionary to store likelihood ratios\n",
    "    class_lr = {}\n",
    "    \n",
    "    # Calculate likelihood ratios for each class\n",
    "    for cls in classes:\n",
    "        # Calculate class-specific likelihood ratio\n",
    "        class_prob = y_pred_prob_t[:, cls]\n",
    "        class_lr[cls] = np.sum(class_prob) / (len(class_prob) - np.sum(class_prob))\n",
    "    \n",
    "    return class_lr"
   ]
  },
  {
   "cell_type": "code",
   "execution_count": 39,
   "id": "2d521edb",
   "metadata": {},
   "outputs": [
    {
     "name": "stdout",
     "output_type": "stream",
     "text": [
      "Class Likelihood Ratios:\n",
      "Class 0: 1.0579287136694822\n",
      "Class 1: 0.94524327308543\n"
     ]
    }
   ],
   "source": [
    "# Calculate class likelihood ratios\n",
    "\n",
    "class_lr = class_likelihood_ratios(y_test, y_pred_prob_t)\n",
    "\n",
    "# Print class likelihood ratios\n",
    "print(\"Class Likelihood Ratios:\")\n",
    "for cls, lr in class_lr.items():\n",
    "    print(f\"Class {cls}: {lr}\")"
   ]
  },
  {
   "cell_type": "code",
   "execution_count": 40,
   "id": "2ef95249",
   "metadata": {},
   "outputs": [
    {
     "data": {
      "text/plain": [
       "array([0.7311828 , 0.70588235])"
      ]
     },
     "execution_count": 40,
     "metadata": {},
     "output_type": "execute_result"
    }
   ],
   "source": [
    "from sklearn.metrics import jaccard_score\n",
    "jaccard_score(y_test, y_pred, average=None)"
   ]
  },
  {
   "cell_type": "markdown",
   "id": "7b19899f",
   "metadata": {},
   "source": [
    "### On out-of-sample data"
   ]
  },
  {
   "cell_type": "code",
   "execution_count": 41,
   "id": "fa187b91",
   "metadata": {
    "scrolled": true
   },
   "outputs": [
    {
     "name": "stdout",
     "output_type": "stream",
     "text": [
      "Accuracy: 80.09%\n"
     ]
    }
   ],
   "source": [
    "# Predict the labels for the out-of-sample set\n",
    "y_pred_out_sample = gbc.predict(x_out_sample)\n",
    "\n",
    "# Calculate accuracy\n",
    "accuracy_out_sample = accuracy_score(y_out_sample, y_pred_out_sample) * 100\n",
    "\n",
    "# Print accuracy\n",
    "print('Accuracy: {:.2f}%'.format(accuracy_out_sample))\n"
   ]
  },
  {
   "cell_type": "code",
   "execution_count": 42,
   "id": "e146c499",
   "metadata": {},
   "outputs": [
    {
     "name": "stdout",
     "output_type": "stream",
     "text": [
      "Balanced Accuracy Score: 80.07%\n"
     ]
    }
   ],
   "source": [
    "balanced_accuracy = balanced_accuracy_score(y_out_sample, y_pred_out_sample)*100\n",
    "\n",
    "print('Balanced Accuracy Score: {:.2f}%'.format(balanced_accuracy))"
   ]
  },
  {
   "cell_type": "code",
   "execution_count": 43,
   "id": "cef5ff4c",
   "metadata": {},
   "outputs": [],
   "source": [
    "y_pred_prob_o = gbc.predict_proba(x_out_sample)\n",
    "\n",
    "def class_likelihood_ratios(y_out_sample, y_pred_prob_o):\n",
    "    \"\"\"\n",
    "    Calculate class likelihood ratios given true labels and predicted probabilities.\n",
    "\n",
    "    Parameters:\n",
    "    y_true (array-like): True labels.\n",
    "    y_prob (array-like): Predicted probabilities for each class.\n",
    "\n",
    "    Returns:\n",
    "    class_lr (dict): Dictionary containing class likelihood ratios.\n",
    "    \"\"\"\n",
    "    # Extract unique classes\n",
    "    classes = np.unique(y_out_sample)\n",
    "    \n",
    "    # Initialize dictionary to store likelihood ratios\n",
    "    class_lr = {}\n",
    "    \n",
    "    # Calculate likelihood ratios for each class\n",
    "    for cls in classes:\n",
    "        # Calculate class-specific likelihood ratio\n",
    "        class_prob = y_pred_prob_o[:, cls]\n",
    "        class_lr[cls] = np.sum(class_prob) / (len(class_prob) - np.sum(class_prob))\n",
    "    \n",
    "    return class_lr"
   ]
  },
  {
   "cell_type": "code",
   "execution_count": 44,
   "id": "2fb762bd",
   "metadata": {},
   "outputs": [
    {
     "name": "stdout",
     "output_type": "stream",
     "text": [
      "Class Likelihood Ratios:\n",
      "Class 0: 1.0295569534373303\n",
      "Class 1: 0.9712915799959874\n"
     ]
    }
   ],
   "source": [
    "class_lr = class_likelihood_ratios(y_test, y_pred_prob_o)\n",
    "\n",
    "# Print class likelihood ratios\n",
    "print(\"Class Likelihood Ratios:\")\n",
    "for cls, lr in class_lr.items():\n",
    "    print(f\"Class {cls}: {lr}\")"
   ]
  },
  {
   "cell_type": "code",
   "execution_count": 45,
   "id": "5bfd6012",
   "metadata": {},
   "outputs": [
    {
     "data": {
      "text/plain": [
       "array([0.65671642, 0.67832168])"
      ]
     },
     "execution_count": 45,
     "metadata": {},
     "output_type": "execute_result"
    }
   ],
   "source": [
    "from sklearn.metrics import jaccard_score\n",
    "jaccard_score(y_out_sample, y_pred_out_sample, average=None)"
   ]
  },
  {
   "cell_type": "markdown",
   "id": "e4900210",
   "metadata": {},
   "source": [
    "# Confusion Matrix"
   ]
  },
  {
   "cell_type": "code",
   "execution_count": 46,
   "id": "55a23d9b",
   "metadata": {},
   "outputs": [
    {
     "data": {
      "image/png": "[encoded data removed]",
      "text/plain": [
       "<Figure size 640x480 with 2 Axes>"
      ]
     },
     "metadata": {},
     "output_type": "display_data"
    }
   ],
   "source": [
    "from sklearn.metrics import ConfusionMatrixDisplay, confusion_matrix\n",
    "\n",
    "# Create the confusion matrix\n",
    "# Compute confusion matrices\n",
    "cm_test = confusion_matrix(y_test, y_pred)\n",
    "cm_out_sample = confusion_matrix(y_out_sample, y_pred_out_sample)\n",
    "\n",
    "# Combine the confusion matrices\n",
    "cm = cm_test + cm_out_sample\n",
    "\n",
    "ConfusionMatrixDisplay(confusion_matrix=cm).plot();"
   ]
  },
  {
   "cell_type": "code",
   "execution_count": 47,
   "id": "ed1151bd",
   "metadata": {},
   "outputs": [
    {
     "name": "stdout",
     "output_type": "stream",
     "text": [
      "     Outcome  Age_20_24  Age_24_28  Age_28_32  Age_32_36  Age_36_39  \\\n",
      "0          0          0          0          1          0          0   \n",
      "1          0          0          0          1          0          0   \n",
      "2          0          0          0          1          0          0   \n",
      "3          0          0          0          1          0          0   \n",
      "4          0          0          0          0          0          0   \n",
      "..       ...        ...        ...        ...        ...        ...   \n",
      "379        0          0          0          0          0          1   \n",
      "380        0          0          1          0          0          0   \n",
      "381        0          0          0          0          0          0   \n",
      "382        0          0          1          0          0          0   \n",
      "383        0          0          1          0          0          0   \n",
      "\n",
      "     Age_39_43  Age_43_47  Age_47_51  Age_51_54  ...  SkinThickness_0_7  \\\n",
      "0            0          0          0          0  ...                  0   \n",
      "1            0          0          0          0  ...                  1   \n",
      "2            0          0          0          0  ...                  1   \n",
      "3            0          0          0          0  ...                  1   \n",
      "4            0          0          0          0  ...                  1   \n",
      "..         ...        ...        ...        ...  ...                ...   \n",
      "379          0          0          0          0  ...                  0   \n",
      "380          0          0          0          0  ...                  0   \n",
      "381          0          0          0          0  ...                  0   \n",
      "382          0          0          0          0  ...                  0   \n",
      "383          0          0          0          0  ...                  0   \n",
      "\n",
      "     SkinThickness_14_21  SkinThickness_21_28  SkinThickness_28_35  \\\n",
      "0                      0                    0                    1   \n",
      "1                      0                    0                    0   \n",
      "2                      0                    0                    0   \n",
      "3                      0                    0                    0   \n",
      "4                      0                    0                    0   \n",
      "..                   ...                  ...                  ...   \n",
      "379                    0                    0                    1   \n",
      "380                    0                    1                    0   \n",
      "381                    1                    0                    0   \n",
      "382                    0                    1                    0   \n",
      "383                    0                    0                    0   \n",
      "\n",
      "     SkinThickness_35_42  SkinThickness_42_49  SkinThickness_49_56  \\\n",
      "0                      0                    0                    0   \n",
      "1                      0                    0                    0   \n",
      "2                      0                    0                    0   \n",
      "3                      0                    0                    0   \n",
      "4                      0                    0                    0   \n",
      "..                   ...                  ...                  ...   \n",
      "379                    0                    0                    0   \n",
      "380                    0                    0                    0   \n",
      "381                    0                    0                    0   \n",
      "382                    0                    0                    0   \n",
      "383                    1                    0                    0   \n",
      "\n",
      "     SkinThickness_56_63  SkinThickness_7_14  correct  \n",
      "0                      0                   0     True  \n",
      "1                      0                   0     True  \n",
      "2                      0                   0     True  \n",
      "3                      0                   0     True  \n",
      "4                      0                   0     True  \n",
      "..                   ...                 ...      ...  \n",
      "379                    0                   0    False  \n",
      "380                    0                   0    False  \n",
      "381                    0                   0    False  \n",
      "382                    0                   0    False  \n",
      "383                    0                   0    False  \n",
      "\n",
      "[384 rows x 134 columns]\n"
     ]
    }
   ],
   "source": [
    "# Extract indices of false positives and false negatives from the confusion matrix\n",
    "false_positive_indices = [(i, j) for i in range(cm.shape[0]) for j in range(cm.shape[1]) if i != j and j == 1]  # False positive indices\n",
    "false_negative_indices = [(i, j) for i in range(cm.shape[0]) for j in range(cm.shape[1]) if i != j and j == 0]  # False negative indices\n",
    "\n",
    "# Create new DataFrame to store instances with correct and incorrect predictions\n",
    "correct_rows = []\n",
    "incorrect_rows = []\n",
    "\n",
    "for index, (true_label, pred_label, out_true_label, out_pred_label) in enumerate(zip(y_test, y_pred, y_out_sample, y_pred_out_sample)):\n",
    "    # Check for false positives or false negatives in the first set of predictions\n",
    "    if (true_label, pred_label) in false_positive_indices or (true_label, pred_label) in false_negative_indices:\n",
    "        row_data = dataset.iloc[index].tolist()\n",
    "        incorrect_rows.append(row_data + [False])\n",
    "    else:\n",
    "        row_data = dataset.iloc[index].tolist()\n",
    "        correct_rows.append(row_data + [True])\n",
    "\n",
    "# Process remaining instances in the second set of predictions\n",
    "for index, (out_true_label, out_pred_label) in enumerate(zip(y_out_sample, y_pred_out_sample)):\n",
    "    # Check for false positives or false negatives in the second set of predictions\n",
    "    if (out_true_label, out_pred_label) in false_positive_indices or (out_true_label, out_pred_label) in false_negative_indices:\n",
    "        row_data = dataset.iloc[len(y_test) + index].tolist()  # Adjust index to start from where the first loop left off\n",
    "        incorrect_rows.append(row_data + [False])\n",
    "    else:\n",
    "        row_data = dataset.iloc[len(y_test) + index].tolist()  # Adjust index to start from where the first loop left off\n",
    "        correct_rows.append(row_data + [True])\n",
    "\n",
    "# Create DataFrames from the collected rows\n",
    "correct_df = pd.DataFrame(correct_rows, columns=dataset.columns.tolist() + ['correct'])\n",
    "incorrect_df = pd.DataFrame(incorrect_rows, columns=dataset.columns.tolist() + ['correct'])\n",
    "\n",
    "# Combine correct_df and incorrect_df into a single DataFrame\n",
    "result_dataset = pd.concat([correct_df, incorrect_df], ignore_index=True)\n",
    "\n",
    "# Print the resulting dataset\n",
    "print(result_dataset)"
   ]
  },
  {
   "cell_type": "markdown",
   "id": "94d171b3",
   "metadata": {},
   "source": [
    "### Fairness Test"
   ]
  },
  {
   "cell_type": "markdown",
   "id": "73fa81ea",
   "metadata": {},
   "source": [
    "use this when theres multiple columns youre looking over (ex. age_10_15...age 40_50.. etc)"
   ]
  },
  {
   "cell_type": "code",
   "execution_count": 48,
   "id": "fc3fc05c",
   "metadata": {},
   "outputs": [
    {
     "name": "stdout",
     "output_type": "stream",
     "text": [
      "Error rate for rows where Age_20_24 = 1 in result_dataset: 0.21678321678321677\n",
      "Error rate for rows where Age_24_28 = 1 in result_dataset: 0.18518518518518523\n",
      "Error rate for rows where Age_28_32 = 1 in result_dataset: 0.1578947368421053\n",
      "Error rate for rows where Age_32_36 = 1 in result_dataset: 0.09090909090909094\n",
      "Error rate for rows where Age_36_39 = 1 in result_dataset: 0.16000000000000003\n",
      "Error rate for rows where Age_39_43 = 1 in result_dataset: 0.04347826086956519\n",
      "Error rate for rows where Age_43_47 = 1 in result_dataset: 0.16666666666666663\n",
      "Error rate for rows where Age_47_51 = 1 in result_dataset: 0.0\n",
      "Error rate for rows where Age_51_54 = 1 in result_dataset: 0.0\n",
      "Error rate for rows where Age_54_58 = 1 in result_dataset: 0.09090909090909094\n",
      "Error rate for rows where Age_58_62 = 1 in result_dataset: 0.5714285714285714\n",
      "Error rate for rows where Age_62_66 = 1 in result_dataset: 0.4444444444444444\n",
      "Error rate for rows where Age_66_69 = 1 in result_dataset: 0.5\n",
      "Error rate for rows where Age_69_73 = 1 in result_dataset: nan\n",
      "Error rate for rows where Age_77_81 = 1 in result_dataset: nan\n"
     ]
    }
   ],
   "source": [
    "# Initialize dictionary to store error rates\n",
    "error_rates = {}\n",
    "\n",
    "# Iterate over columns in the dataset\n",
    "for column in result_dataset.columns:\n",
    "    # Check if the column name starts with \"salary\"\n",
    "    if column.startswith('Age'):\n",
    "        # Filter rows where the current salary column equals 1\n",
    "        salary_rows = result_dataset[result_dataset[column] == 1]\n",
    "        # Calculate error rate for the current salary column\n",
    "        error_rate = 1 - salary_rows['correct'].mean()\n",
    "        # Store error rate in the dictionary\n",
    "        error_rates[column] = error_rate\n",
    "\n",
    "# Print error rates for each salary column\n",
    "for column, error_rate in error_rates.items():\n",
    "    print(f\"Error rate for rows where {column} = 1 in result_dataset:\", error_rate)\n"
   ]
  },
  {
   "cell_type": "markdown",
   "id": "6663d431",
   "metadata": {},
   "source": [
    "use when looking over one column (ex. Sex_Male)"
   ]
  },
  {
   "cell_type": "code",
   "execution_count": null,
   "id": "ee5e79bc",
   "metadata": {},
   "outputs": [],
   "source": [
    "# Initialize dictionaries to store error rates\n",
    "error_rates_1 = {}\n",
    "error_rates_0 = {}\n",
    "\n",
    "# Iterate over columns in the dataset\n",
    "for column in result_dataset.columns:\n",
    "    # Check if the column name starts with \"Sex\"\n",
    "    if column.startswith('Sex'):\n",
    "        # Filter rows where the current column equals 1\n",
    "        rows_1 = result_dataset[result_dataset[column] == 1]\n",
    "        # Calculate error rate for the current column when equal to 1\n",
    "        error_rate_1 = 1 - rows_1['correct'].mean()\n",
    "        # Store error rate in the dictionary\n",
    "        error_rates_1[column] = error_rate_1\n",
    "\n",
    "        # Filter rows where the current column equals 0\n",
    "        rows_0 = result_dataset[result_dataset[column] == 0]\n",
    "        # Calculate error rate for the current column when equal to 0\n",
    "        error_rate_0 = 1 - rows_0['correct'].mean()\n",
    "        # Store error rate in the dictionary\n",
    "        error_rates_0[column] = error_rate_0\n",
    "\n",
    "# Print error rates for each column where equal to 1\n",
    "print(\"Error rates for rows where the column equals 1 in result_dataset:\")\n",
    "for column, error_rate in error_rates_1.items():\n",
    "    print(f\"Error rate for {column}: {error_rate}\")\n",
    "\n",
    "# Print error rates for each column where equal to 0\n",
    "print(\"\\nError rates for rows where the column equals 0 in result_dataset:\")\n",
    "for column, error_rate in error_rates_0.items():\n",
    "    print(f\"Error rate for {column}: {error_rate}\")\n"
   ]
  },
  {
   "cell_type": "markdown",
   "id": "70b08134",
   "metadata": {},
   "source": [
    "# ROC Curve"
   ]
  },
  {
   "cell_type": "markdown",
   "id": "6859fb59",
   "metadata": {},
   "source": [
    "for binary classification"
   ]
  },
  {
   "cell_type": "code",
   "execution_count": 49,
   "id": "3716ee59",
   "metadata": {},
   "outputs": [
    {
     "data": {
      "image/png": "[encoded data removed]",
      "text/plain": [
       "<Figure size 640x480 with 1 Axes>"
      ]
     },
     "metadata": {},
     "output_type": "display_data"
    }
   ],
   "source": [
    "from sklearn.metrics import roc_curve, auc\n",
    "\n",
    "#Predict probabilities on the test set\n",
    "y_pred_proba = gbc.predict_proba(x_test)[:, 1]\n",
    "\n",
    "# Calculate the false positive rate (FPR), true positive rate (TPR), and thresholds\n",
    "fpr, tpr, thresholds = roc_curve(y_test, y_pred_proba)\n",
    "\n",
    "# Calculate the area under the ROC curve (AUC)\n",
    "roc_auc = auc(fpr, tpr)\n",
    "\n",
    "# Plot the ROC curve\n",
    "plt.figure()\n",
    "plt.plot(fpr, tpr, label='Gradient Boost (area = %0.2f)' % roc_auc)\n",
    "plt.plot([0, 1], [0, 1],'r--')\n",
    "plt.xlim([0.0, 1.0])\n",
    "plt.ylim([0.0, 1.05])\n",
    "plt.xlabel('False Positive Rate')\n",
    "plt.ylabel('True Positive Rate')\n",
    "plt.title('ROC Curve')\n",
    "plt.legend(loc=\"lower right\")\n",
    "plt.savefig('Log_ROC')\n",
    "plt.show()"
   ]
  },
  {
   "cell_type": "markdown",
   "id": "e762a6bf",
   "metadata": {},
   "source": [
    "## Precision Recall Curve"
   ]
  },
  {
   "cell_type": "markdown",
   "id": "42f48f95",
   "metadata": {},
   "source": [
    "for binary classifiers"
   ]
  },
  {
   "cell_type": "code",
   "execution_count": 50,
   "id": "3f622f2f",
   "metadata": {},
   "outputs": [
    {
     "data": {
      "image/png": "[encoded data removed]",
      "text/plain": [
       "<Figure size 640x480 with 1 Axes>"
      ]
     },
     "metadata": {},
     "output_type": "display_data"
    }
   ],
   "source": [
    "from sklearn.metrics import precision_recall_curve\n",
    "from sklearn.metrics import PrecisionRecallDisplay\n",
    "\n",
    "precision, recall, _ = precision_recall_curve(y_test, y_pred_proba)\n",
    "\n",
    "# Plot Precision-Recall curve with chance level\n",
    "display = PrecisionRecallDisplay.from_predictions(\n",
    "    y_test, y_pred_proba, name=\"GradientBoost\", plot_chance_level=True\n",
    ")\n",
    "_ = display.ax_.set_title(\"2-class Precision-Recall curve\")"
   ]
  },
  {
   "cell_type": "markdown",
   "id": "e512fe44",
   "metadata": {},
   "source": [
    "# Outlier Model"
   ]
  },
  {
   "cell_type": "markdown",
   "id": "21730424",
   "metadata": {},
   "source": [
    "### Up-Sampling"
   ]
  },
  {
   "cell_type": "code",
   "execution_count": 51,
   "id": "6ae5d34d",
   "metadata": {},
   "outputs": [
    {
     "name": "stdout",
     "output_type": "stream",
     "text": [
      "Target Value Counts (Sorted):\n",
      "0    19\n",
      "1    22\n",
      "Name: Outcome, dtype: int64\n"
     ]
    },
    {
     "data": {
      "image/png": "[encoded data removed]",
      "text/plain": [
       "<Figure size 1000x600 with 1 Axes>"
      ]
     },
     "metadata": {},
     "output_type": "display_data"
    }
   ],
   "source": [
    "target_counts_sorted = outliers_dataset[target].value_counts().sort_index()\n",
    "\n",
    "# Display the counts\n",
    "print(\"Target Value Counts (Sorted):\")\n",
    "print(target_counts_sorted)\n",
    "\n",
    "plt.figure(figsize=(10, 6))\n",
    "plt.hist(outliers_dataset[target], bins='auto', color='skyblue', edgecolor='black')\n",
    "plt.xlabel(target)\n",
    "plt.ylabel('Frequency')\n",
    "plt.title('Histogram of Target')\n",
    "plt.grid(True)\n",
    "plt.show()"
   ]
  },
  {
   "cell_type": "code",
   "execution_count": null,
   "id": "9e705f2d",
   "metadata": {},
   "outputs": [],
   "source": [
    "df_majority = outliers_dataset[outliers_dataset[target] == 0]\n",
    "\n",
    "\n",
    "df_minority = outliers_dataset[outliers_dataset[target] == 1]\n",
    "\n",
    "# Upsample minority class\n",
    "df_minority_upsampled = resample(df_minority, \n",
    "                                 replace=True,     \n",
    "                                 n_samples=len(df_majority),\n",
    "                                 random_state=42)  # Add random_state for reproducibility\n",
    "\n",
    "# Combine minority class with majority class\n",
    "outliers_dataset = pd.concat([df_majority, df_minority_upsampled])\n",
    "\n",
    "# Check the value counts of the prediction column in the downsampled dataset\n",
    "print(outliers_dataset[target].value_counts())\n"
   ]
  },
  {
   "cell_type": "code",
   "execution_count": null,
   "id": "bd92eabe",
   "metadata": {},
   "outputs": [],
   "source": [
    "# Define the target variable 'y'\n",
    "oy = outliers_dataset[target]\n",
    "\n",
    "# Select all other columns as features 'x'\n",
    "ox = outliers_dataset.drop(columns=[target])"
   ]
  },
  {
   "cell_type": "markdown",
   "id": "b77c7280",
   "metadata": {},
   "source": [
    "### PCA"
   ]
  },
  {
   "cell_type": "code",
   "execution_count": null,
   "id": "c9bbc869",
   "metadata": {},
   "outputs": [],
   "source": [
    "# Perform PCA\n",
    "pca = PCA()\n",
    "ox_reduced = pca.fit_transform(ox)\n",
    "\n",
    "# Ensure both x_reduced and y have the same number of samples\n",
    "min_samples = min(ox_reduced.shape[0], oy.shape[0])\n",
    "ox_reduced = ox_reduced[:min_samples]\n",
    "oy = oy[:min_samples]\n",
    "\n",
    "# Define cross-validation method\n",
    "cv = RepeatedKFold(n_splits=10, n_repeats=3, random_state=1)\n",
    "\n",
    "gbc = GradientBoostingClassifier()\n",
    "\n",
    "# Calculate MSE with only the intercept\n",
    "mse = []\n",
    "score = -1 * cross_val_score(gbc, np.ones((len(ox_reduced), 1)), oy, cv=cv, scoring='neg_mean_squared_error').mean()\n",
    "mse.append(score)\n",
    "\n",
    "# Calculate MSE using cross-validation, adding one component at a time\n",
    "for i in np.arange(1, 6):\n",
    "    score = -1 * cross_val_score(gbc, ox_reduced[:, :i], oy, cv=cv, scoring='neg_mean_squared_error').mean()\n",
    "    mse.append(score)\n",
    "\n",
    "\n",
    "# Plot cross-validation results\n",
    "plt.plot(mse)\n",
    "plt.xlabel('Number of Principal Components')\n",
    "plt.ylabel('MSE')\n",
    "plt.title('MSE vs. Number of Principal Components')\n",
    "plt.show()\n"
   ]
  },
  {
   "cell_type": "code",
   "execution_count": null,
   "id": "e8f68a92",
   "metadata": {},
   "outputs": [],
   "source": [
    "#percentage of variance in the response variable explained by adding in each principal component to the model:\n",
    "np.cumsum(np.round(pca.explained_variance_ratio_, decimals=4)*100)"
   ]
  },
  {
   "cell_type": "code",
   "execution_count": null,
   "id": "780b9e0c",
   "metadata": {},
   "outputs": [],
   "source": [
    "# Choose the desired number of principal components based on the plot\n",
    "num_components = 40 # For example, choose n principal components\n",
    "\n",
    "# Use the selected number of principal components\n",
    "ox_reduced_selected = ox_reduced[:, :num_components]"
   ]
  },
  {
   "cell_type": "markdown",
   "id": "852919b2",
   "metadata": {},
   "source": [
    "## Spliting the Outlier dataset"
   ]
  },
  {
   "cell_type": "code",
   "execution_count": null,
   "id": "149edb01",
   "metadata": {},
   "outputs": [],
   "source": [
    "from sklearn.model_selection import train_test_split\n",
    "\n",
    "\n",
    "# Split the data into training (50%), testing (30%), and out-of-sample (20%)\n",
    "ox_train, ox_temp, oy_train, oy_temp = train_test_split(ox, oy, test_size=0.4, random_state=100)\n",
    "ox_test, ox_out_sample, oy_test, oy_out_sample = train_test_split(ox_temp, oy_temp, test_size=0.6, random_state=100)"
   ]
  },
  {
   "cell_type": "code",
   "execution_count": null,
   "id": "52fa2831",
   "metadata": {},
   "outputs": [],
   "source": [
    "missing_values = outliers_dataset.isnull().sum().sum()\n",
    "if missing_values > 0:\n",
    "    print(\"Warning: Dataset still contains missing values after cleaning.\")\n"
   ]
  },
  {
   "cell_type": "markdown",
   "id": "b96251ac",
   "metadata": {},
   "source": [
    "## Fitting the Gradient Boost model"
   ]
  },
  {
   "cell_type": "code",
   "execution_count": null,
   "id": "eb781d20",
   "metadata": {},
   "outputs": [],
   "source": [
    "from sklearn.model_selection import RandomizedSearchCV\n",
    "from sklearn.ensemble import GradientBoostingClassifier\n",
    "from scipy.stats import randint\n",
    "\n",
    "# Define the parameter distributions\n",
    "param_dist = {\n",
    "    'learning_rate': [0.01, 0.05, 0.1],\n",
    "    'n_estimators': randint(100, 500),\n",
    "    'max_depth': randint(2, 8)\n",
    "}\n",
    "\n",
    "# Create a GradientBoostingClassifier\n",
    "gbc = GradientBoostingClassifier()\n",
    "\n",
    "# Use random search to find the best hyperparameters\n",
    "rand_search = RandomizedSearchCV(gbc, \n",
    "                                 param_distributions=param_dist, \n",
    "                                 n_iter=10,  # Number of parameter settings that are sampled\n",
    "                                 cv=4)       # Cross-validation folds\n",
    "\n",
    "# Fit the random search object to the data\n",
    "rand_search.fit(x_train, y_train)\n",
    "\n",
    "# Print best parameters found\n",
    "print(\"Best Parameters:\", rand_search.best_params_)\n",
    "\n",
    "# Print best mean cross-validated score found\n",
    "print(\"Train Score:\", rand_search.best_score_)\n",
    "\n",
    "# Evaluate the best model on the test set\n",
    "print(\"Test Score:\", rand_search.score(x_test, y_test))"
   ]
  },
  {
   "cell_type": "code",
   "execution_count": null,
   "id": "a3288a16",
   "metadata": {},
   "outputs": [],
   "source": [
    "# Define Gradient Boosting Classifier with hyperparameters\n",
    "\n",
    "gbc=GradientBoostingClassifier(learning_rate=0.1,max_depth=5,n_estimators=246,random_state=100)\n",
    "\n",
    "# Fit train data to GBC\n",
    "\n",
    "gbc.fit(ox_train,oy_train)"
   ]
  },
  {
   "cell_type": "code",
   "execution_count": null,
   "id": "2fdcd8e7",
   "metadata": {},
   "outputs": [],
   "source": [
    "oy_pred = gbc.predict(ox_test)\n",
    "oy_pred"
   ]
  },
  {
   "cell_type": "code",
   "execution_count": null,
   "id": "0b883510",
   "metadata": {},
   "outputs": [],
   "source": [
    "print(\"GBC accuracy is %2.2f\" % accuracy_score( \n",
    "     oy_test, gbc.predict(ox_test)))"
   ]
  },
  {
   "cell_type": "markdown",
   "id": "91547c7b",
   "metadata": {},
   "source": [
    "## Model Evaluation"
   ]
  },
  {
   "cell_type": "markdown",
   "id": "045fa929",
   "metadata": {},
   "source": [
    "### On test data"
   ]
  },
  {
   "cell_type": "code",
   "execution_count": null,
   "id": "eed05d07",
   "metadata": {},
   "outputs": [],
   "source": [
    "from sklearn import metrics\n",
    "# Predict the labels for the test set\n",
    "oy_pred = gbc.predict(ox_test)\n",
    "\n",
    "# Calculate accuracy\n",
    "oaccuracy = accuracy_score(oy_test, oy_pred) * 100\n",
    "\n",
    "# Print accuracy\n",
    "print('Accuracy: {:.2f}%'.format(oaccuracy))"
   ]
  },
  {
   "cell_type": "code",
   "execution_count": null,
   "id": "7b463cbc",
   "metadata": {},
   "outputs": [],
   "source": [
    "from sklearn.metrics import balanced_accuracy_score\n",
    "\n",
    "# Assuming y_true and y_pred are your true and predicted labels, respectively\n",
    "balanced_accuracy = balanced_accuracy_score(oy_test, oy_pred)* 100\n",
    "\n",
    "print('Balanced Accuracy Score: {:.2f}%'.format(balanced_accuracy))"
   ]
  },
  {
   "cell_type": "code",
   "execution_count": null,
   "id": "669df536",
   "metadata": {},
   "outputs": [],
   "source": [
    "oy_pred_prob_t = gbc.predict_proba(ox_test)\n",
    "\n",
    "def class_likelihood_ratios(oy_test, oy_pred_prob_t):\n",
    "    \"\"\"\n",
    "    Calculate class likelihood ratios given true labels and predicted probabilities.\n",
    "\n",
    "    Parameters:\n",
    "    y_true (array-like): True labels.\n",
    "    y_prob (array-like): Predicted probabilities for each class.\n",
    "\n",
    "    Returns:\n",
    "    class_lr (dict): Dictionary containing class likelihood ratios.\n",
    "    \"\"\"\n",
    "    # Extract unique classes\n",
    "    classes = np.unique(y_test)\n",
    "    \n",
    "    # Initialize dictionary to store likelihood ratios\n",
    "    class_lr = {}\n",
    "    \n",
    "    # Calculate likelihood ratios for each class\n",
    "    for cls in classes:\n",
    "        # Calculate class-specific likelihood ratio\n",
    "        class_prob = oy_pred_prob_t[:, cls]\n",
    "        class_lr[cls] = np.sum(class_prob) / (len(class_prob) - np.sum(class_prob))\n",
    "    \n",
    "    return class_lr"
   ]
  },
  {
   "cell_type": "code",
   "execution_count": null,
   "id": "dee328b6",
   "metadata": {},
   "outputs": [],
   "source": [
    "# Calculate class likelihood ratios\n",
    "\n",
    "class_lr = class_likelihood_ratios(y_test, y_pred_prob_t)\n",
    "\n",
    "# Print class likelihood ratios\n",
    "print(\"Class Likelihood Ratios:\")\n",
    "for cls, lr in class_lr.items():\n",
    "    print(f\"Class {cls}: {lr}\")"
   ]
  },
  {
   "cell_type": "code",
   "execution_count": null,
   "id": "09eb34a2",
   "metadata": {},
   "outputs": [],
   "source": [
    "from sklearn.metrics import jaccard_score\n",
    "jaccard_score(oy_test, oy_pred)"
   ]
  },
  {
   "cell_type": "markdown",
   "id": "b93af1b9",
   "metadata": {},
   "source": [
    "### On out-of-sample data"
   ]
  },
  {
   "cell_type": "code",
   "execution_count": null,
   "id": "c22d4156",
   "metadata": {},
   "outputs": [],
   "source": [
    "from sklearn.metrics import accuracy_score\n",
    "\n",
    "# Predict the labels for the out-of-sample set\n",
    "oy_pred_out_sample = gbc.predict(ox_out_sample)\n",
    "\n",
    "# Calculate accuracy\n",
    "oaccuracy_out_sample = accuracy_score(oy_out_sample, oy_pred_out_sample) * 100\n",
    "\n",
    "# Print accuracy\n",
    "print('Accuracy: {:.2f}%'.format(oaccuracy_out_sample))"
   ]
  },
  {
   "cell_type": "code",
   "execution_count": null,
   "id": "5a1346e4",
   "metadata": {},
   "outputs": [],
   "source": [
    "from sklearn.metrics import balanced_accuracy_score\n",
    "\n",
    "# Assuming y_true and y_pred are your true and predicted labels, respectively\n",
    "balanced_accuracy = balanced_accuracy_score(oy_out_sample, oy_pred_out_sample)* 100\n",
    "\n",
    "print('Balanced Accuracy Score: {:.2f}%'.format(balanced_accuracy))"
   ]
  },
  {
   "cell_type": "code",
   "execution_count": null,
   "id": "8a2c675e",
   "metadata": {},
   "outputs": [],
   "source": [
    "oy_pred_prob_o = gbc.predict_proba(ox_out_sample)\n",
    "\n",
    "def class_likelihood_ratios(oy_out_sample, oy_pred_prob_o):\n",
    "    \"\"\"\n",
    "    Calculate class likelihood ratios given true labels and predicted probabilities.\n",
    "\n",
    "    Parameters:\n",
    "    y_true (array-like): True labels.\n",
    "    y_prob (array-like): Predicted probabilities for each class.\n",
    "\n",
    "    Returns:\n",
    "    class_lr (dict): Dictionary containing class likelihood ratios.\n",
    "    \"\"\"\n",
    "    # Extract unique classes\n",
    "    classes = np.unique(oy_out_sample)\n",
    "    \n",
    "    # Initialize dictionary to store likelihood ratios\n",
    "    class_lr = {}\n",
    "    \n",
    "    # Calculate likelihood ratios for each class\n",
    "    for cls in classes:\n",
    "        # Calculate class-specific likelihood ratio\n",
    "        class_prob = oy_pred_prob_o[:, cls]\n",
    "        class_lr[cls] = np.sum(class_prob) / (len(class_prob) - np.sum(class_prob))\n",
    "    \n",
    "    return class_lr"
   ]
  },
  {
   "cell_type": "code",
   "execution_count": null,
   "id": "012cfe35",
   "metadata": {},
   "outputs": [],
   "source": [
    "# Calculate class likelihood ratios\n",
    "\n",
    "class_lr = class_likelihood_ratios(oy_test, oy_pred_prob_o)\n",
    "\n",
    "# Print class likelihood ratios\n",
    "print(\"Class Likelihood Ratios:\")\n",
    "for cls, lr in class_lr.items():\n",
    "    print(f\"Class {cls}: {lr}\")"
   ]
  },
  {
   "cell_type": "code",
   "execution_count": null,
   "id": "92fd5629",
   "metadata": {},
   "outputs": [],
   "source": [
    "from sklearn.metrics import jaccard_score\n",
    "jaccard_score(oy_out_sample, oy_pred_out_sample)"
   ]
  },
  {
   "cell_type": "markdown",
   "id": "e1c9ae63",
   "metadata": {},
   "source": [
    "## Confusion Matrix"
   ]
  },
  {
   "cell_type": "code",
   "execution_count": null,
   "id": "c8aec8eb",
   "metadata": {},
   "outputs": [],
   "source": [
    "# Create the confusion matrix\n",
    "\n",
    "ocm_test = confusion_matrix(oy_test, oy_pred)\n",
    "ocm_out_sample = confusion_matrix(oy_out_sample, oy_pred_out_sample)\n",
    "\n",
    "# Combine the confusion matrices\n",
    "ocm = ocm_test + ocm_out_sample\n",
    "\n",
    "# Plot the confusion matrix\n",
    "ConfusionMatrixDisplay(confusion_matrix=ocm).plot()\n"
   ]
  },
  {
   "cell_type": "code",
   "execution_count": null,
   "id": "62406cec",
   "metadata": {},
   "outputs": [],
   "source": [
    "false_positive_indices = [(i, j) for i in range(ocm.shape[0]) for j in range(ocm.shape[1]) if i != j and j == 1]  # False positive indices\n",
    "false_negative_indices = [(i, j) for i in range(ocm.shape[0]) for j in range(ocm.shape[1]) if i != j and j == 0]  # False negative indices\n",
    "\n",
    "# Create new DataFrame to store instances with correct and incorrect predictions\n",
    "ocorrect_rows = []\n",
    "oincorrect_rows = []\n",
    "\n",
    "for index, (true_label, pred_label, out_true_label, out_pred_label) in enumerate(zip(oy_test, oy_pred, oy_out_sample, oy_pred_out_sample)):\n",
    "    # Check for false positives or false negatives in the first set of predictions\n",
    "    if (true_label, pred_label) in false_positive_indices or (true_label, pred_label) in false_negative_indices:\n",
    "        row_data = outliers_dataset.iloc[index].tolist()\n",
    "        oincorrect_rows.append(row_data + [False])\n",
    "    else:\n",
    "        row_data = outliers_dataset.iloc[index].tolist()\n",
    "        ocorrect_rows.append(row_data + [True])\n",
    "\n",
    "# Process remaining instances in the second set of predictions\n",
    "for index, (out_true_label, out_pred_label) in enumerate(zip(oy_out_sample, oy_pred_out_sample)):\n",
    "    # Check for false positives or false negatives in the second set of predictions\n",
    "    if (out_true_label, out_pred_label) in false_positive_indices or (out_true_label, out_pred_label) in false_negative_indices:\n",
    "        row_data = outliers_dataset.iloc[len(oy_test) + index].tolist()  # Adjust index to start from where the first loop left off\n",
    "        oincorrect_rows.append(row_data + [False])\n",
    "    else:\n",
    "        row_data = outliers_dataset.iloc[len(oy_test) + index].tolist()  # Adjust index to start from where the first loop left off\n",
    "        ocorrect_rows.append(row_data + [True])\n",
    "\n",
    "# Create DataFrames from the collected rows\n",
    "ocorrect_df = pd.DataFrame(ocorrect_rows, columns=outliers_dataset.columns.tolist() + ['correct'])\n",
    "oincorrect_df = pd.DataFrame(oincorrect_rows, columns=outliers_dataset.columns.tolist() + ['correct'])\n",
    "\n",
    "# Combine correct_df and incorrect_df into a single DataFrame\n",
    "oresult_dataset = pd.concat([ocorrect_df, oincorrect_df], ignore_index=True)\n",
    "\n",
    "# Print the resulting dataset\n",
    "print(oresult_dataset)"
   ]
  },
  {
   "cell_type": "markdown",
   "id": "a29ae76b",
   "metadata": {},
   "source": [
    "## ROC Curve"
   ]
  },
  {
   "cell_type": "code",
   "execution_count": null,
   "id": "185e22ab",
   "metadata": {},
   "outputs": [],
   "source": [
    "#Predict probabilities on the test set\n",
    "oy_pred_proba = gbc.predict_proba(ox_test)[:, 1]\n",
    "\n",
    "# Calculate the false positive rate (FPR), true positive rate (TPR), and thresholds\n",
    "fpr, tpr, thresholds = roc_curve(oy_test, oy_pred_proba)\n",
    "\n",
    "# Calculate the area under the ROC curve (AUC)\n",
    "roc_auc = auc(fpr, tpr)\n",
    "\n",
    "# Plot the ROC curve\n",
    "plt.figure()\n",
    "plt.plot(fpr, tpr, label='Gradient Boost (area = %0.2f)' % roc_auc)\n",
    "plt.plot([0, 1], [0, 1],'r--')\n",
    "plt.xlim([0.0, 1.0])\n",
    "plt.ylim([0.0, 1.05])\n",
    "plt.xlabel('False Positive Rate')\n",
    "plt.ylabel('True Positive Rate')\n",
    "plt.title('ROC Curve')\n",
    "plt.legend(loc=\"lower right\")\n",
    "plt.savefig('Log_ROC')\n",
    "plt.show()"
   ]
  },
  {
   "cell_type": "markdown",
   "id": "4e0deae3",
   "metadata": {},
   "source": [
    "## Precision Recall Curve"
   ]
  },
  {
   "cell_type": "code",
   "execution_count": null,
   "id": "ebc1676f",
   "metadata": {},
   "outputs": [],
   "source": [
    "from sklearn.metrics import precision_recall_curve\n",
    "from sklearn.metrics import PrecisionRecallDisplay\n",
    "\n",
    "precision, recall, _ = precision_recall_curve(oy_test, oy_pred_proba)\n",
    "\n",
    "# Plot Precision-Recall curve with chance level\n",
    "display = PrecisionRecallDisplay.from_predictions(\n",
    "    oy_test, oy_pred_proba, name=\"GradientBoost\", plot_chance_level=True\n",
    ")\n",
    "_ = display.ax_.set_title(\"2-class Precision-Recall curve\")"
   ]
  },
  {
   "cell_type": "markdown",
   "id": "fc10c0ab",
   "metadata": {},
   "source": [
    "# Combined Model"
   ]
  },
  {
   "cell_type": "code",
   "execution_count": null,
   "id": "0c30b31b",
   "metadata": {},
   "outputs": [],
   "source": [
    "combined_data = pd.concat([oresult_dataset, result_dataset], axis=0)\n",
    "\n",
    "# Reset index after concatenation\n",
    "combined_data.reset_index(drop=True, inplace=True)\n",
    "\n",
    "# Display the combined dataset\n",
    "print(combined_data)"
   ]
  },
  {
   "cell_type": "code",
   "execution_count": null,
   "id": "2977a75c",
   "metadata": {},
   "outputs": [],
   "source": [
    "# Calculate accuracy\n",
    "accuracy = combined_data['correct'].mean() * 100  # Convert to percentage\n",
    "\n",
    "# Display accuracy\n",
    "print(\"Accuracy:\", accuracy, \"%\")"
   ]
  },
  {
   "cell_type": "code",
   "execution_count": null,
   "id": "ffe0ec72",
   "metadata": {},
   "outputs": [],
   "source": []
  }
 ],
 "metadata": {
  "kernelspec": {
   "display_name": "Python 3 (ipykernel)",
   "language": "python",
   "name": "python3"
  },
  "language_info": {
   "codemirror_mode": {
    "name": "ipython",
    "version": 3
   },
   "file_extension": ".py",
   "mimetype": "text/x-python",
   "name": "python",
   "nbconvert_exporter": "python",
   "pygments_lexer": "ipython3",
   "version": "3.11.4"
  }
 },
 "nbformat": 4,
 "nbformat_minor": 5
}
