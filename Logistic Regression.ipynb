{
 "cells": [
  {
   "cell_type": "markdown",
   "id": "56049ad6",
   "metadata": {},
   "source": [
    "# Import libraries\n"
   ]
  },
  {
   "cell_type": "code",
   "execution_count": 1,
   "id": "4280cee4",
   "metadata": {},
   "outputs": [],
   "source": [
    "import pandas as pd\n",
    "import numpy as np\n",
    "import matplotlib.pyplot as plt\n",
    "import seaborn as sns\n",
    "from mlxtend.feature_selection import SequentialFeatureSelector\n",
    "from sklearn.linear_model import LogisticRegression\n",
    "from sklearn.impute import SimpleImputer\n",
    "import statsmodels.api as sm\n",
    "from sklearn.preprocessing import StandardScaler\n",
    "from sklearn.decomposition import PCA\n",
    "from sklearn.preprocessing import scale \n",
    "from sklearn import model_selection\n",
    "from sklearn.model_selection import RepeatedKFold\n",
    "from sklearn.model_selection import train_test_split\n",
    "from sklearn.linear_model import LinearRegression\n",
    "from sklearn.metrics import mean_squared_error\n",
    "from sklearn.cluster import KMeans\n",
    "from sklearn.preprocessing import OneHotEncoder\n",
    "from sklearn.utils import resample"
   ]
  },
  {
   "cell_type": "markdown",
   "id": "b4a904a1",
   "metadata": {},
   "source": [
    "# Data Import"
   ]
  },
  {
   "cell_type": "code",
   "execution_count": 2,
   "id": "6d72df93",
   "metadata": {},
   "outputs": [],
   "source": [
    "dataset = pd.read_csv(\"Desktop/HR_comma_sep.csv\")"
   ]
  },
  {
   "cell_type": "markdown",
   "id": "4e83bb60",
   "metadata": {},
   "source": [
    "##### Optional Drop Column"
   ]
  },
  {
   "cell_type": "code",
   "execution_count": 3,
   "id": "47d66e64",
   "metadata": {},
   "outputs": [],
   "source": [
    "# Remove the column you want to drop\n",
    "# column_to_drop = \"Name\"  # Replace \"column_name\" with the name of the column you want to remove\n",
    "#dataset.drop(columns=[column_to_drop], inplace=True)"
   ]
  },
  {
   "cell_type": "markdown",
   "id": "48365d93",
   "metadata": {},
   "source": [
    "# Data Cleaning"
   ]
  },
  {
   "cell_type": "code",
   "execution_count": 4,
   "id": "8a44831b",
   "metadata": {},
   "outputs": [
    {
     "name": "stdout",
     "output_type": "stream",
     "text": [
      "<class 'pandas.core.frame.DataFrame'>\n",
      "RangeIndex: 14999 entries, 0 to 14998\n",
      "Data columns (total 10 columns):\n",
      " #   Column                 Non-Null Count  Dtype  \n",
      "---  ------                 --------------  -----  \n",
      " 0   satisfaction_level     14999 non-null  float64\n",
      " 1   last_evaluation        14999 non-null  float64\n",
      " 2   number_project         14999 non-null  int64  \n",
      " 3   average_montly_hours   14999 non-null  int64  \n",
      " 4   time_spend_company     14999 non-null  int64  \n",
      " 5   Work_accident          14999 non-null  int64  \n",
      " 6   left                   14999 non-null  int64  \n",
      " 7   promotion_last_5years  14999 non-null  int64  \n",
      " 8   Department             14999 non-null  object \n",
      " 9   salary                 14999 non-null  object \n",
      "dtypes: float64(2), int64(6), object(2)\n",
      "memory usage: 1.1+ MB\n"
     ]
    },
    {
     "data": {
      "text/html": [
       "<div>\n",
       "<style scoped>\n",
       "    .dataframe tbody tr th:only-of-type {\n",
       "        vertical-align: middle;\n",
       "    }\n",
       "\n",
       "    .dataframe tbody tr th {\n",
       "        vertical-align: top;\n",
       "    }\n",
       "\n",
       "    .dataframe thead th {\n",
       "        text-align: right;\n",
       "    }\n",
       "</style>\n",
       "<table border=\"1\" class=\"dataframe\">\n",
       "  <thead>\n",
       "    <tr style=\"text-align: right;\">\n",
       "      <th></th>\n",
       "      <th>count</th>\n",
       "      <th>mean</th>\n",
       "      <th>std</th>\n",
       "      <th>min</th>\n",
       "      <th>25%</th>\n",
       "      <th>50%</th>\n",
       "      <th>75%</th>\n",
       "      <th>max</th>\n",
       "    </tr>\n",
       "  </thead>\n",
       "  <tbody>\n",
       "    <tr>\n",
       "      <th>satisfaction_level</th>\n",
       "      <td>14999.0</td>\n",
       "      <td>0.612834</td>\n",
       "      <td>0.248631</td>\n",
       "      <td>0.09</td>\n",
       "      <td>0.44</td>\n",
       "      <td>0.64</td>\n",
       "      <td>0.82</td>\n",
       "      <td>1.0</td>\n",
       "    </tr>\n",
       "    <tr>\n",
       "      <th>last_evaluation</th>\n",
       "      <td>14999.0</td>\n",
       "      <td>0.716102</td>\n",
       "      <td>0.171169</td>\n",
       "      <td>0.36</td>\n",
       "      <td>0.56</td>\n",
       "      <td>0.72</td>\n",
       "      <td>0.87</td>\n",
       "      <td>1.0</td>\n",
       "    </tr>\n",
       "    <tr>\n",
       "      <th>number_project</th>\n",
       "      <td>14999.0</td>\n",
       "      <td>3.803054</td>\n",
       "      <td>1.232592</td>\n",
       "      <td>2.00</td>\n",
       "      <td>3.00</td>\n",
       "      <td>4.00</td>\n",
       "      <td>5.00</td>\n",
       "      <td>7.0</td>\n",
       "    </tr>\n",
       "    <tr>\n",
       "      <th>average_montly_hours</th>\n",
       "      <td>14999.0</td>\n",
       "      <td>201.050337</td>\n",
       "      <td>49.943099</td>\n",
       "      <td>96.00</td>\n",
       "      <td>156.00</td>\n",
       "      <td>200.00</td>\n",
       "      <td>245.00</td>\n",
       "      <td>310.0</td>\n",
       "    </tr>\n",
       "    <tr>\n",
       "      <th>time_spend_company</th>\n",
       "      <td>14999.0</td>\n",
       "      <td>3.498233</td>\n",
       "      <td>1.460136</td>\n",
       "      <td>2.00</td>\n",
       "      <td>3.00</td>\n",
       "      <td>3.00</td>\n",
       "      <td>4.00</td>\n",
       "      <td>10.0</td>\n",
       "    </tr>\n",
       "    <tr>\n",
       "      <th>Work_accident</th>\n",
       "      <td>14999.0</td>\n",
       "      <td>0.144610</td>\n",
       "      <td>0.351719</td>\n",
       "      <td>0.00</td>\n",
       "      <td>0.00</td>\n",
       "      <td>0.00</td>\n",
       "      <td>0.00</td>\n",
       "      <td>1.0</td>\n",
       "    </tr>\n",
       "    <tr>\n",
       "      <th>left</th>\n",
       "      <td>14999.0</td>\n",
       "      <td>0.238083</td>\n",
       "      <td>0.425924</td>\n",
       "      <td>0.00</td>\n",
       "      <td>0.00</td>\n",
       "      <td>0.00</td>\n",
       "      <td>0.00</td>\n",
       "      <td>1.0</td>\n",
       "    </tr>\n",
       "    <tr>\n",
       "      <th>promotion_last_5years</th>\n",
       "      <td>14999.0</td>\n",
       "      <td>0.021268</td>\n",
       "      <td>0.144281</td>\n",
       "      <td>0.00</td>\n",
       "      <td>0.00</td>\n",
       "      <td>0.00</td>\n",
       "      <td>0.00</td>\n",
       "      <td>1.0</td>\n",
       "    </tr>\n",
       "  </tbody>\n",
       "</table>\n",
       "</div>"
      ],
      "text/plain": [
       "                         count        mean        std    min     25%     50%  \\\n",
       "satisfaction_level     14999.0    0.612834   0.248631   0.09    0.44    0.64   \n",
       "last_evaluation        14999.0    0.716102   0.171169   0.36    0.56    0.72   \n",
       "number_project         14999.0    3.803054   1.232592   2.00    3.00    4.00   \n",
       "average_montly_hours   14999.0  201.050337  49.943099  96.00  156.00  200.00   \n",
       "time_spend_company     14999.0    3.498233   1.460136   2.00    3.00    3.00   \n",
       "Work_accident          14999.0    0.144610   0.351719   0.00    0.00    0.00   \n",
       "left                   14999.0    0.238083   0.425924   0.00    0.00    0.00   \n",
       "promotion_last_5years  14999.0    0.021268   0.144281   0.00    0.00    0.00   \n",
       "\n",
       "                          75%    max  \n",
       "satisfaction_level       0.82    1.0  \n",
       "last_evaluation          0.87    1.0  \n",
       "number_project           5.00    7.0  \n",
       "average_montly_hours   245.00  310.0  \n",
       "time_spend_company       4.00   10.0  \n",
       "Work_accident            0.00    1.0  \n",
       "left                     0.00    1.0  \n",
       "promotion_last_5years    0.00    1.0  "
      ]
     },
     "execution_count": 4,
     "metadata": {},
     "output_type": "execute_result"
    }
   ],
   "source": [
    "dataset.info()\n",
    "#Distribution\n",
    "dataset.describe().transpose()"
   ]
  },
  {
   "cell_type": "markdown",
   "id": "9d4dd56d",
   "metadata": {},
   "source": [
    "### Null Values"
   ]
  },
  {
   "cell_type": "code",
   "execution_count": 5,
   "id": "32e2f7bf",
   "metadata": {},
   "outputs": [
    {
     "data": {
      "text/plain": [
       "satisfaction_level       0\n",
       "last_evaluation          0\n",
       "number_project           0\n",
       "average_montly_hours     0\n",
       "time_spend_company       0\n",
       "Work_accident            0\n",
       "left                     0\n",
       "promotion_last_5years    0\n",
       "Department               0\n",
       "salary                   0\n",
       "dtype: int64"
      ]
     },
     "execution_count": 5,
     "metadata": {},
     "output_type": "execute_result"
    }
   ],
   "source": [
    "dataset.isna().sum()"
   ]
  },
  {
   "cell_type": "code",
   "execution_count": 6,
   "id": "1a417505",
   "metadata": {},
   "outputs": [],
   "source": [
    "# Calculate the threshold for missing values\n",
    "threshold = 0.2 * len(dataset)\n",
    "\n",
    "# Iterate over each column\n",
    "for column in dataset.columns:\n",
    "    # Check if the column has missing values\n",
    "    if dataset[column].isna().sum() > 0:\n",
    "        # If the number of missing values is less than the threshold, drop rows\n",
    "        if dataset[column].isna().sum() < threshold:\n",
    "            dataset = dataset.dropna(subset=[column])\n",
    "        # If the number of missing values is greater than or equal to the threshold, fill with mean\n",
    "        else:\n",
    "            dataset[column].fillna(dataset[column].mean(), inplace=True)"
   ]
  },
  {
   "cell_type": "code",
   "execution_count": 7,
   "id": "2de3fb49",
   "metadata": {},
   "outputs": [],
   "source": [
    "# Check for any remaining missing values\n",
    "missing_values = dataset.isna().sum().sum()\n",
    "if missing_values > 0:\n",
    "    print(\"Warning: Dataset still contains missing values after cleaning.\")\n"
   ]
  },
  {
   "cell_type": "markdown",
   "id": "b1062155",
   "metadata": {},
   "source": [
    "## Identify Target Variable"
   ]
  },
  {
   "cell_type": "code",
   "execution_count": 8,
   "id": "e8326e0e",
   "metadata": {},
   "outputs": [],
   "source": [
    "target = 'left'"
   ]
  },
  {
   "cell_type": "markdown",
   "id": "e496e0d5",
   "metadata": {},
   "source": [
    "# Feature Engineering "
   ]
  },
  {
   "cell_type": "markdown",
   "id": "b8682599",
   "metadata": {},
   "source": [
    "### One Hot Encoder"
   ]
  },
  {
   "cell_type": "code",
   "execution_count": 9,
   "id": "5a74ba55",
   "metadata": {},
   "outputs": [
    {
     "name": "stdout",
     "output_type": "stream",
     "text": [
      "Categorical columns found:\n",
      "salary\n",
      "number_project\n",
      "promotion_last_5years\n",
      "time_spend_company\n",
      "Department\n",
      "Work_accident\n",
      "Modified Dataset:\n",
      "   satisfaction_level  last_evaluation  average_montly_hours  left  \\\n",
      "0                0.38             0.53                   157     1   \n",
      "1                0.80             0.86                   262     1   \n",
      "2                0.11             0.88                   272     1   \n",
      "3                0.72             0.87                   223     1   \n",
      "4                0.37             0.52                   159     1   \n",
      "\n",
      "   salary_low  salary_medium  number_project_3  number_project_4  \\\n",
      "0         1.0            0.0               0.0               0.0   \n",
      "1         0.0            1.0               0.0               0.0   \n",
      "2         0.0            1.0               0.0               0.0   \n",
      "3         1.0            0.0               0.0               0.0   \n",
      "4         1.0            0.0               0.0               0.0   \n",
      "\n",
      "   number_project_5  number_project_6  ...  Department_RandD  \\\n",
      "0               0.0               0.0  ...               0.0   \n",
      "1               1.0               0.0  ...               0.0   \n",
      "2               0.0               0.0  ...               0.0   \n",
      "3               1.0               0.0  ...               0.0   \n",
      "4               0.0               0.0  ...               0.0   \n",
      "\n",
      "   Department_accounting  Department_hr  Department_management  \\\n",
      "0                    0.0            0.0                    0.0   \n",
      "1                    0.0            0.0                    0.0   \n",
      "2                    0.0            0.0                    0.0   \n",
      "3                    0.0            0.0                    0.0   \n",
      "4                    0.0            0.0                    0.0   \n",
      "\n",
      "   Department_marketing  Department_product_mng  Department_sales  \\\n",
      "0                   0.0                     0.0               1.0   \n",
      "1                   0.0                     0.0               1.0   \n",
      "2                   0.0                     0.0               1.0   \n",
      "3                   0.0                     0.0               1.0   \n",
      "4                   0.0                     0.0               1.0   \n",
      "\n",
      "   Department_support  Department_technical  Work_accident_1  \n",
      "0                 0.0                   0.0              0.0  \n",
      "1                 0.0                   0.0              0.0  \n",
      "2                 0.0                   0.0              0.0  \n",
      "3                 0.0                   0.0              0.0  \n",
      "4                 0.0                   0.0              0.0  \n",
      "\n",
      "[5 rows x 29 columns]\n"
     ]
    }
   ],
   "source": [
    "# Check for categorical variables\n",
    "categorical_columns = set()\n",
    "\n",
    "# Add columns with less than 10 unique values\n",
    "for column in dataset.columns:\n",
    "    if column != target and dataset[column].nunique() < 10:\n",
    "        categorical_columns.add(column)\n",
    "\n",
    "# Append columns with object data type\n",
    "categorical_columns.update(dataset.select_dtypes(include=['object']).columns.tolist())\n",
    "\n",
    "if len(categorical_columns) > 0:\n",
    "    print(\"Categorical columns found:\")\n",
    "    for column in categorical_columns:\n",
    "        print(column)\n",
    "    \n",
    "    # Fit the encoder to the categorical columns\n",
    "    encoder = OneHotEncoder(drop='first', sparse_output=False)\n",
    "    encoded_columns = encoder.fit_transform(dataset[list(categorical_columns)])\n",
    "\n",
    "    # Get the feature names from the encoder\n",
    "    encoded_feature_names = encoder.get_feature_names_out(input_features=list(categorical_columns))\n",
    "\n",
    "    # Create a DataFrame with the encoded columns and feature names\n",
    "    encoded_df = pd.DataFrame(encoded_columns, columns=encoded_feature_names)\n",
    "\n",
    "    # Drop original categorical columns\n",
    "    dataset.drop(columns=categorical_columns, inplace=True)\n",
    "    \n",
    "    # Concatenate encoded columns with dataset\n",
    "    dataset = pd.concat([dataset, encoded_df], axis=1)\n",
    "    \n",
    "    # Display the modified dataset\n",
    "    print(\"Modified Dataset:\")\n",
    "    print(dataset.head())\n",
    "else:\n",
    "    print(\"No categorical columns found.\")\n"
   ]
  },
  {
   "cell_type": "markdown",
   "id": "6f1f849d",
   "metadata": {},
   "source": [
    "### Outlier Detection"
   ]
  },
  {
   "cell_type": "markdown",
   "id": "c16f8b94",
   "metadata": {},
   "source": [
    "#### **Data is scaled in this step***"
   ]
  },
  {
   "cell_type": "code",
   "execution_count": 10,
   "id": "de58bedb",
   "metadata": {},
   "outputs": [
    {
     "name": "stdout",
     "output_type": "stream",
     "text": [
      "Indices of outliers: [    2    18    43 ... 14933 14949 14975]\n",
      "Details of outliers:\n",
      "       satisfaction_level  last_evaluation  average_montly_hours  left  \\\n",
      "2                    0.11             0.88                   272     1   \n",
      "18                   0.45             0.51                   160     1   \n",
      "43                   0.10             0.80                   281     1   \n",
      "54                   0.10             0.92                   307     1   \n",
      "56                   0.11             0.94                   255     1   \n",
      "...                   ...              ...                   ...   ...   \n",
      "14908                0.10             0.87                   251     1   \n",
      "14929                0.10             0.83                   302     1   \n",
      "14933                0.10             0.94                   264     1   \n",
      "14949                0.42             0.57                   147     1   \n",
      "14975                0.10             0.79                   310     1   \n",
      "\n",
      "       salary_low  salary_medium  number_project_3  number_project_4  \\\n",
      "2             0.0            1.0               0.0               0.0   \n",
      "18            1.0            0.0               0.0               0.0   \n",
      "43            1.0            0.0               0.0               0.0   \n",
      "54            1.0            0.0               0.0               0.0   \n",
      "56            1.0            0.0               0.0               0.0   \n",
      "...           ...            ...               ...               ...   \n",
      "14908         1.0            0.0               0.0               0.0   \n",
      "14929         0.0            1.0               0.0               0.0   \n",
      "14933         0.0            1.0               0.0               0.0   \n",
      "14949         1.0            0.0               0.0               0.0   \n",
      "14975         0.0            1.0               0.0               0.0   \n",
      "\n",
      "       number_project_5  number_project_6  ...  Department_RandD  \\\n",
      "2                   0.0               0.0  ...               0.0   \n",
      "18                  0.0               0.0  ...               0.0   \n",
      "43                  0.0               0.0  ...               0.0   \n",
      "54                  0.0               0.0  ...               0.0   \n",
      "56                  0.0               0.0  ...               0.0   \n",
      "...                 ...               ...  ...               ...   \n",
      "14908               0.0               0.0  ...               0.0   \n",
      "14929               0.0               0.0  ...               0.0   \n",
      "14933               0.0               0.0  ...               0.0   \n",
      "14949               0.0               0.0  ...               0.0   \n",
      "14975               0.0               0.0  ...               0.0   \n",
      "\n",
      "       Department_accounting  Department_hr  Department_management  \\\n",
      "2                        0.0            0.0                    0.0   \n",
      "18                       0.0            0.0                    0.0   \n",
      "43                       0.0            0.0                    0.0   \n",
      "54                       0.0            0.0                    0.0   \n",
      "56                       0.0            0.0                    0.0   \n",
      "...                      ...            ...                    ...   \n",
      "14908                    0.0            0.0                    0.0   \n",
      "14929                    0.0            0.0                    0.0   \n",
      "14933                    0.0            0.0                    0.0   \n",
      "14949                    0.0            0.0                    1.0   \n",
      "14975                    0.0            1.0                    0.0   \n",
      "\n",
      "       Department_marketing  Department_product_mng  Department_sales  \\\n",
      "2                       0.0                     0.0               1.0   \n",
      "18                      0.0                     0.0               1.0   \n",
      "43                      0.0                     0.0               0.0   \n",
      "54                      0.0                     0.0               0.0   \n",
      "56                      0.0                     0.0               0.0   \n",
      "...                     ...                     ...               ...   \n",
      "14908                   0.0                     0.0               0.0   \n",
      "14929                   0.0                     0.0               0.0   \n",
      "14933                   0.0                     0.0               0.0   \n",
      "14949                   0.0                     0.0               0.0   \n",
      "14975                   0.0                     0.0               0.0   \n",
      "\n",
      "       Department_support  Department_technical  Work_accident_1  \n",
      "2                     0.0                   0.0              0.0  \n",
      "18                    0.0                   0.0              1.0  \n",
      "43                    0.0                   1.0              0.0  \n",
      "54                    1.0                   0.0              0.0  \n",
      "56                    1.0                   0.0              0.0  \n",
      "...                   ...                   ...              ...  \n",
      "14908                 0.0                   1.0              0.0  \n",
      "14929                 0.0                   0.0              0.0  \n",
      "14933                 0.0                   0.0              0.0  \n",
      "14949                 0.0                   0.0              1.0  \n",
      "14975                 0.0                   0.0              0.0  \n",
      "\n",
      "[1378 rows x 29 columns]\n"
     ]
    }
   ],
   "source": [
    "from sklearn.cluster import KMeans\n",
    "from sklearn.preprocessing import StandardScaler\n",
    "\n",
    "# Perform KMeans clustering\n",
    "# Separate features (X) and target variable (y) if necessary\n",
    "X = dataset.drop(columns=[target])\n",
    "y = dataset[target]\n",
    "\n",
    "# Scale the features (X)\n",
    "scaler = StandardScaler()\n",
    "scaled_X = scaler.fit_transform(X)\n",
    "\n",
    "kmeans = KMeans()\n",
    "kmeans.fit(scaled_X)\n",
    "\n",
    "# Get cluster centers\n",
    "centers = kmeans.cluster_centers_\n",
    "\n",
    "# Calculate distances of each point to its respective cluster center\n",
    "distances = np.sqrt(np.sum((scaled_X - centers[kmeans.labels_])**2, axis=1))\n",
    "\n",
    "# Calculate mean and standard deviation of distances\n",
    "mean_distance = np.mean(distances)\n",
    "std_distance = np.std(distances)\n",
    "\n",
    "# Desired threshold as 2 standard deviations from the mean\n",
    "desired_threshold = mean_distance + 1 * std_distance\n",
    "\n",
    "# Use the threshold for outlier detection\n",
    "outliers_mask = distances > desired_threshold\n",
    "\n",
    "# Save outliers in a new dataset\n",
    "outliers_dataset = dataset[outliers_mask]\n",
    "\n",
    "# Print indices and details of outliers\n",
    "print(\"Indices of outliers:\", np.where(outliers_mask)[0])\n",
    "print(\"Details of outliers:\")\n",
    "print(outliers_dataset)\n",
    "\n",
    "# Remove outliers from the original dataset\n",
    "dataset = dataset[~outliers_mask]"
   ]
  },
  {
   "cell_type": "markdown",
   "id": "886d1543",
   "metadata": {},
   "source": [
    "### Binary Variables"
   ]
  },
  {
   "cell_type": "code",
   "execution_count": 11,
   "id": "2c53a128",
   "metadata": {},
   "outputs": [
    {
     "name": "stdout",
     "output_type": "stream",
     "text": [
      "Binary Variables:\n",
      "['left', 'salary_low', 'salary_medium', 'number_project_3', 'number_project_4', 'number_project_5', 'number_project_6', 'number_project_7', 'promotion_last_5years_1', 'time_spend_company_3', 'time_spend_company_4', 'time_spend_company_5', 'time_spend_company_6', 'time_spend_company_7', 'time_spend_company_8', 'time_spend_company_10', 'Department_RandD', 'Department_accounting', 'Department_hr', 'Department_management', 'Department_marketing', 'Department_product_mng', 'Department_sales', 'Department_support', 'Department_technical', 'Work_accident_1']\n"
     ]
    }
   ],
   "source": [
    "binary_variables = []\n",
    "\n",
    "# Iterate through each column\n",
    "for column in dataset.columns:\n",
    "    # Check if the number of unique values is 2 and values are 0 and 1, or if the value is just 0\n",
    "    if (dataset[column].nunique() == 2 and set(dataset[column]) == {0, 1}) or (dataset[column].nunique() == 1 and set(dataset[column]) == {0}):\n",
    "        binary_variables.append(column)\n",
    "\n",
    "# Print binary variables\n",
    "print(\"Binary Variables:\")\n",
    "print(binary_variables)"
   ]
  },
  {
   "cell_type": "markdown",
   "id": "6d264fde",
   "metadata": {},
   "source": [
    "## Numerical to Binary Variables"
   ]
  },
  {
   "cell_type": "code",
   "execution_count": 12,
   "id": "f5bf148f",
   "metadata": {},
   "outputs": [
    {
     "data": {
      "image/png": "[encoded data removed]",
      "text/plain": [
       "<Figure size 1200x800 with 3 Axes>"
      ]
     },
     "metadata": {},
     "output_type": "display_data"
    }
   ],
   "source": [
    "# Get numerical variables\n",
    "numerical_variables = dataset.select_dtypes(include=['int64', 'float64']).columns\n",
    "numerical_variables = numerical_variables.drop(target)\n",
    "numerical_variables = numerical_variables.difference(binary_variables)\n",
    "\n",
    "# Calculate number of bins for each numerical variable\n",
    "num_bins_dict = {}\n",
    "for column in numerical_variables:\n",
    "    # Calculate the number of bins using Freedman-Diaconis rule\n",
    "    q75, q25 = dataset[column].quantile([0.75, 0.25])\n",
    "    iqr = q75 - q25\n",
    "    bin_width = 2 * iqr / (len(dataset[column]) ** (1/3))\n",
    "    \n",
    "    # Check if bin_width is zero\n",
    "    if bin_width == 0:\n",
    "        # Set a default number of bins or handle it appropriately\n",
    "        num_bins = 10  # Default value\n",
    "    else:\n",
    "        num_bins = int((dataset[column].max() - dataset[column].min()) / bin_width)\n",
    "        \n",
    "    # Ensure num_bins is an integer value\n",
    "    num_bins = int(num_bins)\n",
    "    \n",
    "    num_bins_dict[column] = num_bins\n",
    "\n",
    "# Initialize an empty DataFrame to store the binned categorical variables\n",
    "binned_dataset = pd.DataFrame()\n",
    "\n",
    "# Calculate the number of rows and columns for subplots\n",
    "num_variables = len(numerical_variables)\n",
    "num_rows = int(np.ceil(num_variables / 2))\n",
    "num_cols = 2\n",
    "\n",
    "# Initialize figure for histograms\n",
    "plt.figure(figsize=(12, 8))\n",
    "\n",
    "# Iterate through each numerical variable\n",
    "for i, column in enumerate(numerical_variables):\n",
    "    plt.subplot(num_rows, num_cols, i + 1)\n",
    "    \n",
    "    # Plot histogram\n",
    "    plt.hist(dataset[column], bins=num_bins_dict[column], color='skyblue', edgecolor='black')\n",
    "    plt.xlabel(column)\n",
    "    plt.ylabel('Frequency')\n",
    "    plt.title(f'Histogram of {column}')\n",
    "    plt.grid(True)\n",
    "    \n",
    "# Display the histograms\n",
    "plt.tight_layout()\n",
    "plt.show()\n"
   ]
  },
  {
   "cell_type": "code",
   "execution_count": 13,
   "id": "faad3988",
   "metadata": {},
   "outputs": [
    {
     "name": "stdout",
     "output_type": "stream",
     "text": [
      "Binned Dataset:\n",
      "   average_montly_hours_95_103  average_montly_hours_103_110  \\\n",
      "0                            0                             0   \n",
      "1                            0                             0   \n",
      "3                            0                             0   \n",
      "4                            0                             0   \n",
      "5                            0                             0   \n",
      "\n",
      "   average_montly_hours_110_118  average_montly_hours_118_125  \\\n",
      "0                             0                             0   \n",
      "1                             0                             0   \n",
      "3                             0                             0   \n",
      "4                             0                             0   \n",
      "5                             0                             0   \n",
      "\n",
      "   average_montly_hours_125_132  average_montly_hours_132_140  \\\n",
      "0                             0                             0   \n",
      "1                             0                             0   \n",
      "3                             0                             0   \n",
      "4                             0                             0   \n",
      "5                             0                             0   \n",
      "\n",
      "   average_montly_hours_140_147  average_montly_hours_147_155  \\\n",
      "0                             0                             0   \n",
      "1                             0                             0   \n",
      "3                             0                             0   \n",
      "4                             0                             0   \n",
      "5                             0                             1   \n",
      "\n",
      "   average_montly_hours_155_162  average_montly_hours_162_169  ...  \\\n",
      "0                             1                             0  ...   \n",
      "1                             0                             0  ...   \n",
      "3                             0                             0  ...   \n",
      "4                             1                             0  ...   \n",
      "5                             0                             0  ...   \n",
      "\n",
      "   satisfaction_level_0_0  satisfaction_level_0_0  satisfaction_level_0_0  \\\n",
      "0                       0                       0                       0   \n",
      "1                       0                       0                       0   \n",
      "3                       0                       1                       0   \n",
      "4                       0                       0                       0   \n",
      "5                       0                       0                       0   \n",
      "\n",
      "   satisfaction_level_0_0  satisfaction_level_0_0  satisfaction_level_0_0  \\\n",
      "0                       0                       0                       0   \n",
      "1                       1                       0                       0   \n",
      "3                       0                       0                       0   \n",
      "4                       0                       0                       0   \n",
      "5                       0                       0                       0   \n",
      "\n",
      "   satisfaction_level_0_0  satisfaction_level_0_0  satisfaction_level_0_0  \\\n",
      "0                       0                       0                       0   \n",
      "1                       0                       0                       0   \n",
      "3                       0                       0                       0   \n",
      "4                       0                       0                       0   \n",
      "5                       0                       0                       0   \n",
      "\n",
      "   satisfaction_level_0_1  \n",
      "0                       0  \n",
      "1                       0  \n",
      "3                       0  \n",
      "4                       0  \n",
      "5                       0  \n",
      "\n",
      "[5 rows x 83 columns]\n"
     ]
    }
   ],
   "source": [
    "# Initialize an empty DataFrame to store the binned categorical variables\n",
    "binned_dataset = pd.DataFrame()\n",
    "\n",
    "# Iterate through each numerical variable\n",
    "for column in numerical_variables:\n",
    "    # Calculate the maximum number of bins for this column\n",
    "    max_bins_column = num_bins_dict[column]\n",
    "    \n",
    "    # Bin the data accordingly\n",
    "    bins, bin_edges = pd.cut(dataset[column], bins=max_bins_column, retbins=True)\n",
    "    \n",
    "    # Generate bin labels from the bin edges\n",
    "    bin_labels = [f\"{column}_{int(bin_edges[i])}_{int(bin_edges[i+1])}\" for i in range(len(bin_edges)-1)]\n",
    "    \n",
    "    # Encode bins using one-hot encoding\n",
    "    encoded_bins = pd.get_dummies(bins, prefix=column)\n",
    "    \n",
    "    # Rename columns with integer bin edges\n",
    "    encoded_bins.columns = bin_labels\n",
    "    \n",
    "    # Concatenate encoded bins to the binned dataset\n",
    "    binned_dataset = pd.concat([binned_dataset, encoded_bins], axis=1)\n",
    "\n",
    "# Display the first few rows of the binned dataset\n",
    "print(\"Binned Dataset:\")\n",
    "print(binned_dataset.head())\n",
    "\n"
   ]
  },
  {
   "cell_type": "code",
   "execution_count": 14,
   "id": "a027f43c",
   "metadata": {},
   "outputs": [
    {
     "name": "stdout",
     "output_type": "stream",
     "text": [
      "Duplicate column names found:\n",
      "last_evaluation_0_0\n",
      "last_evaluation_0_0\n",
      "last_evaluation_0_0\n",
      "last_evaluation_0_0\n",
      "last_evaluation_0_0\n",
      "last_evaluation_0_0\n",
      "last_evaluation_0_0\n",
      "last_evaluation_0_0\n",
      "last_evaluation_0_0\n",
      "last_evaluation_0_0\n",
      "last_evaluation_0_0\n",
      "last_evaluation_0_0\n",
      "last_evaluation_0_0\n",
      "last_evaluation_0_0\n",
      "last_evaluation_0_0\n",
      "last_evaluation_0_0\n",
      "last_evaluation_0_0\n",
      "last_evaluation_0_0\n",
      "last_evaluation_0_0\n",
      "last_evaluation_0_0\n",
      "last_evaluation_0_0\n",
      "last_evaluation_0_0\n",
      "last_evaluation_0_0\n",
      "satisfaction_level_0_0\n",
      "satisfaction_level_0_0\n",
      "satisfaction_level_0_0\n",
      "satisfaction_level_0_0\n",
      "satisfaction_level_0_0\n",
      "satisfaction_level_0_0\n",
      "satisfaction_level_0_0\n",
      "satisfaction_level_0_0\n",
      "satisfaction_level_0_0\n",
      "satisfaction_level_0_0\n",
      "satisfaction_level_0_0\n",
      "satisfaction_level_0_0\n",
      "satisfaction_level_0_0\n",
      "satisfaction_level_0_0\n",
      "satisfaction_level_0_0\n",
      "satisfaction_level_0_0\n",
      "satisfaction_level_0_0\n",
      "satisfaction_level_0_0\n",
      "satisfaction_level_0_0\n",
      "satisfaction_level_0_0\n",
      "satisfaction_level_0_0\n",
      "satisfaction_level_0_0\n",
      "satisfaction_level_0_0\n",
      "satisfaction_level_0_0\n",
      "satisfaction_level_0_0\n",
      "satisfaction_level_0_0\n",
      "satisfaction_level_0_0\n",
      "Duplicate columns merged.\n"
     ]
    }
   ],
   "source": [
    "# Check for duplicate column names\n",
    "duplicate_columns = binned_dataset.columns[binned_dataset.columns.duplicated()]\n",
    "\n",
    "# Print duplicate column names, if any\n",
    "if len(duplicate_columns) > 0:\n",
    "    print(\"Duplicate column names found:\")\n",
    "    for column in duplicate_columns:\n",
    "        print(column)\n",
    "    \n",
    "    # Merge duplicate columns\n",
    "    binned_dataset = binned_dataset.groupby(level=0, axis=1).sum()\n",
    "    \n",
    "    print(\"Duplicate columns merged.\")\n",
    "else:\n",
    "    print(\"No duplicate column names found.\")"
   ]
  },
  {
   "cell_type": "code",
   "execution_count": 15,
   "id": "1ba77c07",
   "metadata": {},
   "outputs": [
    {
     "name": "stdout",
     "output_type": "stream",
     "text": [
      "Updated Dataset:\n",
      "   left  salary_low  salary_medium  number_project_3  number_project_4  \\\n",
      "0     1         1.0            0.0               0.0               0.0   \n",
      "1     1         0.0            1.0               0.0               0.0   \n",
      "3     1         1.0            0.0               0.0               0.0   \n",
      "4     1         1.0            0.0               0.0               0.0   \n",
      "5     1         1.0            0.0               0.0               0.0   \n",
      "\n",
      "   number_project_5  number_project_6  number_project_7  \\\n",
      "0               0.0               0.0               0.0   \n",
      "1               1.0               0.0               0.0   \n",
      "3               1.0               0.0               0.0   \n",
      "4               0.0               0.0               0.0   \n",
      "5               0.0               0.0               0.0   \n",
      "\n",
      "   promotion_last_5years_1  time_spend_company_3  ...  \\\n",
      "0                      0.0                   1.0  ...   \n",
      "1                      0.0                   0.0  ...   \n",
      "3                      0.0                   0.0  ...   \n",
      "4                      0.0                   1.0  ...   \n",
      "5                      0.0                   1.0  ...   \n",
      "\n",
      "   average_montly_hours_273_280  average_montly_hours_280_287  \\\n",
      "0                             0                             0   \n",
      "1                             0                             0   \n",
      "3                             0                             0   \n",
      "4                             0                             0   \n",
      "5                             0                             0   \n",
      "\n",
      "   average_montly_hours_287_295  average_montly_hours_295_302  \\\n",
      "0                             0                             0   \n",
      "1                             0                             0   \n",
      "3                             0                             0   \n",
      "4                             0                             0   \n",
      "5                             0                             0   \n",
      "\n",
      "   average_montly_hours_302_310  average_montly_hours_95_103  \\\n",
      "0                             0                            0   \n",
      "1                             0                            0   \n",
      "3                             0                            0   \n",
      "4                             0                            0   \n",
      "5                             0                            0   \n",
      "\n",
      "   last_evaluation_0_0  last_evaluation_0_1  satisfaction_level_0_0  \\\n",
      "0                    1                    0                       1   \n",
      "1                    1                    0                       1   \n",
      "3                    1                    0                       1   \n",
      "4                    1                    0                       1   \n",
      "5                    1                    0                       1   \n",
      "\n",
      "   satisfaction_level_0_1  \n",
      "0                       0  \n",
      "1                       0  \n",
      "3                       0  \n",
      "4                       0  \n",
      "5                       0  \n",
      "\n",
      "[5 rows x 59 columns]\n"
     ]
    }
   ],
   "source": [
    "# Drop numerical columns from the original dataset\n",
    "dataset.drop(columns=numerical_variables, inplace=True)\n",
    "\n",
    "# Concatenate binned_dataset with the original dataset\n",
    "dataset = pd.concat([dataset, binned_dataset], axis=1)\n",
    "\n",
    "# Display the updated dataset\n",
    "print(\"Updated Dataset:\")\n",
    "print(dataset.head())"
   ]
  },
  {
   "cell_type": "code",
   "execution_count": 16,
   "id": "8ce49e20",
   "metadata": {},
   "outputs": [],
   "source": [
    "# Check for any remaining missing values\n",
    "missing_values = dataset.isna().sum().sum()\n",
    "if missing_values > 0:\n",
    "    print(\"Warning: Dataset still contains missing values after cleaning.\")"
   ]
  },
  {
   "cell_type": "markdown",
   "id": "d253324e",
   "metadata": {},
   "source": [
    "### Up-Sampling"
   ]
  },
  {
   "cell_type": "markdown",
   "id": "2f3a9478",
   "metadata": {},
   "source": [
    "##### Outcome"
   ]
  },
  {
   "cell_type": "code",
   "execution_count": 17,
   "id": "5ed421c8",
   "metadata": {},
   "outputs": [
    {
     "data": {
      "text/html": [
       "<div>\n",
       "<style scoped>\n",
       "    .dataframe tbody tr th:only-of-type {\n",
       "        vertical-align: middle;\n",
       "    }\n",
       "\n",
       "    .dataframe tbody tr th {\n",
       "        vertical-align: top;\n",
       "    }\n",
       "\n",
       "    .dataframe thead th {\n",
       "        text-align: right;\n",
       "    }\n",
       "</style>\n",
       "<table border=\"1\" class=\"dataframe\">\n",
       "  <thead>\n",
       "    <tr style=\"text-align: right;\">\n",
       "      <th></th>\n",
       "      <th>salary_low</th>\n",
       "      <th>salary_medium</th>\n",
       "      <th>number_project_3</th>\n",
       "      <th>number_project_4</th>\n",
       "      <th>number_project_5</th>\n",
       "      <th>number_project_6</th>\n",
       "      <th>number_project_7</th>\n",
       "      <th>promotion_last_5years_1</th>\n",
       "      <th>time_spend_company_3</th>\n",
       "      <th>time_spend_company_4</th>\n",
       "      <th>...</th>\n",
       "      <th>average_montly_hours_273_280</th>\n",
       "      <th>average_montly_hours_280_287</th>\n",
       "      <th>average_montly_hours_287_295</th>\n",
       "      <th>average_montly_hours_295_302</th>\n",
       "      <th>average_montly_hours_302_310</th>\n",
       "      <th>average_montly_hours_95_103</th>\n",
       "      <th>last_evaluation_0_0</th>\n",
       "      <th>last_evaluation_0_1</th>\n",
       "      <th>satisfaction_level_0_0</th>\n",
       "      <th>satisfaction_level_0_1</th>\n",
       "    </tr>\n",
       "    <tr>\n",
       "      <th>left</th>\n",
       "      <th></th>\n",
       "      <th></th>\n",
       "      <th></th>\n",
       "      <th></th>\n",
       "      <th></th>\n",
       "      <th></th>\n",
       "      <th></th>\n",
       "      <th></th>\n",
       "      <th></th>\n",
       "      <th></th>\n",
       "      <th></th>\n",
       "      <th></th>\n",
       "      <th></th>\n",
       "      <th></th>\n",
       "      <th></th>\n",
       "      <th></th>\n",
       "      <th></th>\n",
       "      <th></th>\n",
       "      <th></th>\n",
       "      <th></th>\n",
       "      <th></th>\n",
       "    </tr>\n",
       "  </thead>\n",
       "  <tbody>\n",
       "    <tr>\n",
       "      <th>0</th>\n",
       "      <td>10361</td>\n",
       "      <td>10361</td>\n",
       "      <td>10361</td>\n",
       "      <td>10361</td>\n",
       "      <td>10361</td>\n",
       "      <td>10361</td>\n",
       "      <td>10361</td>\n",
       "      <td>10361</td>\n",
       "      <td>10361</td>\n",
       "      <td>10361</td>\n",
       "      <td>...</td>\n",
       "      <td>10361</td>\n",
       "      <td>10361</td>\n",
       "      <td>10361</td>\n",
       "      <td>10361</td>\n",
       "      <td>10361</td>\n",
       "      <td>10361</td>\n",
       "      <td>10361</td>\n",
       "      <td>10361</td>\n",
       "      <td>10361</td>\n",
       "      <td>10361</td>\n",
       "    </tr>\n",
       "    <tr>\n",
       "      <th>1</th>\n",
       "      <td>3260</td>\n",
       "      <td>3260</td>\n",
       "      <td>3260</td>\n",
       "      <td>3260</td>\n",
       "      <td>3260</td>\n",
       "      <td>3260</td>\n",
       "      <td>3260</td>\n",
       "      <td>3260</td>\n",
       "      <td>3260</td>\n",
       "      <td>3260</td>\n",
       "      <td>...</td>\n",
       "      <td>3260</td>\n",
       "      <td>3260</td>\n",
       "      <td>3260</td>\n",
       "      <td>3260</td>\n",
       "      <td>3260</td>\n",
       "      <td>3260</td>\n",
       "      <td>3260</td>\n",
       "      <td>3260</td>\n",
       "      <td>3260</td>\n",
       "      <td>3260</td>\n",
       "    </tr>\n",
       "  </tbody>\n",
       "</table>\n",
       "<p>2 rows × 58 columns</p>\n",
       "</div>"
      ],
      "text/plain": [
       "      salary_low  salary_medium  number_project_3  number_project_4  \\\n",
       "left                                                                  \n",
       "0          10361          10361             10361             10361   \n",
       "1           3260           3260              3260              3260   \n",
       "\n",
       "      number_project_5  number_project_6  number_project_7  \\\n",
       "left                                                         \n",
       "0                10361             10361             10361   \n",
       "1                 3260              3260              3260   \n",
       "\n",
       "      promotion_last_5years_1  time_spend_company_3  time_spend_company_4  \\\n",
       "left                                                                        \n",
       "0                       10361                 10361                 10361   \n",
       "1                        3260                  3260                  3260   \n",
       "\n",
       "      ...  average_montly_hours_273_280  average_montly_hours_280_287  \\\n",
       "left  ...                                                               \n",
       "0     ...                         10361                         10361   \n",
       "1     ...                          3260                          3260   \n",
       "\n",
       "      average_montly_hours_287_295  average_montly_hours_295_302  \\\n",
       "left                                                               \n",
       "0                            10361                         10361   \n",
       "1                             3260                          3260   \n",
       "\n",
       "      average_montly_hours_302_310  average_montly_hours_95_103  \\\n",
       "left                                                              \n",
       "0                            10361                        10361   \n",
       "1                             3260                         3260   \n",
       "\n",
       "      last_evaluation_0_0  last_evaluation_0_1  satisfaction_level_0_0  \\\n",
       "left                                                                     \n",
       "0                   10361                10361                   10361   \n",
       "1                    3260                 3260                    3260   \n",
       "\n",
       "      satisfaction_level_0_1  \n",
       "left                          \n",
       "0                      10361  \n",
       "1                       3260  \n",
       "\n",
       "[2 rows x 58 columns]"
      ]
     },
     "execution_count": 17,
     "metadata": {},
     "output_type": "execute_result"
    }
   ],
   "source": [
    "dataset.groupby(target).count()"
   ]
  },
  {
   "cell_type": "code",
   "execution_count": 18,
   "id": "464f5061",
   "metadata": {},
   "outputs": [
    {
     "name": "stdout",
     "output_type": "stream",
     "text": [
      "Target Value Counts (Sorted):\n",
      "0    10361\n",
      "1     3260\n",
      "Name: left, dtype: int64\n"
     ]
    },
    {
     "data": {
      "image/png": "[encoded data removed]",
      "text/plain": [
       "<Figure size 1000x600 with 1 Axes>"
      ]
     },
     "metadata": {},
     "output_type": "display_data"
    }
   ],
   "source": [
    "target_counts_sorted = dataset[target].value_counts().sort_index()\n",
    "\n",
    "# Display the counts\n",
    "print(\"Target Value Counts (Sorted):\")\n",
    "print(target_counts_sorted)\n",
    "\n",
    "plt.figure(figsize=(10, 6))\n",
    "plt.hist(dataset[target], bins='auto', color='skyblue', edgecolor='black')\n",
    "plt.xlabel(target)\n",
    "plt.ylabel('Frequency')\n",
    "plt.title('Histogram of Target')\n",
    "plt.grid(True)\n",
    "plt.show()"
   ]
  },
  {
   "cell_type": "code",
   "execution_count": 19,
   "id": "8b1cea4c",
   "metadata": {},
   "outputs": [
    {
     "name": "stdout",
     "output_type": "stream",
     "text": [
      "0    10361\n",
      "1    10361\n",
      "Name: left, dtype: int64\n"
     ]
    }
   ],
   "source": [
    "\n",
    "df_majority = dataset[dataset[target] == 0]\n",
    "\n",
    "\n",
    "df_minority = dataset[dataset[target] == 1]\n",
    "\n",
    "# Upsample minority class\n",
    "df_minority_upsampled = resample(df_minority, \n",
    "                                 replace=True,     \n",
    "                                 n_samples=len(df_majority),\n",
    "                                 random_state=42)  # Add random_state for reproducibility\n",
    "\n",
    "# Combine minority class with majority class\n",
    "dataset = pd.concat([df_majority, df_minority_upsampled])\n",
    "\n",
    "# Check the value counts of the prediction column in the downsampled dataset\n",
    "print(dataset[target].value_counts())\n"
   ]
  },
  {
   "cell_type": "markdown",
   "id": "0fbdb4a7",
   "metadata": {},
   "source": [
    "### Bias in other features"
   ]
  },
  {
   "cell_type": "code",
   "execution_count": null,
   "id": "32278b28",
   "metadata": {},
   "outputs": [],
   "source": [
    "# Iterate over columns starting with \"X\"\n",
    "for column in dataset.columns:\n",
    "    if column.startswith(\"satisfaction\"):\n",
    "        # Get the target column\n",
    "        upsamp_target = dataset[column]\n",
    "        \n",
    "        # Get the sorted value counts\n",
    "        target_counts_sorted = upsamp_target.value_counts().sort_index()\n",
    "\n",
    "        # Display the counts\n",
    "        print(f\"Target Value Counts for {column} (Sorted):\")\n",
    "        print(target_counts_sorted)"
   ]
  },
  {
   "cell_type": "code",
   "execution_count": null,
   "id": "79468254",
   "metadata": {},
   "outputs": [],
   "source": [
    "# Select rows where the value in the target column is equal to 1\n",
    "df_majority = dataset[dataset[\"sex_male\"] == 1]\n",
    "\n",
    "\n",
    "# Select rows where the value in the target column is equal to 0\n",
    "df_minority = dataset[dataset[\"sex_male\"] == 0]\n",
    "\n",
    "# Upsample minority class\n",
    "df_minority_upsampled = resample(df_minority, \n",
    "                                 replace=True,     \n",
    "                                 n_samples=len(df_majority),\n",
    "                                 random_state=42)  # Add random_state for reproducibility\n",
    "\n",
    "# Combine minority class with majority class\n",
    "dataset = pd.concat([df_majority, df_minority_upsampled])\n",
    "\n",
    "# Check the value counts of the prediction column in the downsampled dataset\n",
    "print(dataset[\"sex_male\"].value_counts())"
   ]
  },
  {
   "cell_type": "markdown",
   "id": "00f90e41",
   "metadata": {},
   "source": [
    "# Dimensionality Reduction"
   ]
  },
  {
   "cell_type": "code",
   "execution_count": 20,
   "id": "026b5d03",
   "metadata": {},
   "outputs": [
    {
     "name": "stdout",
     "output_type": "stream",
     "text": [
      "Highly correlated variables: {'satisfaction_level_0_1', 'salary_low', 'satisfaction_level_0_0', 'salary_medium', 'last_evaluation_0_1', 'last_evaluation_0_0'}\n",
      "Constant variables: ['number_project_7', 'promotion_last_5years_1', 'time_spend_company_8', 'time_spend_company_10']\n"
     ]
    }
   ],
   "source": [
    "#Check for perfect multicollinearity\n",
    "correlation_matrix = dataset.corr()\n",
    "highly_correlated_variables = set()\n",
    "for i in range(len(correlation_matrix.columns)):\n",
    "    for j in range(i):\n",
    "        if abs(correlation_matrix.iloc[i, j]) > 0.8:\n",
    "            colname_i = correlation_matrix.columns[i]\n",
    "            colname_j = correlation_matrix.columns[j]\n",
    "            highly_correlated_variables.add(colname_i)\n",
    "            highly_correlated_variables.add(colname_j)\n",
    "print(\"Highly correlated variables:\", highly_correlated_variables)\n",
    "\n",
    "# Step 2: Remove constant variables\n",
    "constant_variables = [col for col in dataset.columns if dataset[col].nunique() == 1]\n",
    "print(\"Constant variables:\", constant_variables)\n",
    "dataset.drop(columns=constant_variables, inplace=True)\n",
    "\n",
    "# Define the target variable 'y'\n",
    "y = dataset[target]\n",
    "\n",
    "# Select all other columns as features 'x'\n",
    "x = dataset.drop(columns=[target])"
   ]
  },
  {
   "cell_type": "markdown",
   "id": "b25d7c4a",
   "metadata": {},
   "source": [
    "### Principal Component Analysis (PCA)"
   ]
  },
  {
   "cell_type": "code",
   "execution_count": 21,
   "id": "a98acd9d",
   "metadata": {},
   "outputs": [
    {
     "data": {
      "image/png": "[encoded data removed]",
      "text/plain": [
       "<Figure size 640x480 with 1 Axes>"
      ]
     },
     "metadata": {},
     "output_type": "display_data"
    }
   ],
   "source": [
    "from sklearn.model_selection import RepeatedKFold, cross_val_score\n",
    "from sklearn.decomposition import PCA\n",
    "\n",
    "# Perform PCA\n",
    "pca = PCA()\n",
    "x_reduced = pca.fit_transform(x)\n",
    "\n",
    "# Define cross-validation method\n",
    "cv = RepeatedKFold(n_splits=10, n_repeats=3, random_state=1)\n",
    "\n",
    "logreg = LogisticRegression()\n",
    "\n",
    "# Calculate MSE with only the intercept\n",
    "mse = []\n",
    "score = -1 * cross_val_score(logreg, np.ones((len(x_reduced), 1)), y, cv=cv, scoring='neg_mean_squared_error').mean()\n",
    "mse.append(score)\n",
    "\n",
    "# Calculate MSE using cross-validation, adding one component at a time\n",
    "for i in np.arange(1, 6):\n",
    "    score = -1 * cross_val_score(logreg, x_reduced[:, :i], y, cv=cv, scoring='neg_mean_squared_error').mean()\n",
    "    mse.append(score)\n",
    "\n",
    "# Plot cross-validation results\n",
    "plt.plot(mse)\n",
    "plt.xlabel('Number of Principal Components')\n",
    "plt.ylabel('MSE')\n",
    "plt.title('MSE vs. Number of Principal Components')\n",
    "plt.show()\n"
   ]
  },
  {
   "cell_type": "code",
   "execution_count": 22,
   "id": "eabc2677",
   "metadata": {},
   "outputs": [
    {
     "data": {
      "text/plain": [
       "array([ 12.81,  22.87,  29.83,  36.4 ,  42.38,  47.19,  51.87,  54.88,\n",
       "        57.64,  60.32,  62.7 ,  64.91,  66.93,  68.78,  70.51,  72.18,\n",
       "        73.77,  75.31,  76.78,  78.23,  79.66,  81.04,  82.38,  83.7 ,\n",
       "        84.97,  86.17,  87.33,  88.39,  89.32,  90.17,  90.98,  91.78,\n",
       "        92.55,  93.3 ,  94.04,  94.73,  95.41,  96.07,  96.71,  97.31,\n",
       "        97.8 ,  98.23,  98.56,  98.84,  99.06,  99.27,  99.45,  99.6 ,\n",
       "        99.74,  99.87, 100.  , 100.  , 100.  , 100.  ])"
      ]
     },
     "execution_count": 22,
     "metadata": {},
     "output_type": "execute_result"
    }
   ],
   "source": [
    "#percentage of variance in the response variable explained by adding in each principal component to the model:\n",
    "np.cumsum(np.round(pca.explained_variance_ratio_, decimals=4)*100)"
   ]
  },
  {
   "cell_type": "code",
   "execution_count": 23,
   "id": "1ff5a4a4",
   "metadata": {},
   "outputs": [],
   "source": [
    "# Choose the desired number of principal components based on the plot\n",
    "num_components = 50  # For example, choose n principal components\n",
    "\n",
    "# Use the selected number of principal components\n",
    "x_reduced_selected = x_reduced[:, :num_components]"
   ]
  },
  {
   "cell_type": "markdown",
   "id": "0110d570",
   "metadata": {},
   "source": [
    "# Splitting the dataset"
   ]
  },
  {
   "cell_type": "code",
   "execution_count": 24,
   "id": "ce957564",
   "metadata": {},
   "outputs": [],
   "source": [
    "from sklearn.model_selection import train_test_split\n",
    "\n",
    "\n",
    "# Split the data into training (50%), testing (30%), and out-of-sample (20%)\n",
    "x_train, x_temp, y_train, y_temp = train_test_split(x_reduced_selected, y, test_size=0.3, random_state=100)\n",
    "x_test, x_out_sample, y_test, y_out_sample = train_test_split(x_temp, y_temp, test_size=0.6, random_state=100)"
   ]
  },
  {
   "cell_type": "code",
   "execution_count": 25,
   "id": "ea173896",
   "metadata": {},
   "outputs": [],
   "source": [
    "missing_values = dataset.isnull().sum().sum()\n",
    "if missing_values > 0:\n",
    "    print(\"Warning: Dataset still contains missing values after cleaning.\")\n"
   ]
  },
  {
   "cell_type": "markdown",
   "id": "ca241bf4",
   "metadata": {},
   "source": [
    "# Fitting the Logistic Regression model"
   ]
  },
  {
   "cell_type": "code",
   "execution_count": 26,
   "id": "26e268e1",
   "metadata": {},
   "outputs": [
    {
     "name": "stdout",
     "output_type": "stream",
     "text": [
      "Accuracy: 0.9304102976669348\n"
     ]
    }
   ],
   "source": [
    "from sklearn.metrics import accuracy_score\n",
    "# Define hyperparameters\n",
    "penalty = 'l2'  # Regularization penalty ('l1' for Lasso, 'l2' for Ridge)\n",
    "C = 1.0  # Inverse of regularization strength; smaller values specify stronger regularization\n",
    "\n",
    "# Initialize logistic regression model with hyperparameters\n",
    "logreg = LogisticRegression(penalty=penalty, C=C, solver='liblinear', random_state=42)\n",
    "\n",
    "# Fit the model to the training data\n",
    "logreg.fit(x_train, y_train)\n",
    "\n",
    "# Predict on the test data\n",
    "y_pred = logreg.predict(x_test)\n",
    "\n",
    "# Calculate accuracy\n",
    "accuracy = accuracy_score(y_test, y_pred)\n",
    "print(\"Accuracy:\", accuracy)"
   ]
  },
  {
   "cell_type": "markdown",
   "id": "559e9e1c",
   "metadata": {},
   "source": [
    "### Optimal Threshold"
   ]
  },
  {
   "cell_type": "code",
   "execution_count": 27,
   "id": "c3937564",
   "metadata": {},
   "outputs": [
    {
     "name": "stdout",
     "output_type": "stream",
     "text": [
      "Optimal Threshold: 0.63\n",
      "AUC: 0.97\n",
      "Accuracy: 0.94\n"
     ]
    }
   ],
   "source": [
    "from sklearn.metrics import roc_curve, auc\n",
    "\n",
    "# Predict probabilities on the test set\n",
    "y_pred_proba = logreg.predict_proba(x_test)[:, 1]\n",
    "\n",
    "# Calculate the false positive rate (FPR), true positive rate (TPR), and thresholds\n",
    "fpr, tpr, thresholds = roc_curve(y_test, y_pred_proba)\n",
    "\n",
    "# Find the threshold closest to the top-left corner (maximizing TPR while minimizing FPR)\n",
    "optimal_threshold_idx = np.argmax(tpr + (1 - fpr))\n",
    "optimal_threshold = thresholds[optimal_threshold_idx]\n",
    "\n",
    "# Apply the optimal threshold to classify the test data\n",
    "y_pred_threshold = (y_pred_proba >= optimal_threshold).astype(int)\n",
    "\n",
    "# Calculate accuracy using the thresholded predictions\n",
    "accuracy = np.mean(y_pred_threshold == y_test)\n",
    "\n",
    "# Calculate the area under the ROC curve (AUC)\n",
    "roc_auc = auc(fpr, tpr)\n",
    "\n",
    "# Print the optimal threshold, AUC, and accuracy\n",
    "print(f'Optimal Threshold: {optimal_threshold:.2f}')\n",
    "print(f'AUC: {roc_auc:.2f}')\n",
    "print(f'Accuracy: {accuracy:.2f}')\n"
   ]
  },
  {
   "cell_type": "markdown",
   "id": "30a46965",
   "metadata": {},
   "source": [
    "# Prediction of test set"
   ]
  },
  {
   "cell_type": "code",
   "execution_count": 28,
   "id": "06000f51",
   "metadata": {},
   "outputs": [
    {
     "name": "stdout",
     "output_type": "stream",
     "text": [
      "Accuracy: 0.9344328238133548, with threshold 0.63\n"
     ]
    }
   ],
   "source": [
    "logreg = LogisticRegression()\n",
    "\n",
    "# Initialize and fit the logistic regression model\n",
    "logreg = LogisticRegression()\n",
    "logreg.fit(x_train, y_train)\n",
    "\n",
    "# Predict probabilities on the test set\n",
    "y_pred_proba = logreg.predict_proba(x_test)\n",
    "\n",
    "# Define your threshold\n",
    "threshold = 0.63 # ADJUST\n",
    "\n",
    "# Apply threshold to predicted probabilities to get predicted class labels\n",
    "y_pred_threshold = (y_pred_proba[:, 1] >= threshold).astype(int)\n",
    "\n",
    "# Calculate accuracy using thresholded predictions\n",
    "accuracy = sum(y_pred_threshold == y_test) / len(y_test)\n",
    "print(f'Accuracy: {accuracy}, with threshold {threshold}')"
   ]
  },
  {
   "cell_type": "markdown",
   "id": "1d8a9849",
   "metadata": {},
   "source": [
    "# Actual value and the predicted value"
   ]
  },
  {
   "cell_type": "code",
   "execution_count": 29,
   "id": "27450cd2",
   "metadata": {},
   "outputs": [
    {
     "data": {
      "text/html": [
       "<div>\n",
       "<style scoped>\n",
       "    .dataframe tbody tr th:only-of-type {\n",
       "        vertical-align: middle;\n",
       "    }\n",
       "\n",
       "    .dataframe tbody tr th {\n",
       "        vertical-align: top;\n",
       "    }\n",
       "\n",
       "    .dataframe thead th {\n",
       "        text-align: right;\n",
       "    }\n",
       "</style>\n",
       "<table border=\"1\" class=\"dataframe\">\n",
       "  <thead>\n",
       "    <tr style=\"text-align: right;\">\n",
       "      <th></th>\n",
       "      <th>Actual value</th>\n",
       "      <th>Predicted probability</th>\n",
       "      <th>Predicted label</th>\n",
       "      <th>Correct</th>\n",
       "    </tr>\n",
       "  </thead>\n",
       "  <tbody>\n",
       "    <tr>\n",
       "      <th>12344</th>\n",
       "      <td>1</td>\n",
       "      <td>0.914601</td>\n",
       "      <td>1</td>\n",
       "      <td>True</td>\n",
       "    </tr>\n",
       "    <tr>\n",
       "      <th>4377</th>\n",
       "      <td>0</td>\n",
       "      <td>0.017755</td>\n",
       "      <td>0</td>\n",
       "      <td>True</td>\n",
       "    </tr>\n",
       "    <tr>\n",
       "      <th>2326</th>\n",
       "      <td>0</td>\n",
       "      <td>0.002715</td>\n",
       "      <td>0</td>\n",
       "      <td>True</td>\n",
       "    </tr>\n",
       "    <tr>\n",
       "      <th>1693</th>\n",
       "      <td>1</td>\n",
       "      <td>0.870148</td>\n",
       "      <td>1</td>\n",
       "      <td>True</td>\n",
       "    </tr>\n",
       "    <tr>\n",
       "      <th>14692</th>\n",
       "      <td>1</td>\n",
       "      <td>0.895392</td>\n",
       "      <td>1</td>\n",
       "      <td>True</td>\n",
       "    </tr>\n",
       "  </tbody>\n",
       "</table>\n",
       "</div>"
      ],
      "text/plain": [
       "       Actual value  Predicted probability  Predicted label  Correct\n",
       "12344             1               0.914601                1     True\n",
       "4377              0               0.017755                0     True\n",
       "2326              0               0.002715                0     True\n",
       "1693              1               0.870148                1     True\n",
       "14692             1               0.895392                1     True"
      ]
     },
     "execution_count": 29,
     "metadata": {},
     "output_type": "execute_result"
    }
   ],
   "source": [
    "logreg_diff = pd.DataFrame({'Actual value': y_test, 'Predicted probability': y_pred_proba[:, 1]})\n",
    "\n",
    "# Calculate the predicted labels based on the threshold\n",
    "logreg_diff['Predicted label'] = (logreg_diff['Predicted probability'] >= threshold).astype(int)\n",
    "\n",
    "# Calculate the correctness based on the threshold\n",
    "logreg_diff['Correct'] = (logreg_diff['Actual value'] == logreg_diff['Predicted label'])\n",
    "\n",
    "# Display the DataFrame with the added columns\n",
    "logreg_diff.head()"
   ]
  },
  {
   "cell_type": "markdown",
   "id": "cff3f1d3",
   "metadata": {},
   "source": [
    "# Model Evaluation"
   ]
  },
  {
   "cell_type": "markdown",
   "id": "13fe836d",
   "metadata": {},
   "source": [
    "### On test data"
   ]
  },
  {
   "cell_type": "code",
   "execution_count": 30,
   "id": "ca484c75",
   "metadata": {},
   "outputs": [
    {
     "name": "stdout",
     "output_type": "stream",
     "text": [
      "Accuracy: 92.96%\n"
     ]
    }
   ],
   "source": [
    "from sklearn import metrics\n",
    "# Predict the labels for the test set\n",
    "y_pred = logreg.predict(x_test)\n",
    "\n",
    "# Calculate accuracy\n",
    "accuracy = accuracy_score(y_test, y_pred) * 100\n",
    "\n",
    "# Print accuracy\n",
    "print('Accuracy: {:.2f}%'.format(accuracy))"
   ]
  },
  {
   "cell_type": "markdown",
   "id": "7b19899f",
   "metadata": {},
   "source": [
    "### On out-of-sample data"
   ]
  },
  {
   "cell_type": "code",
   "execution_count": 31,
   "id": "fa187b91",
   "metadata": {
    "scrolled": true
   },
   "outputs": [
    {
     "name": "stdout",
     "output_type": "stream",
     "text": [
      "Accuracy: 91.99%\n"
     ]
    }
   ],
   "source": [
    "from sklearn.metrics import accuracy_score\n",
    "\n",
    "# Predict the labels for the out-of-sample set\n",
    "y_pred_out_sample = logreg.predict(x_out_sample)\n",
    "\n",
    "# Calculate accuracy\n",
    "accuracy_out_sample = accuracy_score(y_out_sample, y_pred_out_sample) * 100\n",
    "\n",
    "# Print accuracy\n",
    "print('Accuracy: {:.2f}%'.format(accuracy_out_sample))\n"
   ]
  },
  {
   "cell_type": "markdown",
   "id": "e4900210",
   "metadata": {},
   "source": [
    "# Confusion Matrix"
   ]
  },
  {
   "cell_type": "code",
   "execution_count": 32,
   "id": "55a23d9b",
   "metadata": {},
   "outputs": [
    {
     "data": {
      "image/png": "[encoded data removed]",
      "text/plain": [
       "<Figure size 640x480 with 2 Axes>"
      ]
     },
     "metadata": {},
     "output_type": "display_data"
    }
   ],
   "source": [
    "from sklearn.metrics import ConfusionMatrixDisplay, confusion_matrix\n",
    "\n",
    "cm_test = confusion_matrix(y_test, y_pred)\n",
    "cm_out_sample = confusion_matrix(y_out_sample, y_pred_out_sample)\n",
    "\n",
    "# Combine the confusion matrices\n",
    "cm = cm_test + cm_out_sample\n",
    "\n",
    "ConfusionMatrixDisplay(confusion_matrix=cm).plot();"
   ]
  },
  {
   "cell_type": "code",
   "execution_count": 33,
   "id": "ed1151bd",
   "metadata": {},
   "outputs": [
    {
     "name": "stdout",
     "output_type": "stream",
     "text": [
      "      left  salary_low  salary_medium  number_project_3  number_project_4  \\\n",
      "0      0.0         1.0            0.0               0.0               1.0   \n",
      "1      0.0         1.0            0.0               0.0               0.0   \n",
      "2      0.0         1.0            0.0               0.0               0.0   \n",
      "3      0.0         1.0            0.0               0.0               0.0   \n",
      "4      0.0         1.0            0.0               1.0               0.0   \n",
      "...    ...         ...            ...               ...               ...   \n",
      "6212   0.0         1.0            0.0               1.0               0.0   \n",
      "6213   0.0         1.0            0.0               0.0               0.0   \n",
      "6214   0.0         1.0            0.0               0.0               0.0   \n",
      "6215   0.0         1.0            0.0               0.0               0.0   \n",
      "6216   0.0         1.0            0.0               0.0               0.0   \n",
      "\n",
      "      number_project_5  number_project_6  time_spend_company_3  \\\n",
      "0                  0.0               0.0                   1.0   \n",
      "1                  0.0               0.0                   1.0   \n",
      "2                  1.0               0.0                   1.0   \n",
      "3                  1.0               0.0                   1.0   \n",
      "4                  0.0               0.0                   0.0   \n",
      "...                ...               ...                   ...   \n",
      "6212               0.0               0.0                   0.0   \n",
      "6213               1.0               0.0                   1.0   \n",
      "6214               0.0               1.0                   0.0   \n",
      "6215               1.0               0.0                   1.0   \n",
      "6216               1.0               0.0                   0.0   \n",
      "\n",
      "      time_spend_company_4  time_spend_company_5  ...  \\\n",
      "0                      0.0                   0.0  ...   \n",
      "1                      0.0                   0.0  ...   \n",
      "2                      0.0                   0.0  ...   \n",
      "3                      0.0                   0.0  ...   \n",
      "4                      0.0                   0.0  ...   \n",
      "...                    ...                   ...  ...   \n",
      "6212                   1.0                   0.0  ...   \n",
      "6213                   0.0                   0.0  ...   \n",
      "6214                   0.0                   0.0  ...   \n",
      "6215                   0.0                   0.0  ...   \n",
      "6216                   0.0                   0.0  ...   \n",
      "\n",
      "      average_montly_hours_280_287  average_montly_hours_287_295  \\\n",
      "0                              0.0                           0.0   \n",
      "1                              0.0                           0.0   \n",
      "2                              0.0                           0.0   \n",
      "3                              0.0                           0.0   \n",
      "4                              0.0                           0.0   \n",
      "...                            ...                           ...   \n",
      "6212                           0.0                           0.0   \n",
      "6213                           0.0                           0.0   \n",
      "6214                           0.0                           0.0   \n",
      "6215                           0.0                           0.0   \n",
      "6216                           0.0                           0.0   \n",
      "\n",
      "      average_montly_hours_295_302  average_montly_hours_302_310  \\\n",
      "0                              0.0                           0.0   \n",
      "1                              0.0                           0.0   \n",
      "2                              0.0                           0.0   \n",
      "3                              0.0                           0.0   \n",
      "4                              0.0                           0.0   \n",
      "...                            ...                           ...   \n",
      "6212                           0.0                           0.0   \n",
      "6213                           0.0                           0.0   \n",
      "6214                           0.0                           0.0   \n",
      "6215                           0.0                           0.0   \n",
      "6216                           0.0                           0.0   \n",
      "\n",
      "      average_montly_hours_95_103  last_evaluation_0_0  last_evaluation_0_1  \\\n",
      "0                             0.0                  1.0                  0.0   \n",
      "1                             0.0                  1.0                  0.0   \n",
      "2                             0.0                  1.0                  0.0   \n",
      "3                             0.0                  1.0                  0.0   \n",
      "4                             0.0                  1.0                  0.0   \n",
      "...                           ...                  ...                  ...   \n",
      "6212                          0.0                  1.0                  0.0   \n",
      "6213                          0.0                  1.0                  0.0   \n",
      "6214                          0.0                  1.0                  0.0   \n",
      "6215                          0.0                  1.0                  0.0   \n",
      "6216                          0.0                  1.0                  0.0   \n",
      "\n",
      "      satisfaction_level_0_0  satisfaction_level_0_1  correct  \n",
      "0                        1.0                     0.0     True  \n",
      "1                        1.0                     0.0     True  \n",
      "2                        1.0                     0.0     True  \n",
      "3                        1.0                     0.0     True  \n",
      "4                        1.0                     0.0     True  \n",
      "...                      ...                     ...      ...  \n",
      "6212                     1.0                     0.0    False  \n",
      "6213                     1.0                     0.0    False  \n",
      "6214                     1.0                     0.0    False  \n",
      "6215                     1.0                     0.0    False  \n",
      "6216                     1.0                     0.0    False  \n",
      "\n",
      "[6217 rows x 56 columns]\n"
     ]
    }
   ],
   "source": [
    "# Extract indices of false positives and false negatives from the confusion matrix\n",
    "false_positive_indices = [(i, j) for i in range(cm.shape[0]) for j in range(cm.shape[1]) if i != j and j == 1]  # False positive indices\n",
    "false_negative_indices = [(i, j) for i in range(cm.shape[0]) for j in range(cm.shape[1]) if i != j and j == 0]  # False negative indices\n",
    "\n",
    "# Create new DataFrame to store instances with correct and incorrect predictions\n",
    "correct_rows = []\n",
    "incorrect_rows = []\n",
    "\n",
    "for index, (true_label, pred_label, out_true_label, out_pred_label) in enumerate(zip(y_test, y_pred, y_out_sample, y_pred_out_sample)):\n",
    "    # Check for false positives or false negatives in the first set of predictions\n",
    "    if (true_label, pred_label) in false_positive_indices or (true_label, pred_label) in false_negative_indices:\n",
    "        row_data = dataset.iloc[index].tolist()\n",
    "        incorrect_rows.append(row_data + [False])\n",
    "    else:\n",
    "        row_data = dataset.iloc[index].tolist()\n",
    "        correct_rows.append(row_data + [True])\n",
    "\n",
    "# Process remaining instances in the second set of predictions\n",
    "for index, (out_true_label, out_pred_label) in enumerate(zip(y_out_sample, y_pred_out_sample)):\n",
    "    # Check for false positives or false negatives in the second set of predictions\n",
    "    if (out_true_label, out_pred_label) in false_positive_indices or (out_true_label, out_pred_label) in false_negative_indices:\n",
    "        row_data = dataset.iloc[len(y_test) + index].tolist()  # Adjust index to start from where the first loop left off\n",
    "        incorrect_rows.append(row_data + [False])\n",
    "    else:\n",
    "        row_data = dataset.iloc[len(y_test) + index].tolist()  # Adjust index to start from where the first loop left off\n",
    "        correct_rows.append(row_data + [True])\n",
    "\n",
    "# Create DataFrames from the collected rows\n",
    "correct_df = pd.DataFrame(correct_rows, columns=dataset.columns.tolist() + ['correct'])\n",
    "incorrect_df = pd.DataFrame(incorrect_rows, columns=dataset.columns.tolist() + ['correct'])\n",
    "\n",
    "# Combine correct_df and incorrect_df into a single DataFrame\n",
    "result_dataset = pd.concat([correct_df, incorrect_df], ignore_index=True)\n",
    "\n",
    "# Print the resulting dataset\n",
    "print(result_dataset)\n"
   ]
  },
  {
   "cell_type": "markdown",
   "id": "94d171b3",
   "metadata": {},
   "source": [
    "### Fairness Test"
   ]
  },
  {
   "cell_type": "code",
   "execution_count": 34,
   "id": "fc3fc05c",
   "metadata": {},
   "outputs": [
    {
     "name": "stdout",
     "output_type": "stream",
     "text": [
      "Error rate for rows where salary_low = 1 in result_dataset: 0.07192016517549893\n",
      "Error rate for rows where salary_medium = 1 in result_dataset: 0.0809745610892153\n"
     ]
    }
   ],
   "source": [
    "# Initialize dictionary to store error rates\n",
    "error_rates = {}\n",
    "\n",
    "# Iterate over columns in the dataset\n",
    "for column in result_dataset.columns:\n",
    "    # Check if the column name starts with \"salary\"\n",
    "    if column.startswith('salary'):\n",
    "        # Filter rows where the current salary column equals 1\n",
    "        salary_rows = result_dataset[result_dataset[column] == 1]\n",
    "        # Calculate error rate for the current salary column\n",
    "        error_rate = 1 - salary_rows['correct'].mean()\n",
    "        # Store error rate in the dictionary\n",
    "        error_rates[column] = error_rate\n",
    "\n",
    "# Print error rates for each salary column\n",
    "for column, error_rate in error_rates.items():\n",
    "    print(f\"Error rate for rows where {column} = 1 in result_dataset:\", error_rate)\n"
   ]
  },
  {
   "cell_type": "markdown",
   "id": "70b08134",
   "metadata": {},
   "source": [
    "# ROC Curve"
   ]
  },
  {
   "cell_type": "code",
   "execution_count": 35,
   "id": "3716ee59",
   "metadata": {},
   "outputs": [
    {
     "data": {
      "image/png": "[encoded data removed]",
      "text/plain": [
       "<Figure size 640x480 with 1 Axes>"
      ]
     },
     "metadata": {},
     "output_type": "display_data"
    }
   ],
   "source": [
    "from sklearn.metrics import roc_curve, auc\n",
    "\n",
    "#Predict probabilities on the test set\n",
    "y_pred_proba = logreg.predict_proba(x_test)[:, 1]\n",
    "\n",
    "# Calculate the false positive rate (FPR), true positive rate (TPR), and thresholds\n",
    "fpr, tpr, thresholds = roc_curve(y_test, y_pred_proba)\n",
    "\n",
    "# Calculate the area under the ROC curve (AUC)\n",
    "roc_auc = auc(fpr, tpr)\n",
    "\n",
    "# Plot the ROC curve\n",
    "plt.figure()\n",
    "plt.plot(fpr, tpr, label='Logistic Regression (area = %0.2f)' % roc_auc)\n",
    "plt.plot([0, 1], [0, 1],'r--')\n",
    "plt.xlim([0.0, 1.0])\n",
    "plt.ylim([0.0, 1.05])\n",
    "plt.xlabel('False Positive Rate')\n",
    "plt.ylabel('True Positive Rate')\n",
    "plt.title('ROC Curve')\n",
    "plt.legend(loc=\"lower right\")\n",
    "plt.savefig('Log_ROC')\n",
    "plt.show()"
   ]
  },
  {
   "cell_type": "markdown",
   "id": "e512fe44",
   "metadata": {},
   "source": [
    "# Outlier Model"
   ]
  },
  {
   "cell_type": "markdown",
   "id": "21730424",
   "metadata": {},
   "source": [
    "### Up-Sampling"
   ]
  },
  {
   "cell_type": "code",
   "execution_count": 36,
   "id": "6ae5d34d",
   "metadata": {},
   "outputs": [
    {
     "name": "stdout",
     "output_type": "stream",
     "text": [
      "Target Value Counts (Sorted):\n",
      "0    1067\n",
      "1     311\n",
      "Name: left, dtype: int64\n"
     ]
    },
    {
     "data": {
      "image/png": "[encoded data removed]",
      "text/plain": [
       "<Figure size 1000x600 with 1 Axes>"
      ]
     },
     "metadata": {},
     "output_type": "display_data"
    }
   ],
   "source": [
    "target_counts_sorted = outliers_dataset[target].value_counts().sort_index()\n",
    "\n",
    "# Display the counts\n",
    "print(\"Target Value Counts (Sorted):\")\n",
    "print(target_counts_sorted)\n",
    "\n",
    "plt.figure(figsize=(10, 6))\n",
    "plt.hist(outliers_dataset[target], bins='auto', color='skyblue', edgecolor='black')\n",
    "plt.xlabel(target)\n",
    "plt.ylabel('Frequency')\n",
    "plt.title('Histogram of Target')\n",
    "plt.grid(True)\n",
    "plt.show()"
   ]
  },
  {
   "cell_type": "code",
   "execution_count": 37,
   "id": "9e705f2d",
   "metadata": {},
   "outputs": [
    {
     "name": "stdout",
     "output_type": "stream",
     "text": [
      "0    1067\n",
      "1    1067\n",
      "Name: left, dtype: int64\n"
     ]
    }
   ],
   "source": [
    "df_majority = outliers_dataset[outliers_dataset[target] == 0]\n",
    "\n",
    "\n",
    "df_minority = outliers_dataset[outliers_dataset[target] == 1]\n",
    "\n",
    "# Upsample minority class\n",
    "df_minority_upsampled = resample(df_minority, \n",
    "                                 replace=True,     \n",
    "                                 n_samples=len(df_majority),\n",
    "                                 random_state=42)  # Add random_state for reproducibility\n",
    "\n",
    "# Combine minority class with majority class\n",
    "outliers_dataset = pd.concat([df_majority, df_minority_upsampled])\n",
    "\n",
    "# Check the value counts of the prediction column in the downsampled dataset\n",
    "print(outliers_dataset[target].value_counts())\n"
   ]
  },
  {
   "cell_type": "markdown",
   "id": "06a0d861",
   "metadata": {},
   "source": [
    "## Dimensionality Reduction"
   ]
  },
  {
   "cell_type": "code",
   "execution_count": 38,
   "id": "7fb1fc8a",
   "metadata": {},
   "outputs": [
    {
     "name": "stdout",
     "output_type": "stream",
     "text": [
      "Highly correlated variables: {'salary_medium', 'left', 'number_project_7', 'salary_low'}\n",
      "Constant variables: []\n"
     ]
    }
   ],
   "source": [
    "#Check for perfect multicollinearity\n",
    "correlation_matrix = outliers_dataset.corr()\n",
    "highly_correlated_variables = set()\n",
    "for i in range(len(correlation_matrix.columns)):\n",
    "    for j in range(i):\n",
    "        if abs(correlation_matrix.iloc[i, j]) > 0.8:\n",
    "            colname_i = correlation_matrix.columns[i]\n",
    "            colname_j = correlation_matrix.columns[j]\n",
    "            highly_correlated_variables.add(colname_i)\n",
    "            highly_correlated_variables.add(colname_j)\n",
    "print(\"Highly correlated variables:\", highly_correlated_variables)\n",
    "\n",
    "# Step 2: Remove constant variables\n",
    "constant_variables = [col for col in outliers_dataset.columns if outliers_dataset[col].nunique() == 1]\n",
    "print(\"Constant variables:\", constant_variables)\n",
    "outliers_dataset.drop(columns=constant_variables, inplace=True)\n",
    "\n",
    "# Define the target variable 'y'\n",
    "oy = outliers_dataset[target]\n",
    "\n",
    "# Select all other columns as features 'x'\n",
    "ox = outliers_dataset.drop(columns=[target])"
   ]
  },
  {
   "cell_type": "markdown",
   "id": "b77c7280",
   "metadata": {},
   "source": [
    "### PCA"
   ]
  },
  {
   "cell_type": "code",
   "execution_count": 39,
   "id": "c9bbc869",
   "metadata": {},
   "outputs": [
    {
     "data": {
      "image/png": "[encoded data removed]",
      "text/plain": [
       "<Figure size 640x480 with 1 Axes>"
      ]
     },
     "metadata": {},
     "output_type": "display_data"
    }
   ],
   "source": [
    "# Perform PCA\n",
    "pca = PCA()\n",
    "ox_reduced = pca.fit_transform(ox)\n",
    "\n",
    "# Ensure both x_reduced and y have the same number of samples\n",
    "min_samples = min(ox_reduced.shape[0], oy.shape[0])\n",
    "ox_reduced = ox_reduced[:min_samples]\n",
    "oy = oy[:min_samples]\n",
    "\n",
    "# Define cross-validation method\n",
    "cv = RepeatedKFold(n_splits=10, n_repeats=3, random_state=1)\n",
    "\n",
    "logreg = LogisticRegression()\n",
    "\n",
    "# Calculate MSE with only the intercept\n",
    "mse = []\n",
    "score = -1 * cross_val_score(logreg, np.ones((len(ox_reduced), 1)), oy, cv=cv, scoring='neg_mean_squared_error').mean()\n",
    "mse.append(score)\n",
    "\n",
    "# Calculate MSE using cross-validation, adding one component at a time\n",
    "for i in np.arange(1, 6):\n",
    "    score = -1 * cross_val_score(logreg, ox_reduced[:, :i], oy, cv=cv, scoring='neg_mean_squared_error').mean()\n",
    "    mse.append(score)\n",
    "\n",
    "\n",
    "# Plot cross-validation results\n",
    "plt.plot(mse)\n",
    "plt.xlabel('Number of Principal Components')\n",
    "plt.ylabel('MSE')\n",
    "plt.title('MSE vs. Number of Principal Components')\n",
    "plt.show()\n"
   ]
  },
  {
   "cell_type": "code",
   "execution_count": 40,
   "id": "e8f68a92",
   "metadata": {},
   "outputs": [
    {
     "data": {
      "text/plain": [
       "array([99.92, 99.93, 99.94, 99.95, 99.96, 99.97, 99.97, 99.97, 99.97,\n",
       "       99.97, 99.97, 99.97, 99.97, 99.97, 99.97, 99.97, 99.97, 99.97,\n",
       "       99.97, 99.97, 99.97, 99.97, 99.97, 99.97, 99.97, 99.97, 99.97,\n",
       "       99.97])"
      ]
     },
     "execution_count": 40,
     "metadata": {},
     "output_type": "execute_result"
    }
   ],
   "source": [
    "#percentage of variance in the response variable explained by adding in each principal component to the model:\n",
    "np.cumsum(np.round(pca.explained_variance_ratio_, decimals=4)*100)"
   ]
  },
  {
   "cell_type": "code",
   "execution_count": 41,
   "id": "b107fbb6",
   "metadata": {},
   "outputs": [],
   "source": [
    "# Choose the desired number of principal components based on the plot\n",
    "num_components = 6  # For example, choose n principal components\n",
    "\n",
    "# Use the selected number of principal components\n",
    "ox_reduced_selected = ox_reduced[:, :num_components]"
   ]
  },
  {
   "cell_type": "markdown",
   "id": "852919b2",
   "metadata": {},
   "source": [
    "## Spliting the Outlier dataset"
   ]
  },
  {
   "cell_type": "code",
   "execution_count": 42,
   "id": "149edb01",
   "metadata": {},
   "outputs": [],
   "source": [
    "from sklearn.model_selection import train_test_split\n",
    "\n",
    "\n",
    "# Split the data into training (50%), testing (30%), and out-of-sample (20%)\n",
    "ox_train, ox_temp, oy_train, oy_temp = train_test_split(ox_reduced_selected, oy, test_size=0.3, random_state=100)\n",
    "ox_test, ox_out_sample, oy_test, oy_out_sample = train_test_split(ox_temp, oy_temp, test_size=0.6, random_state=100)"
   ]
  },
  {
   "cell_type": "code",
   "execution_count": 43,
   "id": "52fa2831",
   "metadata": {},
   "outputs": [],
   "source": [
    "missing_values = outliers_dataset.isnull().sum().sum()\n",
    "if missing_values > 0:\n",
    "    print(\"Warning: Dataset still contains missing values after cleaning.\")\n"
   ]
  },
  {
   "cell_type": "markdown",
   "id": "b96251ac",
   "metadata": {},
   "source": [
    "## Fitting the Logistic Regression model"
   ]
  },
  {
   "cell_type": "code",
   "execution_count": 44,
   "id": "eb781d20",
   "metadata": {},
   "outputs": [
    {
     "name": "stdout",
     "output_type": "stream",
     "text": [
      "Accuracy: 0.94921875\n"
     ]
    }
   ],
   "source": [
    "from sklearn.metrics import accuracy_score\n",
    "# Define hyperparameters\n",
    "penalty = 'l2'  # Regularization penalty ('l1' for Lasso, 'l2' for Ridge)\n",
    "C = 1.0  # Inverse of regularization strength; smaller values specify stronger regularization\n",
    "\n",
    "# Initialize logistic regression model with hyperparameters\n",
    "logreg = LogisticRegression(penalty=penalty, C=C, solver='liblinear', random_state=42)\n",
    "\n",
    "# Fit the model to the training data\n",
    "logreg.fit(ox_train, oy_train)\n",
    "\n",
    "# Predict on the test data\n",
    "oy_pred = logreg.predict(ox_test)\n",
    "\n",
    "# Calculate accuracy\n",
    "accuracy = accuracy_score(oy_test, oy_pred)\n",
    "print(\"Accuracy:\", accuracy)"
   ]
  },
  {
   "cell_type": "markdown",
   "id": "1ed59e05",
   "metadata": {},
   "source": [
    "### Optimal Threshold"
   ]
  },
  {
   "cell_type": "code",
   "execution_count": 45,
   "id": "0d0d4749",
   "metadata": {},
   "outputs": [
    {
     "name": "stdout",
     "output_type": "stream",
     "text": [
      "Optimal Threshold: 0.55\n",
      "AUC: 0.98\n",
      "Accuracy: 0.95\n"
     ]
    }
   ],
   "source": [
    "from sklearn.metrics import roc_curve, auc\n",
    "\n",
    "# Predict probabilities on the test set\n",
    "oy_pred_proba = logreg.predict_proba(ox_test)[:, 1]\n",
    "\n",
    "# Calculate the false positive rate (FPR), true positive rate (TPR), and thresholds\n",
    "fpr, tpr, thresholds = roc_curve(oy_test, oy_pred_proba)\n",
    "\n",
    "# Find the threshold closest to the top-left corner (maximizing TPR while minimizing FPR)\n",
    "optimal_threshold_idx = np.argmax(tpr + (1 - fpr))\n",
    "optimal_threshold = thresholds[optimal_threshold_idx]\n",
    "\n",
    "# Apply the optimal threshold to classify the test data\n",
    "oy_pred_threshold = (oy_pred_proba >= optimal_threshold).astype(int)\n",
    "\n",
    "# Calculate accuracy using the thresholded predictions\n",
    "accuracy = np.mean(oy_pred_threshold == oy_test)\n",
    "\n",
    "# Calculate the area under the ROC curve (AUC)\n",
    "roc_auc = auc(fpr, tpr)\n",
    "\n",
    "# Print the optimal threshold, AUC, and accuracy\n",
    "print(f'Optimal Threshold: {optimal_threshold:.2f}')\n",
    "print(f'AUC: {roc_auc:.2f}')\n",
    "print(f'Accuracy: {accuracy:.2f}')"
   ]
  },
  {
   "cell_type": "markdown",
   "id": "49e2a298",
   "metadata": {},
   "source": [
    "## Prediction of test set"
   ]
  },
  {
   "cell_type": "code",
   "execution_count": 46,
   "id": "82102a4f",
   "metadata": {},
   "outputs": [
    {
     "name": "stdout",
     "output_type": "stream",
     "text": [
      "Accuracy: 0.94921875, with threshold 0.55\n"
     ]
    }
   ],
   "source": [
    "logreg = LogisticRegression(solver='lbfgs', max_iter=1000)\n",
    "\n",
    "# Initialize and fit the logistic regression model\n",
    "logreg = LogisticRegression()\n",
    "logreg.fit(ox_train, oy_train)\n",
    "\n",
    "# Predict probabilities on the test set\n",
    "oy_pred_proba = logreg.predict_proba(ox_test)\n",
    "\n",
    "# Define your threshold\n",
    "threshold = 0.55 # ADJUST\n",
    "\n",
    "# Apply threshold to predicted probabilities to get predicted class labels\n",
    "oy_pred_threshold = (oy_pred_proba[:, 1] >= threshold).astype(int)\n",
    "\n",
    "# Calculate accuracy using thresholded predictions\n",
    "accuracy = sum(oy_pred_threshold == oy_test) / len(oy_test)\n",
    "print(f'Accuracy: {accuracy}, with threshold {threshold}')"
   ]
  },
  {
   "cell_type": "markdown",
   "id": "f2e22621",
   "metadata": {},
   "source": [
    "## Actual value and predicted value"
   ]
  },
  {
   "cell_type": "code",
   "execution_count": 48,
   "id": "719851fa",
   "metadata": {},
   "outputs": [
    {
     "data": {
      "text/html": [
       "<div>\n",
       "<style scoped>\n",
       "    .dataframe tbody tr th:only-of-type {\n",
       "        vertical-align: middle;\n",
       "    }\n",
       "\n",
       "    .dataframe tbody tr th {\n",
       "        vertical-align: top;\n",
       "    }\n",
       "\n",
       "    .dataframe thead th {\n",
       "        text-align: right;\n",
       "    }\n",
       "</style>\n",
       "<table border=\"1\" class=\"dataframe\">\n",
       "  <thead>\n",
       "    <tr style=\"text-align: right;\">\n",
       "      <th></th>\n",
       "      <th>Actual value</th>\n",
       "      <th>Predicted probability</th>\n",
       "      <th>Predicted label</th>\n",
       "      <th>Correct</th>\n",
       "    </tr>\n",
       "  </thead>\n",
       "  <tbody>\n",
       "    <tr>\n",
       "      <th>14383</th>\n",
       "      <td>1</td>\n",
       "      <td>0.989523</td>\n",
       "      <td>1</td>\n",
       "      <td>True</td>\n",
       "    </tr>\n",
       "    <tr>\n",
       "      <th>10872</th>\n",
       "      <td>0</td>\n",
       "      <td>0.751251</td>\n",
       "      <td>1</td>\n",
       "      <td>False</td>\n",
       "    </tr>\n",
       "    <tr>\n",
       "      <th>1536</th>\n",
       "      <td>1</td>\n",
       "      <td>0.987986</td>\n",
       "      <td>1</td>\n",
       "      <td>True</td>\n",
       "    </tr>\n",
       "    <tr>\n",
       "      <th>13840</th>\n",
       "      <td>0</td>\n",
       "      <td>0.012056</td>\n",
       "      <td>0</td>\n",
       "      <td>True</td>\n",
       "    </tr>\n",
       "    <tr>\n",
       "      <th>12071</th>\n",
       "      <td>1</td>\n",
       "      <td>0.552570</td>\n",
       "      <td>1</td>\n",
       "      <td>True</td>\n",
       "    </tr>\n",
       "  </tbody>\n",
       "</table>\n",
       "</div>"
      ],
      "text/plain": [
       "       Actual value  Predicted probability  Predicted label  Correct\n",
       "14383             1               0.989523                1     True\n",
       "10872             0               0.751251                1    False\n",
       "1536              1               0.987986                1     True\n",
       "13840             0               0.012056                0     True\n",
       "12071             1               0.552570                1     True"
      ]
     },
     "execution_count": 48,
     "metadata": {},
     "output_type": "execute_result"
    }
   ],
   "source": [
    "ologreg_diff = pd.DataFrame({'Actual value': oy_test, 'Predicted probability': oy_pred_proba[:, 1]})\n",
    "\n",
    "# Calculate the predicted labels based on the threshold\n",
    "ologreg_diff['Predicted label'] = (ologreg_diff['Predicted probability'] >= threshold).astype(int)\n",
    "\n",
    "# Calculate the correctness based on the threshold\n",
    "ologreg_diff['Correct'] = (ologreg_diff['Actual value'] == ologreg_diff['Predicted label'])\n",
    "\n",
    "# Display the DataFrame with the added columns\n",
    "ologreg_diff.head()"
   ]
  },
  {
   "cell_type": "markdown",
   "id": "91547c7b",
   "metadata": {},
   "source": [
    "## Model Evaluation"
   ]
  },
  {
   "cell_type": "markdown",
   "id": "045fa929",
   "metadata": {},
   "source": [
    "### On test data"
   ]
  },
  {
   "cell_type": "code",
   "execution_count": 49,
   "id": "eed05d07",
   "metadata": {},
   "outputs": [
    {
     "name": "stdout",
     "output_type": "stream",
     "text": [
      "Accuracy: 94.92%\n"
     ]
    }
   ],
   "source": [
    "from sklearn import metrics\n",
    "# Predict the labels for the test set\n",
    "oy_pred = logreg.predict(ox_test)\n",
    "\n",
    "# Calculate accuracy\n",
    "oaccuracy = accuracy_score(oy_test, oy_pred) * 100\n",
    "\n",
    "# Print accuracy\n",
    "print('Accuracy: {:.2f}%'.format(oaccuracy))"
   ]
  },
  {
   "cell_type": "markdown",
   "id": "b93af1b9",
   "metadata": {},
   "source": [
    "### On out-of-sample data"
   ]
  },
  {
   "cell_type": "code",
   "execution_count": 50,
   "id": "c22d4156",
   "metadata": {},
   "outputs": [
    {
     "name": "stdout",
     "output_type": "stream",
     "text": [
      "Accuracy: 92.21%\n"
     ]
    }
   ],
   "source": [
    "from sklearn.metrics import accuracy_score\n",
    "\n",
    "# Predict the labels for the out-of-sample set\n",
    "oy_pred_out_sample = logreg.predict(ox_out_sample)\n",
    "\n",
    "# Calculate accuracy\n",
    "oaccuracy_out_sample = accuracy_score(oy_out_sample, oy_pred_out_sample) * 100\n",
    "\n",
    "# Print accuracy\n",
    "print('Accuracy: {:.2f}%'.format(oaccuracy_out_sample))"
   ]
  },
  {
   "cell_type": "markdown",
   "id": "e1c9ae63",
   "metadata": {},
   "source": [
    "## Confusion Matrix"
   ]
  },
  {
   "cell_type": "code",
   "execution_count": 51,
   "id": "c8aec8eb",
   "metadata": {},
   "outputs": [
    {
     "data": {
      "text/plain": [
       "<sklearn.metrics._plot.confusion_matrix.ConfusionMatrixDisplay at 0x177d5b710>"
      ]
     },
     "execution_count": 51,
     "metadata": {},
     "output_type": "execute_result"
    },
    {
     "data": {
      "image/png": "[encoded data removed]",
      "text/plain": [
       "<Figure size 640x480 with 2 Axes>"
      ]
     },
     "metadata": {},
     "output_type": "display_data"
    }
   ],
   "source": [
    "# Calculate the confusion matrix\n",
    "\n",
    "ocm_test = confusion_matrix(oy_test, oy_pred)\n",
    "ocm_out_sample = confusion_matrix(oy_out_sample, oy_pred_out_sample)\n",
    "\n",
    "# Combine the confusion matrices\n",
    "ocm = ocm_test + ocm_out_sample\n",
    "\n",
    "# Plot the confusion matrix\n",
    "ConfusionMatrixDisplay(confusion_matrix=ocm).plot()"
   ]
  },
  {
   "cell_type": "code",
   "execution_count": 52,
   "id": "b16d3f81",
   "metadata": {},
   "outputs": [
    {
     "name": "stdout",
     "output_type": "stream",
     "text": [
      "     satisfaction_level  last_evaluation  average_montly_hours  left  \\\n",
      "0                  0.41             0.84                 191.0   0.0   \n",
      "1                  0.20             0.58                 209.0   0.0   \n",
      "2                  0.88             0.68                 157.0   0.0   \n",
      "3                  0.70             0.69                 102.0   0.0   \n",
      "4                  0.56             0.97                 163.0   0.0   \n",
      "..                  ...              ...                   ...   ...   \n",
      "636                0.65             0.89                 204.0   0.0   \n",
      "637                0.72             0.88                 216.0   0.0   \n",
      "638                0.89             0.55                 251.0   0.0   \n",
      "639                0.88             0.58                 145.0   0.0   \n",
      "640                0.63             0.52                 209.0   0.0   \n",
      "\n",
      "     salary_low  salary_medium  number_project_3  number_project_4  \\\n",
      "0           0.0            1.0               0.0               0.0   \n",
      "1           0.0            1.0               1.0               0.0   \n",
      "2           0.0            1.0               0.0               0.0   \n",
      "3           0.0            1.0               1.0               0.0   \n",
      "4           0.0            0.0               0.0               0.0   \n",
      "..          ...            ...               ...               ...   \n",
      "636         1.0            0.0               0.0               1.0   \n",
      "637         0.0            1.0               0.0               0.0   \n",
      "638         0.0            0.0               0.0               0.0   \n",
      "639         1.0            0.0               1.0               0.0   \n",
      "640         1.0            0.0               0.0               0.0   \n",
      "\n",
      "     number_project_5  number_project_6  ...  Department_accounting  \\\n",
      "0                 0.0               1.0  ...                    0.0   \n",
      "1                 0.0               0.0  ...                    0.0   \n",
      "2                 1.0               0.0  ...                    0.0   \n",
      "3                 0.0               0.0  ...                    0.0   \n",
      "4                 1.0               0.0  ...                    0.0   \n",
      "..                ...               ...  ...                    ...   \n",
      "636               0.0               0.0  ...                    0.0   \n",
      "637               1.0               0.0  ...                    0.0   \n",
      "638               1.0               0.0  ...                    0.0   \n",
      "639               0.0               0.0  ...                    0.0   \n",
      "640               1.0               0.0  ...                    0.0   \n",
      "\n",
      "     Department_hr  Department_management  Department_marketing  \\\n",
      "0              1.0                    0.0                   0.0   \n",
      "1              1.0                    0.0                   0.0   \n",
      "2              0.0                    0.0                   1.0   \n",
      "3              0.0                    0.0                   0.0   \n",
      "4              0.0                    1.0                   0.0   \n",
      "..             ...                    ...                   ...   \n",
      "636            0.0                    0.0                   0.0   \n",
      "637            0.0                    0.0                   0.0   \n",
      "638            0.0                    1.0                   0.0   \n",
      "639            0.0                    0.0                   0.0   \n",
      "640            0.0                    0.0                   0.0   \n",
      "\n",
      "     Department_product_mng  Department_sales  Department_support  \\\n",
      "0                       0.0               0.0                 0.0   \n",
      "1                       0.0               0.0                 0.0   \n",
      "2                       0.0               0.0                 0.0   \n",
      "3                       1.0               0.0                 0.0   \n",
      "4                       0.0               0.0                 0.0   \n",
      "..                      ...               ...                 ...   \n",
      "636                     0.0               0.0                 1.0   \n",
      "637                     0.0               0.0                 1.0   \n",
      "638                     0.0               0.0                 0.0   \n",
      "639                     0.0               1.0                 0.0   \n",
      "640                     0.0               0.0                 0.0   \n",
      "\n",
      "     Department_technical  Work_accident_1  correct  \n",
      "0                     0.0              0.0     True  \n",
      "1                     0.0              0.0     True  \n",
      "2                     0.0              1.0     True  \n",
      "3                     0.0              1.0     True  \n",
      "4                     0.0              0.0     True  \n",
      "..                    ...              ...      ...  \n",
      "636                   0.0              1.0    False  \n",
      "637                   0.0              1.0    False  \n",
      "638                   0.0              0.0    False  \n",
      "639                   0.0              0.0    False  \n",
      "640                   0.0              1.0    False  \n",
      "\n",
      "[641 rows x 30 columns]\n"
     ]
    }
   ],
   "source": [
    "# Extract indices of false positives and false negatives from the confusion matrix\n",
    "false_positive_indices = [(i, j) for i in range(ocm.shape[0]) for j in range(ocm.shape[1]) if i != j and j == 1]  # False positive indices\n",
    "false_negative_indices = [(i, j) for i in range(ocm.shape[0]) for j in range(ocm.shape[1]) if i != j and j == 0]  # False negative indices\n",
    "\n",
    "# Create new DataFrame to store instances with correct and incorrect predictions\n",
    "ocorrect_rows = []\n",
    "oincorrect_rows = []\n",
    "\n",
    "for index, (true_label, pred_label, out_true_label, out_pred_label) in enumerate(zip(oy_test, oy_pred, oy_out_sample, oy_pred_out_sample)):\n",
    "    # Check for false positives or false negatives in the first set of predictions\n",
    "    if (true_label, pred_label) in false_positive_indices or (true_label, pred_label) in false_negative_indices:\n",
    "        row_data = outliers_dataset.iloc[index].tolist()\n",
    "        oincorrect_rows.append(row_data + [False])\n",
    "    else:\n",
    "        row_data = outliers_dataset.iloc[index].tolist()\n",
    "        ocorrect_rows.append(row_data + [True])\n",
    "\n",
    "# Process remaining instances in the second set of predictions\n",
    "for index, (out_true_label, out_pred_label) in enumerate(zip(oy_out_sample, oy_pred_out_sample)):\n",
    "    # Check for false positives or false negatives in the second set of predictions\n",
    "    if (out_true_label, out_pred_label) in false_positive_indices or (out_true_label, out_pred_label) in false_negative_indices:\n",
    "        row_data = outliers_dataset.iloc[len(oy_test) + index].tolist()  # Adjust index to start from where the first loop left off\n",
    "        oincorrect_rows.append(row_data + [False])\n",
    "    else:\n",
    "        row_data = outliers_dataset.iloc[len(oy_test) + index].tolist()  # Adjust index to start from where the first loop left off\n",
    "        ocorrect_rows.append(row_data + [True])\n",
    "\n",
    "# Create DataFrames from the collected rows\n",
    "ocorrect_df = pd.DataFrame(ocorrect_rows, columns=outliers_dataset.columns.tolist() + ['correct'])\n",
    "oincorrect_df = pd.DataFrame(oincorrect_rows, columns=outliers_dataset.columns.tolist() + ['correct'])\n",
    "\n",
    "# Combine correct_df and incorrect_df into a single DataFrame\n",
    "oresult_dataset = pd.concat([ocorrect_df, oincorrect_df], ignore_index=True)\n",
    "\n",
    "# Print the resulting dataset\n",
    "print(oresult_dataset)\n"
   ]
  },
  {
   "cell_type": "markdown",
   "id": "a29ae76b",
   "metadata": {},
   "source": [
    "## ROC Curve"
   ]
  },
  {
   "cell_type": "code",
   "execution_count": 53,
   "id": "185e22ab",
   "metadata": {},
   "outputs": [
    {
     "data": {
      "image/png": "[encoded data removed]",
      "text/plain": [
       "<Figure size 640x480 with 1 Axes>"
      ]
     },
     "metadata": {},
     "output_type": "display_data"
    }
   ],
   "source": [
    "from sklearn.metrics import roc_curve, auc\n",
    "\n",
    "#Predict probabilities on the test set\n",
    "oy_pred_proba = logreg.predict_proba(ox_test)[:, 1]\n",
    "\n",
    "# Calculate the false positive rate (FPR), true positive rate (TPR), and thresholds\n",
    "fpr, tpr, thresholds = roc_curve(oy_test, oy_pred_proba)\n",
    "\n",
    "# Calculate the area under the ROC curve (AUC)\n",
    "roc_auc = auc(fpr, tpr)\n",
    "\n",
    "# Plot the ROC curve\n",
    "plt.figure()\n",
    "plt.plot(fpr, tpr, label='Logistic Regression (area = %0.2f)' % roc_auc)\n",
    "plt.plot([0, 1], [0, 1],'r--')\n",
    "plt.xlim([0.0, 1.0])\n",
    "plt.ylim([0.0, 1.05])\n",
    "plt.xlabel('False Positive Rate')\n",
    "plt.ylabel('True Positive Rate')\n",
    "plt.title('ROC Curve')\n",
    "plt.legend(loc=\"lower right\")\n",
    "plt.savefig('Log_ROC')\n",
    "plt.show()"
   ]
  },
  {
   "cell_type": "markdown",
   "id": "fc10c0ab",
   "metadata": {},
   "source": [
    "# Combined Model"
   ]
  },
  {
   "cell_type": "code",
   "execution_count": 54,
   "id": "0c30b31b",
   "metadata": {},
   "outputs": [
    {
     "name": "stdout",
     "output_type": "stream",
     "text": [
      "      satisfaction_level  last_evaluation  average_montly_hours  left  \\\n",
      "0                   0.41             0.84                 191.0   0.0   \n",
      "1                   0.20             0.58                 209.0   0.0   \n",
      "2                   0.88             0.68                 157.0   0.0   \n",
      "3                   0.70             0.69                 102.0   0.0   \n",
      "4                   0.56             0.97                 163.0   0.0   \n",
      "...                  ...              ...                   ...   ...   \n",
      "6853                 NaN              NaN                   NaN   0.0   \n",
      "6854                 NaN              NaN                   NaN   0.0   \n",
      "6855                 NaN              NaN                   NaN   0.0   \n",
      "6856                 NaN              NaN                   NaN   0.0   \n",
      "6857                 NaN              NaN                   NaN   0.0   \n",
      "\n",
      "      salary_low  salary_medium  number_project_3  number_project_4  \\\n",
      "0            0.0            1.0               0.0               0.0   \n",
      "1            0.0            1.0               1.0               0.0   \n",
      "2            0.0            1.0               0.0               0.0   \n",
      "3            0.0            1.0               1.0               0.0   \n",
      "4            0.0            0.0               0.0               0.0   \n",
      "...          ...            ...               ...               ...   \n",
      "6853         1.0            0.0               1.0               0.0   \n",
      "6854         1.0            0.0               0.0               0.0   \n",
      "6855         1.0            0.0               0.0               0.0   \n",
      "6856         1.0            0.0               0.0               0.0   \n",
      "6857         1.0            0.0               0.0               0.0   \n",
      "\n",
      "      number_project_5  number_project_6  ...  average_montly_hours_273_280  \\\n",
      "0                  0.0               1.0  ...                           NaN   \n",
      "1                  0.0               0.0  ...                           NaN   \n",
      "2                  1.0               0.0  ...                           NaN   \n",
      "3                  0.0               0.0  ...                           NaN   \n",
      "4                  1.0               0.0  ...                           NaN   \n",
      "...                ...               ...  ...                           ...   \n",
      "6853               0.0               0.0  ...                           0.0   \n",
      "6854               1.0               0.0  ...                           0.0   \n",
      "6855               0.0               1.0  ...                           0.0   \n",
      "6856               1.0               0.0  ...                           0.0   \n",
      "6857               1.0               0.0  ...                           0.0   \n",
      "\n",
      "      average_montly_hours_280_287  average_montly_hours_287_295  \\\n",
      "0                              NaN                           NaN   \n",
      "1                              NaN                           NaN   \n",
      "2                              NaN                           NaN   \n",
      "3                              NaN                           NaN   \n",
      "4                              NaN                           NaN   \n",
      "...                            ...                           ...   \n",
      "6853                           0.0                           0.0   \n",
      "6854                           0.0                           0.0   \n",
      "6855                           0.0                           0.0   \n",
      "6856                           0.0                           0.0   \n",
      "6857                           0.0                           0.0   \n",
      "\n",
      "      average_montly_hours_295_302  average_montly_hours_302_310  \\\n",
      "0                              NaN                           NaN   \n",
      "1                              NaN                           NaN   \n",
      "2                              NaN                           NaN   \n",
      "3                              NaN                           NaN   \n",
      "4                              NaN                           NaN   \n",
      "...                            ...                           ...   \n",
      "6853                           0.0                           0.0   \n",
      "6854                           0.0                           0.0   \n",
      "6855                           0.0                           0.0   \n",
      "6856                           0.0                           0.0   \n",
      "6857                           0.0                           0.0   \n",
      "\n",
      "      average_montly_hours_95_103  last_evaluation_0_0  last_evaluation_0_1  \\\n",
      "0                             NaN                  NaN                  NaN   \n",
      "1                             NaN                  NaN                  NaN   \n",
      "2                             NaN                  NaN                  NaN   \n",
      "3                             NaN                  NaN                  NaN   \n",
      "4                             NaN                  NaN                  NaN   \n",
      "...                           ...                  ...                  ...   \n",
      "6853                          0.0                  1.0                  0.0   \n",
      "6854                          0.0                  1.0                  0.0   \n",
      "6855                          0.0                  1.0                  0.0   \n",
      "6856                          0.0                  1.0                  0.0   \n",
      "6857                          0.0                  1.0                  0.0   \n",
      "\n",
      "      satisfaction_level_0_0  satisfaction_level_0_1  \n",
      "0                        NaN                     NaN  \n",
      "1                        NaN                     NaN  \n",
      "2                        NaN                     NaN  \n",
      "3                        NaN                     NaN  \n",
      "4                        NaN                     NaN  \n",
      "...                      ...                     ...  \n",
      "6853                     1.0                     0.0  \n",
      "6854                     1.0                     0.0  \n",
      "6855                     1.0                     0.0  \n",
      "6856                     1.0                     0.0  \n",
      "6857                     1.0                     0.0  \n",
      "\n",
      "[6858 rows x 63 columns]\n"
     ]
    }
   ],
   "source": [
    "combined_data = pd.concat([oresult_dataset, result_dataset], axis=0)\n",
    "\n",
    "# Reset index after concatenation\n",
    "combined_data.reset_index(drop=True, inplace=True)\n",
    "\n",
    "# Display the combined dataset\n",
    "print(combined_data)"
   ]
  },
  {
   "cell_type": "code",
   "execution_count": 55,
   "id": "2977a75c",
   "metadata": {},
   "outputs": [
    {
     "name": "stdout",
     "output_type": "stream",
     "text": [
      "Accuracy: 92.46135899679206 %\n"
     ]
    }
   ],
   "source": [
    "# Calculate accuracy\n",
    "accuracy = combined_data['correct'].mean() * 100  # Convert to percentage\n",
    "\n",
    "# Display accuracy\n",
    "print(\"Accuracy:\", accuracy, \"%\")"
   ]
  },
  {
   "cell_type": "code",
   "execution_count": null,
   "id": "ffe0ec72",
   "metadata": {},
   "outputs": [],
   "source": []
  }
 ],
 "metadata": {
  "kernelspec": {
   "display_name": "Python 3 (ipykernel)",
   "language": "python",
   "name": "python3"
  },
  "language_info": {
   "codemirror_mode": {
    "name": "ipython",
    "version": 3
   },
   "file_extension": ".py",
   "mimetype": "text/x-python",
   "name": "python",
   "nbconvert_exporter": "python",
   "pygments_lexer": "ipython3",
   "version": "3.11.4"
  }
 },
 "nbformat": 4,
 "nbformat_minor": 5
}
